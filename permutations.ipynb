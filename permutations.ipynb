{
 "cells": [
  {
   "cell_type": "markdown",
   "metadata": {},
   "source": [
    "Given n:\n",
    "- [DONE] output all valid perms\n",
    "- output all valid pairs\n",
    "- compute \"order of a pair\"\n",
    "- display braid of a pair \n",
    "- check conjugate orbit\n",
    "- identify 1-cyl pairs "
   ]
  },
  {
   "cell_type": "code",
   "execution_count": 32,
   "metadata": {},
   "outputs": [],
   "source": [
    "# local imports\n",
    "import os\n",
    "import sys\n",
    "# module_path = os.path.abspath(os.path.join('/Users/gabriela/Documents/school/phd/research/malak_paul_translation_surfaces/lib'))\n",
    "module_path = os.path.abspath(os.path.join('/Users/malakabdalla/Desktop/translation surfaces summer24/translation_surfaces24'))\n",
    "# malak will have to put a different path here\n",
    "sys.path.insert(0, module_path)\n",
    "from lib.utils import compute_valid_perms, compute_valid_pairs\n",
    "\n",
    "# other imports\n",
    "from sage.combinat.permutation import Permutation"
   ]
  },
  {
   "cell_type": "code",
   "execution_count": 33,
   "metadata": {},
   "outputs": [
    {
     "data": {
      "text/plain": [
       "[[(1, 2), (3, 4), (5, 6)],\n",
       " [(1, 2), (3, 6), (5, 4)],\n",
       " [(1, 4), (3, 2), (5, 6)],\n",
       " [(1, 4), (3, 6), (5, 2)],\n",
       " [(1, 6), (3, 2), (5, 4)],\n",
       " [(1, 6), (3, 4), (5, 2)]]"
      ]
     },
     "execution_count": 33,
     "metadata": {},
     "output_type": "execute_result"
    }
   ],
   "source": [
    "# Give n even\n",
    "n = 6\n",
    "set = list(range(1, n+1))\n",
    "output = compute_valid_perms(set)\n",
    "# TODO: how to turn into permutations? ^ this isn't right, it forgets the cycles\n",
    "output\n",
    "\n",
    "\n",
    "\n",
    "    "
   ]
  },
  {
   "cell_type": "code",
   "execution_count": 34,
   "metadata": {},
   "outputs": [
    {
     "ename": "TypeError",
     "evalue": "compute_valid_pairs() missing 1 required positional argument: 'valid_perms'",
     "output_type": "error",
     "traceback": [
      "\u001b[0;31m---------------------------------------------------------------------------\u001b[0m",
      "\u001b[0;31mTypeError\u001b[0m                                 Traceback (most recent call last)",
      "Cell \u001b[0;32mIn[34], line 2\u001b[0m\n\u001b[1;32m      1\u001b[0m valid_perms\u001b[38;5;241m=\u001b[39m compute_valid_perms(\u001b[38;5;28mset\u001b[39m)\n\u001b[0;32m----> 2\u001b[0m \u001b[43mcompute_valid_pairs\u001b[49m\u001b[43m(\u001b[49m\u001b[43mvalid_perms\u001b[49m\u001b[43m)\u001b[49m\n",
      "\u001b[0;31mTypeError\u001b[0m: compute_valid_pairs() missing 1 required positional argument: 'valid_perms'"
     ]
    }
   ],
   "source": [
    "valid_perms= compute_valid_perms(set)\n",
    "compute_valid_pairs(valid_perms)"
   ]
  },
  {
   "cell_type": "code",
   "execution_count": null,
   "metadata": {},
   "outputs": [
    {
     "name": "stdout",
     "output_type": "stream",
     "text": [
      "[3, 1, 2]\n",
      "[2, 1, 4, 3]\n"
     ]
    }
   ],
   "source": [
    "#looking around the permutation function\n",
    "\n",
    "from sage.combinat.permutation import Permutation\n",
    "\n",
    "\n",
    "p = Permutation([3, 1, 2])\n",
    "print(p)\n",
    "\n",
    "# Create a permutation using cycle notation\n",
    "q = Permutation(\"(1,2)(3,4)\")\n",
    "print(q)\n",
    "\n"
   ]
  },
  {
   "cell_type": "code",
   "execution_count": null,
   "metadata": {},
   "outputs": [
    {
     "ename": "NameError",
     "evalue": "name 'SymmetricGroup' is not defined",
     "output_type": "error",
     "traceback": [
      "\u001b[0;31m---------------------------------------------------------------------------\u001b[0m",
      "\u001b[0;31mNameError\u001b[0m                                 Traceback (most recent call last)",
      "Cell \u001b[0;32mIn[14], line 1\u001b[0m\n\u001b[0;32m----> 1\u001b[0m G\u001b[38;5;241m=\u001b[39m \u001b[43mSymmetricGroup\u001b[49m(\u001b[38;5;241m6\u001b[39m)\n\u001b[1;32m      2\u001b[0m G\n\u001b[1;32m      3\u001b[0m a\u001b[38;5;241m=\u001b[39mG([\u001b[38;5;241m1\u001b[39m,\u001b[38;5;241m2\u001b[39m,\u001b[38;5;241m3\u001b[39m,\u001b[38;5;241m4\u001b[39m])\n",
      "\u001b[0;31mNameError\u001b[0m: name 'SymmetricGroup' is not defined"
     ]
    }
   ],
   "source": [
    "G= SymmetricGroup(6)\n",
    "G\n",
    "a=G([1,2,3,4])\n",
    "b= G(1,4)\n",
    "a*b\n",
    "print(a*b)\n",
    "\n",
    "#G= groups.permutation.Dihedral(4);4\n",
    "#G\n",
    "\n"
   ]
  },
  {
   "cell_type": "code",
   "execution_count": null,
   "metadata": {},
   "outputs": [
    {
     "ename": "NameError",
     "evalue": "name 'PermutationGroup' is not defined",
     "output_type": "error",
     "traceback": [
      "\u001b[0;31m---------------------------------------------------------------------------\u001b[0m",
      "\u001b[0;31mNameError\u001b[0m                                 Traceback (most recent call last)",
      "Cell \u001b[0;32mIn[20], line 8\u001b[0m\n\u001b[1;32m      1\u001b[0m \u001b[38;5;66;03m### (T,SBS^-1)\u001b[39;00m\n\u001b[1;32m      2\u001b[0m \u001b[38;5;66;03m#T= (12)(34)(56)\u001b[39;00m\n\u001b[1;32m      3\u001b[0m \u001b[38;5;66;03m#B= (14)(25)(36)\u001b[39;00m\n\u001b[0;32m   (...)\u001b[0m\n\u001b[1;32m      6\u001b[0m \n\u001b[1;32m      7\u001b[0m \u001b[38;5;66;03m#B*S\u001b[39;00m\n\u001b[0;32m----> 8\u001b[0m G \u001b[38;5;241m=\u001b[39m \u001b[43mPermutationGroup\u001b[49m([\u001b[38;5;124m'\u001b[39m\u001b[38;5;124m(1,4)(3,6)(5,2)\u001b[39m\u001b[38;5;124m'\u001b[39m, \u001b[38;5;124m'\u001b[39m\u001b[38;5;124m(1,6,5,4,3,2)\u001b[39m\u001b[38;5;124m'\u001b[39m], canonicalize\u001b[38;5;241m=\u001b[39m\u001b[38;5;28;01mFalse\u001b[39;00m)\n\u001b[1;32m      9\u001b[0m s\u001b[38;5;241m=\u001b[39m G\u001b[38;5;241m.\u001b[39mgens()\n\u001b[1;32m     10\u001b[0m s[\u001b[38;5;241m0\u001b[39m]\n",
      "\u001b[0;31mNameError\u001b[0m: name 'PermutationGroup' is not defined"
     ]
    }
   ],
   "source": [
    "### (T,SBS^-1)\n",
    "#T= (12)(34)(56)\n",
    "#B= (14)(25)(36)\n",
    "#S=(165432)\n",
    "#S^-1= (123456)\n",
    "\n",
    "#B*S\n",
    "G = PermutationGroup(['(1,4)(3,6)(5,2)', '(1,6,5,4,3,2)'], canonicalize=False)\n",
    "s= G.gens()\n",
    "s[0]\n",
    "s[1]\n",
    "s[0]*s[1] \n",
    "\n",
    "#S^-1BS\n",
    "G = PermutationGroup(['(1,2,3,4,5,6)', '(1,3,5)(2,4,6)'], canonicalize=False)\n",
    "s= G.gens()\n",
    "s[0] \n",
    "s[1]\n",
    "s[0]*s[1]\n",
    "\n"
   ]
  },
  {
   "cell_type": "code",
   "execution_count": null,
   "metadata": {},
   "outputs": [
    {
     "data": {
      "text/plain": [
       "[[(1, 2), (3, 4), (5, 6), (7, 8)],\n",
       " [(1, 2), (3, 4), (5, 8), (7, 6)],\n",
       " [(1, 2), (3, 6), (5, 4), (7, 8)],\n",
       " [(1, 2), (3, 6), (5, 8), (7, 4)],\n",
       " [(1, 2), (3, 8), (5, 4), (7, 6)],\n",
       " [(1, 2), (3, 8), (5, 6), (7, 4)],\n",
       " [(1, 4), (3, 2), (5, 6), (7, 8)],\n",
       " [(1, 4), (3, 2), (5, 8), (7, 6)],\n",
       " [(1, 4), (3, 6), (5, 2), (7, 8)],\n",
       " [(1, 4), (3, 6), (5, 8), (7, 2)],\n",
       " [(1, 4), (3, 8), (5, 2), (7, 6)],\n",
       " [(1, 4), (3, 8), (5, 6), (7, 2)],\n",
       " [(1, 6), (3, 2), (5, 4), (7, 8)],\n",
       " [(1, 6), (3, 2), (5, 8), (7, 4)],\n",
       " [(1, 6), (3, 4), (5, 2), (7, 8)],\n",
       " [(1, 6), (3, 4), (5, 8), (7, 2)],\n",
       " [(1, 6), (3, 8), (5, 2), (7, 4)],\n",
       " [(1, 6), (3, 8), (5, 4), (7, 2)],\n",
       " [(1, 8), (3, 2), (5, 4), (7, 6)],\n",
       " [(1, 8), (3, 2), (5, 6), (7, 4)],\n",
       " [(1, 8), (3, 4), (5, 2), (7, 6)],\n",
       " [(1, 8), (3, 4), (5, 6), (7, 2)],\n",
       " [(1, 8), (3, 6), (5, 2), (7, 4)],\n",
       " [(1, 8), (3, 6), (5, 4), (7, 2)]]"
      ]
     },
     "execution_count": 16,
     "metadata": {},
     "output_type": "execute_result"
    }
   ],
   "source": [
    "#i want to output the list of valid permuatations for n=8 \n",
    "n = 8\n",
    "set = list(range(1, n+1))\n",
    "output = compute_valid_perms(set)\n",
    "output"
   ]
  },
  {
   "cell_type": "code",
   "execution_count": 37,
   "metadata": {},
   "outputs": [
    {
     "ename": "NameError",
     "evalue": "name 'SymmetricGroup' is not defined",
     "output_type": "error",
     "traceback": [
      "\u001b[0;31m---------------------------------------------------------------------------\u001b[0m",
      "\u001b[0;31mNameError\u001b[0m                                 Traceback (most recent call last)",
      "Cell \u001b[0;32mIn[37], line 3\u001b[0m\n\u001b[1;32m      1\u001b[0m \u001b[38;5;28;01mfrom\u001b[39;00m \u001b[38;5;21;01msage\u001b[39;00m\u001b[38;5;21;01m.\u001b[39;00m\u001b[38;5;21;01mall\u001b[39;00m \u001b[38;5;28;01mimport\u001b[39;00m SymmetricGroup\n\u001b[1;32m      2\u001b[0m valid_perms\u001b[38;5;241m=\u001b[39m compute_valid_perms(\u001b[38;5;28mset\u001b[39m)\n\u001b[0;32m----> 3\u001b[0m \u001b[43mcompute_valid_pairs\u001b[49m\u001b[43m(\u001b[49m\u001b[43mn\u001b[49m\u001b[43m,\u001b[49m\u001b[43mvalid_perms\u001b[49m\u001b[43m)\u001b[49m\n",
      "File \u001b[0;32m~/Desktop/translation surfaces summer24/translation_surfaces24/lib/utils.py:99\u001b[0m, in \u001b[0;36mcompute_valid_pairs\u001b[0;34m(n, valid_perms)\u001b[0m\n\u001b[1;32m     96\u001b[0m if j< i: \n\u001b[1;32m     97\u001b[0m     continue \n\u001b[1;32m     98\u001b[0m else : \n\u001b[0;32m---> 99\u001b[0m     # print(f\"they're not equal, appending: {first_pair}\")\n\u001b[1;32m    100\u001b[0m     pair = convert_pair(n, first_pair)\n\u001b[1;32m    101\u001b[0m     valid_pairings.append(pair)\n",
      "File \u001b[0;32m~/Desktop/translation surfaces summer24/translation_surfaces24/lib/utils.py:74\u001b[0m, in \u001b[0;36mconvert_pair\u001b[0;34m(n, pair)\u001b[0m\n\u001b[1;32m     68\u001b[0m     \u001b[38;5;28;01mreturn\u001b[39;00m valid_perms\n\u001b[1;32m     70\u001b[0m \u001b[38;5;66;03m# pair is a list of tuples\u001b[39;00m\n\u001b[1;32m     71\u001b[0m \u001b[38;5;66;03m# want to convert it to a Permutation type from the sage SymmetricGroup library\u001b[39;00m\n\u001b[1;32m     72\u001b[0m \u001b[38;5;66;03m# e.g. pair = [[(1,2),(3,4)], [(1,3), (2,4)]]\u001b[39;00m\n\u001b[1;32m     73\u001b[0m \u001b[38;5;66;03m# return (Permutation('(12)(34)'), Permutation('(14)(23)))\u001b[39;00m\n\u001b[0;32m---> 74\u001b[0m \u001b[38;5;28;01mdef\u001b[39;00m \u001b[38;5;21mconvert_pair\u001b[39m(n, pair):\n\u001b[1;32m     75\u001b[0m     Sn \u001b[38;5;241m=\u001b[39m SymmetricGroup(n)\n\u001b[1;32m     76\u001b[0m     top \u001b[38;5;241m=\u001b[39m Sn(pair[\u001b[38;5;241m0\u001b[39m])\n",
      "\u001b[0;31mNameError\u001b[0m: name 'SymmetricGroup' is not defined"
     ]
    }
   ],
   "source": [
    "from sage.all import SymmetricGroup\n",
    "valid_perms= compute_valid_perms(set)\n",
    "compute_valid_pairs(n,valid_perms)"
   ]
  }
 ],
 "metadata": {
  "kernelspec": {
   "display_name": "Python 3 (ipykernel)",
   "language": "python",
   "name": "python3"
  },
  "language_info": {
   "codemirror_mode": {
    "name": "ipython",
    "version": 3
   },
   "file_extension": ".py",
   "mimetype": "text/x-python",
   "name": "python",
   "nbconvert_exporter": "python",
   "pygments_lexer": "ipython3",
   "version": "3.11.8"
  }
 },
 "nbformat": 4,
 "nbformat_minor": 2
}
