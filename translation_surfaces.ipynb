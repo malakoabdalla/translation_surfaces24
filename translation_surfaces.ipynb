{
 "cells": [
  {
   "cell_type": "code",
   "execution_count": 98,
   "metadata": {},
   "outputs": [
    {
     "data": {
      "text/plain": [
       "(1, 0)"
      ]
     },
     "execution_count": 98,
     "metadata": {},
     "output_type": "execute_result"
    }
   ],
   "source": [
    "from flatsurf import translation_surfaces\n",
    "\n",
    "# the library has some nice built in examples\n",
    "S = translation_surfaces.square_torus()\n",
    "S = translation_surfaces.octagon_and_squares()\n",
    "S.set_immutable()\n",
    "\n",
    "# we can investigate the translation surface with the following methods\n",
    "S.category()\n",
    "S.stratum() # Note: calling stratum() only works after calling category() (otherwise flatsurf hasn't yet computed what type of surface this is, so it  doesn't know how to check the stratum: https://flatsurf.github.io/sage-flatsurf/geometry/categories.html#module-flatsurf.geometry.categories)\n",
    "S.category().axioms()\n",
    "S.is_translation_surface()\n",
    "S.genus()\n",
    "S.components()\n",
    "S.gluings()\n",
    "S.is_connected()\n",
    "S.opposite_edge((0,0))"
   ]
  },
  {
   "cell_type": "code",
   "execution_count": 104,
   "metadata": {},
   "outputs": [
    {
     "data": {
      "text/plain": [
       "H_1(0)"
      ]
     },
     "execution_count": 104,
     "metadata": {},
     "output_type": "execute_result"
    }
   ],
   "source": [
    "# Building a bespoke translation surface\n",
    "# https://flatsurf.github.io/sage-flatsurf/geometry/surface.html#flatsurf.geometry.surface.MutableOrientedSimilaritySurface\n",
    "from flatsurf import MutableOrientedSimilaritySurface as MOSS\n",
    "# Question: MOSS vs MutablePolygonalSurface?\n",
    "\n",
    "# Initialize the surface\n",
    "surface = MOSS(AA) # The AA means use the algebraic reals. Other option is QQ for rationals. \n",
    "# Question: why choose one or the other?\n",
    "\n",
    "# add as many polygons as you want, optionally specify the label (default is numbers starting at 0)\n",
    "surface.add_polygon(polygons.square())\n",
    "\n",
    "# then specify how to glue the squares together. the polygons have default edge ordering 0,1,2, ... \n",
    "# # Question: can these be specified?\n",
    "surface.glue((0, 0), (0, 2))\n",
    "surface.glue((0, 1), (0, 3))\n",
    "\n",
    "# finish the bespoke craftmanship\n",
    "surface.set_immutable()\n",
    "surface.category()\n",
    "\n",
    "# then you can go investigate it like in the previous cell\n",
    "\n",
    "surface.genus()\n",
    "surface.stratum()\n"
   ]
  },
  {
   "cell_type": "code",
   "execution_count": 124,
   "metadata": {},
   "outputs": [],
   "source": [
    "# build a translation surface using a permutation\n",
    "\n",
    "p1 = SymmetricGroup(4)('(1, 3)(2,4)')\n",
    "p2 = SymmetricGroup(4)('')\n",
    "S = translation_surfaces.origami(p1, p2)\n",
    "# S.plot()"
   ]
  },
  {
   "cell_type": "code",
   "execution_count": 136,
   "metadata": {},
   "outputs": [
    {
     "data": {
      "text/plain": [
       "Q_0(-1^4)"
      ]
     },
     "execution_count": 136,
     "metadata": {},
     "output_type": "execute_result"
    }
   ],
   "source": [
    "# building a half-translation surface\n",
    "# note: pillowcase tiled surfaces are the subset of half translation surfaces that are built from squares (just like square tiled surfaces are the subset of translation surfaces that are built from squares)\n",
    "# https://flatsurf.github.io/sage-flatsurf/geometry/half_translation_surfaces.html#module-flatsurf.geometry.categories.half_translation_surfaces\n",
    "\n",
    "P = MOSS(AA) \n",
    "\n",
    "P.add_polygon(polygons.square())\n",
    "P.add_polygon(polygons.square())\n",
    "\n",
    "P.glue((0, 1), (1, 3))\n",
    "P.glue((0, 3), (1, 1))\n",
    "P.glue((0, 2), (1, 2))\n",
    "P.glue((0, 0), (1, 0))\n",
    "\n",
    "P.set_immutable()\n",
    "P.category()\n",
    "\n",
    "# now you can investigate it with all the same functions as above\n",
    "P.is_translation_surface() # should be: False\n",
    "P.genus()\n",
    "P.stratum()\n",
    "# P.plot(edge_labels=True)\n"
   ]
  },
  {
   "cell_type": "code",
   "execution_count": 204,
   "metadata": {},
   "outputs": [],
   "source": [
    "# now we're going to write a bespoke initializer for our class of PCTS\n",
    "from flatsurf import MutableOrientedSimilaritySurface as MOSS\n",
    "\n",
    "# n is the number of squares\n",
    "# Top and bottom should be permutations of the form:\n",
    "# top = SymmetricGroup(4)('(1, 3)(2,4)')\n",
    "# - disjoint transpositions\n",
    "# - every number present \n",
    "def build_pillowcase(n, top, bottom):\n",
    "    P = MOSS(AA)\n",
    "\n",
    "    for i in range(1,n+1):\n",
    "        P.add_polygon(polygons.square(), label=i)\n",
    "\n",
    "    for i in range(1,n+1):\n",
    "        if i < n:\n",
    "            P.glue((i,1), (i+1, 3))\n",
    "\n",
    "        P.glue((i,0), (top(i), 0))\n",
    "        P.glue((i,2), (bottom(i), 2))\n",
    "    \n",
    "    P.glue((1,3), (n,1))\n",
    "    # P.glue((n,1), (n,1))\n",
    "\n",
    "    P.set_immutable()\n",
    "    P.category()\n",
    "    return P\n",
    "\n",
    "n = 4\n",
    "Sn = SymmetricGroup(n)\n",
    "top = Sn('(1,2)(3,4)') \n",
    "bottom = Sn('(1,4)(2,3)')\n",
    "pillowcase = build_pillowcase(n, top, bottom)\n",
    "pillowcase.category()\n",
    "pillowcase.genus()\n",
    "pillowcase.stratum()\n",
    "\n",
    "def shift_bottom(n, bottom):\n",
    "    Sn = SymmetricGroup(n)\n",
    "    s = Sn('(1,4,3,2)')\n",
    "    si = Sn('(1,2,3,4)')\n",
    "    return s*bottom*si\n",
    "\n",
    "new_bottom = shift_bottom(n, bottom)\n",
    "shifted_pillowcase = build_pillowcase(n, top, new_bottom)\n",
    "# TODO: figure out how to compute cylinders\n",
    "\n"
   ]
  }
 ],
 "metadata": {
  "kernelspec": {
   "display_name": "SageMath 10.2",
   "language": "sage",
   "name": "sagemath"
  },
  "language_info": {
   "codemirror_mode": {
    "name": "ipython",
    "version": 3
   },
   "file_extension": ".py",
   "mimetype": "text/x-python",
   "name": "python",
   "nbconvert_exporter": "python",
   "pygments_lexer": "ipython3",
   "version": "3.11.1"
  }
 },
 "nbformat": 4,
 "nbformat_minor": 2
}
