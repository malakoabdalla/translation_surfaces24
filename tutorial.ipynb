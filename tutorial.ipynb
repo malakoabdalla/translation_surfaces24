{
 "cells": [
  {
   "cell_type": "markdown",
   "metadata": {},
   "source": [
    "# Translation surface research\n",
    "Questions:\n",
    "- how to see the orientation of edges?"
   ]
  },
  {
   "cell_type": "code",
   "execution_count": 61,
   "metadata": {},
   "outputs": [
    {
     "data": {
      "text/plain": [
       "Half-Translation Surface in Q_0(-1^4) built from a square"
      ]
     },
     "execution_count": 61,
     "metadata": {},
     "output_type": "execute_result"
    }
   ],
   "source": [
    "from flatsurf import MutableOrientedSimilaritySurface, polygons\n",
    "\n",
    "S = MutableOrientedSimilaritySurface(QQ)\n",
    "S.add_polygon(polygons.square())\n",
    "S.glue((0, 1), (0, 3))\n",
    "S.glue((0,0), (0,0))\n",
    "S.glue((0,2), (0,2))\n",
    "S.set_immutable()\n",
    "S"
   ]
  },
  {
   "cell_type": "code",
   "execution_count": null,
   "metadata": {},
   "outputs": [],
   "source": [
    "S.plot()"
   ]
  },
  {
   "cell_type": "code",
   "execution_count": null,
   "metadata": {},
   "outputs": [],
   "source": [
    "p0 = polygons.regular_ngon(4, field=AA)\n",
    "p1 = polygons.regular_ngon(4, field=AA)\n",
    "\n",
    "surface = MutableOrientedSimilaritySurface(AA)\n",
    "surface.add_polygon(p0, label=0) \n",
    "surface.add_polygon(p1, label=1)\n",
    "# first coordinate is which polygon, second coordinate is which edge\n",
    "surface.glue((0, 0), (1, 0))\n",
    "surface.glue((0,1), (0,1))\n",
    "surface.glue((0,2), (0,2))\n",
    "surface.glue((0,3), (0,3))\n",
    "surface.glue((1,1), (1,1))\n",
    "surface.glue((1,2), (1,2))\n",
    "surface.glue((1,3), (1,3))\n",
    "surface.set_immutable()\n",
    "surface"
   ]
  },
  {
   "cell_type": "code",
   "execution_count": null,
   "metadata": {},
   "outputs": [],
   "source": [
    "surface.plot()"
   ]
  },
  {
   "cell_type": "code",
   "execution_count": null,
   "metadata": {},
   "outputs": [],
   "source": [
    "from flatsurf import translation_surfaces\n",
    "from flatsurf import MutableOrientedSimilaritySurface\n",
    "T = translation_surfaces.infinite_staircase()\n",
    "s = MutableOrientedSimilaritySurface.from_surface(T)\n",
    "# s.plot()\n",
    "# s.glue((-5, -4), (-4, -5))\n",
    "\n",
    "## cant make an infinite surface mutable\n",
    "\n",
    "\n",
    "\n",
    "\n",
    "\n",
    "\n"
   ]
  },
  {
   "cell_type": "code",
   "execution_count": 73,
   "metadata": {},
   "outputs": [
    {
     "data": {
      "text/plain": [
       "Translation Surface in H_1(0) built from a square"
      ]
     },
     "execution_count": 73,
     "metadata": {},
     "output_type": "execute_result"
    }
   ],
   "source": [
    "from flatsurf import translation_surfaces, MutableOrientedSimilaritySurface, polygons\n",
    "# T = translation_surfaces.square_torus()\n",
    "# S = MutableOrientedSimilaritySurface.from_surface(T)\n",
    "S = MutableOrientedSimilaritySurface(QQ)\n",
    "S.add_polygon(polygons.square(), label=1)\n",
    "S.glue((1, 0), (1, 2)) \n",
    "S.glue((1, 1), (1, 3))\n",
    "### little confused about this gluing action if first coordinate refers to which polygon\n",
    "S.set_immutable()\n",
    "S"
   ]
  },
  {
   "cell_type": "code",
   "execution_count": 74,
   "metadata": {},
   "outputs": [
    {
     "data": {
      "image/png": "[encoded data removed]",
      "text/plain": [
       "Graphics object consisting of 10 graphics primitives"
      ]
     },
     "execution_count": 74,
     "metadata": {},
     "output_type": "execute_result"
    }
   ],
   "source": [
    "S.plot()"
   ]
  }
 ],
 "metadata": {
  "kernelspec": {
   "display_name": "SageMath 10.3",
   "language": "sage",
   "name": "sagemath-10.3"
  },
  "language_info": {
   "codemirror_mode": {
    "name": "ipython",
    "version": 3
   },
   "file_extension": ".py",
   "mimetype": "text/x-python",
   "name": "python",
   "nbconvert_exporter": "python",
   "pygments_lexer": "ipython3",
   "version": "3.11.8"
  }
 },
 "nbformat": 4,
 "nbformat_minor": 2
}
