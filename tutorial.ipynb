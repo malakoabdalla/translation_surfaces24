{
 "cells": [
  {
   "cell_type": "markdown",
   "metadata": {},
   "source": [
    "# Translation surface research\n",
    "Questions:\n",
    "- how to see the orientation of edges?"
   ]
  },
  {
   "cell_type": "code",
   "execution_count": 61,
   "metadata": {},
   "outputs": [
    {
     "data": {
      "text/plain": [
       "Half-Translation Surface in Q_0(-1^4) built from a square"
      ]
     },
     "execution_count": 61,
     "metadata": {},
     "output_type": "execute_result"
    }
   ],
   "source": [
    "from flatsurf import MutableOrientedSimilaritySurface, polygons\n",
    "\n",
    "S = MutableOrientedSimilaritySurface(QQ)\n",
    "S.add_polygon(polygons.square())\n",
    "S.glue((0, 1), (0, 3))\n",
    "S.glue((0,0), (0,0))\n",
    "S.glue((0,2), (0,2))\n",
    "S.set_immutable()\n",
    "S"
   ]
  },
  {
   "cell_type": "code",
   "execution_count": null,
   "metadata": {},
   "outputs": [],
   "source": [
    "S.plot()"
   ]
  },
  {
   "cell_type": "code",
   "execution_count": 33,
   "metadata": {},
   "outputs": [
    {
     "data": {
      "text/plain": [
       "Half-Translation Surface in Q_0(2, -1^6) built from 2 squares"
      ]
     },
     "execution_count": 33,
     "metadata": {},
     "output_type": "execute_result"
    }
   ],
   "source": [
    "p0 = polygons.regular_ngon(4, field=AA)\n",
    "p1 = polygons.regular_ngon(4, field=AA)\n",
    "\n",
    "surface = MutableOrientedSimilaritySurface(AA)\n",
    "surface.add_polygon(p0, label=0) \n",
    "surface.add_polygon(p1, label=1)\n",
    "# first coordinate is which polygon, second coordinate is which edge\n",
    "surface.glue((0, 0), (1, 0))\n",
    "surface.glue((0,1), (0,1))\n",
    "surface.glue((0,2), (0,2))\n",
    "surface.glue((0,3), (0,3))\n",
    "surface.glue((1,1), (1,1))\n",
    "surface.glue((1,2), (1,2))\n",
    "surface.glue((1,3), (1,3))\n",
    "surface.set_immutable()\n",
    "surface"
   ]
  },
  {
   "cell_type": "code",
   "execution_count": 34,
   "metadata": {},
   "outputs": [
    {
     "data": {
      "image/png": "[encoded data removed]",
      "text/plain": [
       "Graphics object consisting of 17 graphics primitives"
      ]
     },
     "execution_count": 34,
     "metadata": {},
     "output_type": "execute_result"
    }
   ],
   "source": [
    "surface.plot()"
   ]
  },
  {
   "cell_type": "code",
   "execution_count": null,
   "metadata": {},
   "outputs": [],
   "source": [
    "from flatsurf import translation_surfaces\n",
    "from flatsurf import MutableOrientedSimilaritySurface\n",
    "T = translation_surfaces.infinite_staircase()\n",
    "s = MutableOrientedSimilaritySurface.from_surface(T)\n",
    "# s.plot()\n",
    "# s.glue((-5, -4), (-4, -5))\n",
    "\n",
    "## cant make an infinite surface mutable\n",
    "\n",
    "\n",
    "\n",
    "\n",
    "\n",
    "\n"
   ]
  },
  {
   "cell_type": "code",
   "execution_count": 73,
   "metadata": {},
   "outputs": [
    {
     "data": {
      "text/plain": [
       "Translation Surface in H_1(0) built from a square"
      ]
     },
     "execution_count": 73,
     "metadata": {},
     "output_type": "execute_result"
    }
   ],
   "source": [
    "from flatsurf import translation_surfaces, MutableOrientedSimilaritySurface, polygons\n",
    "# T = translation_surfaces.square_torus()\n",
    "# S = MutableOrientedSimilaritySurface.from_surface(T)\n",
    "S = MutableOrientedSimilaritySurface(QQ)\n",
    "S.add_polygon(polygons.square(), label=1)\n",
    "S.glue((1, 0), (1, 2)) \n",
    "S.glue((1, 1), (1, 3))\n",
    "### little confused about this gluing action if first coordinate refers to which polygon\n",
    "S.set_immutable()\n",
    "S"
   ]
  },
  {
   "cell_type": "code",
   "execution_count": 74,
   "metadata": {},
   "outputs": [
    {
     "data": {
      "image/png": "[encoded data removed]",
      "text/plain": [
       "Graphics object consisting of 10 graphics primitives"
      ]
     },
     "execution_count": 74,
     "metadata": {},
     "output_type": "execute_result"
    }
   ],
   "source": [
    "S.plot()"
   ]
  },
  {
   "cell_type": "markdown",
   "metadata": {},
   "source": []
  },
  {
   "cell_type": "code",
   "execution_count": 51,
   "metadata": {},
   "outputs": [],
   "source": [
    "from flatsurf import MutableOrientedSimilaritySurface, polygons\n",
    "\n",
    "num_squares = 2\n",
    "\n",
    "S = MutableOrientedSimilaritySurface(QQ)\n",
    "S.labels()\n",
    "\n",
    "for i in range(num_squares):\n",
    "    S.add_polygon(polygons.square(), label=i)\n",
    "S.labels()\n",
    "\n",
    "S.glue((0, 0), (1, 2))\n",
    "S.glue((0,2), (1,0))\n",
    "S.glue((0,1), (1,1))\n",
    "S.glue((0,3), (1,3))\n",
    "\n",
    "\n",
    "# for i in range(num_squares-1):\n",
    "#     print(f\"({i}, 0), ({i+1}, 3)\")\n",
    "#     S.glue((i, 0), (i+1, 2))\n",
    "#     S.glue((i,1),(i,1))\n",
    "#     S.glue((i,3),(i,3))\n",
    "\n",
    "# S.glue((0,3), (num_squares-1,0))\n",
    "\n",
    "S.set_immutable()"
   ]
  },
  {
   "cell_type": "code",
   "execution_count": 50,
   "metadata": {},
   "outputs": [
    {
     "data": {
      "text/plain": [
       "Half-Translation Surface in Q_0(-1^4) built from 2 squares"
      ]
     },
     "execution_count": 50,
     "metadata": {},
     "output_type": "execute_result"
    }
   ],
   "source": [
    "S"
   ]
  },
  {
   "cell_type": "code",
   "execution_count": 53,
   "metadata": {},
   "outputs": [
    {
     "data": {
      "text/plain": [
       "0"
      ]
     },
     "execution_count": 53,
     "metadata": {},
     "output_type": "execute_result"
    }
   ],
   "source": [
    "S.genus()"
   ]
  },
  {
   "cell_type": "code",
   "execution_count": null,
   "metadata": {},
   "outputs": [],
   "source": [
    "from flatsurf import GL2ROrbitClosure\n",
    "\n",
    "O = GL2ROrbitClosure(S)\n",
    "decomposition = O.decomposition((1, 0))\n",
    "\n",
    "decomposition"
   ]
  },
  {
   "cell_type": "code",
   "execution_count": 4,
   "metadata": {},
   "outputs": [
    {
     "ename": "NameError",
     "evalue": "name 'S' is not defined",
     "output_type": "error",
     "traceback": [
      "\u001b[0;31m---------------------------------------------------------------------------\u001b[0m",
      "\u001b[0;31mNameError\u001b[0m                                 Traceback (most recent call last)",
      "Cell \u001b[0;32mIn[4], line 1\u001b[0m\n\u001b[0;32m----> 1\u001b[0m U \u001b[38;5;241m=\u001b[39m \u001b[43mS\u001b[49m\u001b[38;5;241m.\u001b[39mminimal_cover(\u001b[38;5;124m\"\u001b[39m\u001b[38;5;124mtranslation\u001b[39m\u001b[38;5;124m\"\u001b[39m)\n\u001b[1;32m      2\u001b[0m U\u001b[38;5;241m.\u001b[39mstratum()\n\u001b[1;32m      3\u001b[0m U\u001b[38;5;241m.\u001b[39mveech_group()\n",
      "\u001b[0;31mNameError\u001b[0m: name 'S' is not defined"
     ]
    }
   ],
   "source": [
    "U = S.minimal_cover(\"translation\")\n",
    "U.stratum()\n",
    "U.veech_group()"
   ]
  },
  {
   "cell_type": "code",
   "execution_count": 66,
   "metadata": {},
   "outputs": [
    {
     "ename": "TypeError",
     "evalue": "S must be a translation surface",
     "output_type": "error",
     "traceback": [
      "\u001b[0;31m---------------------------------------------------------------------------\u001b[0m",
      "\u001b[0;31mTypeError\u001b[0m                                 Traceback (most recent call last)",
      "Cell \u001b[0;32mIn [66], line 7\u001b[0m\n\u001b[1;32m      3\u001b[0m \u001b[38;5;66;03m# O = GL2ROrbitClosure(U)  # optional: pyflatsurf\u001b[39;00m\n\u001b[1;32m      4\u001b[0m \u001b[38;5;66;03m# O.dimension() \u001b[39;00m\n\u001b[1;32m      6\u001b[0m \u001b[38;5;28;01mfrom\u001b[39;00m \u001b[38;5;21;01mflatsurf\u001b[39;00m\u001b[38;5;21;01m.\u001b[39;00m\u001b[38;5;21;01mgeometry\u001b[39;00m\u001b[38;5;21;01m.\u001b[39;00m\u001b[38;5;21;01mpyflatsurf_conversion\u001b[39;00m \u001b[38;5;28;01mimport\u001b[39;00m to_pyflatsurf\n\u001b[0;32m----> 7\u001b[0m S \u001b[38;5;241m=\u001b[39m \u001b[43mto_pyflatsurf\u001b[49m\u001b[43m(\u001b[49m\u001b[43mS\u001b[49m\u001b[43m)\u001b[49m\n\u001b[1;32m      8\u001b[0m S \u001b[38;5;241m=\u001b[39m S\u001b[38;5;241m.\u001b[39meliminateMarkedPoints()\u001b[38;5;241m.\u001b[39msurface()\n",
      "File \u001b[0;32m~/.sage/local/lib/python3.11/site-packages/flatsurf/geometry/pyflatsurf_conversion.py:89\u001b[0m, in \u001b[0;36mto_pyflatsurf\u001b[0;34m(S)\u001b[0m\n\u001b[1;32m     86\u001b[0m \u001b[38;5;28;01mfrom\u001b[39;00m \u001b[38;5;21;01mflatsurf\u001b[39;00m\u001b[38;5;21;01m.\u001b[39;00m\u001b[38;5;21;01mgeometry\u001b[39;00m\u001b[38;5;21;01m.\u001b[39;00m\u001b[38;5;21;01mcategories\u001b[39;00m \u001b[38;5;28;01mimport\u001b[39;00m TranslationSurfaces\n\u001b[1;32m     88\u001b[0m \u001b[38;5;28;01mif\u001b[39;00m S \u001b[38;5;129;01mnot\u001b[39;00m \u001b[38;5;129;01min\u001b[39;00m TranslationSurfaces():\n\u001b[0;32m---> 89\u001b[0m     \u001b[38;5;28;01mraise\u001b[39;00m \u001b[38;5;167;01mTypeError\u001b[39;00m(\u001b[38;5;124m\"\u001b[39m\u001b[38;5;124mS must be a translation surface\u001b[39m\u001b[38;5;124m\"\u001b[39m)\n\u001b[1;32m     90\u001b[0m \u001b[38;5;28;01mif\u001b[39;00m \u001b[38;5;129;01mnot\u001b[39;00m S\u001b[38;5;241m.\u001b[39mis_finite_type():\n\u001b[1;32m     91\u001b[0m     \u001b[38;5;28;01mraise\u001b[39;00m \u001b[38;5;167;01mValueError\u001b[39;00m(\u001b[38;5;124m\"\u001b[39m\u001b[38;5;124mthe surface S must be finite\u001b[39m\u001b[38;5;124m\"\u001b[39m)\n",
      "\u001b[0;31mTypeError\u001b[0m: S must be a translation surface"
     ]
    }
   ],
   "source": [
    "from flatsurf import GL2ROrbitClosure  # optional: pyflatsurf\n",
    "\n",
    "# O = GL2ROrbitClosure(U)  # optional: pyflatsurf\n",
    "# O.dimension() \n",
    "\n",
    "from flatsurf.geometry.pyflatsurf_conversion import to_pyflatsurf\n",
    "S = to_pyflatsurf(S)\n",
    "S = S.eliminateMarkedPoints().surface()"
   ]
  },
  {
   "cell_type": "code",
   "execution_count": 3,
   "metadata": {},
   "outputs": [
    {
     "data": {
      "text/plain": [
       "(1,2)(3)\n",
       "(1)(2,3)"
      ]
     },
     "execution_count": 3,
     "metadata": {},
     "output_type": "execute_result"
    }
   ],
   "source": [
    "from surface_dynamics import Origami\n",
    "\n",
    "o = Origami('(1,2)', '(2,3)')\n",
    "o\n",
    "# o.veech_group()\n",
    "# o.cylinder_diagram()\n"
   ]
  }
 ],
 "metadata": {
  "kernelspec": {
   "display_name": "SageMath 10.3",
   "language": "sage",
   "name": "sagemath-10.3"
  },
  "language_info": {
   "codemirror_mode": {
    "name": "ipython",
    "version": 3
   },
   "file_extension": ".py",
   "mimetype": "text/x-python",
   "name": "python",
   "nbconvert_exporter": "python",
   "pygments_lexer": "ipython3",
   "version": "3.11.8"
  }
 },
 "nbformat": 4,
 "nbformat_minor": 2
}
