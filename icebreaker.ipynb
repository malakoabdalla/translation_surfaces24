{
 "cells": [
  {
   "cell_type": "code",
   "execution_count": 9,
   "metadata": {},
   "outputs": [
    {
     "ename": "KeyboardInterrupt",
     "evalue": "",
     "output_type": "error",
     "traceback": [
      "\u001b[0;31m---------------------------------------------------------------------------\u001b[0m",
      "\u001b[0;31mKeyboardInterrupt\u001b[0m                         Traceback (most recent call last)",
      "Cell \u001b[0;32mIn[9], line 25\u001b[0m\n\u001b[1;32m     20\u001b[0m     \u001b[38;5;28;01mcontinue\u001b[39;00m \n\u001b[1;32m     24\u001b[0m \u001b[38;5;28;01mfor\u001b[39;00m P4 \u001b[38;5;129;01min\u001b[39;00m \u001b[38;5;28mlist\u001b[39m(Sn\u001b[38;5;241m.\u001b[39miteration()): \n\u001b[0;32m---> 25\u001b[0m     c4\u001b[38;5;241m=\u001b[39m ((P1\u001b[38;5;241m*\u001b[39mP4)\u001b[38;5;241m.\u001b[39mabsolute_length()\u001b[38;5;241m==\u001b[39mn\u001b[38;5;241m-\u001b[39mInteger(\u001b[38;5;241m1\u001b[39m))\n\u001b[1;32m     26\u001b[0m     c5\u001b[38;5;241m=\u001b[39m ((P2\u001b[38;5;241m*\u001b[39mP4)\u001b[38;5;241m.\u001b[39mabsolute_length()\u001b[38;5;241m==\u001b[39mn\u001b[38;5;241m-\u001b[39mInteger(\u001b[38;5;241m1\u001b[39m))\n\u001b[1;32m     27\u001b[0m     c6\u001b[38;5;241m=\u001b[39m ((P3\u001b[38;5;241m*\u001b[39mP4)\u001b[38;5;241m.\u001b[39mabsolute_length()\u001b[38;5;241m==\u001b[39mn\u001b[38;5;241m-\u001b[39mInteger(\u001b[38;5;241m1\u001b[39m))\n",
      "File \u001b[0;32m/private/var/tmp/sage-10.3-current/local/var/lib/sage/venv-python3.11.8/lib/python3.11/site-packages/sage/groups/perm_gps/permgroup_element.pyx:2104\u001b[0m, in \u001b[0;36msage.groups.perm_gps.permgroup_element.SymmetricGroupElement.absolute_length (build/cythonized/sage/groups/perm_gps/permgroup_element.c:27679)\u001b[0;34m()\u001b[0m\n\u001b[1;32m   2102\u001b[0m     \"\"\"\n\u001b[1;32m   2103\u001b[0m     from sage.combinat.permutation import Permutation\n\u001b[0;32m-> 2104\u001b[0m     return Permutation(self).absolute_length()\n\u001b[1;32m   2105\u001b[0m \n\u001b[1;32m   2106\u001b[0m def has_left_descent(self, i):\n",
      "File \u001b[0;32m/private/var/tmp/sage-10.3-current/local/var/lib/sage/venv-python3.11.8/lib/python3.11/site-packages/sage/combinat/permutation.py:1920\u001b[0m, in \u001b[0;36mPermutation.absolute_length\u001b[0;34m(self)\u001b[0m\n\u001b[1;32m   1904\u001b[0m \u001b[38;5;28;01mdef\u001b[39;00m \u001b[38;5;21mabsolute_length\u001b[39m(\u001b[38;5;28mself\u001b[39m) \u001b[38;5;241m-\u001b[39m\u001b[38;5;241m>\u001b[39m Integer:\n\u001b[1;32m   1905\u001b[0m \u001b[38;5;250m    \u001b[39m\u001b[38;5;124;03m\"\"\"\u001b[39;00m\n\u001b[1;32m   1906\u001b[0m \u001b[38;5;124;03m    Return the absolute length of ``self``\u001b[39;00m\n\u001b[1;32m   1907\u001b[0m \n\u001b[0;32m   (...)\u001b[0m\n\u001b[1;32m   1918\u001b[0m \u001b[38;5;124;03m        1\u001b[39;00m\n\u001b[1;32m   1919\u001b[0m \u001b[38;5;124;03m    \"\"\"\u001b[39;00m\n\u001b[0;32m-> 1920\u001b[0m     \u001b[38;5;28;01mreturn\u001b[39;00m \u001b[38;5;28mself\u001b[39m\u001b[38;5;241m.\u001b[39msize() \u001b[38;5;241m-\u001b[39m \u001b[38;5;28mlen\u001b[39m(\u001b[38;5;28;43mself\u001b[39;49m\u001b[38;5;241;43m.\u001b[39;49m\u001b[43mcycle_type\u001b[49m\u001b[43m(\u001b[49m\u001b[43m)\u001b[49m)\n",
      "File \u001b[0;32m/private/var/tmp/sage-10.3-current/local/var/lib/sage/venv-python3.11.8/lib/python3.11/site-packages/sage/combinat/permutation.py:2370\u001b[0m, in \u001b[0;36mPermutation.cycle_type\u001b[0;34m(self)\u001b[0m\n\u001b[1;32m   2358\u001b[0m \u001b[38;5;28;01mdef\u001b[39;00m \u001b[38;5;21mcycle_type\u001b[39m(\u001b[38;5;28mself\u001b[39m):\n\u001b[1;32m   2359\u001b[0m \u001b[38;5;250m    \u001b[39m\u001b[38;5;124mr\u001b[39m\u001b[38;5;124;03m\"\"\"\u001b[39;00m\n\u001b[1;32m   2360\u001b[0m \u001b[38;5;124;03m    Return a partition of ``len(self)`` corresponding to the cycle\u001b[39;00m\n\u001b[1;32m   2361\u001b[0m \u001b[38;5;124;03m    type of ``self``.\u001b[39;00m\n\u001b[0;32m   (...)\u001b[0m\n\u001b[1;32m   2368\u001b[0m \u001b[38;5;124;03m        [3, 1]\u001b[39;00m\n\u001b[1;32m   2369\u001b[0m \u001b[38;5;124;03m    \"\"\"\u001b[39;00m\n\u001b[0;32m-> 2370\u001b[0m     cycle_type \u001b[38;5;241m=\u001b[39m [\u001b[38;5;28mlen\u001b[39m(c) \u001b[38;5;28;01mfor\u001b[39;00m c \u001b[38;5;129;01min\u001b[39;00m \u001b[38;5;28;43mself\u001b[39;49m\u001b[38;5;241;43m.\u001b[39;49m\u001b[43mto_cycles\u001b[49m\u001b[43m(\u001b[49m\u001b[43m)\u001b[49m]\n\u001b[1;32m   2371\u001b[0m     cycle_type\u001b[38;5;241m.\u001b[39msort(reverse\u001b[38;5;241m=\u001b[39m\u001b[38;5;28;01mTrue\u001b[39;00m)\n\u001b[1;32m   2372\u001b[0m     \u001b[38;5;28;01mfrom\u001b[39;00m \u001b[38;5;21;01msage\u001b[39;00m\u001b[38;5;21;01m.\u001b[39;00m\u001b[38;5;21;01mcombinat\u001b[39;00m\u001b[38;5;21;01m.\u001b[39;00m\u001b[38;5;21;01mpartition\u001b[39;00m \u001b[38;5;28;01mimport\u001b[39;00m Partition\n",
      "File \u001b[0;32m/private/var/tmp/sage-10.3-current/local/var/lib/sage/venv-python3.11.8/lib/python3.11/site-packages/sage/combinat/permutation.py:978\u001b[0m, in \u001b[0;36mPermutation.to_cycles\u001b[0;34m(self, singletons, use_min)\u001b[0m\n\u001b[1;32m    976\u001b[0m \u001b[38;5;28;01mfor\u001b[39;00m i \u001b[38;5;129;01min\u001b[39;00m groundset:\n\u001b[1;32m    977\u001b[0m     \u001b[38;5;28;01mif\u001b[39;00m \u001b[38;5;129;01mnot\u001b[39;00m l[i]:\n\u001b[0;32m--> 978\u001b[0m         \u001b[38;5;28;01mcontinue\u001b[39;00m\n\u001b[1;32m    979\u001b[0m     cycleFirst \u001b[38;5;241m=\u001b[39m i \u001b[38;5;241m+\u001b[39m \u001b[38;5;241m1\u001b[39m\n\u001b[1;32m    980\u001b[0m     cycle \u001b[38;5;241m=\u001b[39m [cycleFirst]\n",
      "File \u001b[0;32msrc/cysignals/signals.pyx:341\u001b[0m, in \u001b[0;36mcysignals.signals.python_check_interrupt\u001b[0;34m()\u001b[0m\n",
      "\u001b[0;31mKeyboardInterrupt\u001b[0m: "
     ]
    }
   ],
   "source": [
    "n=5 \n",
    "\n",
    "Sn= SymmetricGroup(n)\n",
    "e = Sn.identity()\n",
    "# want to define perms where all pairwise prodyusts n cycles and they multiply to the ideneity \n",
    "\n",
    "surface_tuples= []\n",
    "for P1 in list(Sn.iteration()): \n",
    "\n",
    "    for P2 in list(Sn.iteration()):              \n",
    "        c1= ((P1*P2).absolute_length()==n-1)\n",
    "        if not c1:\n",
    "            continue \n",
    "\n",
    "\n",
    "        for P3 in list(Sn.iteration()): \n",
    "            c2= ((P2*P3).absolute_length()==n-1)\n",
    "            c3= ((P1*P3).absolute_length()==n-1)\n",
    "            if not (c2 and c3):\n",
    "                continue \n",
    "\n",
    "\n",
    "\n",
    "            for P4 in list(Sn.iteration()): \n",
    "                c4= ((P1*P4).absolute_length()==n-1)\n",
    "                c5= ((P2*P4).absolute_length()==n-1)\n",
    "                c6= ((P3*P4).absolute_length()==n-1)\n",
    "                c7=(P1*P2*P3*P4== e)\n",
    "                if c4 and c5 and c6 and c7:\n",
    "                    \n",
    "                    # print((P1,P2,P3,P4))\n",
    "                    surface_tuples.append((P1,P2,P3,P4))\n",
    "\n",
    "#takes 1min 28 sec\n",
    "newlist= [check_n_cycle_products(tuple,n) for tuple in surface_tuples]\n",
    "\n",
    "print(newlist)"
   ]
  },
  {
   "cell_type": "code",
   "execution_count": 2,
   "metadata": {},
   "outputs": [],
   "source": [
    "# tuple will be a,b,c,d permutations\n",
    "def check_n_cycle_products(tuple,n):\n",
    "    (a,b,c,d)= tuple\n",
    "    c1= ((a*b).absolute_length()==n-1)\n",
    "    c2= ((b*c).absolute_length()==n-1)\n",
    "    c3= ((a*c).absolute_length()==n-1)\n",
    "    c4= ((a*d).absolute_length()==n-1)\n",
    "    c5= ((b*d).absolute_length()==n-1)\n",
    "    c6= ((c*d).absolute_length()==n-1)\n",
    "    c7=(a*b*c*d== e)\n",
    "    if c1 and c2 and c3 and c4 and c5 and c6 and c7:\n",
    "        return True\n",
    "    else:\n",
    "        return False\n",
    "\n",
    "\n"
   ]
  },
  {
   "cell_type": "code",
   "execution_count": 11,
   "metadata": {},
   "outputs": [
    {
     "name": "stdout",
     "output_type": "stream",
     "text": [
      "[True, True, True, True, True, True, True, True, True, True, True, True, True, True, True, True, True, True, True, True, True, True, True, True, True, True, True, True, True, True, True, True, True, True, True, True, True, True, True, True, True, True, True, True, True, True, True, True, True, True, True, True, True, True, True, True, True, True, True, True, True, True, True, True, True, True, True, True, True, True, True, True, True, True, True, True, True, True, True, True, True, True, True, True, True, True, True, True, True, True, True, True, True, True, True, True, True, True, True, True, True, True, True, True, True, True, True, True, True, True, True, True, True, True, True, True, True, True, True, True, True, True, True, True, True, True, True, True, True, True, True, True, True, True, True, True, True, True, True, True, True, True, True, True, True, True, True, True, True, True, True, True, True, True, True, True, True, True, True, True, True, True, True, True, True, True, True, True, True, True, True, True, True, True, True, True, True, True, True, True, True, True, True, True, True, True, True, True, True, True, True, True, True, True, True, True, True, True, True, True, True, True, True, True, True, True, False, False, False, False, True, True, False, False, False, False, True, True, True, True, True, True, False, False, True, True, True, False, False, False, False, False, True, True, True, False, False, False, False, False, False, True, False, False, False, False, True, False, True, False, False, False, False, False, True, False, False, True, False, False, False, False, True, False, True, False, False, False, False, False, False, True, False, False, True, False, False, False, True, False, False, False, True, False, False, False, True, False, False, False, True, False, False, False, False, True, False, True, False, True, False, False, False, False, False, False, True, False, False, False, False, False, False, False, True, True, False, False, True, False, False, False, False, True, False, True, False, False, False, False, False, True, False, False, True, False, False, False, True, False, False, False, False, False, False, False, False, False, False, False, False, False, False, False, False, False, False, False, False, False, False, False, False, False, False, False, False, False, False, False, False, False, False, False, False, False, False, False, False, False, False, False, False, False, False, False, False, False, True, True, True, True, True, True, True, True, True, True, True, False, False, False, False, False, True, True, True, False, False, True, True, True, True, True, False, True, True, False, True, True, False, False, False, False, False, False, True, True, True, False, False, False, False, True, False, False, True, True, False, True, False, False, False, False, False, True, False, False, False, False, True, False, False, False, True, False, False, True, False, False, False, False, False, True, False, False, True, False, True, False, False, False, True, False, False, False, False, True, False, True, False, True, False, False, False, False, False, False, False, False, True, False, False, False, True, False, False, False, False, True, False, False, True, False, False, False, False, True, False, False, True, True, False, False, False, False, False, False, True, True, False, False, False, False, False, False, False, True, False, False, True, False, False, True, False, False, True, True, True, True, True, True, True, True, True, True, True, False, False, False, False, False, True, True, True, False, False, True, True, True, True, True, False, False, True, True, True, True, False, False, False, False, False, False, True, True, True, False, False, False, False, True, False, False, True, True, True, False, False, False, False, False, False, True, False, False, False, True, False, False, False, False, False, True, False, False, True, False, False, False, True, False, False, True, False, False, False, False, True, False, False, False, False, True, False, False, True, False, False, False, False, True, False, True, False, False, False, False, False, True, False, True, False, False, False, True, False, False, True, False, False, True, False, False, False, False, False, False, False, False, True, True, False, False, False, False, True, False, True, False, False, False, False, False, False, False, True, False, True, False, False, False, False, True, False, False, False, True, False, True, False, False, False, True, False, True, True, False, False, False, False, True, False, True, False, False, False, True, True, False, False, True, False, False, True, False, False, False, False, True, True, False, False, True, True, False, True, False, True, False, False, False, False, True, False, False, False, True, True, False, True, False, True, False, False, True, True, False, False, False, True, False, False, True, False, True, False, False, False, False, False, False, True, False, False, False, False, True, False, False, False, False, True, False, False, False, False, False, True, False, False, False, False, False, False, False, False, True, False, False, True, False, False, False, False, False, False, False, False, True, False, False, True, False, False, False, False, False, False, False, False, False, False, False, False, True, False, False, False, False, True, True, True, True, True, True, True, True, True, False, False, False, True, False, True, False, True, True, True, True, True, True, True, True, False, True, False, False, False, True, False, False, True, False, True, True, False, False, False, True, False, False, True, False, False, False, False, True, False, False, True, True, True, False, False, False, False, False, False, False, False, False, False, True, True, False, False, False, True, False, False, False, False, True, False, True, False, False, False, False, False, False, False, True, False, True, False, False, True, True, False, False, False, False, True, False, True, False, False, False, True, False, False, False, True, False, True, False, False, False, False, False, True, False, False, True, False, False, False, False, True, True, False, False, False, False, False, False, True, False, True, False, False, True, False, False, False, True, False, False, False, False, False, True, False, False, False, False, False, False, False, True, False, False, False, True, False, False, False, False, True, False, False, False, False, False, False, True, False, False, True, False, False, True, False, False, False, False, False, False, False, False, False, True, True, False, False, False, False, False, False, False, False, False, True, False, False, False, False, False, True, False, False, True, False, False, False, False, False, False, False, False, False, False, True, False, False, False, False, False, False, False, False, True, False, True, True, False, True, False, True, False, True, False, False, True, True, False, False, True, False, True, True, False, False, False, False, True, True, False, False, False, False, True, False, False, True, False, False, True, False, False, True, False, False, False, True, False, False, False, False, True, False, False, True, True, True, False, True, False, False, False, True, False, True, False, False, False, True, False, False, False, True, False, False, False, True, False, True, False, True, False, False, False, True, False, False, True, False, False, False, True, False, False, True, False, True, False, False, True, True, False, True, False, False, True, True, False, True, False, True, False, True, False, False, False, True, False, True, False, False, False, True, False, False, True, False, True, True, True, True, True, True, True, True, True, True, False, False, False, True, False, False, True, False, False, True, False, True, True, True, True, False, False, True, False, True, True, True, True, False, True, True, False, False, False, True, True, False, False, True, True, True, False, False, False, False, False, True, False, False, False, True, False, False, False, True, False, False, False, True, False, False, False, True, True, False, True, False, False, False, False, False, False, False, False, True, False, False, False, False, False, True, False, True, False, False, False, False, False, True, False, True, False, False, False, False, False, False, False, True, True, False, False, False, True, False, True, False, False, False, False, False, False, True, False, True, False, False, False, True, False, True, True, False, False, False, False, True, True, False, False, False, False, False, True, False, False, False, False, False, True, False, False, False, False, False, True, False, True, True, False, False, False, False, False, False, False, False, False, False, False, False, True, True, False, False, False, False, True, False, False, False, False, False, True, False, False, True, False, False, False, False, False, False, False, False, False, True, False, False, False, False, False, False, False, False, True, False, False, True, False, False, False, True, False, False, False, False, False, False, False, False, False, False, False, False, False, False, False, False, True, False, False, False, False, False, False, True, False, False, True, False, False, False, True, False, False, True, False, True, False, False, False, False, False, False, False, False, False, False, True, False, False, True, False, False, False, False, False, False, False, False, False, False, False, False, True, True, False, False, False, False, False, False, False, False, False, False, False, False, True, False, True, False, False, False, False, True, False, False, False, False, True, False, False, True, False, False, True, False, False, False, False, False, False, True, False, False, True, False, False, False, False, True, False, False, False, True, False, False, False, False, False, False, True, False, False, False, False, False, False, False, False, False, False, False, True, False, False, False, True, False, True, False, False, False, False, False, False, False, False, True, False, False, True, False, True, False, False, False, False, False, False, False, False, True, False, False, True, False, False, False, False, False, False, False, False, False, False, True, True, False, False, False, False, False, False, False, False, False, False, False, True, False, False, False, False, False, True, True, False, True, False, True, False, False, False, False, False, False, False, False, True, True, False, False, False, True, False, False, True, True, False, False, False, False, True, False, False, False, True, True, False, False, True, True, False, True, False, False, False, False, True, True, False, False, True, False, False, True, False, False, False, False, True, True, False, False, True, False, False, False, True, True, False, True, False, False, True, True, False, False, True, False, False, False, False, False, False, False, False, False, False, False, False, False, False, False, False, False, False, False, False, False, False, False, False, False, False, False, False, False, False, False, False, False, False, False, False, False, False, False, False, False, False, False, False, False, False, False, False, True, True, True, True, True, True, True, True, True, True, False, True, False, False, False, False, True, True, True, False, False, False, False, False, True, False, False, False, False, True, False, False, False, False, True, False, True, True, True, True, True, True, False, False, False, False, True, False, False, True, False, False, True, True, True, True, True, True, False, False, True, False, True, False, False, False, False, False, True, False, True, False, False, False, False, False, False, False, True, False, True, False, False, False, False, True, False, False, True, False, False, False, True, False, False, False, True, False, True, False, False, False, False, False, False, False, False, False, True, False, True, False, False, False, False, True, False, False, False, True, True, False, False, False, False, False, True, False, False, False, False, False, False, False, True, True, False, False, True, False, False, False, True, False, True, False, False, False, True, True, False, False, False, True, False, False, False, True, True, False, True, False, True, False, False, True, True, False, False, True, True, False, False, False, False, False, True, False, False, True, False, False, False, True, False, True, False, True, True, False, False, False, False, False, False, False, True, False, False, False, True, True, False, True, False, False, True, False, True, False, True, False, False, False, False, False, False, True, False, False, False, True, False, False, True, False, False, False, False, False, False, False, False, True, False, False, True, False, True, False, False, False, False, False, False, False, True, False, False, False, False, False, False, False, False, True, False, False, False, False, False, False, False, True, False, True, False, False, False, True, False, False, False, False, True, False, False, False, False, False, False, False, False, False, False, False, False, False, False, False, False, False, False, False, False, False, False, False, False, False, False, False, False, False, False, False, False, False, False, False, False, False, False, False, False, False, False, False, False, False, False, False, False, False, False, False, False, False, False, False, False, False, True, False, False, True, False, True, False, True, False, False, False, False, True, False, True, False, False, False, True, True, True, False, False, False, False, False, False, False, True, True, False, False, True, False, False, True, True, True, False, False, False, True, True, False, True, False, False, True, False, True, True, False, False, False, False, False, False, True, True, False, False, False, True, False, True, False, False, False, True, False, False, False, False, True, True, False, True, False, True, False, False, False, False, True, False, False, True, False, True, False, False, True, False, False, False, True, False, False, True, False, True, False, True, False, True, False, False, False, True, False, False, True, True, False, False, False, False, True, False, True, True, False, True, False, True, False, True, False, False, False, False, False, False, True, False, False, False, False, True, False, False, False, False, False, False, False, False, False, True, False, False, False, True, False, True, False, False, False, False, True, False, False, True, False, False, True, False, False, False, False, True, False, True, False, False, False, False, False, False, False, False, False, False, False, False, False, False, False, True, False, True, False, False, False, False, False, False, False, False, False, False, False, False, False, False, False, False, False, False, False, False, False, False, True, False, False, True, False, False, False, False, True, False, False, True, False, False, True, True, False, False, False, False, False, False, False, False, False, True, False, False, False, True, False, False, False, False, True, False, False, False, True, False, False, False, False, False, False, False, False, False, True, True, False, False, False, False, False, False, False, False, False, False, False, False, True, False, False, False, False, True, False, True, False, True, False, False, False, False, False, False, False, False, False, False, True, False, False, False, False, True, False, False, True, False, True, False, False, False, False, False, False, False, False, True, False, False, False, False, False, False, True, False, False, True, False, False, False, False, False, False, False, False, False, False, False, False, False, False, False, False, False, False, True, False, False, False, True, True, False, False, False, False, True, True, False, False, False, False, False, False, False, False, True, False, False, False, True, True, True, True, True, True, True, True, True, True, False, False, True, False, False, True, True, True, False, False, False, False, False, False, False, False, False, False, True, True, False, True, False, True, True, False, False, False, False, True, True, False, False, True, True, False, False, True, True, True, True, True, True, True, False, False, True, False, False, True, False, False, True, False, False, True, True, False, False, False, False, False, False, False, False, False, True, False, True, False, False, True, False, False, False, True, True, False, False, False, False, False, False, False, False, False, True, False, False, True, False, False, False, False, True, False, False, False, False, True, False, False, True, False, False, False, False, True, False, True, False, False, False, False, True, False, False, True, False, False, False, True, False, False, True, False, False, False, False, True, False, False, False, False, False, True, False, True, False, False, True, True, False, True, False, True, False, False, False, False, False, True, False, False, False, True, False, False, True, False, False, False, False, True, False, True, False, False, True, False, True, True, False, True, False, True, False, False, True, True, False, False, True, False, True, True, False, True, False, False, True, False, False, False, True, False, False, True, False, False, False, False, True, True, True, True, True, True, True, True, True, False, False, False, True, True, False, False, False, False, False, True, False, True, False, False, True, False, False, True, False, False, False, True, True, True, False, True, True, False, True, True, False, True, True, True, True, False, False, True, False, False, False, True, True, False, False, True, True, False, False, False, False, False, False, True, False, False, False, False, True, False, False, True, False, False, False, True, True, False, True, False, False, False, False, False, True, False, False, False, True, False, False, False, False, False, True, False, False, True, False, False, True, False, False, True, False, False, False, True, True, False, False, False, False, True, False, False, False, False, True, True, False, True, False, False, False, False, True, False, False, False, False, False, False, False, False, True, False, False, True, False, False, False, False, True, False, False, True, False, False, True, False, False, False, False, False, False, True, False, False, False, True, False, False, False, False, False, False, False, False, False, False, False, True, False, False, True, True, False, False, False, False, False, False, False, False, True, False, False, True, False, False, False, False, True, False, False, False, True, True, False, False, False, False, False, False, True, False, True, False, False, False, False, False, False, False, False, False, False, False, False, False, False, False, False, False, True, False, False, True, False, False, False, False, True, False, False, False, False, True, False, False, False, False, False, True, False, False, False, True, False, False, False, True, False, True, False, False, False, True, False, False, False, True, False, False, True, False, False, True, True, False, True, False, False, True, True, False, False, True, False, False, False, False, False, True, False, False, False, True, False, True, True, False, True, False, False, True, True, False, True, True, False, False, False, True, True, True, False, False, True, False, False, False, False, False, True, False, False, True, True, False, True, False, False, False]\n",
      "981\n"
     ]
    }
   ],
   "source": [
    "def check_braid_group_generators(tuple,n):\n",
    "    (a,b,c,d)= tuple\n",
    "    first= (b,b**(-1)*a*b,c,d)\n",
    "    second=(a,c,c**(-1)*b*c,d)\n",
    "    third= (a,b,d,d**(-1)*c*d)\n",
    "    c1= check_n_cycle_products(first,n)\n",
    "    c2= check_n_cycle_products(second,n)\n",
    "    c3= check_n_cycle_products(third,n)\n",
    "    if c1 and c2 and c3:\n",
    "        return True\n",
    "    else:\n",
    "        return False\n",
    "\n",
    "\n",
    "newlist= [check_braid_group_generators(tuple,n) for tuple in surface_tuples]\n",
    "print(newlist)\n",
    "print(len([x for x in newlist if x==False]))\n",
    "print(len([x for x in newlist if x==True]))\n",
    "# now were missing that we want to check if it would for every element in the braid group. finite bec only finite number of tuples we could get\n"
   ]
  }
 ],
 "metadata": {
  "kernelspec": {
   "display_name": "SageMath 10.3",
   "language": "sage",
   "name": "sagemath-10.3"
  },
  "language_info": {
   "codemirror_mode": {
    "name": "ipython",
    "version": 3
   },
   "file_extension": ".py",
   "mimetype": "text/x-python",
   "name": "python",
   "nbconvert_exporter": "python",
   "pygments_lexer": "ipython3",
   "version": "3.11.8"
  }
 },
 "nbformat": 4,
 "nbformat_minor": 4
}
