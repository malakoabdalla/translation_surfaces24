{
 "cells": [
  {
   "cell_type": "code",
   "execution_count": 22,
   "metadata": {},
   "outputs": [],
   "source": [
    "# local imports\n",
    "import os\n",
    "import sys\n",
    "# module_path = os.path.abspath(os.path.join('/Users/gabriela/Documents/school/phd/research/malak_paul_translation_surfaces/lib'))\n",
    "module_path = os.path.abspath(os.path.join('/Users/malakabdalla/Desktop/translation surfaces summer24/translation_surfaces24'))\n",
    "# malak will have to put a different path here\n",
    "sys.path.insert(0, module_path)\n",
    "from lib.utils import compute_valid_perms, compute_valid_pairs, shift_bottom\n",
    "# other imports\n",
    "from sage.combinat.permutation import Permutation"
   ]
  },
  {
   "cell_type": "code",
   "execution_count": 23,
   "metadata": {},
   "outputs": [
    {
     "data": {
      "text/plain": [
       "(1, 0)"
      ]
     },
     "execution_count": 23,
     "metadata": {},
     "output_type": "execute_result"
    }
   ],
   "source": [
    "from flatsurf import translation_surfaces\n",
    "\n",
    "# the library has some nice built in examples\n",
    "S = translation_surfaces.square_torus()\n",
    "S = translation_surfaces.octagon_and_squares()\n",
    "S.set_immutable()\n",
    "\n",
    "# we can investigate the translation surface with the following methods\n",
    "S.category()\n",
    "S.stratum() # Note: calling stratum() only works after calling category() (otherwise flatsurf hasn't yet computed what type of surface this is, so it  doesn't know how to check the stratum: https://flatsurf.github.io/sage-flatsurf/geometry/categories.html#module-flatsurf.geometry.categories)\n",
    "S.category().axioms()\n",
    "S.is_translation_surface()\n",
    "S.genus()\n",
    "S.components()\n",
    "S.gluings()\n",
    "S.is_connected()\n",
    "S.opposite_edge((0,0))"
   ]
  },
  {
   "cell_type": "code",
   "execution_count": 24,
   "metadata": {},
   "outputs": [
    {
     "data": {
      "text/plain": [
       "H_1(0)"
      ]
     },
     "execution_count": 24,
     "metadata": {},
     "output_type": "execute_result"
    }
   ],
   "source": [
    "# Building a bespoke translation surface\n",
    "# https://flatsurf.github.io/sage-flatsurf/geometry/surface.html#flatsurf.geometry.surface.MutableOrientedSimilaritySurface\n",
    "from flatsurf import MutableOrientedSimilaritySurface as MOSS\n",
    "# Question: MOSS vs MutablePolygonalSurface?\n",
    "\n",
    "# Initialize the surface\n",
    "surface = MOSS(AA) # The AA means use the algebraic reals. Other option is QQ for rationals. \n",
    "# Question: why choose one or the other?\n",
    "\n",
    "# add as many polygons as you want, optionally specify the label (default is numbers starting at 0)\n",
    "surface.add_polygon(polygons.square())\n",
    "\n",
    "# then specify how to glue the squares together. the polygons have default edge ordering 0,1,2, ... \n",
    "# # Question: can these be specified?\n",
    "surface.glue((0, 0), (0, 2))\n",
    "surface.glue((0, 1), (0, 3))\n",
    "\n",
    "# finish the bespoke craftmanship\n",
    "surface.set_immutable()\n",
    "surface.category()\n",
    "\n",
    "# then you can go investigate it like in the previous cell\n",
    "\n",
    "surface.genus()\n",
    "surface.stratum()\n"
   ]
  },
  {
   "cell_type": "code",
   "execution_count": 25,
   "metadata": {},
   "outputs": [],
   "source": [
    "# build a translation surface using a permutation\n",
    "\n",
    "p1 = SymmetricGroup(4)('(1, 3)(2,4)')\n",
    "p2 = SymmetricGroup(4)('')\n",
    "S = translation_surfaces.origami(p1, p2)\n",
    "# S.plot()"
   ]
  },
  {
   "cell_type": "code",
   "execution_count": 26,
   "metadata": {},
   "outputs": [
    {
     "data": {
      "text/plain": [
       "False"
      ]
     },
     "execution_count": 26,
     "metadata": {},
     "output_type": "execute_result"
    }
   ],
   "source": [
    "# building a half-translation surface\n",
    "# note: pillowcase tiled surfaces are the subset of half translation surfaces that are built from squares (just like square tiled surfaces are the subset of translation surfaces that are built from squares)\n",
    "# https://flatsurf.github.io/sage-flatsurf/geometry/half_translation_surfaces.html#module-flatsurf.geometry.categories.half_translation_surfaces\n",
    "\n",
    "P = MOSS(AA) \n",
    "\n",
    "P.add_polygon(polygons.square())\n",
    "P.add_polygon(polygons.square())\n",
    "\n",
    "P.glue((0, 1), (1, 3))\n",
    "P.glue((0, 3), (1, 1))\n",
    "P.glue((0, 2), (1, 2))\n",
    "P.glue((0, 0), (1, 0))\n",
    "\n",
    "P.set_immutable()\n",
    "P.category()\n",
    "\n",
    "# now you can investigate it with all the same functions as above\n",
    "P.is_translation_surface() # should be: False\n",
    "# P.genus()\n",
    "# P.stratum()\n",
    "# P.plot(edge_labels=True)\n"
   ]
  },
  {
   "cell_type": "code",
   "execution_count": 27,
   "metadata": {},
   "outputs": [
    {
     "data": {
      "text/plain": [
       "Q_0(0^2, -1^4)"
      ]
     },
     "execution_count": 27,
     "metadata": {},
     "output_type": "execute_result"
    }
   ],
   "source": [
    "# now we're going to write a bespoke initializer for our class of PCTS\n",
    "from flatsurf import MutableOrientedSimilaritySurface as MOSS\n",
    "from flatsurf import polygons\n",
    "\n",
    "# n is the number of squares\n",
    "# Top and bottom should be permutations of the form:\n",
    "# top = SymmetricGroup(4)('(1, 3)(2,4)')\n",
    "# - disjoint transpositions\n",
    "# - every number present \n",
    "def build_pillowcase(n, top, bottom):\n",
    "    P = MOSS(AA)\n",
    "\n",
    "    for i in range(1,n+1):\n",
    "        P.add_polygon(polygons.square(), label=i)\n",
    "\n",
    "    for i in range(1,n+1):\n",
    "        if i < n:\n",
    "            P.glue((i,1), (i+1, 3))\n",
    "\n",
    "        P.glue((i,0), (top(i), 0))\n",
    "        P.glue((i,2), (bottom(i), 2))\n",
    "    \n",
    "    P.glue((1,3), (n,1))\n",
    "    # P.glue((n,1), (n,1))\n",
    "\n",
    "    P.set_immutable()\n",
    "    P.category()\n",
    "    return P\n",
    "\n",
    "n = 4\n",
    "Sn = SymmetricGroup(n)\n",
    "top = Sn('(1,2)(3,4)') \n",
    "bottom = Sn('(1,4)(2,3)')\n",
    "pillowcase = build_pillowcase(n, top, bottom)\n",
    "pillowcase.category()\n",
    "pillowcase.genus()\n",
    "pillowcase.stratum()\n",
    "\n",
    "\n",
    "    \n",
    "\n",
    "\n"
   ]
  },
  {
   "cell_type": "code",
   "execution_count": 28,
   "metadata": {},
   "outputs": [
    {
     "name": "stdout",
     "output_type": "stream",
     "text": [
      "(1,2)(3,4)\n"
     ]
    }
   ],
   "source": [
    "# This function takes in two inputs:\n",
    "# - n which is the number of dots (permutation group)\n",
    "# - bottom which is the bottom permutation \n",
    "# It returns a permutation which is the shift of bottom\n",
    "def shift_bottom(n, bottom):\n",
    "    Sn = SymmetricGroup(n)\n",
    "    s=''\n",
    "    for i in range(1,n+1):    \n",
    "        if i==1:\n",
    "            s=s+'(1,'\n",
    "        elif i<n : \n",
    "            s=s+ f'{n-i+2},'\n",
    "        if i==n:\n",
    "            s=s+ '2)'\n",
    "      \n",
    "    si= ''\n",
    "    for i in range(1,n+1):\n",
    "        if i==1:\n",
    "            si= si+'(1,'\n",
    "        elif i<n:\n",
    "            si= si+ f'{i},'\n",
    "        if i==n:\n",
    "            si= si+ f'{n})'\n",
    "   \n",
    "    s = Sn(s)\n",
    "    si = Sn(si)\n",
    "    new = s*bottom*si # TODO: is this correct? ... i believe it is \n",
    "    return new\n",
    "\n",
    "n = 4\n",
    "Sn = SymmetricGroup(n)\n",
    "top = Sn('(1,2)(3,4)') \n",
    "bottom = Sn('(1,4)(2,3)')\n",
    "new_bottom = shift_bottom(n, bottom)\n",
    "print(new_bottom)\n",
    "shifted_pillowcase = build_pillowcase(n, top, new_bottom)\n",
    "# # TODO: figure out how to compute cylinders"
   ]
  },
  {
   "cell_type": "code",
   "execution_count": 29,
   "metadata": {},
   "outputs": [
    {
     "data": {
      "text/plain": [
       "1"
      ]
     },
     "execution_count": 29,
     "metadata": {},
     "output_type": "execute_result"
    }
   ],
   "source": [
    "#trying to play around \n",
    "n=4 \n",
    "Sn = SymmetricGroup(n)\n",
    "top = Sn('(1,2)(3,4)') \n",
    "bottom = Sn('(1,4)(2,3)')\n",
    "(top*bottom).order()\n",
    "new_bottom= shift_bottom(n,bottom)\n",
    "top * new_bottom\n",
    "(top*new_bottom).order() #order should be 1 \n",
    "\n",
    "# new_bottom= shift_bottom(4,bottom)\n",
    "# new_bottom.order()\n",
    "# # pillowcase.genus()\n",
    "# # pillowcase.stratum()\n",
    "\n",
    "\n",
    "\n",
    "\n"
   ]
  },
  {
   "cell_type": "code",
   "execution_count": 30,
   "metadata": {},
   "outputs": [
    {
     "data": {
      "text/plain": [
       "2"
      ]
     },
     "execution_count": 30,
     "metadata": {},
     "output_type": "execute_result"
    }
   ],
   "source": [
    "#computing the order of a group \n",
    "G= SymmetricGroup(2)\n",
    "G\n",
    "G.order()\n",
    "\n"
   ]
  },
  {
   "cell_type": "code",
   "execution_count": 31,
   "metadata": {},
   "outputs": [
    {
     "ename": "SyntaxError",
     "evalue": "expected ':' (4034329044.py, line 14)",
     "output_type": "error",
     "traceback": [
      "\u001b[0;36m  Cell \u001b[0;32mIn[31], line 14\u001b[0;36m\u001b[0m\n\u001b[0;31m    def pair_order(perm1,perm2)\u001b[0m\n\u001b[0m                               ^\u001b[0m\n\u001b[0;31mSyntaxError\u001b[0m\u001b[0;31m:\u001b[0m expected ':'\n"
     ]
    }
   ],
   "source": [
    "valid_perms= compute_valid_perms(set)\n",
    "compute_valid_pairs(valid_perms)\n",
    "# okay so I think i need to define a function that computes the order of a par of permutations. \n",
    "from sage.combinat.permutation import Permutation\n",
    "\n",
    "def permutation_order(valid_perms):\n",
    "\n",
    "   \n",
    "    return order \n",
    "    \n",
    "    \n",
    "# i would need something to define the pair i think?\n",
    "\n",
    "def pair_order(perm1,perm2)\n",
    "    \n",
    "    order1 = permutation_order(perm1)\n",
    "    order2 = permutation_order(perm2)\n",
    "    \n",
    "\n",
    "    return pair_order\n",
    "    \n",
    "\n",
    "\n",
    "\n",
    "\n"
   ]
  },
  {
   "cell_type": "code",
   "execution_count": null,
   "metadata": {},
   "outputs": [
    {
     "ename": "NameError",
     "evalue": "name 'SymmetricGroup' is not defined",
     "output_type": "error",
     "traceback": [
      "\u001b[0;31m---------------------------------------------------------------------------\u001b[0m",
      "\u001b[0;31mNameError\u001b[0m                                 Traceback (most recent call last)",
      "Cell \u001b[0;32mIn[26], line 3\u001b[0m\n\u001b[1;32m      1\u001b[0m \u001b[38;5;66;03m# i used valid permutation pair from the list \u001b[39;00m\n\u001b[1;32m      2\u001b[0m n\u001b[38;5;241m=\u001b[39m\u001b[38;5;241m6\u001b[39m \n\u001b[0;32m----> 3\u001b[0m Sn \u001b[38;5;241m=\u001b[39m \u001b[43mSymmetricGroup\u001b[49m(n) \n\u001b[1;32m      4\u001b[0m top \u001b[38;5;241m=\u001b[39m Sn(\u001b[38;5;124m'\u001b[39m\u001b[38;5;124m(1,2)(3,4)(5,6)\u001b[39m\u001b[38;5;124m'\u001b[39m) \n\u001b[1;32m      5\u001b[0m bottom \u001b[38;5;241m=\u001b[39m Sn(\u001b[38;5;124m'\u001b[39m\u001b[38;5;124m(1,4)(3,6)(2,5)\u001b[39m\u001b[38;5;124m'\u001b[39m)\n",
      "\u001b[0;31mNameError\u001b[0m: name 'SymmetricGroup' is not defined"
     ]
    }
   ],
   "source": [
    "# i used valid permutation pair from the list \n",
    "n=6 \n",
    "Sn = SymmetricGroup(n) \n",
    "top = Sn('(1,2)(3,4)(5,6)') \n",
    "bottom = Sn('(1,4)(3,6)(2,5)')\n",
    "pillowcase = build_pillowcase(n, top, bottom)\n",
    "pillowcase.category()\n",
    "new_bottom= shift_bottom(n,bottom)\n",
    "top * new_bottom\n",
    "(top*bottom).order()\n",
    "(top*new_bottom).order()\n",
    "\n",
    "new_bottom2= shift_bottom(n,new_bottom)\n",
    "(top*new_bottom2).order() #has order 3 now \n",
    "\n",
    "new_bottom3= shift_bottom(n,new_bottom2)\n",
    "new_bottom3\n",
    "(top*new_bottom3).order() #has order 3\n",
    "\n",
    "new_bottom4=shift_bottom(n,new_bottom3)\n",
    "new_bottom4\n",
    "(top*new_bottom4).order() #has order 3\n",
    "\n",
    "new_bottom5=shift_bottom(n,new_bottom4)\n",
    "new_bottom5\n",
    "(top*new_bottom5).order() #order 3 \n",
    "\n",
    "\n",
    "\n",
    "\n"
   ]
  },
  {
   "cell_type": "code",
   "execution_count": null,
   "metadata": {},
   "outputs": [],
   "source": [
    "n=6 \n",
    "Sn = SymmetricGroup(n)\n",
    "top= Sn('(1,2)(3,4)(5,6)')\n",
    "bottom= Sn('(1,6)(2,3)(4,5)')\n",
    "top * bottom \n",
    "(top*bottom).order() #has order 3 \n",
    "\n",
    "new_bottom= shift_bottom(n,bottom)\n",
    "new_bottom\n",
    "top * new_bottom #keeps returning an empty ()\n",
    "(top*new_bottom).order() #has order 1\n",
    "\n",
    "new_bottom2= shift_bottom(n,new_bottom)\n",
    "new_bottom2\n",
    "(top*new_bottom2).order() #has order 3\n",
    "\n",
    "new_bottom3= shift_bottom(n,new_bottom2)\n",
    "new_bottom3\n",
    "(top*new_bottom3).order() #has order 1\n",
    "\n",
    "new_bottom4= shift_bottom(n,new_bottom3)\n",
    "new_bottom4\n",
    "(top*new_bottom4).order() #has order 3 \n",
    "\n",
    "\n",
    "\n",
    "\n",
    "\n"
   ]
  },
  {
   "cell_type": "code",
   "execution_count": null,
   "metadata": {},
   "outputs": [
    {
     "ename": "NameError",
     "evalue": "name 'SymmetricGroup' is not defined",
     "output_type": "error",
     "traceback": [
      "\u001b[0;31m---------------------------------------------------------------------------\u001b[0m",
      "\u001b[0;31mNameError\u001b[0m                                 Traceback (most recent call last)",
      "Cell \u001b[0;32mIn[10], line 2\u001b[0m\n\u001b[1;32m      1\u001b[0m n\u001b[38;5;241m=\u001b[39m\u001b[38;5;241m6\u001b[39m\n\u001b[0;32m----> 2\u001b[0m Sn \u001b[38;5;241m=\u001b[39m \u001b[43mSymmetricGroup\u001b[49m(n)\n\u001b[1;32m      3\u001b[0m top \u001b[38;5;241m=\u001b[39m Sn(\u001b[38;5;124m'\u001b[39m\u001b[38;5;124m(1,2)(3,6)(4,5)\u001b[39m\u001b[38;5;124m'\u001b[39m) \n\u001b[1;32m      4\u001b[0m bottom \u001b[38;5;241m=\u001b[39m Sn(\u001b[38;5;124m'\u001b[39m\u001b[38;5;124m(1,4)(2,3)(5,6)\u001b[39m\u001b[38;5;124m'\u001b[39m)\n",
      "\u001b[0;31mNameError\u001b[0m: name 'SymmetricGroup' is not defined"
     ]
    }
   ],
   "source": [
    "n=6\n",
    "Sn = SymmetricGroup(n)\n",
    "top = Sn('(1,2)(3,6)(4,5)') \n",
    "bottom = Sn('(1,4)(2,3)(5,6)')\n",
    "top * bottom\n",
    "(top * bottom).order()\n",
    "new_bottom=shift_bottom(n,bottom)\n",
    "new_bottom\n",
    "top*new_bottom\n",
    "(top*new_bottom).order()\n",
    "\n",
    "\n",
    "\n"
   ]
  },
  {
   "cell_type": "code",
   "execution_count": null,
   "metadata": {},
   "outputs": [],
   "source": [
    "#the order flip flops here, i dont know why \n",
    "n=6\n",
    "Sn = SymmetricGroup(n)\n",
    "top = Sn('(1,2)(3,6)(4,5)') \n",
    "bottom = Sn('(1,6)(3,4)(2,5)')\n",
    "top * bottom\n",
    "(top * bottom).order() #has order 3\n",
    "\n",
    "new_bottom=shift_bottom(n,bottom)\n",
    "new_bottom \n",
    "top*new_bottom #idk why this wont reurn a perk\n",
    "(top*new_bottom).order() #has order 1\n",
    "\n",
    "new_bottom2= shift_bottom(n,new_bottom)\n",
    "(top*new_bottom2).order() #has order 3 now \n",
    "\n",
    "new_bottom3= shift_bottom(n,new_bottom2)\n",
    "new_bottom3\n",
    "(top*new_bottom3).order() #has order 3\n",
    "\n",
    "new_bottom4=shift_bottom(n,new_bottom3)\n",
    "new_bottom4\n",
    "(top*new_bottom4).order() #has order 1\n",
    "\n",
    "new_bottom5=shift_bottom(n,new_bottom4)\n",
    "new_bottom5\n",
    "(top*new_bottom5).order() #order 3 \n",
    "\n"
   ]
  },
  {
   "cell_type": "code",
   "execution_count": null,
   "metadata": {},
   "outputs": [
    {
     "ename": "NameError",
     "evalue": "name 'SymmetricGroup' is not defined",
     "output_type": "error",
     "traceback": [
      "\u001b[0;31m---------------------------------------------------------------------------\u001b[0m",
      "\u001b[0;31mNameError\u001b[0m                                 Traceback (most recent call last)",
      "Cell \u001b[0;32mIn[6], line 3\u001b[0m\n\u001b[1;32m      1\u001b[0m ([(\u001b[38;5;241m1\u001b[39m, \u001b[38;5;241m4\u001b[39m), (\u001b[38;5;241m3\u001b[39m, \u001b[38;5;241m2\u001b[39m), (\u001b[38;5;241m5\u001b[39m, \u001b[38;5;241m6\u001b[39m)], [(\u001b[38;5;241m1\u001b[39m, \u001b[38;5;241m6\u001b[39m), (\u001b[38;5;241m3\u001b[39m, \u001b[38;5;241m4\u001b[39m), (\u001b[38;5;241m5\u001b[39m, \u001b[38;5;241m2\u001b[39m)])\n\u001b[1;32m      2\u001b[0m n\u001b[38;5;241m=\u001b[39m\u001b[38;5;241m6\u001b[39m\n\u001b[0;32m----> 3\u001b[0m Sn \u001b[38;5;241m=\u001b[39m \u001b[43mSymmetricGroup\u001b[49m(n)\n\u001b[1;32m      4\u001b[0m top \u001b[38;5;241m=\u001b[39m Sn(\u001b[38;5;124m'\u001b[39m\u001b[38;5;124m(1,4)(2,3)(5,6)\u001b[39m\u001b[38;5;124m'\u001b[39m) \n\u001b[1;32m      5\u001b[0m bottom \u001b[38;5;241m=\u001b[39m Sn(\u001b[38;5;124m'\u001b[39m\u001b[38;5;124m(1,6)(3,4)(2,5)\u001b[39m\u001b[38;5;124m'\u001b[39m)\n",
      "\u001b[0;31mNameError\u001b[0m: name 'SymmetricGroup' is not defined"
     ]
    }
   ],
   "source": [
    "([(1, 4), (3, 2), (5, 6)], [(1, 6), (3, 4), (5, 2)])\n",
    "n=6\n",
    "Sn = SymmetricGroup(n)\n",
    "top = Sn('(1,4)(2,3)(5,6)') \n",
    "bottom = Sn('(1,6)(3,4)(2,5)')\n",
    "top * bottom\n",
    "(top * bottom).order()\n",
    "new_bottom=shift_bottom(n,bottom)\n",
    "new_bottom \n",
    "top*new_bottom #idk why this wont reurn a perk\n",
    "(top*new_bottom).order()\n",
    "new_bottom2= shift_bottom(n,new_bottom)\n",
    "\n",
    "new_bottom2\n",
    "(top*new_bottom2).order() #has order 1 now the shift is causing the dot maps to disconnect and this is now not an exmaple \n",
    "\n",
    "new_bottom3= shift_bottom(n,new_bottom2)\n",
    "new_bottom3\n",
    "(top*new_bottom3).order() #has order 3\n",
    "\n",
    "new_bottom4=shift_bottom(n,new_bottom3)\n",
    "new_bottom4\n",
    "(top*new_bottom4).order() #has order 3"
   ]
  },
  {
   "cell_type": "code",
   "execution_count": null,
   "metadata": {},
   "outputs": [],
   "source": [
    "([(1, 4), (3, 6), (5, 2)], [(1, 6), (3, 2), (5, 4)])\n",
    "#the last line of the valid perms and this example im doing the shifting \n",
    "n=6\n",
    "Sn = SymmetricGroup(n)\n",
    "top = Sn('(1,4)(3,6)(2,5)') \n",
    "bottom = Sn('(1,6)(2,3)(4,5)')\n",
    "top * bottom\n",
    "(top * bottom).order()\n",
    "new_bottom=shift_bottom(n,bottom)\n",
    "new_bottom \n",
    "top*new_bottom \n",
    "(top*new_bottom).order()\n",
    "#shifting again\n",
    "new_bottom2= shift_bottom(n,new_bottom)\n",
    "new_bottom2\n",
    "(top*new_bottom2).order()\n",
    "\n",
    "new_bottom3= shift_bottom(n,new_bottom2)\n",
    "new_bottom3\n",
    "(top*new_bottom3).order() #3rd shift order is the same \n",
    "\n",
    "new_bottom4= shift_bottom(n,new_bottom3)\n",
    "new_bottom4\n",
    "(top*new_bottom4).order() #order 3\n",
    "\n",
    "#we want that it stays consistent at order 3, in order to get through all 6 the combo needs to have order 3 \n",
    "\n"
   ]
  },
  {
   "cell_type": "code",
   "execution_count": null,
   "metadata": {},
   "outputs": [],
   "source": [
    "n=6\n",
    "Sn = SymmetricGroup(n)\n",
    "top = Sn('(1,4)(3,6)(2,5)') \n",
    "bottom = Sn('(1,6)(2,3)(4,5)')\n",
    "\n",
    "pillowcase = build_pillowcase(n, top, bottom)\n",
    "pillowcase\n",
    "\n",
    "new_bottom= shift_bottom(6,bottom)\n",
    "new_bottom\n",
    "new_pillowcase= build_pillowcase(n, top, new_bottom)\n",
    "new_pillowcase\n",
    "\n",
    "U = new_pillowcase.minimal_cover(\"translation\") \n",
    "U.stratum()\n",
    "from flatsurf import GL2ROrbitClosure\n",
    "O = GL2ROrbitClosure(U)  # optional: pyflatsurf\n",
    "O.dimension() \n",
    "\n",
    "\n",
    "\n",
    "\n",
    "\n"
   ]
  },
  {
   "cell_type": "code",
   "execution_count": null,
   "metadata": {},
   "outputs": [],
   "source": [
    "###This is the first n=8 example, the list of valid perms is way too long. WHat i need to do is create a function that takes this list of valid perms at n =8 and checks the order every time i shift the perm\n",
    "# we already defined the shifting function. i think i need to define an order function \n",
    "\n",
    "#i expect perm to be (top,bottom) where top= Sn('(1,2)(3,4)(5,6)') and bottom= Sn('(1,4)(3,6)(2,5)')\n",
    "def permutation_order(n,perm):\n",
    "    (top,bottom) = perm\n",
    "    # print(top)\n",
    "    # print(bottom)\n",
    "    before_shift= (top*bottom).order()\n",
    "    # print(before_shift)\n",
    "\n",
    "    old_bottom = bottom\n",
    "    for i in range(n): #this will make the for loop happen n times even tho were not using i\n",
    "        new_bottom = shift_bottom(n, old_bottom)\n",
    "        order= (top*new_bottom).order()\n",
    "        if order==n/2:\n",
    "            old_bottom = new_bottom\n",
    "            continue\n",
    "        else:\n",
    "            return False # this is how we say NO\n",
    "    return True \n",
    "    \n",
    "def check_all_perms(n,valid_perms):\n",
    "    perm_order=[]\n",
    "    for p in valid_perms:   # p is a variab;le that represents an element of the list \"elements\"..[a,b,c] first loop=a second loop=b\n",
    "\n",
    "        if permutation_order(n,p)==True:\n",
    "            perm_order.append(p) #a dot means calling a function , p is the variable that is equaling each valid perm thats why it goes there\n",
    "        else: \n",
    "            continue \n",
    "    return perm_order #return your new list\n",
    "\n",
    "    \n",
    "\n",
    "#i need something that calculates the order after the shifts\n",
    "\n",
    "\n",
    "\n"
   ]
  },
  {
   "cell_type": "code",
   "execution_count": 32,
   "metadata": {},
   "outputs": [
    {
     "name": "stdout",
     "output_type": "stream",
     "text": [
      "[((1,2)(3,4)(5,6)(7,8)(9,10), (1,4)(2,3)(5,8)(6,9)(7,10)), ((1,2)(3,4)(5,6)(7,8)(9,10), (1,4)(2,3)(5,10)(6,7)(8,9)), ((1,2)(3,4)(5,6)(7,8)(9,10), (1,4)(2,5)(3,6)(7,10)(8,9)), ((1,2)(3,4)(5,6)(7,8)(9,10), (1,4)(2,9)(3,6)(5,8)(7,10)), ((1,2)(3,4)(5,6)(7,8)(9,10), (1,4)(2,7)(3,6)(5,10)(8,9)), ((1,2)(3,4)(5,6)(7,8)(9,10), (1,4)(2,5)(3,8)(6,9)(7,10)), ((1,2)(3,4)(5,6)(7,8)(9,10), (1,4)(2,7)(3,8)(5,10)(6,9)), ((1,2)(3,4)(5,6)(7,8)(9,10), (1,4)(2,9)(3,8)(5,10)(6,7)), ((1,2)(3,4)(5,6)(7,8)(9,10), (1,4)(2,5)(3,10)(6,7)(8,9)), ((1,2)(3,4)(5,6)(7,8)(9,10), (1,4)(2,7)(3,10)(5,8)(6,9)), ((1,2)(3,4)(5,6)(7,8)(9,10), (1,4)(2,9)(3,10)(5,8)(6,7)), ((1,2)(3,4)(5,6)(7,8)(9,10), (1,6)(2,3)(4,5)(7,10)(8,9)), ((1,2)(3,4)(5,6)(7,8)(9,10), (1,6)(2,3)(4,9)(5,8)(7,10)), ((1,2)(3,4)(5,6)(7,8)(9,10), (1,6)(2,3)(4,7)(5,10)(8,9)), ((1,2)(3,4)(5,6)(7,8)(9,10), (1,6)(2,5)(3,8)(4,9)(7,10)), ((1,2)(3,4)(5,6)(7,8)(9,10), (1,6)(2,9)(3,8)(4,5)(7,10)), ((1,2)(3,4)(5,6)(7,8)(9,10), (1,6)(2,7)(3,8)(4,9)(5,10)), ((1,2)(3,4)(5,6)(7,8)(9,10), (1,6)(2,9)(3,8)(4,7)(5,10)), ((1,2)(3,4)(5,6)(7,8)(9,10), (1,6)(2,5)(3,10)(4,7)(8,9)), ((1,2)(3,4)(5,6)(7,8)(9,10), (1,6)(2,7)(3,10)(4,5)(8,9)), ((1,2)(3,4)(5,6)(7,8)(9,10), (1,6)(2,7)(3,10)(4,9)(5,8)), ((1,2)(3,4)(5,6)(7,8)(9,10), (1,6)(2,9)(3,10)(4,7)(5,8)), ((1,2)(3,4)(5,6)(7,8)(9,10), (1,8)(2,3)(4,5)(6,9)(7,10)), ((1,2)(3,4)(5,6)(7,8)(9,10), (1,8)(2,3)(4,7)(5,10)(6,9)), ((1,2)(3,4)(5,6)(7,8)(9,10), (1,8)(2,3)(4,9)(5,10)(6,7)), ((1,2)(3,4)(5,6)(7,8)(9,10), (1,8)(2,5)(3,6)(4,9)(7,10)), ((1,2)(3,4)(5,6)(7,8)(9,10), (1,8)(2,9)(3,6)(4,5)(7,10)), ((1,2)(3,4)(5,6)(7,8)(9,10), (1,8)(2,7)(3,6)(4,9)(5,10)), ((1,2)(3,4)(5,6)(7,8)(9,10), (1,8)(2,9)(3,6)(4,7)(5,10)), ((1,2)(3,4)(5,6)(7,8)(9,10), (1,8)(2,5)(3,10)(4,7)(6,9)), ((1,2)(3,4)(5,6)(7,8)(9,10), (1,8)(2,5)(3,10)(4,9)(6,7)), ((1,2)(3,4)(5,6)(7,8)(9,10), (1,8)(2,7)(3,10)(4,5)(6,9)), ((1,2)(3,4)(5,6)(7,8)(9,10), (1,8)(2,9)(3,10)(4,5)(6,7)), ((1,2)(3,4)(5,6)(7,8)(9,10), (1,10)(2,3)(4,5)(6,7)(8,9)), ((1,2)(3,4)(5,6)(7,8)(9,10), (1,10)(2,3)(4,7)(5,8)(6,9)), ((1,2)(3,4)(5,6)(7,8)(9,10), (1,10)(2,3)(4,9)(5,8)(6,7)), ((1,2)(3,4)(5,6)(7,8)(9,10), (1,10)(2,5)(3,6)(4,7)(8,9)), ((1,2)(3,4)(5,6)(7,8)(9,10), (1,10)(2,7)(3,6)(4,5)(8,9)), ((1,2)(3,4)(5,6)(7,8)(9,10), (1,10)(2,7)(3,6)(4,9)(5,8)), ((1,2)(3,4)(5,6)(7,8)(9,10), (1,10)(2,9)(3,6)(4,7)(5,8)), ((1,2)(3,4)(5,6)(7,8)(9,10), (1,10)(2,5)(3,8)(4,7)(6,9)), ((1,2)(3,4)(5,6)(7,8)(9,10), (1,10)(2,5)(3,8)(4,9)(6,7)), ((1,2)(3,4)(5,6)(7,8)(9,10), (1,10)(2,7)(3,8)(4,5)(6,9)), ((1,2)(3,4)(5,6)(7,8)(9,10), (1,10)(2,9)(3,8)(4,5)(6,7)), ((1,2)(3,4)(5,6)(7,10)(8,9), (1,4)(2,3)(5,8)(6,7)(9,10)), ((1,2)(3,4)(5,6)(7,10)(8,9), (1,4)(2,3)(5,10)(6,9)(7,8)), ((1,2)(3,4)(5,6)(7,10)(8,9), (1,4)(2,5)(3,6)(7,8)(9,10)), ((1,2)(3,4)(5,6)(7,10)(8,9), (1,4)(2,7)(3,6)(5,8)(9,10)), ((1,2)(3,4)(5,6)(7,10)(8,9), (1,4)(2,9)(3,6)(5,10)(7,8)), ((1,2)(3,4)(5,6)(7,10)(8,9), (1,4)(2,5)(3,8)(6,7)(9,10)), ((1,2)(3,4)(5,6)(7,10)(8,9), (1,4)(2,7)(3,8)(5,10)(6,9)), ((1,2)(3,4)(5,6)(7,10)(8,9), (1,4)(2,9)(3,8)(5,10)(6,7)), ((1,2)(3,4)(5,6)(7,10)(8,9), (1,4)(2,5)(3,10)(6,9)(7,8)), ((1,2)(3,4)(5,6)(7,10)(8,9), (1,4)(2,7)(3,10)(5,8)(6,9)), ((1,2)(3,4)(5,6)(7,10)(8,9), (1,4)(2,9)(3,10)(5,8)(6,7)), ((1,2)(3,4)(5,6)(7,10)(8,9), (1,6)(2,3)(4,5)(7,8)(9,10)), ((1,2)(3,4)(5,6)(7,10)(8,9), (1,6)(2,3)(4,7)(5,8)(9,10)), ((1,2)(3,4)(5,6)(7,10)(8,9), (1,6)(2,3)(4,9)(5,10)(7,8)), ((1,2)(3,4)(5,6)(7,10)(8,9), (1,6)(2,5)(3,8)(4,7)(9,10)), ((1,2)(3,4)(5,6)(7,10)(8,9), (1,6)(2,7)(3,8)(4,5)(9,10)), ((1,2)(3,4)(5,6)(7,10)(8,9), (1,6)(2,7)(3,8)(4,9)(5,10)), ((1,2)(3,4)(5,6)(7,10)(8,9), (1,6)(2,9)(3,8)(4,7)(5,10)), ((1,2)(3,4)(5,6)(7,10)(8,9), (1,6)(2,5)(3,10)(4,9)(7,8)), ((1,2)(3,4)(5,6)(7,10)(8,9), (1,6)(2,9)(3,10)(4,5)(7,8)), ((1,2)(3,4)(5,6)(7,10)(8,9), (1,6)(2,7)(3,10)(4,9)(5,8)), ((1,2)(3,4)(5,6)(7,10)(8,9), (1,6)(2,9)(3,10)(4,7)(5,8)), ((1,2)(3,4)(5,6)(7,10)(8,9), (1,8)(2,3)(4,5)(6,7)(9,10)), ((1,2)(3,4)(5,6)(7,10)(8,9), (1,8)(2,3)(4,7)(5,10)(6,9)), ((1,2)(3,4)(5,6)(7,10)(8,9), (1,8)(2,3)(4,9)(5,10)(6,7)), ((1,2)(3,4)(5,6)(7,10)(8,9), (1,8)(2,5)(3,6)(4,7)(9,10)), ((1,2)(3,4)(5,6)(7,10)(8,9), (1,8)(2,7)(3,6)(4,5)(9,10)), ((1,2)(3,4)(5,6)(7,10)(8,9), (1,8)(2,7)(3,6)(4,9)(5,10)), ((1,2)(3,4)(5,6)(7,10)(8,9), (1,8)(2,9)(3,6)(4,7)(5,10)), ((1,2)(3,4)(5,6)(7,10)(8,9), (1,8)(2,5)(3,10)(4,7)(6,9)), ((1,2)(3,4)(5,6)(7,10)(8,9), (1,8)(2,5)(3,10)(4,9)(6,7)), ((1,2)(3,4)(5,6)(7,10)(8,9), (1,8)(2,7)(3,10)(4,5)(6,9)), ((1,2)(3,4)(5,6)(7,10)(8,9), (1,8)(2,9)(3,10)(4,5)(6,7)), ((1,2)(3,4)(5,6)(7,10)(8,9), (1,10)(2,3)(4,5)(6,9)(7,8)), ((1,2)(3,4)(5,6)(7,10)(8,9), (1,10)(2,3)(4,7)(5,8)(6,9)), ((1,2)(3,4)(5,6)(7,10)(8,9), (1,10)(2,3)(4,9)(5,8)(6,7)), ((1,2)(3,4)(5,6)(7,10)(8,9), (1,10)(2,5)(3,6)(4,9)(7,8)), ((1,2)(3,4)(5,6)(7,10)(8,9), (1,10)(2,9)(3,6)(4,5)(7,8)), ((1,2)(3,4)(5,6)(7,10)(8,9), (1,10)(2,7)(3,6)(4,9)(5,8)), ((1,2)(3,4)(5,6)(7,10)(8,9), (1,10)(2,9)(3,6)(4,7)(5,8)), ((1,2)(3,4)(5,6)(7,10)(8,9), (1,10)(2,5)(3,8)(4,7)(6,9)), ((1,2)(3,4)(5,6)(7,10)(8,9), (1,10)(2,5)(3,8)(4,9)(6,7)), ((1,2)(3,4)(5,6)(7,10)(8,9), (1,10)(2,7)(3,8)(4,5)(6,9)), ((1,2)(3,4)(5,6)(7,10)(8,9), (1,10)(2,9)(3,8)(4,5)(6,7)), ((1,2)(3,4)(5,8)(6,7)(9,10), (1,4)(2,3)(5,6)(7,10)(8,9)), ((1,2)(3,4)(5,8)(6,7)(9,10), (1,4)(2,3)(5,10)(6,9)(7,8)), ((1,2)(3,4)(5,8)(6,7)(9,10), (1,4)(2,5)(3,6)(7,10)(8,9)), ((1,2)(3,4)(5,8)(6,7)(9,10), (1,4)(2,7)(3,6)(5,10)(8,9)), ((1,2)(3,4)(5,8)(6,7)(9,10), (1,4)(2,9)(3,6)(5,10)(7,8)), ((1,2)(3,4)(5,8)(6,7)(9,10), (1,4)(2,5)(3,8)(6,9)(7,10)), ((1,2)(3,4)(5,8)(6,7)(9,10), (1,4)(2,9)(3,8)(5,6)(7,10)), ((1,2)(3,4)(5,8)(6,7)(9,10), (1,4)(2,7)(3,8)(5,10)(6,9)), ((1,2)(3,4)(5,8)(6,7)(9,10), (1,4)(2,5)(3,10)(6,9)(7,8)), ((1,2)(3,4)(5,8)(6,7)(9,10), (1,4)(2,7)(3,10)(5,6)(8,9)), ((1,2)(3,4)(5,8)(6,7)(9,10), (1,4)(2,9)(3,10)(5,6)(7,8)), ((1,2)(3,4)(5,8)(6,7)(9,10), (1,6)(2,3)(4,5)(7,10)(8,9)), ((1,2)(3,4)(5,8)(6,7)(9,10), (1,6)(2,3)(4,7)(5,10)(8,9)), ((1,2)(3,4)(5,8)(6,7)(9,10), (1,6)(2,3)(4,9)(5,10)(7,8)), ((1,2)(3,4)(5,8)(6,7)(9,10), (1,6)(2,5)(3,8)(4,9)(7,10)), ((1,2)(3,4)(5,8)(6,7)(9,10), (1,6)(2,9)(3,8)(4,5)(7,10)), ((1,2)(3,4)(5,8)(6,7)(9,10), (1,6)(2,7)(3,8)(4,9)(5,10)), ((1,2)(3,4)(5,8)(6,7)(9,10), (1,6)(2,9)(3,8)(4,7)(5,10)), ((1,2)(3,4)(5,8)(6,7)(9,10), (1,6)(2,5)(3,10)(4,7)(8,9)), ((1,2)(3,4)(5,8)(6,7)(9,10), (1,6)(2,5)(3,10)(4,9)(7,8)), ((1,2)(3,4)(5,8)(6,7)(9,10), (1,6)(2,7)(3,10)(4,5)(8,9)), ((1,2)(3,4)(5,8)(6,7)(9,10), (1,6)(2,9)(3,10)(4,5)(7,8)), ((1,2)(3,4)(5,8)(6,7)(9,10), (1,8)(2,3)(4,5)(6,9)(7,10)), ((1,2)(3,4)(5,8)(6,7)(9,10), (1,8)(2,3)(4,9)(5,6)(7,10)), ((1,2)(3,4)(5,8)(6,7)(9,10), (1,8)(2,3)(4,7)(5,10)(6,9)), ((1,2)(3,4)(5,8)(6,7)(9,10), (1,8)(2,5)(3,6)(4,9)(7,10)), ((1,2)(3,4)(5,8)(6,7)(9,10), (1,8)(2,9)(3,6)(4,5)(7,10)), ((1,2)(3,4)(5,8)(6,7)(9,10), (1,8)(2,7)(3,6)(4,9)(5,10)), ((1,2)(3,4)(5,8)(6,7)(9,10), (1,8)(2,9)(3,6)(4,7)(5,10)), ((1,2)(3,4)(5,8)(6,7)(9,10), (1,8)(2,5)(3,10)(4,7)(6,9)), ((1,2)(3,4)(5,8)(6,7)(9,10), (1,8)(2,7)(3,10)(4,5)(6,9)), ((1,2)(3,4)(5,8)(6,7)(9,10), (1,8)(2,7)(3,10)(4,9)(5,6)), ((1,2)(3,4)(5,8)(6,7)(9,10), (1,8)(2,9)(3,10)(4,7)(5,6)), ((1,2)(3,4)(5,8)(6,7)(9,10), (1,10)(2,3)(4,5)(6,9)(7,8)), ((1,2)(3,4)(5,8)(6,7)(9,10), (1,10)(2,3)(4,7)(5,6)(8,9)), ((1,2)(3,4)(5,8)(6,7)(9,10), (1,10)(2,3)(4,9)(5,6)(7,8)), ((1,2)(3,4)(5,8)(6,7)(9,10), (1,10)(2,5)(3,6)(4,7)(8,9)), ((1,2)(3,4)(5,8)(6,7)(9,10), (1,10)(2,5)(3,6)(4,9)(7,8)), ((1,2)(3,4)(5,8)(6,7)(9,10), (1,10)(2,7)(3,6)(4,5)(8,9)), ((1,2)(3,4)(5,8)(6,7)(9,10), (1,10)(2,9)(3,6)(4,5)(7,8)), ((1,2)(3,4)(5,8)(6,7)(9,10), (1,10)(2,5)(3,8)(4,7)(6,9)), ((1,2)(3,4)(5,8)(6,7)(9,10), (1,10)(2,7)(3,8)(4,5)(6,9)), ((1,2)(3,4)(5,8)(6,7)(9,10), (1,10)(2,7)(3,8)(4,9)(5,6)), ((1,2)(3,4)(5,8)(6,7)(9,10), (1,10)(2,9)(3,8)(4,7)(5,6)), ((1,2)(3,4)(5,8)(6,9)(7,10), (1,4)(2,3)(5,6)(7,8)(9,10)), ((1,2)(3,4)(5,8)(6,9)(7,10), (1,4)(2,3)(5,10)(6,7)(8,9)), ((1,2)(3,4)(5,8)(6,9)(7,10), (1,4)(2,5)(3,6)(7,8)(9,10)), ((1,2)(3,4)(5,8)(6,9)(7,10), (1,4)(2,7)(3,6)(5,10)(8,9)), ((1,2)(3,4)(5,8)(6,9)(7,10), (1,4)(2,9)(3,6)(5,10)(7,8)), ((1,2)(3,4)(5,8)(6,9)(7,10), (1,4)(2,5)(3,8)(6,7)(9,10)), ((1,2)(3,4)(5,8)(6,9)(7,10), (1,4)(2,7)(3,8)(5,6)(9,10)), ((1,2)(3,4)(5,8)(6,9)(7,10), (1,4)(2,9)(3,8)(5,10)(6,7)), ((1,2)(3,4)(5,8)(6,9)(7,10), (1,4)(2,5)(3,10)(6,7)(8,9)), ((1,2)(3,4)(5,8)(6,9)(7,10), (1,4)(2,7)(3,10)(5,6)(8,9)), ((1,2)(3,4)(5,8)(6,9)(7,10), (1,4)(2,9)(3,10)(5,6)(7,8)), ((1,2)(3,4)(5,8)(6,9)(7,10), (1,6)(2,3)(4,5)(7,8)(9,10)), ((1,2)(3,4)(5,8)(6,9)(7,10), (1,6)(2,3)(4,7)(5,10)(8,9)), ((1,2)(3,4)(5,8)(6,9)(7,10), (1,6)(2,3)(4,9)(5,10)(7,8)), ((1,2)(3,4)(5,8)(6,9)(7,10), (1,6)(2,5)(3,8)(4,7)(9,10)), ((1,2)(3,4)(5,8)(6,9)(7,10), (1,6)(2,7)(3,8)(4,5)(9,10)), ((1,2)(3,4)(5,8)(6,9)(7,10), (1,6)(2,7)(3,8)(4,9)(5,10)), ((1,2)(3,4)(5,8)(6,9)(7,10), (1,6)(2,9)(3,8)(4,7)(5,10)), ((1,2)(3,4)(5,8)(6,9)(7,10), (1,6)(2,5)(3,10)(4,7)(8,9)), ((1,2)(3,4)(5,8)(6,9)(7,10), (1,6)(2,5)(3,10)(4,9)(7,8)), ((1,2)(3,4)(5,8)(6,9)(7,10), (1,6)(2,7)(3,10)(4,5)(8,9)), ((1,2)(3,4)(5,8)(6,9)(7,10), (1,6)(2,9)(3,10)(4,5)(7,8)), ((1,2)(3,4)(5,8)(6,9)(7,10), (1,8)(2,3)(4,5)(6,7)(9,10)), ((1,2)(3,4)(5,8)(6,9)(7,10), (1,8)(2,3)(4,7)(5,6)(9,10)), ((1,2)(3,4)(5,8)(6,9)(7,10), (1,8)(2,3)(4,9)(5,10)(6,7)), ((1,2)(3,4)(5,8)(6,9)(7,10), (1,8)(2,5)(3,6)(4,7)(9,10)), ((1,2)(3,4)(5,8)(6,9)(7,10), (1,8)(2,7)(3,6)(4,5)(9,10)), ((1,2)(3,4)(5,8)(6,9)(7,10), (1,8)(2,7)(3,6)(4,9)(5,10)), ((1,2)(3,4)(5,8)(6,9)(7,10), (1,8)(2,9)(3,6)(4,7)(5,10)), ((1,2)(3,4)(5,8)(6,9)(7,10), (1,8)(2,5)(3,10)(4,9)(6,7)), ((1,2)(3,4)(5,8)(6,9)(7,10), (1,8)(2,9)(3,10)(4,5)(6,7)), ((1,2)(3,4)(5,8)(6,9)(7,10), (1,8)(2,7)(3,10)(4,9)(5,6)), ((1,2)(3,4)(5,8)(6,9)(7,10), (1,8)(2,9)(3,10)(4,7)(5,6)), ((1,2)(3,4)(5,8)(6,9)(7,10), (1,10)(2,3)(4,5)(6,7)(8,9)), ((1,2)(3,4)(5,8)(6,9)(7,10), (1,10)(2,3)(4,7)(5,6)(8,9)), ((1,2)(3,4)(5,8)(6,9)(7,10), (1,10)(2,3)(4,9)(5,6)(7,8)), ((1,2)(3,4)(5,8)(6,9)(7,10), (1,10)(2,5)(3,6)(4,7)(8,9)), ((1,2)(3,4)(5,8)(6,9)(7,10), (1,10)(2,5)(3,6)(4,9)(7,8)), ((1,2)(3,4)(5,8)(6,9)(7,10), (1,10)(2,7)(3,6)(4,5)(8,9)), ((1,2)(3,4)(5,8)(6,9)(7,10), (1,10)(2,9)(3,6)(4,5)(7,8)), ((1,2)(3,4)(5,8)(6,9)(7,10), (1,10)(2,5)(3,8)(4,9)(6,7)), ((1,2)(3,4)(5,8)(6,9)(7,10), (1,10)(2,9)(3,8)(4,5)(6,7)), ((1,2)(3,4)(5,8)(6,9)(7,10), (1,10)(2,7)(3,8)(4,9)(5,6)), ((1,2)(3,4)(5,8)(6,9)(7,10), (1,10)(2,9)(3,8)(4,7)(5,6)), ((1,2)(3,4)(5,10)(6,7)(8,9), (1,4)(2,3)(5,6)(7,8)(9,10)), ((1,2)(3,4)(5,10)(6,7)(8,9), (1,4)(2,3)(5,8)(6,9)(7,10)), ((1,2)(3,4)(5,10)(6,7)(8,9), (1,4)(2,5)(3,6)(7,8)(9,10)), ((1,2)(3,4)(5,10)(6,7)(8,9), (1,4)(2,7)(3,6)(5,8)(9,10)), ((1,2)(3,4)(5,10)(6,7)(8,9), (1,4)(2,9)(3,6)(5,8)(7,10)), ((1,2)(3,4)(5,10)(6,7)(8,9), (1,4)(2,5)(3,8)(6,9)(7,10)), ((1,2)(3,4)(5,10)(6,7)(8,9), (1,4)(2,7)(3,8)(5,6)(9,10)), ((1,2)(3,4)(5,10)(6,7)(8,9), (1,4)(2,9)(3,8)(5,6)(7,10)), ((1,2)(3,4)(5,10)(6,7)(8,9), (1,4)(2,5)(3,10)(6,9)(7,8)), ((1,2)(3,4)(5,10)(6,7)(8,9), (1,4)(2,9)(3,10)(5,6)(7,8)), ((1,2)(3,4)(5,10)(6,7)(8,9), (1,4)(2,7)(3,10)(5,8)(6,9)), ((1,2)(3,4)(5,10)(6,7)(8,9), (1,6)(2,3)(4,5)(7,8)(9,10)), ((1,2)(3,4)(5,10)(6,7)(8,9), (1,6)(2,3)(4,7)(5,8)(9,10)), ((1,2)(3,4)(5,10)(6,7)(8,9), (1,6)(2,3)(4,9)(5,8)(7,10)), ((1,2)(3,4)(5,10)(6,7)(8,9), (1,6)(2,5)(3,8)(4,7)(9,10)), ((1,2)(3,4)(5,10)(6,7)(8,9), (1,6)(2,5)(3,8)(4,9)(7,10)), ((1,2)(3,4)(5,10)(6,7)(8,9), (1,6)(2,7)(3,8)(4,5)(9,10)), ((1,2)(3,4)(5,10)(6,7)(8,9), (1,6)(2,9)(3,8)(4,5)(7,10)), ((1,2)(3,4)(5,10)(6,7)(8,9), (1,6)(2,5)(3,10)(4,9)(7,8)), ((1,2)(3,4)(5,10)(6,7)(8,9), (1,6)(2,9)(3,10)(4,5)(7,8)), ((1,2)(3,4)(5,10)(6,7)(8,9), (1,6)(2,7)(3,10)(4,9)(5,8)), ((1,2)(3,4)(5,10)(6,7)(8,9), (1,6)(2,9)(3,10)(4,7)(5,8)), ((1,2)(3,4)(5,10)(6,7)(8,9), (1,8)(2,3)(4,5)(6,9)(7,10)), ((1,2)(3,4)(5,10)(6,7)(8,9), (1,8)(2,3)(4,7)(5,6)(9,10)), ((1,2)(3,4)(5,10)(6,7)(8,9), (1,8)(2,3)(4,9)(5,6)(7,10)), ((1,2)(3,4)(5,10)(6,7)(8,9), (1,8)(2,5)(3,6)(4,7)(9,10)), ((1,2)(3,4)(5,10)(6,7)(8,9), (1,8)(2,5)(3,6)(4,9)(7,10)), ((1,2)(3,4)(5,10)(6,7)(8,9), (1,8)(2,7)(3,6)(4,5)(9,10)), ((1,2)(3,4)(5,10)(6,7)(8,9), (1,8)(2,9)(3,6)(4,5)(7,10)), ((1,2)(3,4)(5,10)(6,7)(8,9), (1,8)(2,5)(3,10)(4,7)(6,9)), ((1,2)(3,4)(5,10)(6,7)(8,9), (1,8)(2,7)(3,10)(4,5)(6,9)), ((1,2)(3,4)(5,10)(6,7)(8,9), (1,8)(2,7)(3,10)(4,9)(5,6)), ((1,2)(3,4)(5,10)(6,7)(8,9), (1,8)(2,9)(3,10)(4,7)(5,6)), ((1,2)(3,4)(5,10)(6,7)(8,9), (1,10)(2,3)(4,5)(6,9)(7,8)), ((1,2)(3,4)(5,10)(6,7)(8,9), (1,10)(2,3)(4,9)(5,6)(7,8)), ((1,2)(3,4)(5,10)(6,7)(8,9), (1,10)(2,3)(4,7)(5,8)(6,9)), ((1,2)(3,4)(5,10)(6,7)(8,9), (1,10)(2,5)(3,6)(4,9)(7,8)), ((1,2)(3,4)(5,10)(6,7)(8,9), (1,10)(2,9)(3,6)(4,5)(7,8)), ((1,2)(3,4)(5,10)(6,7)(8,9), (1,10)(2,7)(3,6)(4,9)(5,8)), ((1,2)(3,4)(5,10)(6,7)(8,9), (1,10)(2,9)(3,6)(4,7)(5,8)), ((1,2)(3,4)(5,10)(6,7)(8,9), (1,10)(2,5)(3,8)(4,7)(6,9)), ((1,2)(3,4)(5,10)(6,7)(8,9), (1,10)(2,7)(3,8)(4,5)(6,9)), ((1,2)(3,4)(5,10)(6,7)(8,9), (1,10)(2,7)(3,8)(4,9)(5,6)), ((1,2)(3,4)(5,10)(6,7)(8,9), (1,10)(2,9)(3,8)(4,7)(5,6)), ((1,2)(3,4)(5,10)(6,9)(7,8), (1,4)(2,3)(5,6)(7,10)(8,9)), ((1,2)(3,4)(5,10)(6,9)(7,8), (1,4)(2,3)(5,8)(6,7)(9,10)), ((1,2)(3,4)(5,10)(6,9)(7,8), (1,4)(2,5)(3,6)(7,10)(8,9)), ((1,2)(3,4)(5,10)(6,9)(7,8), (1,4)(2,7)(3,6)(5,8)(9,10)), ((1,2)(3,4)(5,10)(6,9)(7,8), (1,4)(2,9)(3,6)(5,8)(7,10)), ((1,2)(3,4)(5,10)(6,9)(7,8), (1,4)(2,5)(3,8)(6,7)(9,10)), ((1,2)(3,4)(5,10)(6,9)(7,8), (1,4)(2,7)(3,8)(5,6)(9,10)), ((1,2)(3,4)(5,10)(6,9)(7,8), (1,4)(2,9)(3,8)(5,6)(7,10)), ((1,2)(3,4)(5,10)(6,9)(7,8), (1,4)(2,5)(3,10)(6,7)(8,9)), ((1,2)(3,4)(5,10)(6,9)(7,8), (1,4)(2,7)(3,10)(5,6)(8,9)), ((1,2)(3,4)(5,10)(6,9)(7,8), (1,4)(2,9)(3,10)(5,8)(6,7)), ((1,2)(3,4)(5,10)(6,9)(7,8), (1,6)(2,3)(4,5)(7,10)(8,9)), ((1,2)(3,4)(5,10)(6,9)(7,8), (1,6)(2,3)(4,7)(5,8)(9,10)), ((1,2)(3,4)(5,10)(6,9)(7,8), (1,6)(2,3)(4,9)(5,8)(7,10)), ((1,2)(3,4)(5,10)(6,9)(7,8), (1,6)(2,5)(3,8)(4,7)(9,10)), ((1,2)(3,4)(5,10)(6,9)(7,8), (1,6)(2,5)(3,8)(4,9)(7,10)), ((1,2)(3,4)(5,10)(6,9)(7,8), (1,6)(2,7)(3,8)(4,5)(9,10)), ((1,2)(3,4)(5,10)(6,9)(7,8), (1,6)(2,9)(3,8)(4,5)(7,10)), ((1,2)(3,4)(5,10)(6,9)(7,8), (1,6)(2,5)(3,10)(4,7)(8,9)), ((1,2)(3,4)(5,10)(6,9)(7,8), (1,6)(2,7)(3,10)(4,5)(8,9)), ((1,2)(3,4)(5,10)(6,9)(7,8), (1,6)(2,7)(3,10)(4,9)(5,8)), ((1,2)(3,4)(5,10)(6,9)(7,8), (1,6)(2,9)(3,10)(4,7)(5,8)), ((1,2)(3,4)(5,10)(6,9)(7,8), (1,8)(2,3)(4,5)(6,7)(9,10)), ((1,2)(3,4)(5,10)(6,9)(7,8), (1,8)(2,3)(4,7)(5,6)(9,10)), ((1,2)(3,4)(5,10)(6,9)(7,8), (1,8)(2,3)(4,9)(5,6)(7,10)), ((1,2)(3,4)(5,10)(6,9)(7,8), (1,8)(2,5)(3,6)(4,7)(9,10)), ((1,2)(3,4)(5,10)(6,9)(7,8), (1,8)(2,5)(3,6)(4,9)(7,10)), ((1,2)(3,4)(5,10)(6,9)(7,8), (1,8)(2,7)(3,6)(4,5)(9,10)), ((1,2)(3,4)(5,10)(6,9)(7,8), (1,8)(2,9)(3,6)(4,5)(7,10)), ((1,2)(3,4)(5,10)(6,9)(7,8), (1,8)(2,5)(3,10)(4,9)(6,7)), ((1,2)(3,4)(5,10)(6,9)(7,8), (1,8)(2,9)(3,10)(4,5)(6,7)), ((1,2)(3,4)(5,10)(6,9)(7,8), (1,8)(2,7)(3,10)(4,9)(5,6)), ((1,2)(3,4)(5,10)(6,9)(7,8), (1,8)(2,9)(3,10)(4,7)(5,6)), ((1,2)(3,4)(5,10)(6,9)(7,8), (1,10)(2,3)(4,5)(6,7)(8,9)), ((1,2)(3,4)(5,10)(6,9)(7,8), (1,10)(2,3)(4,7)(5,6)(8,9)), ((1,2)(3,4)(5,10)(6,9)(7,8), (1,10)(2,3)(4,9)(5,8)(6,7)), ((1,2)(3,4)(5,10)(6,9)(7,8), (1,10)(2,5)(3,6)(4,7)(8,9)), ((1,2)(3,4)(5,10)(6,9)(7,8), (1,10)(2,7)(3,6)(4,5)(8,9)), ((1,2)(3,4)(5,10)(6,9)(7,8), (1,10)(2,7)(3,6)(4,9)(5,8)), ((1,2)(3,4)(5,10)(6,9)(7,8), (1,10)(2,9)(3,6)(4,7)(5,8)), ((1,2)(3,4)(5,10)(6,9)(7,8), (1,10)(2,5)(3,8)(4,9)(6,7)), ((1,2)(3,4)(5,10)(6,9)(7,8), (1,10)(2,9)(3,8)(4,5)(6,7)), ((1,2)(3,4)(5,10)(6,9)(7,8), (1,10)(2,7)(3,8)(4,9)(5,6)), ((1,2)(3,4)(5,10)(6,9)(7,8), (1,10)(2,9)(3,8)(4,7)(5,6)), ((1,2)(3,6)(4,5)(7,8)(9,10), (1,4)(2,3)(5,6)(7,10)(8,9)), ((1,2)(3,6)(4,5)(7,8)(9,10), (1,4)(2,3)(5,8)(6,9)(7,10)), ((1,2)(3,6)(4,5)(7,8)(9,10), (1,4)(2,3)(5,10)(6,7)(8,9)), ((1,2)(3,6)(4,5)(7,8)(9,10), (1,4)(2,5)(3,8)(6,9)(7,10)), ((1,2)(3,6)(4,5)(7,8)(9,10), (1,4)(2,9)(3,8)(5,6)(7,10)), ((1,2)(3,6)(4,5)(7,8)(9,10), (1,4)(2,7)(3,8)(5,10)(6,9)), ((1,2)(3,6)(4,5)(7,8)(9,10), (1,4)(2,9)(3,8)(5,10)(6,7)), ((1,2)(3,6)(4,5)(7,8)(9,10), (1,4)(2,5)(3,10)(6,7)(8,9)), ((1,2)(3,6)(4,5)(7,8)(9,10), (1,4)(2,7)(3,10)(5,6)(8,9)), ((1,2)(3,6)(4,5)(7,8)(9,10), (1,4)(2,7)(3,10)(5,8)(6,9)), ((1,2)(3,6)(4,5)(7,8)(9,10), (1,4)(2,9)(3,10)(5,8)(6,7)), ((1,2)(3,6)(4,5)(7,8)(9,10), (1,6)(2,3)(4,9)(5,8)(7,10)), ((1,2)(3,6)(4,5)(7,8)(9,10), (1,6)(2,3)(4,7)(5,10)(8,9)), ((1,2)(3,6)(4,5)(7,8)(9,10), (1,6)(2,5)(3,4)(7,10)(8,9)), ((1,2)(3,6)(4,5)(7,8)(9,10), (1,6)(2,9)(3,4)(5,8)(7,10)), ((1,2)(3,6)(4,5)(7,8)(9,10), (1,6)(2,7)(3,4)(5,10)(8,9)), ((1,2)(3,6)(4,5)(7,8)(9,10), (1,6)(2,5)(3,8)(4,9)(7,10)), ((1,2)(3,6)(4,5)(7,8)(9,10), (1,6)(2,7)(3,8)(4,9)(5,10)), ((1,2)(3,6)(4,5)(7,8)(9,10), (1,6)(2,9)(3,8)(4,7)(5,10)), ((1,2)(3,6)(4,5)(7,8)(9,10), (1,6)(2,5)(3,10)(4,7)(8,9)), ((1,2)(3,6)(4,5)(7,8)(9,10), (1,6)(2,7)(3,10)(4,9)(5,8)), ((1,2)(3,6)(4,5)(7,8)(9,10), (1,6)(2,9)(3,10)(4,7)(5,8)), ((1,2)(3,6)(4,5)(7,8)(9,10), (1,8)(2,3)(4,9)(5,6)(7,10)), ((1,2)(3,6)(4,5)(7,8)(9,10), (1,8)(2,3)(4,7)(5,10)(6,9)), ((1,2)(3,6)(4,5)(7,8)(9,10), (1,8)(2,3)(4,9)(5,10)(6,7)), ((1,2)(3,6)(4,5)(7,8)(9,10), (1,8)(2,5)(3,4)(6,9)(7,10)), ((1,2)(3,6)(4,5)(7,8)(9,10), (1,8)(2,9)(3,4)(5,6)(7,10)), ((1,2)(3,6)(4,5)(7,8)(9,10), (1,8)(2,7)(3,4)(5,10)(6,9)), ((1,2)(3,6)(4,5)(7,8)(9,10), (1,8)(2,9)(3,4)(5,10)(6,7)), ((1,2)(3,6)(4,5)(7,8)(9,10), (1,8)(2,5)(3,10)(4,7)(6,9)), ((1,2)(3,6)(4,5)(7,8)(9,10), (1,8)(2,5)(3,10)(4,9)(6,7)), ((1,2)(3,6)(4,5)(7,8)(9,10), (1,8)(2,7)(3,10)(4,9)(5,6)), ((1,2)(3,6)(4,5)(7,8)(9,10), (1,8)(2,9)(3,10)(4,7)(5,6)), ((1,2)(3,6)(4,5)(7,8)(9,10), (1,10)(2,3)(4,7)(5,6)(8,9)), ((1,2)(3,6)(4,5)(7,8)(9,10), (1,10)(2,3)(4,7)(5,8)(6,9)), ((1,2)(3,6)(4,5)(7,8)(9,10), (1,10)(2,3)(4,9)(5,8)(6,7)), ((1,2)(3,6)(4,5)(7,8)(9,10), (1,10)(2,5)(3,4)(6,7)(8,9)), ((1,2)(3,6)(4,5)(7,8)(9,10), (1,10)(2,7)(3,4)(5,6)(8,9)), ((1,2)(3,6)(4,5)(7,8)(9,10), (1,10)(2,7)(3,4)(5,8)(6,9)), ((1,2)(3,6)(4,5)(7,8)(9,10), (1,10)(2,9)(3,4)(5,8)(6,7)), ((1,2)(3,6)(4,5)(7,8)(9,10), (1,10)(2,5)(3,8)(4,7)(6,9)), ((1,2)(3,6)(4,5)(7,8)(9,10), (1,10)(2,5)(3,8)(4,9)(6,7)), ((1,2)(3,6)(4,5)(7,8)(9,10), (1,10)(2,7)(3,8)(4,9)(5,6)), ((1,2)(3,6)(4,5)(7,8)(9,10), (1,10)(2,9)(3,8)(4,7)(5,6)), ((1,2)(3,6)(4,5)(7,10)(8,9), (1,4)(2,3)(5,6)(7,8)(9,10)), ((1,2)(3,6)(4,5)(7,10)(8,9), (1,4)(2,3)(5,8)(6,7)(9,10)), ((1,2)(3,6)(4,5)(7,10)(8,9), (1,4)(2,3)(5,10)(6,9)(7,8)), ((1,2)(3,6)(4,5)(7,10)(8,9), (1,4)(2,5)(3,8)(6,7)(9,10)), ((1,2)(3,6)(4,5)(7,10)(8,9), (1,4)(2,7)(3,8)(5,6)(9,10)), ((1,2)(3,6)(4,5)(7,10)(8,9), (1,4)(2,7)(3,8)(5,10)(6,9)), ((1,2)(3,6)(4,5)(7,10)(8,9), (1,4)(2,9)(3,8)(5,10)(6,7)), ((1,2)(3,6)(4,5)(7,10)(8,9), (1,4)(2,5)(3,10)(6,9)(7,8)), ((1,2)(3,6)(4,5)(7,10)(8,9), (1,4)(2,9)(3,10)(5,6)(7,8)), ((1,2)(3,6)(4,5)(7,10)(8,9), (1,4)(2,7)(3,10)(5,8)(6,9)), ((1,2)(3,6)(4,5)(7,10)(8,9), (1,4)(2,9)(3,10)(5,8)(6,7)), ((1,2)(3,6)(4,5)(7,10)(8,9), (1,6)(2,3)(4,7)(5,8)(9,10)), ((1,2)(3,6)(4,5)(7,10)(8,9), (1,6)(2,3)(4,9)(5,10)(7,8)), ((1,2)(3,6)(4,5)(7,10)(8,9), (1,6)(2,5)(3,4)(7,8)(9,10)), ((1,2)(3,6)(4,5)(7,10)(8,9), (1,6)(2,7)(3,4)(5,8)(9,10)), ((1,2)(3,6)(4,5)(7,10)(8,9), (1,6)(2,9)(3,4)(5,10)(7,8)), ((1,2)(3,6)(4,5)(7,10)(8,9), (1,6)(2,5)(3,8)(4,7)(9,10)), ((1,2)(3,6)(4,5)(7,10)(8,9), (1,6)(2,7)(3,8)(4,9)(5,10)), ((1,2)(3,6)(4,5)(7,10)(8,9), (1,6)(2,9)(3,8)(4,7)(5,10)), ((1,2)(3,6)(4,5)(7,10)(8,9), (1,6)(2,5)(3,10)(4,9)(7,8)), ((1,2)(3,6)(4,5)(7,10)(8,9), (1,6)(2,7)(3,10)(4,9)(5,8)), ((1,2)(3,6)(4,5)(7,10)(8,9), (1,6)(2,9)(3,10)(4,7)(5,8)), ((1,2)(3,6)(4,5)(7,10)(8,9), (1,8)(2,3)(4,7)(5,6)(9,10)), ((1,2)(3,6)(4,5)(7,10)(8,9), (1,8)(2,3)(4,7)(5,10)(6,9)), ((1,2)(3,6)(4,5)(7,10)(8,9), (1,8)(2,3)(4,9)(5,10)(6,7)), ((1,2)(3,6)(4,5)(7,10)(8,9), (1,8)(2,5)(3,4)(6,7)(9,10)), ((1,2)(3,6)(4,5)(7,10)(8,9), (1,8)(2,7)(3,4)(5,6)(9,10)), ((1,2)(3,6)(4,5)(7,10)(8,9), (1,8)(2,7)(3,4)(5,10)(6,9)), ((1,2)(3,6)(4,5)(7,10)(8,9), (1,8)(2,9)(3,4)(5,10)(6,7)), ((1,2)(3,6)(4,5)(7,10)(8,9), (1,8)(2,5)(3,10)(4,7)(6,9)), ((1,2)(3,6)(4,5)(7,10)(8,9), (1,8)(2,5)(3,10)(4,9)(6,7)), ((1,2)(3,6)(4,5)(7,10)(8,9), (1,8)(2,7)(3,10)(4,9)(5,6)), ((1,2)(3,6)(4,5)(7,10)(8,9), (1,8)(2,9)(3,10)(4,7)(5,6)), ((1,2)(3,6)(4,5)(7,10)(8,9), (1,10)(2,3)(4,9)(5,6)(7,8)), ((1,2)(3,6)(4,5)(7,10)(8,9), (1,10)(2,3)(4,7)(5,8)(6,9)), ((1,2)(3,6)(4,5)(7,10)(8,9), (1,10)(2,3)(4,9)(5,8)(6,7)), ((1,2)(3,6)(4,5)(7,10)(8,9), (1,10)(2,5)(3,4)(6,9)(7,8)), ((1,2)(3,6)(4,5)(7,10)(8,9), (1,10)(2,9)(3,4)(5,6)(7,8)), ((1,2)(3,6)(4,5)(7,10)(8,9), (1,10)(2,7)(3,4)(5,8)(6,9)), ((1,2)(3,6)(4,5)(7,10)(8,9), (1,10)(2,9)(3,4)(5,8)(6,7)), ((1,2)(3,6)(4,5)(7,10)(8,9), (1,10)(2,5)(3,8)(4,7)(6,9)), ((1,2)(3,6)(4,5)(7,10)(8,9), (1,10)(2,5)(3,8)(4,9)(6,7)), ((1,2)(3,6)(4,5)(7,10)(8,9), (1,10)(2,7)(3,8)(4,9)(5,6)), ((1,2)(3,6)(4,5)(7,10)(8,9), (1,10)(2,9)(3,8)(4,7)(5,6)), ((1,2)(3,6)(4,7)(5,8)(9,10), (1,4)(2,3)(5,6)(7,10)(8,9)), ((1,2)(3,6)(4,7)(5,8)(9,10), (1,4)(2,3)(5,10)(6,7)(8,9)), ((1,2)(3,6)(4,7)(5,8)(9,10), (1,4)(2,3)(5,10)(6,9)(7,8)), ((1,2)(3,6)(4,7)(5,8)(9,10), (1,4)(2,5)(3,8)(6,9)(7,10)), ((1,2)(3,6)(4,7)(5,8)(9,10), (1,4)(2,9)(3,8)(5,6)(7,10)), ((1,2)(3,6)(4,7)(5,8)(9,10), (1,4)(2,7)(3,8)(5,10)(6,9)), ((1,2)(3,6)(4,7)(5,8)(9,10), (1,4)(2,9)(3,8)(5,10)(6,7)), ((1,2)(3,6)(4,7)(5,8)(9,10), (1,4)(2,5)(3,10)(6,7)(8,9)), ((1,2)(3,6)(4,7)(5,8)(9,10), (1,4)(2,5)(3,10)(6,9)(7,8)), ((1,2)(3,6)(4,7)(5,8)(9,10), (1,4)(2,7)(3,10)(5,6)(8,9)), ((1,2)(3,6)(4,7)(5,8)(9,10), (1,4)(2,9)(3,10)(5,6)(7,8)), ((1,2)(3,6)(4,7)(5,8)(9,10), (1,6)(2,3)(4,5)(7,10)(8,9)), ((1,2)(3,6)(4,7)(5,8)(9,10), (1,6)(2,3)(4,9)(5,10)(7,8)), ((1,2)(3,6)(4,7)(5,8)(9,10), (1,6)(2,5)(3,4)(7,10)(8,9)), ((1,2)(3,6)(4,7)(5,8)(9,10), (1,6)(2,7)(3,4)(5,10)(8,9)), ((1,2)(3,6)(4,7)(5,8)(9,10), (1,6)(2,9)(3,4)(5,10)(7,8)), ((1,2)(3,6)(4,7)(5,8)(9,10), (1,6)(2,5)(3,8)(4,9)(7,10)), ((1,2)(3,6)(4,7)(5,8)(9,10), (1,6)(2,9)(3,8)(4,5)(7,10)), ((1,2)(3,6)(4,7)(5,8)(9,10), (1,6)(2,7)(3,8)(4,9)(5,10)), ((1,2)(3,6)(4,7)(5,8)(9,10), (1,6)(2,5)(3,10)(4,9)(7,8)), ((1,2)(3,6)(4,7)(5,8)(9,10), (1,6)(2,7)(3,10)(4,5)(8,9)), ((1,2)(3,6)(4,7)(5,8)(9,10), (1,6)(2,9)(3,10)(4,5)(7,8)), ((1,2)(3,6)(4,7)(5,8)(9,10), (1,8)(2,3)(4,5)(6,9)(7,10)), ((1,2)(3,6)(4,7)(5,8)(9,10), (1,8)(2,3)(4,9)(5,6)(7,10)), ((1,2)(3,6)(4,7)(5,8)(9,10), (1,8)(2,3)(4,9)(5,10)(6,7)), ((1,2)(3,6)(4,7)(5,8)(9,10), (1,8)(2,5)(3,4)(6,9)(7,10)), ((1,2)(3,6)(4,7)(5,8)(9,10), (1,8)(2,9)(3,4)(5,6)(7,10)), ((1,2)(3,6)(4,7)(5,8)(9,10), (1,8)(2,7)(3,4)(5,10)(6,9)), ((1,2)(3,6)(4,7)(5,8)(9,10), (1,8)(2,9)(3,4)(5,10)(6,7)), ((1,2)(3,6)(4,7)(5,8)(9,10), (1,8)(2,5)(3,10)(4,9)(6,7)), ((1,2)(3,6)(4,7)(5,8)(9,10), (1,8)(2,7)(3,10)(4,5)(6,9)), ((1,2)(3,6)(4,7)(5,8)(9,10), (1,8)(2,9)(3,10)(4,5)(6,7)), ((1,2)(3,6)(4,7)(5,8)(9,10), (1,8)(2,7)(3,10)(4,9)(5,6)), ((1,2)(3,6)(4,7)(5,8)(9,10), (1,10)(2,3)(4,5)(6,7)(8,9)), ((1,2)(3,6)(4,7)(5,8)(9,10), (1,10)(2,3)(4,5)(6,9)(7,8)), ((1,2)(3,6)(4,7)(5,8)(9,10), (1,10)(2,3)(4,9)(5,6)(7,8)), ((1,2)(3,6)(4,7)(5,8)(9,10), (1,10)(2,5)(3,4)(6,7)(8,9)), ((1,2)(3,6)(4,7)(5,8)(9,10), (1,10)(2,5)(3,4)(6,9)(7,8)), ((1,2)(3,6)(4,7)(5,8)(9,10), (1,10)(2,7)(3,4)(5,6)(8,9)), ((1,2)(3,6)(4,7)(5,8)(9,10), (1,10)(2,9)(3,4)(5,6)(7,8)), ((1,2)(3,6)(4,7)(5,8)(9,10), (1,10)(2,5)(3,8)(4,9)(6,7)), ((1,2)(3,6)(4,7)(5,8)(9,10), (1,10)(2,7)(3,8)(4,5)(6,9)), ((1,2)(3,6)(4,7)(5,8)(9,10), (1,10)(2,9)(3,8)(4,5)(6,7)), ((1,2)(3,6)(4,7)(5,8)(9,10), (1,10)(2,7)(3,8)(4,9)(5,6)), ((1,2)(3,6)(4,9)(5,8)(7,10), (1,4)(2,3)(5,6)(7,8)(9,10)), ((1,2)(3,6)(4,9)(5,8)(7,10), (1,4)(2,3)(5,10)(6,7)(8,9)), ((1,2)(3,6)(4,9)(5,8)(7,10), (1,4)(2,3)(5,10)(6,9)(7,8)), ((1,2)(3,6)(4,9)(5,8)(7,10), (1,4)(2,5)(3,8)(6,7)(9,10)), ((1,2)(3,6)(4,9)(5,8)(7,10), (1,4)(2,7)(3,8)(5,6)(9,10)), ((1,2)(3,6)(4,9)(5,8)(7,10), (1,4)(2,7)(3,8)(5,10)(6,9)), ((1,2)(3,6)(4,9)(5,8)(7,10), (1,4)(2,9)(3,8)(5,10)(6,7)), ((1,2)(3,6)(4,9)(5,8)(7,10), (1,4)(2,5)(3,10)(6,7)(8,9)), ((1,2)(3,6)(4,9)(5,8)(7,10), (1,4)(2,5)(3,10)(6,9)(7,8)), ((1,2)(3,6)(4,9)(5,8)(7,10), (1,4)(2,7)(3,10)(5,6)(8,9)), ((1,2)(3,6)(4,9)(5,8)(7,10), (1,4)(2,9)(3,10)(5,6)(7,8)), ((1,2)(3,6)(4,9)(5,8)(7,10), (1,6)(2,3)(4,5)(7,8)(9,10)), ((1,2)(3,6)(4,9)(5,8)(7,10), (1,6)(2,3)(4,7)(5,10)(8,9)), ((1,2)(3,6)(4,9)(5,8)(7,10), (1,6)(2,5)(3,4)(7,8)(9,10)), ((1,2)(3,6)(4,9)(5,8)(7,10), (1,6)(2,7)(3,4)(5,10)(8,9)), ((1,2)(3,6)(4,9)(5,8)(7,10), (1,6)(2,9)(3,4)(5,10)(7,8)), ((1,2)(3,6)(4,9)(5,8)(7,10), (1,6)(2,5)(3,8)(4,7)(9,10)), ((1,2)(3,6)(4,9)(5,8)(7,10), (1,6)(2,7)(3,8)(4,5)(9,10)), ((1,2)(3,6)(4,9)(5,8)(7,10), (1,6)(2,9)(3,8)(4,7)(5,10)), ((1,2)(3,6)(4,9)(5,8)(7,10), (1,6)(2,5)(3,10)(4,7)(8,9)), ((1,2)(3,6)(4,9)(5,8)(7,10), (1,6)(2,7)(3,10)(4,5)(8,9)), ((1,2)(3,6)(4,9)(5,8)(7,10), (1,6)(2,9)(3,10)(4,5)(7,8)), ((1,2)(3,6)(4,9)(5,8)(7,10), (1,8)(2,3)(4,5)(6,7)(9,10)), ((1,2)(3,6)(4,9)(5,8)(7,10), (1,8)(2,3)(4,7)(5,6)(9,10)), ((1,2)(3,6)(4,9)(5,8)(7,10), (1,8)(2,3)(4,7)(5,10)(6,9)), ((1,2)(3,6)(4,9)(5,8)(7,10), (1,8)(2,5)(3,4)(6,7)(9,10)), ((1,2)(3,6)(4,9)(5,8)(7,10), (1,8)(2,7)(3,4)(5,6)(9,10)), ((1,2)(3,6)(4,9)(5,8)(7,10), (1,8)(2,7)(3,4)(5,10)(6,9)), ((1,2)(3,6)(4,9)(5,8)(7,10), (1,8)(2,9)(3,4)(5,10)(6,7)), ((1,2)(3,6)(4,9)(5,8)(7,10), (1,8)(2,5)(3,10)(4,7)(6,9)), ((1,2)(3,6)(4,9)(5,8)(7,10), (1,8)(2,7)(3,10)(4,5)(6,9)), ((1,2)(3,6)(4,9)(5,8)(7,10), (1,8)(2,9)(3,10)(4,5)(6,7)), ((1,2)(3,6)(4,9)(5,8)(7,10), (1,8)(2,9)(3,10)(4,7)(5,6)), ((1,2)(3,6)(4,9)(5,8)(7,10), (1,10)(2,3)(4,5)(6,7)(8,9)), ((1,2)(3,6)(4,9)(5,8)(7,10), (1,10)(2,3)(4,5)(6,9)(7,8)), ((1,2)(3,6)(4,9)(5,8)(7,10), (1,10)(2,3)(4,7)(5,6)(8,9)), ((1,2)(3,6)(4,9)(5,8)(7,10), (1,10)(2,5)(3,4)(6,7)(8,9)), ((1,2)(3,6)(4,9)(5,8)(7,10), (1,10)(2,5)(3,4)(6,9)(7,8)), ((1,2)(3,6)(4,9)(5,8)(7,10), (1,10)(2,7)(3,4)(5,6)(8,9)), ((1,2)(3,6)(4,9)(5,8)(7,10), (1,10)(2,9)(3,4)(5,6)(7,8)), ((1,2)(3,6)(4,9)(5,8)(7,10), (1,10)(2,5)(3,8)(4,7)(6,9)), ((1,2)(3,6)(4,9)(5,8)(7,10), (1,10)(2,7)(3,8)(4,5)(6,9)), ((1,2)(3,6)(4,9)(5,8)(7,10), (1,10)(2,9)(3,8)(4,5)(6,7)), ((1,2)(3,6)(4,9)(5,8)(7,10), (1,10)(2,9)(3,8)(4,7)(5,6)), ((1,2)(3,6)(4,7)(5,10)(8,9), (1,4)(2,3)(5,6)(7,8)(9,10)), ((1,2)(3,6)(4,7)(5,10)(8,9), (1,4)(2,3)(5,8)(6,7)(9,10)), ((1,2)(3,6)(4,7)(5,10)(8,9), (1,4)(2,3)(5,8)(6,9)(7,10)), ((1,2)(3,6)(4,7)(5,10)(8,9), (1,4)(2,5)(3,8)(6,7)(9,10)), ((1,2)(3,6)(4,7)(5,10)(8,9), (1,4)(2,5)(3,8)(6,9)(7,10)), ((1,2)(3,6)(4,7)(5,10)(8,9), (1,4)(2,7)(3,8)(5,6)(9,10)), ((1,2)(3,6)(4,7)(5,10)(8,9), (1,4)(2,9)(3,8)(5,6)(7,10)), ((1,2)(3,6)(4,7)(5,10)(8,9), (1,4)(2,5)(3,10)(6,9)(7,8)), ((1,2)(3,6)(4,7)(5,10)(8,9), (1,4)(2,9)(3,10)(5,6)(7,8)), ((1,2)(3,6)(4,7)(5,10)(8,9), (1,4)(2,7)(3,10)(5,8)(6,9)), ((1,2)(3,6)(4,7)(5,10)(8,9), (1,4)(2,9)(3,10)(5,8)(6,7)), ((1,2)(3,6)(4,7)(5,10)(8,9), (1,6)(2,3)(4,5)(7,8)(9,10)), ((1,2)(3,6)(4,7)(5,10)(8,9), (1,6)(2,3)(4,9)(5,8)(7,10)), ((1,2)(3,6)(4,7)(5,10)(8,9), (1,6)(2,5)(3,4)(7,8)(9,10)), ((1,2)(3,6)(4,7)(5,10)(8,9), (1,6)(2,7)(3,4)(5,8)(9,10)), ((1,2)(3,6)(4,7)(5,10)(8,9), (1,6)(2,9)(3,4)(5,8)(7,10)), ((1,2)(3,6)(4,7)(5,10)(8,9), (1,6)(2,5)(3,8)(4,9)(7,10)), ((1,2)(3,6)(4,7)(5,10)(8,9), (1,6)(2,7)(3,8)(4,5)(9,10)), ((1,2)(3,6)(4,7)(5,10)(8,9), (1,6)(2,9)(3,8)(4,5)(7,10)), ((1,2)(3,6)(4,7)(5,10)(8,9), (1,6)(2,5)(3,10)(4,9)(7,8)), ((1,2)(3,6)(4,7)(5,10)(8,9), (1,6)(2,9)(3,10)(4,5)(7,8)), ((1,2)(3,6)(4,7)(5,10)(8,9), (1,6)(2,7)(3,10)(4,9)(5,8)), ((1,2)(3,6)(4,7)(5,10)(8,9), (1,8)(2,3)(4,5)(6,7)(9,10)), ((1,2)(3,6)(4,7)(5,10)(8,9), (1,8)(2,3)(4,5)(6,9)(7,10)), ((1,2)(3,6)(4,7)(5,10)(8,9), (1,8)(2,3)(4,9)(5,6)(7,10)), ((1,2)(3,6)(4,7)(5,10)(8,9), (1,8)(2,5)(3,4)(6,7)(9,10)), ((1,2)(3,6)(4,7)(5,10)(8,9), (1,8)(2,5)(3,4)(6,9)(7,10)), ((1,2)(3,6)(4,7)(5,10)(8,9), (1,8)(2,7)(3,4)(5,6)(9,10)), ((1,2)(3,6)(4,7)(5,10)(8,9), (1,8)(2,9)(3,4)(5,6)(7,10)), ((1,2)(3,6)(4,7)(5,10)(8,9), (1,8)(2,5)(3,10)(4,9)(6,7)), ((1,2)(3,6)(4,7)(5,10)(8,9), (1,8)(2,7)(3,10)(4,5)(6,9)), ((1,2)(3,6)(4,7)(5,10)(8,9), (1,8)(2,9)(3,10)(4,5)(6,7)), ((1,2)(3,6)(4,7)(5,10)(8,9), (1,8)(2,7)(3,10)(4,9)(5,6)), ((1,2)(3,6)(4,7)(5,10)(8,9), (1,10)(2,3)(4,5)(6,9)(7,8)), ((1,2)(3,6)(4,7)(5,10)(8,9), (1,10)(2,3)(4,9)(5,6)(7,8)), ((1,2)(3,6)(4,7)(5,10)(8,9), (1,10)(2,3)(4,9)(5,8)(6,7)), ((1,2)(3,6)(4,7)(5,10)(8,9), (1,10)(2,5)(3,4)(6,9)(7,8)), ((1,2)(3,6)(4,7)(5,10)(8,9), (1,10)(2,9)(3,4)(5,6)(7,8)), ((1,2)(3,6)(4,7)(5,10)(8,9), (1,10)(2,7)(3,4)(5,8)(6,9)), ((1,2)(3,6)(4,7)(5,10)(8,9), (1,10)(2,9)(3,4)(5,8)(6,7)), ((1,2)(3,6)(4,7)(5,10)(8,9), (1,10)(2,5)(3,8)(4,9)(6,7)), ((1,2)(3,6)(4,7)(5,10)(8,9), (1,10)(2,7)(3,8)(4,5)(6,9)), ((1,2)(3,6)(4,7)(5,10)(8,9), (1,10)(2,9)(3,8)(4,5)(6,7)), ((1,2)(3,6)(4,7)(5,10)(8,9), (1,10)(2,7)(3,8)(4,9)(5,6)), ((1,2)(3,6)(4,9)(5,10)(7,8), (1,4)(2,3)(5,6)(7,10)(8,9)), ((1,2)(3,6)(4,9)(5,10)(7,8), (1,4)(2,3)(5,8)(6,7)(9,10)), ((1,2)(3,6)(4,9)(5,10)(7,8), (1,4)(2,3)(5,8)(6,9)(7,10)), ((1,2)(3,6)(4,9)(5,10)(7,8), (1,4)(2,5)(3,8)(6,7)(9,10)), ((1,2)(3,6)(4,9)(5,10)(7,8), (1,4)(2,5)(3,8)(6,9)(7,10)), ((1,2)(3,6)(4,9)(5,10)(7,8), (1,4)(2,7)(3,8)(5,6)(9,10)), ((1,2)(3,6)(4,9)(5,10)(7,8), (1,4)(2,9)(3,8)(5,6)(7,10)), ((1,2)(3,6)(4,9)(5,10)(7,8), (1,4)(2,5)(3,10)(6,7)(8,9)), ((1,2)(3,6)(4,9)(5,10)(7,8), (1,4)(2,7)(3,10)(5,6)(8,9)), ((1,2)(3,6)(4,9)(5,10)(7,8), (1,4)(2,7)(3,10)(5,8)(6,9)), ((1,2)(3,6)(4,9)(5,10)(7,8), (1,4)(2,9)(3,10)(5,8)(6,7)), ((1,2)(3,6)(4,9)(5,10)(7,8), (1,6)(2,3)(4,5)(7,10)(8,9)), ((1,2)(3,6)(4,9)(5,10)(7,8), (1,6)(2,3)(4,7)(5,8)(9,10)), ((1,2)(3,6)(4,9)(5,10)(7,8), (1,6)(2,5)(3,4)(7,10)(8,9)), ((1,2)(3,6)(4,9)(5,10)(7,8), (1,6)(2,7)(3,4)(5,8)(9,10)), ((1,2)(3,6)(4,9)(5,10)(7,8), (1,6)(2,9)(3,4)(5,8)(7,10)), ((1,2)(3,6)(4,9)(5,10)(7,8), (1,6)(2,5)(3,8)(4,7)(9,10)), ((1,2)(3,6)(4,9)(5,10)(7,8), (1,6)(2,7)(3,8)(4,5)(9,10)), ((1,2)(3,6)(4,9)(5,10)(7,8), (1,6)(2,9)(3,8)(4,5)(7,10)), ((1,2)(3,6)(4,9)(5,10)(7,8), (1,6)(2,5)(3,10)(4,7)(8,9)), ((1,2)(3,6)(4,9)(5,10)(7,8), (1,6)(2,7)(3,10)(4,5)(8,9)), ((1,2)(3,6)(4,9)(5,10)(7,8), (1,6)(2,9)(3,10)(4,7)(5,8)), ((1,2)(3,6)(4,9)(5,10)(7,8), (1,8)(2,3)(4,5)(6,7)(9,10)), ((1,2)(3,6)(4,9)(5,10)(7,8), (1,8)(2,3)(4,5)(6,9)(7,10)), ((1,2)(3,6)(4,9)(5,10)(7,8), (1,8)(2,3)(4,7)(5,6)(9,10)), ((1,2)(3,6)(4,9)(5,10)(7,8), (1,8)(2,5)(3,4)(6,7)(9,10)), ((1,2)(3,6)(4,9)(5,10)(7,8), (1,8)(2,5)(3,4)(6,9)(7,10)), ((1,2)(3,6)(4,9)(5,10)(7,8), (1,8)(2,7)(3,4)(5,6)(9,10)), ((1,2)(3,6)(4,9)(5,10)(7,8), (1,8)(2,9)(3,4)(5,6)(7,10)), ((1,2)(3,6)(4,9)(5,10)(7,8), (1,8)(2,5)(3,10)(4,7)(6,9)), ((1,2)(3,6)(4,9)(5,10)(7,8), (1,8)(2,7)(3,10)(4,5)(6,9)), ((1,2)(3,6)(4,9)(5,10)(7,8), (1,8)(2,9)(3,10)(4,5)(6,7)), ((1,2)(3,6)(4,9)(5,10)(7,8), (1,8)(2,9)(3,10)(4,7)(5,6)), ((1,2)(3,6)(4,9)(5,10)(7,8), (1,10)(2,3)(4,5)(6,7)(8,9)), ((1,2)(3,6)(4,9)(5,10)(7,8), (1,10)(2,3)(4,7)(5,6)(8,9)), ((1,2)(3,6)(4,9)(5,10)(7,8), (1,10)(2,3)(4,7)(5,8)(6,9)), ((1,2)(3,6)(4,9)(5,10)(7,8), (1,10)(2,5)(3,4)(6,7)(8,9)), ((1,2)(3,6)(4,9)(5,10)(7,8), (1,10)(2,7)(3,4)(5,6)(8,9)), ((1,2)(3,6)(4,9)(5,10)(7,8), (1,10)(2,7)(3,4)(5,8)(6,9)), ((1,2)(3,6)(4,9)(5,10)(7,8), (1,10)(2,9)(3,4)(5,8)(6,7)), ((1,2)(3,6)(4,9)(5,10)(7,8), (1,10)(2,5)(3,8)(4,7)(6,9)), ((1,2)(3,6)(4,9)(5,10)(7,8), (1,10)(2,7)(3,8)(4,5)(6,9)), ((1,2)(3,6)(4,9)(5,10)(7,8), (1,10)(2,9)(3,8)(4,5)(6,7)), ((1,2)(3,6)(4,9)(5,10)(7,8), (1,10)(2,9)(3,8)(4,7)(5,6)), ((1,2)(3,8)(4,5)(6,7)(9,10), (1,4)(2,3)(5,6)(7,10)(8,9)), ((1,2)(3,8)(4,5)(6,7)(9,10), (1,4)(2,3)(5,8)(6,9)(7,10)), ((1,2)(3,8)(4,5)(6,7)(9,10), (1,4)(2,3)(5,10)(6,9)(7,8)), ((1,2)(3,8)(4,5)(6,7)(9,10), (1,4)(2,5)(3,6)(7,10)(8,9)), ((1,2)(3,8)(4,5)(6,7)(9,10), (1,4)(2,9)(3,6)(5,8)(7,10)), ((1,2)(3,8)(4,5)(6,7)(9,10), (1,4)(2,7)(3,6)(5,10)(8,9)), ((1,2)(3,8)(4,5)(6,7)(9,10), (1,4)(2,9)(3,6)(5,10)(7,8)), ((1,2)(3,8)(4,5)(6,7)(9,10), (1,4)(2,5)(3,10)(6,9)(7,8)), ((1,2)(3,8)(4,5)(6,7)(9,10), (1,4)(2,7)(3,10)(5,6)(8,9)), ((1,2)(3,8)(4,5)(6,7)(9,10), (1,4)(2,9)(3,10)(5,6)(7,8)), ((1,2)(3,8)(4,5)(6,7)(9,10), (1,4)(2,7)(3,10)(5,8)(6,9)), ((1,2)(3,8)(4,5)(6,7)(9,10), (1,6)(2,3)(4,9)(5,8)(7,10)), ((1,2)(3,8)(4,5)(6,7)(9,10), (1,6)(2,3)(4,7)(5,10)(8,9)), ((1,2)(3,8)(4,5)(6,7)(9,10), (1,6)(2,3)(4,9)(5,10)(7,8)), ((1,2)(3,8)(4,5)(6,7)(9,10), (1,6)(2,5)(3,4)(7,10)(8,9)), ((1,2)(3,8)(4,5)(6,7)(9,10), (1,6)(2,9)(3,4)(5,8)(7,10)), ((1,2)(3,8)(4,5)(6,7)(9,10), (1,6)(2,7)(3,4)(5,10)(8,9)), ((1,2)(3,8)(4,5)(6,7)(9,10), (1,6)(2,9)(3,4)(5,10)(7,8)), ((1,2)(3,8)(4,5)(6,7)(9,10), (1,6)(2,5)(3,10)(4,7)(8,9)), ((1,2)(3,8)(4,5)(6,7)(9,10), (1,6)(2,5)(3,10)(4,9)(7,8)), ((1,2)(3,8)(4,5)(6,7)(9,10), (1,6)(2,7)(3,10)(4,9)(5,8)), ((1,2)(3,8)(4,5)(6,7)(9,10), (1,6)(2,9)(3,10)(4,7)(5,8)), ((1,2)(3,8)(4,5)(6,7)(9,10), (1,8)(2,3)(4,9)(5,6)(7,10)), ((1,2)(3,8)(4,5)(6,7)(9,10), (1,8)(2,3)(4,7)(5,10)(6,9)), ((1,2)(3,8)(4,5)(6,7)(9,10), (1,8)(2,5)(3,4)(6,9)(7,10)), ((1,2)(3,8)(4,5)(6,7)(9,10), (1,8)(2,9)(3,4)(5,6)(7,10)), ((1,2)(3,8)(4,5)(6,7)(9,10), (1,8)(2,7)(3,4)(5,10)(6,9)), ((1,2)(3,8)(4,5)(6,7)(9,10), (1,8)(2,5)(3,6)(4,9)(7,10)), ((1,2)(3,8)(4,5)(6,7)(9,10), (1,8)(2,7)(3,6)(4,9)(5,10)), ((1,2)(3,8)(4,5)(6,7)(9,10), (1,8)(2,9)(3,6)(4,7)(5,10)), ((1,2)(3,8)(4,5)(6,7)(9,10), (1,8)(2,5)(3,10)(4,7)(6,9)), ((1,2)(3,8)(4,5)(6,7)(9,10), (1,8)(2,7)(3,10)(4,9)(5,6)), ((1,2)(3,8)(4,5)(6,7)(9,10), (1,8)(2,9)(3,10)(4,7)(5,6)), ((1,2)(3,8)(4,5)(6,7)(9,10), (1,10)(2,3)(4,7)(5,6)(8,9)), ((1,2)(3,8)(4,5)(6,7)(9,10), (1,10)(2,3)(4,9)(5,6)(7,8)), ((1,2)(3,8)(4,5)(6,7)(9,10), (1,10)(2,3)(4,7)(5,8)(6,9)), ((1,2)(3,8)(4,5)(6,7)(9,10), (1,10)(2,5)(3,4)(6,9)(7,8)), ((1,2)(3,8)(4,5)(6,7)(9,10), (1,10)(2,7)(3,4)(5,6)(8,9)), ((1,2)(3,8)(4,5)(6,7)(9,10), (1,10)(2,9)(3,4)(5,6)(7,8)), ((1,2)(3,8)(4,5)(6,7)(9,10), (1,10)(2,7)(3,4)(5,8)(6,9)), ((1,2)(3,8)(4,5)(6,7)(9,10), (1,10)(2,5)(3,6)(4,7)(8,9)), ((1,2)(3,8)(4,5)(6,7)(9,10), (1,10)(2,5)(3,6)(4,9)(7,8)), ((1,2)(3,8)(4,5)(6,7)(9,10), (1,10)(2,7)(3,6)(4,9)(5,8)), ((1,2)(3,8)(4,5)(6,7)(9,10), (1,10)(2,9)(3,6)(4,7)(5,8)), ((1,2)(3,8)(4,5)(6,9)(7,10), (1,4)(2,3)(5,6)(7,8)(9,10)), ((1,2)(3,8)(4,5)(6,9)(7,10), (1,4)(2,3)(5,8)(6,7)(9,10)), ((1,2)(3,8)(4,5)(6,9)(7,10), (1,4)(2,3)(5,10)(6,7)(8,9)), ((1,2)(3,8)(4,5)(6,9)(7,10), (1,4)(2,5)(3,6)(7,8)(9,10)), ((1,2)(3,8)(4,5)(6,9)(7,10), (1,4)(2,7)(3,6)(5,8)(9,10)), ((1,2)(3,8)(4,5)(6,9)(7,10), (1,4)(2,7)(3,6)(5,10)(8,9)), ((1,2)(3,8)(4,5)(6,9)(7,10), (1,4)(2,9)(3,6)(5,10)(7,8)), ((1,2)(3,8)(4,5)(6,9)(7,10), (1,4)(2,5)(3,10)(6,7)(8,9)), ((1,2)(3,8)(4,5)(6,9)(7,10), (1,4)(2,7)(3,10)(5,6)(8,9)), ((1,2)(3,8)(4,5)(6,9)(7,10), (1,4)(2,9)(3,10)(5,6)(7,8)), ((1,2)(3,8)(4,5)(6,9)(7,10), (1,4)(2,9)(3,10)(5,8)(6,7)), ((1,2)(3,8)(4,5)(6,9)(7,10), (1,6)(2,3)(4,7)(5,8)(9,10)), ((1,2)(3,8)(4,5)(6,9)(7,10), (1,6)(2,3)(4,7)(5,10)(8,9)), ((1,2)(3,8)(4,5)(6,9)(7,10), (1,6)(2,3)(4,9)(5,10)(7,8)), ((1,2)(3,8)(4,5)(6,9)(7,10), (1,6)(2,5)(3,4)(7,8)(9,10)), ((1,2)(3,8)(4,5)(6,9)(7,10), (1,6)(2,7)(3,4)(5,8)(9,10)), ((1,2)(3,8)(4,5)(6,9)(7,10), (1,6)(2,7)(3,4)(5,10)(8,9)), ((1,2)(3,8)(4,5)(6,9)(7,10), (1,6)(2,9)(3,4)(5,10)(7,8)), ((1,2)(3,8)(4,5)(6,9)(7,10), (1,6)(2,5)(3,10)(4,7)(8,9)), ((1,2)(3,8)(4,5)(6,9)(7,10), (1,6)(2,5)(3,10)(4,9)(7,8)), ((1,2)(3,8)(4,5)(6,9)(7,10), (1,6)(2,7)(3,10)(4,9)(5,8)), ((1,2)(3,8)(4,5)(6,9)(7,10), (1,6)(2,9)(3,10)(4,7)(5,8)), ((1,2)(3,8)(4,5)(6,9)(7,10), (1,8)(2,3)(4,7)(5,6)(9,10)), ((1,2)(3,8)(4,5)(6,9)(7,10), (1,8)(2,3)(4,9)(5,10)(6,7)), ((1,2)(3,8)(4,5)(6,9)(7,10), (1,8)(2,5)(3,4)(6,7)(9,10)), ((1,2)(3,8)(4,5)(6,9)(7,10), (1,8)(2,7)(3,4)(5,6)(9,10)), ((1,2)(3,8)(4,5)(6,9)(7,10), (1,8)(2,9)(3,4)(5,10)(6,7)), ((1,2)(3,8)(4,5)(6,9)(7,10), (1,8)(2,5)(3,6)(4,7)(9,10)), ((1,2)(3,8)(4,5)(6,9)(7,10), (1,8)(2,7)(3,6)(4,9)(5,10)), ((1,2)(3,8)(4,5)(6,9)(7,10), (1,8)(2,9)(3,6)(4,7)(5,10)), ((1,2)(3,8)(4,5)(6,9)(7,10), (1,8)(2,5)(3,10)(4,9)(6,7)), ((1,2)(3,8)(4,5)(6,9)(7,10), (1,8)(2,7)(3,10)(4,9)(5,6)), ((1,2)(3,8)(4,5)(6,9)(7,10), (1,8)(2,9)(3,10)(4,7)(5,6)), ((1,2)(3,8)(4,5)(6,9)(7,10), (1,10)(2,3)(4,7)(5,6)(8,9)), ((1,2)(3,8)(4,5)(6,9)(7,10), (1,10)(2,3)(4,9)(5,6)(7,8)), ((1,2)(3,8)(4,5)(6,9)(7,10), (1,10)(2,3)(4,9)(5,8)(6,7)), ((1,2)(3,8)(4,5)(6,9)(7,10), (1,10)(2,5)(3,4)(6,7)(8,9)), ((1,2)(3,8)(4,5)(6,9)(7,10), (1,10)(2,7)(3,4)(5,6)(8,9)), ((1,2)(3,8)(4,5)(6,9)(7,10), (1,10)(2,9)(3,4)(5,6)(7,8)), ((1,2)(3,8)(4,5)(6,9)(7,10), (1,10)(2,9)(3,4)(5,8)(6,7)), ((1,2)(3,8)(4,5)(6,9)(7,10), (1,10)(2,5)(3,6)(4,7)(8,9)), ((1,2)(3,8)(4,5)(6,9)(7,10), (1,10)(2,5)(3,6)(4,9)(7,8)), ((1,2)(3,8)(4,5)(6,9)(7,10), (1,10)(2,7)(3,6)(4,9)(5,8)), ((1,2)(3,8)(4,5)(6,9)(7,10), (1,10)(2,9)(3,6)(4,7)(5,8)), ((1,2)(3,8)(4,7)(5,6)(9,10), (1,4)(2,3)(5,8)(6,9)(7,10)), ((1,2)(3,8)(4,7)(5,6)(9,10), (1,4)(2,3)(5,10)(6,7)(8,9)), ((1,2)(3,8)(4,7)(5,6)(9,10), (1,4)(2,3)(5,10)(6,9)(7,8)), ((1,2)(3,8)(4,7)(5,6)(9,10), (1,4)(2,5)(3,6)(7,10)(8,9)), ((1,2)(3,8)(4,7)(5,6)(9,10), (1,4)(2,9)(3,6)(5,8)(7,10)), ((1,2)(3,8)(4,7)(5,6)(9,10), (1,4)(2,7)(3,6)(5,10)(8,9)), ((1,2)(3,8)(4,7)(5,6)(9,10), (1,4)(2,9)(3,6)(5,10)(7,8)), ((1,2)(3,8)(4,7)(5,6)(9,10), (1,4)(2,5)(3,10)(6,7)(8,9)), ((1,2)(3,8)(4,7)(5,6)(9,10), (1,4)(2,5)(3,10)(6,9)(7,8)), ((1,2)(3,8)(4,7)(5,6)(9,10), (1,4)(2,7)(3,10)(5,8)(6,9)), ((1,2)(3,8)(4,7)(5,6)(9,10), (1,4)(2,9)(3,10)(5,8)(6,7)), ((1,2)(3,8)(4,7)(5,6)(9,10), (1,6)(2,3)(4,5)(7,10)(8,9)), ((1,2)(3,8)(4,7)(5,6)(9,10), (1,6)(2,3)(4,9)(5,8)(7,10)), ((1,2)(3,8)(4,7)(5,6)(9,10), (1,6)(2,3)(4,9)(5,10)(7,8)), ((1,2)(3,8)(4,7)(5,6)(9,10), (1,6)(2,5)(3,4)(7,10)(8,9)), ((1,2)(3,8)(4,7)(5,6)(9,10), (1,6)(2,9)(3,4)(5,8)(7,10)), ((1,2)(3,8)(4,7)(5,6)(9,10), (1,6)(2,7)(3,4)(5,10)(8,9)), ((1,2)(3,8)(4,7)(5,6)(9,10), (1,6)(2,9)(3,4)(5,10)(7,8)), ((1,2)(3,8)(4,7)(5,6)(9,10), (1,6)(2,5)(3,10)(4,9)(7,8)), ((1,2)(3,8)(4,7)(5,6)(9,10), (1,6)(2,7)(3,10)(4,5)(8,9)), ((1,2)(3,8)(4,7)(5,6)(9,10), (1,6)(2,9)(3,10)(4,5)(7,8)), ((1,2)(3,8)(4,7)(5,6)(9,10), (1,6)(2,7)(3,10)(4,9)(5,8)), ((1,2)(3,8)(4,7)(5,6)(9,10), (1,8)(2,3)(4,5)(6,9)(7,10)), ((1,2)(3,8)(4,7)(5,6)(9,10), (1,8)(2,3)(4,9)(5,10)(6,7)), ((1,2)(3,8)(4,7)(5,6)(9,10), (1,8)(2,5)(3,4)(6,9)(7,10)), ((1,2)(3,8)(4,7)(5,6)(9,10), (1,8)(2,7)(3,4)(5,10)(6,9)), ((1,2)(3,8)(4,7)(5,6)(9,10), (1,8)(2,9)(3,4)(5,10)(6,7)), ((1,2)(3,8)(4,7)(5,6)(9,10), (1,8)(2,5)(3,6)(4,9)(7,10)), ((1,2)(3,8)(4,7)(5,6)(9,10), (1,8)(2,9)(3,6)(4,5)(7,10)), ((1,2)(3,8)(4,7)(5,6)(9,10), (1,8)(2,7)(3,6)(4,9)(5,10)), ((1,2)(3,8)(4,7)(5,6)(9,10), (1,8)(2,5)(3,10)(4,9)(6,7)), ((1,2)(3,8)(4,7)(5,6)(9,10), (1,8)(2,7)(3,10)(4,5)(6,9)), ((1,2)(3,8)(4,7)(5,6)(9,10), (1,8)(2,9)(3,10)(4,5)(6,7)), ((1,2)(3,8)(4,7)(5,6)(9,10), (1,10)(2,3)(4,5)(6,7)(8,9)), ((1,2)(3,8)(4,7)(5,6)(9,10), (1,10)(2,3)(4,5)(6,9)(7,8)), ((1,2)(3,8)(4,7)(5,6)(9,10), (1,10)(2,3)(4,9)(5,8)(6,7)), ((1,2)(3,8)(4,7)(5,6)(9,10), (1,10)(2,5)(3,4)(6,7)(8,9)), ((1,2)(3,8)(4,7)(5,6)(9,10), (1,10)(2,5)(3,4)(6,9)(7,8)), ((1,2)(3,8)(4,7)(5,6)(9,10), (1,10)(2,7)(3,4)(5,8)(6,9)), ((1,2)(3,8)(4,7)(5,6)(9,10), (1,10)(2,9)(3,4)(5,8)(6,7)), ((1,2)(3,8)(4,7)(5,6)(9,10), (1,10)(2,5)(3,6)(4,9)(7,8)), ((1,2)(3,8)(4,7)(5,6)(9,10), (1,10)(2,7)(3,6)(4,5)(8,9)), ((1,2)(3,8)(4,7)(5,6)(9,10), (1,10)(2,9)(3,6)(4,5)(7,8)), ((1,2)(3,8)(4,7)(5,6)(9,10), (1,10)(2,7)(3,6)(4,9)(5,8)), ((1,2)(3,8)(4,9)(5,6)(7,10), (1,4)(2,3)(5,8)(6,7)(9,10)), ((1,2)(3,8)(4,9)(5,6)(7,10), (1,4)(2,3)(5,10)(6,7)(8,9)), ((1,2)(3,8)(4,9)(5,6)(7,10), (1,4)(2,3)(5,10)(6,9)(7,8)), ((1,2)(3,8)(4,9)(5,6)(7,10), (1,4)(2,5)(3,6)(7,8)(9,10)), ((1,2)(3,8)(4,9)(5,6)(7,10), (1,4)(2,7)(3,6)(5,8)(9,10)), ((1,2)(3,8)(4,9)(5,6)(7,10), (1,4)(2,7)(3,6)(5,10)(8,9)), ((1,2)(3,8)(4,9)(5,6)(7,10), (1,4)(2,9)(3,6)(5,10)(7,8)), ((1,2)(3,8)(4,9)(5,6)(7,10), (1,4)(2,5)(3,10)(6,7)(8,9)), ((1,2)(3,8)(4,9)(5,6)(7,10), (1,4)(2,5)(3,10)(6,9)(7,8)), ((1,2)(3,8)(4,9)(5,6)(7,10), (1,4)(2,7)(3,10)(5,8)(6,9)), ((1,2)(3,8)(4,9)(5,6)(7,10), (1,4)(2,9)(3,10)(5,8)(6,7)), ((1,2)(3,8)(4,9)(5,6)(7,10), (1,6)(2,3)(4,5)(7,8)(9,10)), ((1,2)(3,8)(4,9)(5,6)(7,10), (1,6)(2,3)(4,7)(5,8)(9,10)), ((1,2)(3,8)(4,9)(5,6)(7,10), (1,6)(2,3)(4,7)(5,10)(8,9)), ((1,2)(3,8)(4,9)(5,6)(7,10), (1,6)(2,5)(3,4)(7,8)(9,10)), ((1,2)(3,8)(4,9)(5,6)(7,10), (1,6)(2,7)(3,4)(5,8)(9,10)), ((1,2)(3,8)(4,9)(5,6)(7,10), (1,6)(2,7)(3,4)(5,10)(8,9)), ((1,2)(3,8)(4,9)(5,6)(7,10), (1,6)(2,9)(3,4)(5,10)(7,8)), ((1,2)(3,8)(4,9)(5,6)(7,10), (1,6)(2,5)(3,10)(4,7)(8,9)), ((1,2)(3,8)(4,9)(5,6)(7,10), (1,6)(2,7)(3,10)(4,5)(8,9)), ((1,2)(3,8)(4,9)(5,6)(7,10), (1,6)(2,9)(3,10)(4,5)(7,8)), ((1,2)(3,8)(4,9)(5,6)(7,10), (1,6)(2,9)(3,10)(4,7)(5,8)), ((1,2)(3,8)(4,9)(5,6)(7,10), (1,8)(2,3)(4,5)(6,7)(9,10)), ((1,2)(3,8)(4,9)(5,6)(7,10), (1,8)(2,3)(4,7)(5,10)(6,9)), ((1,2)(3,8)(4,9)(5,6)(7,10), (1,8)(2,5)(3,4)(6,7)(9,10)), ((1,2)(3,8)(4,9)(5,6)(7,10), (1,8)(2,7)(3,4)(5,10)(6,9)), ((1,2)(3,8)(4,9)(5,6)(7,10), (1,8)(2,9)(3,4)(5,10)(6,7)), ((1,2)(3,8)(4,9)(5,6)(7,10), (1,8)(2,5)(3,6)(4,7)(9,10)), ((1,2)(3,8)(4,9)(5,6)(7,10), (1,8)(2,7)(3,6)(4,5)(9,10)), ((1,2)(3,8)(4,9)(5,6)(7,10), (1,8)(2,9)(3,6)(4,7)(5,10)), ((1,2)(3,8)(4,9)(5,6)(7,10), (1,8)(2,5)(3,10)(4,7)(6,9)), ((1,2)(3,8)(4,9)(5,6)(7,10), (1,8)(2,7)(3,10)(4,5)(6,9)), ((1,2)(3,8)(4,9)(5,6)(7,10), (1,8)(2,9)(3,10)(4,5)(6,7)), ((1,2)(3,8)(4,9)(5,6)(7,10), (1,10)(2,3)(4,5)(6,7)(8,9)), ((1,2)(3,8)(4,9)(5,6)(7,10), (1,10)(2,3)(4,5)(6,9)(7,8)), ((1,2)(3,8)(4,9)(5,6)(7,10), (1,10)(2,3)(4,7)(5,8)(6,9)), ((1,2)(3,8)(4,9)(5,6)(7,10), (1,10)(2,5)(3,4)(6,7)(8,9)), ((1,2)(3,8)(4,9)(5,6)(7,10), (1,10)(2,5)(3,4)(6,9)(7,8)), ((1,2)(3,8)(4,9)(5,6)(7,10), (1,10)(2,7)(3,4)(5,8)(6,9)), ((1,2)(3,8)(4,9)(5,6)(7,10), (1,10)(2,9)(3,4)(5,8)(6,7)), ((1,2)(3,8)(4,9)(5,6)(7,10), (1,10)(2,5)(3,6)(4,7)(8,9)), ((1,2)(3,8)(4,9)(5,6)(7,10), (1,10)(2,7)(3,6)(4,5)(8,9)), ((1,2)(3,8)(4,9)(5,6)(7,10), (1,10)(2,9)(3,6)(4,5)(7,8)), ((1,2)(3,8)(4,9)(5,6)(7,10), (1,10)(2,9)(3,6)(4,7)(5,8)), ((1,2)(3,8)(4,7)(5,10)(6,9), (1,4)(2,3)(5,6)(7,8)(9,10)), ((1,2)(3,8)(4,7)(5,10)(6,9), (1,4)(2,3)(5,6)(7,10)(8,9)), ((1,2)(3,8)(4,7)(5,10)(6,9), (1,4)(2,3)(5,8)(6,7)(9,10)), ((1,2)(3,8)(4,7)(5,10)(6,9), (1,4)(2,5)(3,6)(7,8)(9,10)), ((1,2)(3,8)(4,7)(5,10)(6,9), (1,4)(2,5)(3,6)(7,10)(8,9)), ((1,2)(3,8)(4,7)(5,10)(6,9), (1,4)(2,7)(3,6)(5,8)(9,10)), ((1,2)(3,8)(4,7)(5,10)(6,9), (1,4)(2,9)(3,6)(5,8)(7,10)), ((1,2)(3,8)(4,7)(5,10)(6,9), (1,4)(2,5)(3,10)(6,7)(8,9)), ((1,2)(3,8)(4,7)(5,10)(6,9), (1,4)(2,7)(3,10)(5,6)(8,9)), ((1,2)(3,8)(4,7)(5,10)(6,9), (1,4)(2,9)(3,10)(5,6)(7,8)), ((1,2)(3,8)(4,7)(5,10)(6,9), (1,4)(2,9)(3,10)(5,8)(6,7)), ((1,2)(3,8)(4,7)(5,10)(6,9), (1,6)(2,3)(4,5)(7,8)(9,10)), ((1,2)(3,8)(4,7)(5,10)(6,9), (1,6)(2,3)(4,5)(7,10)(8,9)), ((1,2)(3,8)(4,7)(5,10)(6,9), (1,6)(2,3)(4,9)(5,8)(7,10)), ((1,2)(3,8)(4,7)(5,10)(6,9), (1,6)(2,5)(3,4)(7,8)(9,10)), ((1,2)(3,8)(4,7)(5,10)(6,9), (1,6)(2,5)(3,4)(7,10)(8,9)), ((1,2)(3,8)(4,7)(5,10)(6,9), (1,6)(2,7)(3,4)(5,8)(9,10)), ((1,2)(3,8)(4,7)(5,10)(6,9), (1,6)(2,9)(3,4)(5,8)(7,10)), ((1,2)(3,8)(4,7)(5,10)(6,9), (1,6)(2,5)(3,10)(4,9)(7,8)), ((1,2)(3,8)(4,7)(5,10)(6,9), (1,6)(2,7)(3,10)(4,5)(8,9)), ((1,2)(3,8)(4,7)(5,10)(6,9), (1,6)(2,9)(3,10)(4,5)(7,8)), ((1,2)(3,8)(4,7)(5,10)(6,9), (1,6)(2,7)(3,10)(4,9)(5,8)), ((1,2)(3,8)(4,7)(5,10)(6,9), (1,8)(2,3)(4,5)(6,7)(9,10)), ((1,2)(3,8)(4,7)(5,10)(6,9), (1,8)(2,3)(4,9)(5,6)(7,10)), ((1,2)(3,8)(4,7)(5,10)(6,9), (1,8)(2,5)(3,4)(6,7)(9,10)), ((1,2)(3,8)(4,7)(5,10)(6,9), (1,8)(2,7)(3,4)(5,6)(9,10)), ((1,2)(3,8)(4,7)(5,10)(6,9), (1,8)(2,9)(3,4)(5,6)(7,10)), ((1,2)(3,8)(4,7)(5,10)(6,9), (1,8)(2,5)(3,6)(4,9)(7,10)), ((1,2)(3,8)(4,7)(5,10)(6,9), (1,8)(2,7)(3,6)(4,5)(9,10)), ((1,2)(3,8)(4,7)(5,10)(6,9), (1,8)(2,9)(3,6)(4,5)(7,10)), ((1,2)(3,8)(4,7)(5,10)(6,9), (1,8)(2,5)(3,10)(4,9)(6,7)), ((1,2)(3,8)(4,7)(5,10)(6,9), (1,8)(2,9)(3,10)(4,5)(6,7)), ((1,2)(3,8)(4,7)(5,10)(6,9), (1,8)(2,7)(3,10)(4,9)(5,6)), ((1,2)(3,8)(4,7)(5,10)(6,9), (1,10)(2,3)(4,5)(6,7)(8,9)), ((1,2)(3,8)(4,7)(5,10)(6,9), (1,10)(2,3)(4,9)(5,6)(7,8)), ((1,2)(3,8)(4,7)(5,10)(6,9), (1,10)(2,3)(4,9)(5,8)(6,7)), ((1,2)(3,8)(4,7)(5,10)(6,9), (1,10)(2,5)(3,4)(6,7)(8,9)), ((1,2)(3,8)(4,7)(5,10)(6,9), (1,10)(2,7)(3,4)(5,6)(8,9)), ((1,2)(3,8)(4,7)(5,10)(6,9), (1,10)(2,9)(3,4)(5,6)(7,8)), ((1,2)(3,8)(4,7)(5,10)(6,9), (1,10)(2,9)(3,4)(5,8)(6,7)), ((1,2)(3,8)(4,7)(5,10)(6,9), (1,10)(2,5)(3,6)(4,9)(7,8)), ((1,2)(3,8)(4,7)(5,10)(6,9), (1,10)(2,7)(3,6)(4,5)(8,9)), ((1,2)(3,8)(4,7)(5,10)(6,9), (1,10)(2,9)(3,6)(4,5)(7,8)), ((1,2)(3,8)(4,7)(5,10)(6,9), (1,10)(2,7)(3,6)(4,9)(5,8)), ((1,2)(3,8)(4,9)(5,10)(6,7), (1,4)(2,3)(5,6)(7,8)(9,10)), ((1,2)(3,8)(4,9)(5,10)(6,7), (1,4)(2,3)(5,6)(7,10)(8,9)), ((1,2)(3,8)(4,9)(5,10)(6,7), (1,4)(2,3)(5,8)(6,9)(7,10)), ((1,2)(3,8)(4,9)(5,10)(6,7), (1,4)(2,5)(3,6)(7,8)(9,10)), ((1,2)(3,8)(4,9)(5,10)(6,7), (1,4)(2,5)(3,6)(7,10)(8,9)), ((1,2)(3,8)(4,9)(5,10)(6,7), (1,4)(2,7)(3,6)(5,8)(9,10)), ((1,2)(3,8)(4,9)(5,10)(6,7), (1,4)(2,9)(3,6)(5,8)(7,10)), ((1,2)(3,8)(4,9)(5,10)(6,7), (1,4)(2,5)(3,10)(6,9)(7,8)), ((1,2)(3,8)(4,9)(5,10)(6,7), (1,4)(2,7)(3,10)(5,6)(8,9)), ((1,2)(3,8)(4,9)(5,10)(6,7), (1,4)(2,9)(3,10)(5,6)(7,8)), ((1,2)(3,8)(4,9)(5,10)(6,7), (1,4)(2,7)(3,10)(5,8)(6,9)), ((1,2)(3,8)(4,9)(5,10)(6,7), (1,6)(2,3)(4,5)(7,8)(9,10)), ((1,2)(3,8)(4,9)(5,10)(6,7), (1,6)(2,3)(4,5)(7,10)(8,9)), ((1,2)(3,8)(4,9)(5,10)(6,7), (1,6)(2,3)(4,7)(5,8)(9,10)), ((1,2)(3,8)(4,9)(5,10)(6,7), (1,6)(2,5)(3,4)(7,8)(9,10)), ((1,2)(3,8)(4,9)(5,10)(6,7), (1,6)(2,5)(3,4)(7,10)(8,9)), ((1,2)(3,8)(4,9)(5,10)(6,7), (1,6)(2,7)(3,4)(5,8)(9,10)), ((1,2)(3,8)(4,9)(5,10)(6,7), (1,6)(2,9)(3,4)(5,8)(7,10)), ((1,2)(3,8)(4,9)(5,10)(6,7), (1,6)(2,5)(3,10)(4,7)(8,9)), ((1,2)(3,8)(4,9)(5,10)(6,7), (1,6)(2,7)(3,10)(4,5)(8,9)), ((1,2)(3,8)(4,9)(5,10)(6,7), (1,6)(2,9)(3,10)(4,5)(7,8)), ((1,2)(3,8)(4,9)(5,10)(6,7), (1,6)(2,9)(3,10)(4,7)(5,8)), ((1,2)(3,8)(4,9)(5,10)(6,7), (1,8)(2,3)(4,5)(6,9)(7,10)), ((1,2)(3,8)(4,9)(5,10)(6,7), (1,8)(2,3)(4,7)(5,6)(9,10)), ((1,2)(3,8)(4,9)(5,10)(6,7), (1,8)(2,5)(3,4)(6,9)(7,10)), ((1,2)(3,8)(4,9)(5,10)(6,7), (1,8)(2,7)(3,4)(5,6)(9,10)), ((1,2)(3,8)(4,9)(5,10)(6,7), (1,8)(2,9)(3,4)(5,6)(7,10)), ((1,2)(3,8)(4,9)(5,10)(6,7), (1,8)(2,5)(3,6)(4,7)(9,10)), ((1,2)(3,8)(4,9)(5,10)(6,7), (1,8)(2,7)(3,6)(4,5)(9,10)), ((1,2)(3,8)(4,9)(5,10)(6,7), (1,8)(2,9)(3,6)(4,5)(7,10)), ((1,2)(3,8)(4,9)(5,10)(6,7), (1,8)(2,5)(3,10)(4,7)(6,9)), ((1,2)(3,8)(4,9)(5,10)(6,7), (1,8)(2,7)(3,10)(4,5)(6,9)), ((1,2)(3,8)(4,9)(5,10)(6,7), (1,8)(2,9)(3,10)(4,7)(5,6)), ((1,2)(3,8)(4,9)(5,10)(6,7), (1,10)(2,3)(4,5)(6,9)(7,8)), ((1,2)(3,8)(4,9)(5,10)(6,7), (1,10)(2,3)(4,7)(5,6)(8,9)), ((1,2)(3,8)(4,9)(5,10)(6,7), (1,10)(2,3)(4,7)(5,8)(6,9)), ((1,2)(3,8)(4,9)(5,10)(6,7), (1,10)(2,5)(3,4)(6,9)(7,8)), ((1,2)(3,8)(4,9)(5,10)(6,7), (1,10)(2,7)(3,4)(5,6)(8,9)), ((1,2)(3,8)(4,9)(5,10)(6,7), (1,10)(2,9)(3,4)(5,6)(7,8)), ((1,2)(3,8)(4,9)(5,10)(6,7), (1,10)(2,7)(3,4)(5,8)(6,9)), ((1,2)(3,8)(4,9)(5,10)(6,7), (1,10)(2,5)(3,6)(4,7)(8,9)), ((1,2)(3,8)(4,9)(5,10)(6,7), (1,10)(2,7)(3,6)(4,5)(8,9)), ((1,2)(3,8)(4,9)(5,10)(6,7), (1,10)(2,9)(3,6)(4,5)(7,8)), ((1,2)(3,8)(4,9)(5,10)(6,7), (1,10)(2,9)(3,6)(4,7)(5,8)), ((1,2)(3,10)(4,5)(6,7)(8,9), (1,4)(2,3)(5,6)(7,8)(9,10)), ((1,2)(3,10)(4,5)(6,7)(8,9), (1,4)(2,3)(5,8)(6,9)(7,10)), ((1,2)(3,10)(4,5)(6,7)(8,9), (1,4)(2,3)(5,10)(6,9)(7,8)), ((1,2)(3,10)(4,5)(6,7)(8,9), (1,4)(2,5)(3,6)(7,8)(9,10)), ((1,2)(3,10)(4,5)(6,7)(8,9), (1,4)(2,7)(3,6)(5,8)(9,10)), ((1,2)(3,10)(4,5)(6,7)(8,9), (1,4)(2,9)(3,6)(5,8)(7,10)), ((1,2)(3,10)(4,5)(6,7)(8,9), (1,4)(2,9)(3,6)(5,10)(7,8)), ((1,2)(3,10)(4,5)(6,7)(8,9), (1,4)(2,5)(3,8)(6,9)(7,10)), ((1,2)(3,10)(4,5)(6,7)(8,9), (1,4)(2,7)(3,8)(5,6)(9,10)), ((1,2)(3,10)(4,5)(6,7)(8,9), (1,4)(2,9)(3,8)(5,6)(7,10)), ((1,2)(3,10)(4,5)(6,7)(8,9), (1,4)(2,7)(3,8)(5,10)(6,9)), ((1,2)(3,10)(4,5)(6,7)(8,9), (1,6)(2,3)(4,7)(5,8)(9,10)), ((1,2)(3,10)(4,5)(6,7)(8,9), (1,6)(2,3)(4,9)(5,8)(7,10)), ((1,2)(3,10)(4,5)(6,7)(8,9), (1,6)(2,3)(4,9)(5,10)(7,8)), ((1,2)(3,10)(4,5)(6,7)(8,9), (1,6)(2,5)(3,4)(7,8)(9,10)), ((1,2)(3,10)(4,5)(6,7)(8,9), (1,6)(2,7)(3,4)(5,8)(9,10)), ((1,2)(3,10)(4,5)(6,7)(8,9), (1,6)(2,9)(3,4)(5,8)(7,10)), ((1,2)(3,10)(4,5)(6,7)(8,9), (1,6)(2,9)(3,4)(5,10)(7,8)), ((1,2)(3,10)(4,5)(6,7)(8,9), (1,6)(2,5)(3,8)(4,7)(9,10)), ((1,2)(3,10)(4,5)(6,7)(8,9), (1,6)(2,5)(3,8)(4,9)(7,10)), ((1,2)(3,10)(4,5)(6,7)(8,9), (1,6)(2,7)(3,8)(4,9)(5,10)), ((1,2)(3,10)(4,5)(6,7)(8,9), (1,6)(2,9)(3,8)(4,7)(5,10)), ((1,2)(3,10)(4,5)(6,7)(8,9), (1,8)(2,3)(4,7)(5,6)(9,10)), ((1,2)(3,10)(4,5)(6,7)(8,9), (1,8)(2,3)(4,9)(5,6)(7,10)), ((1,2)(3,10)(4,5)(6,7)(8,9), (1,8)(2,3)(4,7)(5,10)(6,9)), ((1,2)(3,10)(4,5)(6,7)(8,9), (1,8)(2,5)(3,4)(6,9)(7,10)), ((1,2)(3,10)(4,5)(6,7)(8,9), (1,8)(2,7)(3,4)(5,6)(9,10)), ((1,2)(3,10)(4,5)(6,7)(8,9), (1,8)(2,9)(3,4)(5,6)(7,10)), ((1,2)(3,10)(4,5)(6,7)(8,9), (1,8)(2,7)(3,4)(5,10)(6,9)), ((1,2)(3,10)(4,5)(6,7)(8,9), (1,8)(2,5)(3,6)(4,7)(9,10)), ((1,2)(3,10)(4,5)(6,7)(8,9), (1,8)(2,5)(3,6)(4,9)(7,10)), ((1,2)(3,10)(4,5)(6,7)(8,9), (1,8)(2,7)(3,6)(4,9)(5,10)), ((1,2)(3,10)(4,5)(6,7)(8,9), (1,8)(2,9)(3,6)(4,7)(5,10)), ((1,2)(3,10)(4,5)(6,7)(8,9), (1,10)(2,3)(4,9)(5,6)(7,8)), ((1,2)(3,10)(4,5)(6,7)(8,9), (1,10)(2,3)(4,7)(5,8)(6,9)), ((1,2)(3,10)(4,5)(6,7)(8,9), (1,10)(2,5)(3,4)(6,9)(7,8)), ((1,2)(3,10)(4,5)(6,7)(8,9), (1,10)(2,9)(3,4)(5,6)(7,8)), ((1,2)(3,10)(4,5)(6,7)(8,9), (1,10)(2,7)(3,4)(5,8)(6,9)), ((1,2)(3,10)(4,5)(6,7)(8,9), (1,10)(2,5)(3,6)(4,9)(7,8)), ((1,2)(3,10)(4,5)(6,7)(8,9), (1,10)(2,7)(3,6)(4,9)(5,8)), ((1,2)(3,10)(4,5)(6,7)(8,9), (1,10)(2,9)(3,6)(4,7)(5,8)), ((1,2)(3,10)(4,5)(6,7)(8,9), (1,10)(2,5)(3,8)(4,7)(6,9)), ((1,2)(3,10)(4,5)(6,7)(8,9), (1,10)(2,7)(3,8)(4,9)(5,6)), ((1,2)(3,10)(4,5)(6,7)(8,9), (1,10)(2,9)(3,8)(4,7)(5,6)), ((1,2)(3,10)(4,5)(6,9)(7,8), (1,4)(2,3)(5,6)(7,10)(8,9)), ((1,2)(3,10)(4,5)(6,9)(7,8), (1,4)(2,3)(5,8)(6,7)(9,10)), ((1,2)(3,10)(4,5)(6,9)(7,8), (1,4)(2,3)(5,10)(6,7)(8,9)), ((1,2)(3,10)(4,5)(6,9)(7,8), (1,4)(2,5)(3,6)(7,10)(8,9)), ((1,2)(3,10)(4,5)(6,9)(7,8), (1,4)(2,7)(3,6)(5,8)(9,10)), ((1,2)(3,10)(4,5)(6,9)(7,8), (1,4)(2,9)(3,6)(5,8)(7,10)), ((1,2)(3,10)(4,5)(6,9)(7,8), (1,4)(2,7)(3,6)(5,10)(8,9)), ((1,2)(3,10)(4,5)(6,9)(7,8), (1,4)(2,5)(3,8)(6,7)(9,10)), ((1,2)(3,10)(4,5)(6,9)(7,8), (1,4)(2,7)(3,8)(5,6)(9,10)), ((1,2)(3,10)(4,5)(6,9)(7,8), (1,4)(2,9)(3,8)(5,6)(7,10)), ((1,2)(3,10)(4,5)(6,9)(7,8), (1,4)(2,9)(3,8)(5,10)(6,7)), ((1,2)(3,10)(4,5)(6,9)(7,8), (1,6)(2,3)(4,7)(5,8)(9,10)), ((1,2)(3,10)(4,5)(6,9)(7,8), (1,6)(2,3)(4,9)(5,8)(7,10)), ((1,2)(3,10)(4,5)(6,9)(7,8), (1,6)(2,3)(4,7)(5,10)(8,9)), ((1,2)(3,10)(4,5)(6,9)(7,8), (1,6)(2,5)(3,4)(7,10)(8,9)), ((1,2)(3,10)(4,5)(6,9)(7,8), (1,6)(2,7)(3,4)(5,8)(9,10)), ((1,2)(3,10)(4,5)(6,9)(7,8), (1,6)(2,9)(3,4)(5,8)(7,10)), ((1,2)(3,10)(4,5)(6,9)(7,8), (1,6)(2,7)(3,4)(5,10)(8,9)), ((1,2)(3,10)(4,5)(6,9)(7,8), (1,6)(2,5)(3,8)(4,7)(9,10)), ((1,2)(3,10)(4,5)(6,9)(7,8), (1,6)(2,5)(3,8)(4,9)(7,10)), ((1,2)(3,10)(4,5)(6,9)(7,8), (1,6)(2,7)(3,8)(4,9)(5,10)), ((1,2)(3,10)(4,5)(6,9)(7,8), (1,6)(2,9)(3,8)(4,7)(5,10)), ((1,2)(3,10)(4,5)(6,9)(7,8), (1,8)(2,3)(4,7)(5,6)(9,10)), ((1,2)(3,10)(4,5)(6,9)(7,8), (1,8)(2,3)(4,9)(5,6)(7,10)), ((1,2)(3,10)(4,5)(6,9)(7,8), (1,8)(2,3)(4,9)(5,10)(6,7)), ((1,2)(3,10)(4,5)(6,9)(7,8), (1,8)(2,5)(3,4)(6,7)(9,10)), ((1,2)(3,10)(4,5)(6,9)(7,8), (1,8)(2,7)(3,4)(5,6)(9,10)), ((1,2)(3,10)(4,5)(6,9)(7,8), (1,8)(2,9)(3,4)(5,6)(7,10)), ((1,2)(3,10)(4,5)(6,9)(7,8), (1,8)(2,9)(3,4)(5,10)(6,7)), ((1,2)(3,10)(4,5)(6,9)(7,8), (1,8)(2,5)(3,6)(4,7)(9,10)), ((1,2)(3,10)(4,5)(6,9)(7,8), (1,8)(2,5)(3,6)(4,9)(7,10)), ((1,2)(3,10)(4,5)(6,9)(7,8), (1,8)(2,7)(3,6)(4,9)(5,10)), ((1,2)(3,10)(4,5)(6,9)(7,8), (1,8)(2,9)(3,6)(4,7)(5,10)), ((1,2)(3,10)(4,5)(6,9)(7,8), (1,10)(2,3)(4,7)(5,6)(8,9)), ((1,2)(3,10)(4,5)(6,9)(7,8), (1,10)(2,3)(4,9)(5,8)(6,7)), ((1,2)(3,10)(4,5)(6,9)(7,8), (1,10)(2,5)(3,4)(6,7)(8,9)), ((1,2)(3,10)(4,5)(6,9)(7,8), (1,10)(2,7)(3,4)(5,6)(8,9)), ((1,2)(3,10)(4,5)(6,9)(7,8), (1,10)(2,9)(3,4)(5,8)(6,7)), ((1,2)(3,10)(4,5)(6,9)(7,8), (1,10)(2,5)(3,6)(4,7)(8,9)), ((1,2)(3,10)(4,5)(6,9)(7,8), (1,10)(2,7)(3,6)(4,9)(5,8)), ((1,2)(3,10)(4,5)(6,9)(7,8), (1,10)(2,9)(3,6)(4,7)(5,8)), ((1,2)(3,10)(4,5)(6,9)(7,8), (1,10)(2,5)(3,8)(4,9)(6,7)), ((1,2)(3,10)(4,5)(6,9)(7,8), (1,10)(2,7)(3,8)(4,9)(5,6)), ((1,2)(3,10)(4,5)(6,9)(7,8), (1,10)(2,9)(3,8)(4,7)(5,6)), ((1,2)(3,10)(4,7)(5,6)(8,9), (1,4)(2,3)(5,8)(6,7)(9,10)), ((1,2)(3,10)(4,7)(5,6)(8,9), (1,4)(2,3)(5,8)(6,9)(7,10)), ((1,2)(3,10)(4,7)(5,6)(8,9), (1,4)(2,3)(5,10)(6,9)(7,8)), ((1,2)(3,10)(4,7)(5,6)(8,9), (1,4)(2,5)(3,6)(7,8)(9,10)), ((1,2)(3,10)(4,7)(5,6)(8,9), (1,4)(2,7)(3,6)(5,8)(9,10)), ((1,2)(3,10)(4,7)(5,6)(8,9), (1,4)(2,9)(3,6)(5,8)(7,10)), ((1,2)(3,10)(4,7)(5,6)(8,9), (1,4)(2,9)(3,6)(5,10)(7,8)), ((1,2)(3,10)(4,7)(5,6)(8,9), (1,4)(2,5)(3,8)(6,7)(9,10)), ((1,2)(3,10)(4,7)(5,6)(8,9), (1,4)(2,5)(3,8)(6,9)(7,10)), ((1,2)(3,10)(4,7)(5,6)(8,9), (1,4)(2,7)(3,8)(5,10)(6,9)), ((1,2)(3,10)(4,7)(5,6)(8,9), (1,4)(2,9)(3,8)(5,10)(6,7)), ((1,2)(3,10)(4,7)(5,6)(8,9), (1,6)(2,3)(4,5)(7,8)(9,10)), ((1,2)(3,10)(4,7)(5,6)(8,9), (1,6)(2,3)(4,9)(5,8)(7,10)), ((1,2)(3,10)(4,7)(5,6)(8,9), (1,6)(2,3)(4,9)(5,10)(7,8)), ((1,2)(3,10)(4,7)(5,6)(8,9), (1,6)(2,5)(3,4)(7,8)(9,10)), ((1,2)(3,10)(4,7)(5,6)(8,9), (1,6)(2,7)(3,4)(5,8)(9,10)), ((1,2)(3,10)(4,7)(5,6)(8,9), (1,6)(2,9)(3,4)(5,8)(7,10)), ((1,2)(3,10)(4,7)(5,6)(8,9), (1,6)(2,9)(3,4)(5,10)(7,8)), ((1,2)(3,10)(4,7)(5,6)(8,9), (1,6)(2,5)(3,8)(4,9)(7,10)), ((1,2)(3,10)(4,7)(5,6)(8,9), (1,6)(2,7)(3,8)(4,5)(9,10)), ((1,2)(3,10)(4,7)(5,6)(8,9), (1,6)(2,9)(3,8)(4,5)(7,10)), ((1,2)(3,10)(4,7)(5,6)(8,9), (1,6)(2,7)(3,8)(4,9)(5,10)), ((1,2)(3,10)(4,7)(5,6)(8,9), (1,8)(2,3)(4,5)(6,7)(9,10)), ((1,2)(3,10)(4,7)(5,6)(8,9), (1,8)(2,3)(4,5)(6,9)(7,10)), ((1,2)(3,10)(4,7)(5,6)(8,9), (1,8)(2,3)(4,9)(5,10)(6,7)), ((1,2)(3,10)(4,7)(5,6)(8,9), (1,8)(2,5)(3,4)(6,7)(9,10)), ((1,2)(3,10)(4,7)(5,6)(8,9), (1,8)(2,5)(3,4)(6,9)(7,10)), ((1,2)(3,10)(4,7)(5,6)(8,9), (1,8)(2,7)(3,4)(5,10)(6,9)), ((1,2)(3,10)(4,7)(5,6)(8,9), (1,8)(2,9)(3,4)(5,10)(6,7)), ((1,2)(3,10)(4,7)(5,6)(8,9), (1,8)(2,5)(3,6)(4,9)(7,10)), ((1,2)(3,10)(4,7)(5,6)(8,9), (1,8)(2,7)(3,6)(4,5)(9,10)), ((1,2)(3,10)(4,7)(5,6)(8,9), (1,8)(2,9)(3,6)(4,5)(7,10)), ((1,2)(3,10)(4,7)(5,6)(8,9), (1,8)(2,7)(3,6)(4,9)(5,10)), ((1,2)(3,10)(4,7)(5,6)(8,9), (1,10)(2,3)(4,5)(6,9)(7,8)), ((1,2)(3,10)(4,7)(5,6)(8,9), (1,10)(2,3)(4,9)(5,8)(6,7)), ((1,2)(3,10)(4,7)(5,6)(8,9), (1,10)(2,5)(3,4)(6,9)(7,8)), ((1,2)(3,10)(4,7)(5,6)(8,9), (1,10)(2,7)(3,4)(5,8)(6,9)), ((1,2)(3,10)(4,7)(5,6)(8,9), (1,10)(2,9)(3,4)(5,8)(6,7)), ((1,2)(3,10)(4,7)(5,6)(8,9), (1,10)(2,5)(3,6)(4,9)(7,8)), ((1,2)(3,10)(4,7)(5,6)(8,9), (1,10)(2,9)(3,6)(4,5)(7,8)), ((1,2)(3,10)(4,7)(5,6)(8,9), (1,10)(2,7)(3,6)(4,9)(5,8)), ((1,2)(3,10)(4,7)(5,6)(8,9), (1,10)(2,5)(3,8)(4,9)(6,7)), ((1,2)(3,10)(4,7)(5,6)(8,9), (1,10)(2,7)(3,8)(4,5)(6,9)), ((1,2)(3,10)(4,7)(5,6)(8,9), (1,10)(2,9)(3,8)(4,5)(6,7)), ((1,2)(3,10)(4,9)(5,6)(7,8), (1,4)(2,3)(5,8)(6,7)(9,10)), ((1,2)(3,10)(4,9)(5,6)(7,8), (1,4)(2,3)(5,8)(6,9)(7,10)), ((1,2)(3,10)(4,9)(5,6)(7,8), (1,4)(2,3)(5,10)(6,7)(8,9)), ((1,2)(3,10)(4,9)(5,6)(7,8), (1,4)(2,5)(3,6)(7,10)(8,9)), ((1,2)(3,10)(4,9)(5,6)(7,8), (1,4)(2,7)(3,6)(5,8)(9,10)), ((1,2)(3,10)(4,9)(5,6)(7,8), (1,4)(2,9)(3,6)(5,8)(7,10)), ((1,2)(3,10)(4,9)(5,6)(7,8), (1,4)(2,7)(3,6)(5,10)(8,9)), ((1,2)(3,10)(4,9)(5,6)(7,8), (1,4)(2,5)(3,8)(6,7)(9,10)), ((1,2)(3,10)(4,9)(5,6)(7,8), (1,4)(2,5)(3,8)(6,9)(7,10)), ((1,2)(3,10)(4,9)(5,6)(7,8), (1,4)(2,7)(3,8)(5,10)(6,9)), ((1,2)(3,10)(4,9)(5,6)(7,8), (1,4)(2,9)(3,8)(5,10)(6,7)), ((1,2)(3,10)(4,9)(5,6)(7,8), (1,6)(2,3)(4,5)(7,10)(8,9)), ((1,2)(3,10)(4,9)(5,6)(7,8), (1,6)(2,3)(4,7)(5,8)(9,10)), ((1,2)(3,10)(4,9)(5,6)(7,8), (1,6)(2,3)(4,7)(5,10)(8,9)), ((1,2)(3,10)(4,9)(5,6)(7,8), (1,6)(2,5)(3,4)(7,10)(8,9)), ((1,2)(3,10)(4,9)(5,6)(7,8), (1,6)(2,7)(3,4)(5,8)(9,10)), ((1,2)(3,10)(4,9)(5,6)(7,8), (1,6)(2,9)(3,4)(5,8)(7,10)), ((1,2)(3,10)(4,9)(5,6)(7,8), (1,6)(2,7)(3,4)(5,10)(8,9)), ((1,2)(3,10)(4,9)(5,6)(7,8), (1,6)(2,5)(3,8)(4,7)(9,10)), ((1,2)(3,10)(4,9)(5,6)(7,8), (1,6)(2,7)(3,8)(4,5)(9,10)), ((1,2)(3,10)(4,9)(5,6)(7,8), (1,6)(2,9)(3,8)(4,5)(7,10)), ((1,2)(3,10)(4,9)(5,6)(7,8), (1,6)(2,9)(3,8)(4,7)(5,10)), ((1,2)(3,10)(4,9)(5,6)(7,8), (1,8)(2,3)(4,5)(6,7)(9,10)), ((1,2)(3,10)(4,9)(5,6)(7,8), (1,8)(2,3)(4,5)(6,9)(7,10)), ((1,2)(3,10)(4,9)(5,6)(7,8), (1,8)(2,3)(4,7)(5,10)(6,9)), ((1,2)(3,10)(4,9)(5,6)(7,8), (1,8)(2,5)(3,4)(6,7)(9,10)), ((1,2)(3,10)(4,9)(5,6)(7,8), (1,8)(2,5)(3,4)(6,9)(7,10)), ((1,2)(3,10)(4,9)(5,6)(7,8), (1,8)(2,7)(3,4)(5,10)(6,9)), ((1,2)(3,10)(4,9)(5,6)(7,8), (1,8)(2,9)(3,4)(5,10)(6,7)), ((1,2)(3,10)(4,9)(5,6)(7,8), (1,8)(2,5)(3,6)(4,7)(9,10)), ((1,2)(3,10)(4,9)(5,6)(7,8), (1,8)(2,7)(3,6)(4,5)(9,10)), ((1,2)(3,10)(4,9)(5,6)(7,8), (1,8)(2,9)(3,6)(4,5)(7,10)), ((1,2)(3,10)(4,9)(5,6)(7,8), (1,8)(2,9)(3,6)(4,7)(5,10)), ((1,2)(3,10)(4,9)(5,6)(7,8), (1,10)(2,3)(4,5)(6,7)(8,9)), ((1,2)(3,10)(4,9)(5,6)(7,8), (1,10)(2,3)(4,7)(5,8)(6,9)), ((1,2)(3,10)(4,9)(5,6)(7,8), (1,10)(2,5)(3,4)(6,7)(8,9)), ((1,2)(3,10)(4,9)(5,6)(7,8), (1,10)(2,7)(3,4)(5,8)(6,9)), ((1,2)(3,10)(4,9)(5,6)(7,8), (1,10)(2,9)(3,4)(5,8)(6,7)), ((1,2)(3,10)(4,9)(5,6)(7,8), (1,10)(2,5)(3,6)(4,7)(8,9)), ((1,2)(3,10)(4,9)(5,6)(7,8), (1,10)(2,7)(3,6)(4,5)(8,9)), ((1,2)(3,10)(4,9)(5,6)(7,8), (1,10)(2,9)(3,6)(4,7)(5,8)), ((1,2)(3,10)(4,9)(5,6)(7,8), (1,10)(2,5)(3,8)(4,7)(6,9)), ((1,2)(3,10)(4,9)(5,6)(7,8), (1,10)(2,7)(3,8)(4,5)(6,9)), ((1,2)(3,10)(4,9)(5,6)(7,8), (1,10)(2,9)(3,8)(4,5)(6,7)), ((1,2)(3,10)(4,7)(5,8)(6,9), (1,4)(2,3)(5,6)(7,8)(9,10)), ((1,2)(3,10)(4,7)(5,8)(6,9), (1,4)(2,3)(5,6)(7,10)(8,9)), ((1,2)(3,10)(4,7)(5,8)(6,9), (1,4)(2,3)(5,10)(6,7)(8,9)), ((1,2)(3,10)(4,7)(5,8)(6,9), (1,4)(2,5)(3,6)(7,8)(9,10)), ((1,2)(3,10)(4,7)(5,8)(6,9), (1,4)(2,5)(3,6)(7,10)(8,9)), ((1,2)(3,10)(4,7)(5,8)(6,9), (1,4)(2,7)(3,6)(5,10)(8,9)), ((1,2)(3,10)(4,7)(5,8)(6,9), (1,4)(2,9)(3,6)(5,10)(7,8)), ((1,2)(3,10)(4,7)(5,8)(6,9), (1,4)(2,5)(3,8)(6,7)(9,10)), ((1,2)(3,10)(4,7)(5,8)(6,9), (1,4)(2,7)(3,8)(5,6)(9,10)), ((1,2)(3,10)(4,7)(5,8)(6,9), (1,4)(2,9)(3,8)(5,6)(7,10)), ((1,2)(3,10)(4,7)(5,8)(6,9), (1,4)(2,9)(3,8)(5,10)(6,7)), ((1,2)(3,10)(4,7)(5,8)(6,9), (1,6)(2,3)(4,5)(7,8)(9,10)), ((1,2)(3,10)(4,7)(5,8)(6,9), (1,6)(2,3)(4,5)(7,10)(8,9)), ((1,2)(3,10)(4,7)(5,8)(6,9), (1,6)(2,3)(4,9)(5,10)(7,8)), ((1,2)(3,10)(4,7)(5,8)(6,9), (1,6)(2,5)(3,4)(7,8)(9,10)), ((1,2)(3,10)(4,7)(5,8)(6,9), (1,6)(2,5)(3,4)(7,10)(8,9)), ((1,2)(3,10)(4,7)(5,8)(6,9), (1,6)(2,7)(3,4)(5,10)(8,9)), ((1,2)(3,10)(4,7)(5,8)(6,9), (1,6)(2,9)(3,4)(5,10)(7,8)), ((1,2)(3,10)(4,7)(5,8)(6,9), (1,6)(2,5)(3,8)(4,9)(7,10)), ((1,2)(3,10)(4,7)(5,8)(6,9), (1,6)(2,7)(3,8)(4,5)(9,10)), ((1,2)(3,10)(4,7)(5,8)(6,9), (1,6)(2,9)(3,8)(4,5)(7,10)), ((1,2)(3,10)(4,7)(5,8)(6,9), (1,6)(2,7)(3,8)(4,9)(5,10)), ((1,2)(3,10)(4,7)(5,8)(6,9), (1,8)(2,3)(4,5)(6,7)(9,10)), ((1,2)(3,10)(4,7)(5,8)(6,9), (1,8)(2,3)(4,9)(5,6)(7,10)), ((1,2)(3,10)(4,7)(5,8)(6,9), (1,8)(2,3)(4,9)(5,10)(6,7)), ((1,2)(3,10)(4,7)(5,8)(6,9), (1,8)(2,5)(3,4)(6,7)(9,10)), ((1,2)(3,10)(4,7)(5,8)(6,9), (1,8)(2,7)(3,4)(5,6)(9,10)), ((1,2)(3,10)(4,7)(5,8)(6,9), (1,8)(2,9)(3,4)(5,6)(7,10)), ((1,2)(3,10)(4,7)(5,8)(6,9), (1,8)(2,9)(3,4)(5,10)(6,7)), ((1,2)(3,10)(4,7)(5,8)(6,9), (1,8)(2,5)(3,6)(4,9)(7,10)), ((1,2)(3,10)(4,7)(5,8)(6,9), (1,8)(2,7)(3,6)(4,5)(9,10)), ((1,2)(3,10)(4,7)(5,8)(6,9), (1,8)(2,9)(3,6)(4,5)(7,10)), ((1,2)(3,10)(4,7)(5,8)(6,9), (1,8)(2,7)(3,6)(4,9)(5,10)), ((1,2)(3,10)(4,7)(5,8)(6,9), (1,10)(2,3)(4,5)(6,7)(8,9)), ((1,2)(3,10)(4,7)(5,8)(6,9), (1,10)(2,3)(4,9)(5,6)(7,8)), ((1,2)(3,10)(4,7)(5,8)(6,9), (1,10)(2,5)(3,4)(6,7)(8,9)), ((1,2)(3,10)(4,7)(5,8)(6,9), (1,10)(2,7)(3,4)(5,6)(8,9)), ((1,2)(3,10)(4,7)(5,8)(6,9), (1,10)(2,9)(3,4)(5,6)(7,8)), ((1,2)(3,10)(4,7)(5,8)(6,9), (1,10)(2,5)(3,6)(4,9)(7,8)), ((1,2)(3,10)(4,7)(5,8)(6,9), (1,10)(2,7)(3,6)(4,5)(8,9)), ((1,2)(3,10)(4,7)(5,8)(6,9), (1,10)(2,9)(3,6)(4,5)(7,8)), ((1,2)(3,10)(4,7)(5,8)(6,9), (1,10)(2,5)(3,8)(4,9)(6,7)), ((1,2)(3,10)(4,7)(5,8)(6,9), (1,10)(2,9)(3,8)(4,5)(6,7)), ((1,2)(3,10)(4,7)(5,8)(6,9), (1,10)(2,7)(3,8)(4,9)(5,6)), ((1,2)(3,10)(4,9)(5,8)(6,7), (1,4)(2,3)(5,6)(7,8)(9,10)), ((1,2)(3,10)(4,9)(5,8)(6,7), (1,4)(2,3)(5,6)(7,10)(8,9)), ((1,2)(3,10)(4,9)(5,8)(6,7), (1,4)(2,3)(5,10)(6,9)(7,8)), ((1,2)(3,10)(4,9)(5,8)(6,7), (1,4)(2,5)(3,6)(7,8)(9,10)), ((1,2)(3,10)(4,9)(5,8)(6,7), (1,4)(2,5)(3,6)(7,10)(8,9)), ((1,2)(3,10)(4,9)(5,8)(6,7), (1,4)(2,7)(3,6)(5,10)(8,9)), ((1,2)(3,10)(4,9)(5,8)(6,7), (1,4)(2,9)(3,6)(5,10)(7,8)), ((1,2)(3,10)(4,9)(5,8)(6,7), (1,4)(2,5)(3,8)(6,9)(7,10)), ((1,2)(3,10)(4,9)(5,8)(6,7), (1,4)(2,7)(3,8)(5,6)(9,10)), ((1,2)(3,10)(4,9)(5,8)(6,7), (1,4)(2,9)(3,8)(5,6)(7,10)), ((1,2)(3,10)(4,9)(5,8)(6,7), (1,4)(2,7)(3,8)(5,10)(6,9)), ((1,2)(3,10)(4,9)(5,8)(6,7), (1,6)(2,3)(4,5)(7,8)(9,10)), ((1,2)(3,10)(4,9)(5,8)(6,7), (1,6)(2,3)(4,5)(7,10)(8,9)), ((1,2)(3,10)(4,9)(5,8)(6,7), (1,6)(2,3)(4,7)(5,10)(8,9)), ((1,2)(3,10)(4,9)(5,8)(6,7), (1,6)(2,5)(3,4)(7,8)(9,10)), ((1,2)(3,10)(4,9)(5,8)(6,7), (1,6)(2,5)(3,4)(7,10)(8,9)), ((1,2)(3,10)(4,9)(5,8)(6,7), (1,6)(2,7)(3,4)(5,10)(8,9)), ((1,2)(3,10)(4,9)(5,8)(6,7), (1,6)(2,9)(3,4)(5,10)(7,8)), ((1,2)(3,10)(4,9)(5,8)(6,7), (1,6)(2,5)(3,8)(4,7)(9,10)), ((1,2)(3,10)(4,9)(5,8)(6,7), (1,6)(2,7)(3,8)(4,5)(9,10)), ((1,2)(3,10)(4,9)(5,8)(6,7), (1,6)(2,9)(3,8)(4,5)(7,10)), ((1,2)(3,10)(4,9)(5,8)(6,7), (1,6)(2,9)(3,8)(4,7)(5,10)), ((1,2)(3,10)(4,9)(5,8)(6,7), (1,8)(2,3)(4,5)(6,9)(7,10)), ((1,2)(3,10)(4,9)(5,8)(6,7), (1,8)(2,3)(4,7)(5,6)(9,10)), ((1,2)(3,10)(4,9)(5,8)(6,7), (1,8)(2,3)(4,7)(5,10)(6,9)), ((1,2)(3,10)(4,9)(5,8)(6,7), (1,8)(2,5)(3,4)(6,9)(7,10)), ((1,2)(3,10)(4,9)(5,8)(6,7), (1,8)(2,7)(3,4)(5,6)(9,10)), ((1,2)(3,10)(4,9)(5,8)(6,7), (1,8)(2,9)(3,4)(5,6)(7,10)), ((1,2)(3,10)(4,9)(5,8)(6,7), (1,8)(2,7)(3,4)(5,10)(6,9)), ((1,2)(3,10)(4,9)(5,8)(6,7), (1,8)(2,5)(3,6)(4,7)(9,10)), ((1,2)(3,10)(4,9)(5,8)(6,7), (1,8)(2,7)(3,6)(4,5)(9,10)), ((1,2)(3,10)(4,9)(5,8)(6,7), (1,8)(2,9)(3,6)(4,5)(7,10)), ((1,2)(3,10)(4,9)(5,8)(6,7), (1,8)(2,9)(3,6)(4,7)(5,10)), ((1,2)(3,10)(4,9)(5,8)(6,7), (1,10)(2,3)(4,5)(6,9)(7,8)), ((1,2)(3,10)(4,9)(5,8)(6,7), (1,10)(2,3)(4,7)(5,6)(8,9)), ((1,2)(3,10)(4,9)(5,8)(6,7), (1,10)(2,5)(3,4)(6,9)(7,8)), ((1,2)(3,10)(4,9)(5,8)(6,7), (1,10)(2,7)(3,4)(5,6)(8,9)), ((1,2)(3,10)(4,9)(5,8)(6,7), (1,10)(2,9)(3,4)(5,6)(7,8)), ((1,2)(3,10)(4,9)(5,8)(6,7), (1,10)(2,5)(3,6)(4,7)(8,9)), ((1,2)(3,10)(4,9)(5,8)(6,7), (1,10)(2,7)(3,6)(4,5)(8,9)), ((1,2)(3,10)(4,9)(5,8)(6,7), (1,10)(2,9)(3,6)(4,5)(7,8)), ((1,2)(3,10)(4,9)(5,8)(6,7), (1,10)(2,5)(3,8)(4,7)(6,9)), ((1,2)(3,10)(4,9)(5,8)(6,7), (1,10)(2,7)(3,8)(4,5)(6,9)), ((1,2)(3,10)(4,9)(5,8)(6,7), (1,10)(2,9)(3,8)(4,7)(5,6)), ((1,4)(2,3)(5,6)(7,8)(9,10), (1,6)(2,5)(3,4)(7,10)(8,9)), ((1,4)(2,3)(5,6)(7,8)(9,10), (1,6)(2,9)(3,4)(5,8)(7,10)), ((1,4)(2,3)(5,6)(7,8)(9,10), (1,6)(2,7)(3,4)(5,10)(8,9)), ((1,4)(2,3)(5,6)(7,8)(9,10), (1,6)(2,5)(3,8)(4,9)(7,10)), ((1,4)(2,3)(5,6)(7,8)(9,10), (1,6)(2,9)(3,8)(4,5)(7,10)), ((1,4)(2,3)(5,6)(7,8)(9,10), (1,6)(2,7)(3,8)(4,9)(5,10)), ((1,4)(2,3)(5,6)(7,8)(9,10), (1,6)(2,9)(3,8)(4,7)(5,10)), ((1,4)(2,3)(5,6)(7,8)(9,10), (1,6)(2,5)(3,10)(4,7)(8,9)), ((1,4)(2,3)(5,6)(7,8)(9,10), (1,6)(2,7)(3,10)(4,5)(8,9)), ((1,4)(2,3)(5,6)(7,8)(9,10), (1,6)(2,7)(3,10)(4,9)(5,8)), ((1,4)(2,3)(5,6)(7,8)(9,10), (1,6)(2,9)(3,10)(4,7)(5,8)), ((1,4)(2,3)(5,6)(7,8)(9,10), (1,8)(2,5)(3,4)(6,9)(7,10)), ((1,4)(2,3)(5,6)(7,8)(9,10), (1,8)(2,7)(3,4)(5,10)(6,9)), ((1,4)(2,3)(5,6)(7,8)(9,10), (1,8)(2,9)(3,4)(5,10)(6,7)), ((1,4)(2,3)(5,6)(7,8)(9,10), (1,8)(2,5)(3,6)(4,9)(7,10)), ((1,4)(2,3)(5,6)(7,8)(9,10), (1,8)(2,9)(3,6)(4,5)(7,10)), ((1,4)(2,3)(5,6)(7,8)(9,10), (1,8)(2,7)(3,6)(4,9)(5,10)), ((1,4)(2,3)(5,6)(7,8)(9,10), (1,8)(2,9)(3,6)(4,7)(5,10)), ((1,4)(2,3)(5,6)(7,8)(9,10), (1,8)(2,5)(3,10)(4,7)(6,9)), ((1,4)(2,3)(5,6)(7,8)(9,10), (1,8)(2,5)(3,10)(4,9)(6,7)), ((1,4)(2,3)(5,6)(7,8)(9,10), (1,8)(2,7)(3,10)(4,5)(6,9)), ((1,4)(2,3)(5,6)(7,8)(9,10), (1,8)(2,9)(3,10)(4,5)(6,7)), ((1,4)(2,3)(5,6)(7,8)(9,10), (1,10)(2,5)(3,4)(6,7)(8,9)), ((1,4)(2,3)(5,6)(7,8)(9,10), (1,10)(2,7)(3,4)(5,8)(6,9)), ((1,4)(2,3)(5,6)(7,8)(9,10), (1,10)(2,9)(3,4)(5,8)(6,7)), ((1,4)(2,3)(5,6)(7,8)(9,10), (1,10)(2,5)(3,6)(4,7)(8,9)), ((1,4)(2,3)(5,6)(7,8)(9,10), (1,10)(2,7)(3,6)(4,5)(8,9)), ((1,4)(2,3)(5,6)(7,8)(9,10), (1,10)(2,7)(3,6)(4,9)(5,8)), ((1,4)(2,3)(5,6)(7,8)(9,10), (1,10)(2,9)(3,6)(4,7)(5,8)), ((1,4)(2,3)(5,6)(7,8)(9,10), (1,10)(2,5)(3,8)(4,7)(6,9)), ((1,4)(2,3)(5,6)(7,8)(9,10), (1,10)(2,5)(3,8)(4,9)(6,7)), ((1,4)(2,3)(5,6)(7,8)(9,10), (1,10)(2,7)(3,8)(4,5)(6,9)), ((1,4)(2,3)(5,6)(7,8)(9,10), (1,10)(2,9)(3,8)(4,5)(6,7)), ((1,4)(2,3)(5,6)(7,10)(8,9), (1,6)(2,5)(3,4)(7,8)(9,10)), ((1,4)(2,3)(5,6)(7,10)(8,9), (1,6)(2,7)(3,4)(5,8)(9,10)), ((1,4)(2,3)(5,6)(7,10)(8,9), (1,6)(2,9)(3,4)(5,10)(7,8)), ((1,4)(2,3)(5,6)(7,10)(8,9), (1,6)(2,5)(3,8)(4,7)(9,10)), ((1,4)(2,3)(5,6)(7,10)(8,9), (1,6)(2,7)(3,8)(4,5)(9,10)), ((1,4)(2,3)(5,6)(7,10)(8,9), (1,6)(2,7)(3,8)(4,9)(5,10)), ((1,4)(2,3)(5,6)(7,10)(8,9), (1,6)(2,9)(3,8)(4,7)(5,10)), ((1,4)(2,3)(5,6)(7,10)(8,9), (1,6)(2,5)(3,10)(4,9)(7,8)), ((1,4)(2,3)(5,6)(7,10)(8,9), (1,6)(2,9)(3,10)(4,5)(7,8)), ((1,4)(2,3)(5,6)(7,10)(8,9), (1,6)(2,7)(3,10)(4,9)(5,8)), ((1,4)(2,3)(5,6)(7,10)(8,9), (1,6)(2,9)(3,10)(4,7)(5,8)), ((1,4)(2,3)(5,6)(7,10)(8,9), (1,8)(2,5)(3,4)(6,7)(9,10)), ((1,4)(2,3)(5,6)(7,10)(8,9), (1,8)(2,7)(3,4)(5,10)(6,9)), ((1,4)(2,3)(5,6)(7,10)(8,9), (1,8)(2,9)(3,4)(5,10)(6,7)), ((1,4)(2,3)(5,6)(7,10)(8,9), (1,8)(2,5)(3,6)(4,7)(9,10)), ((1,4)(2,3)(5,6)(7,10)(8,9), (1,8)(2,7)(3,6)(4,5)(9,10)), ((1,4)(2,3)(5,6)(7,10)(8,9), (1,8)(2,7)(3,6)(4,9)(5,10)), ((1,4)(2,3)(5,6)(7,10)(8,9), (1,8)(2,9)(3,6)(4,7)(5,10)), ((1,4)(2,3)(5,6)(7,10)(8,9), (1,8)(2,5)(3,10)(4,7)(6,9)), ((1,4)(2,3)(5,6)(7,10)(8,9), (1,8)(2,5)(3,10)(4,9)(6,7)), ((1,4)(2,3)(5,6)(7,10)(8,9), (1,8)(2,7)(3,10)(4,5)(6,9)), ((1,4)(2,3)(5,6)(7,10)(8,9), (1,8)(2,9)(3,10)(4,5)(6,7)), ((1,4)(2,3)(5,6)(7,10)(8,9), (1,10)(2,5)(3,4)(6,9)(7,8)), ((1,4)(2,3)(5,6)(7,10)(8,9), (1,10)(2,7)(3,4)(5,8)(6,9)), ((1,4)(2,3)(5,6)(7,10)(8,9), (1,10)(2,9)(3,4)(5,8)(6,7)), ((1,4)(2,3)(5,6)(7,10)(8,9), (1,10)(2,5)(3,6)(4,9)(7,8)), ((1,4)(2,3)(5,6)(7,10)(8,9), (1,10)(2,9)(3,6)(4,5)(7,8)), ((1,4)(2,3)(5,6)(7,10)(8,9), (1,10)(2,7)(3,6)(4,9)(5,8)), ((1,4)(2,3)(5,6)(7,10)(8,9), (1,10)(2,9)(3,6)(4,7)(5,8)), ((1,4)(2,3)(5,6)(7,10)(8,9), (1,10)(2,5)(3,8)(4,7)(6,9)), ((1,4)(2,3)(5,6)(7,10)(8,9), (1,10)(2,5)(3,8)(4,9)(6,7)), ((1,4)(2,3)(5,6)(7,10)(8,9), (1,10)(2,7)(3,8)(4,5)(6,9)), ((1,4)(2,3)(5,6)(7,10)(8,9), (1,10)(2,9)(3,8)(4,5)(6,7)), ((1,4)(2,3)(5,8)(6,7)(9,10), (1,6)(2,5)(3,4)(7,10)(8,9)), ((1,4)(2,3)(5,8)(6,7)(9,10), (1,6)(2,7)(3,4)(5,10)(8,9)), ((1,4)(2,3)(5,8)(6,7)(9,10), (1,6)(2,9)(3,4)(5,10)(7,8)), ((1,4)(2,3)(5,8)(6,7)(9,10), (1,6)(2,5)(3,8)(4,9)(7,10)), ((1,4)(2,3)(5,8)(6,7)(9,10), (1,6)(2,9)(3,8)(4,5)(7,10)), ((1,4)(2,3)(5,8)(6,7)(9,10), (1,6)(2,7)(3,8)(4,9)(5,10)), ((1,4)(2,3)(5,8)(6,7)(9,10), (1,6)(2,9)(3,8)(4,7)(5,10)), ((1,4)(2,3)(5,8)(6,7)(9,10), (1,6)(2,5)(3,10)(4,7)(8,9)), ((1,4)(2,3)(5,8)(6,7)(9,10), (1,6)(2,5)(3,10)(4,9)(7,8)), ((1,4)(2,3)(5,8)(6,7)(9,10), (1,6)(2,7)(3,10)(4,5)(8,9)), ((1,4)(2,3)(5,8)(6,7)(9,10), (1,6)(2,9)(3,10)(4,5)(7,8)), ((1,4)(2,3)(5,8)(6,7)(9,10), (1,8)(2,5)(3,4)(6,9)(7,10)), ((1,4)(2,3)(5,8)(6,7)(9,10), (1,8)(2,9)(3,4)(5,6)(7,10)), ((1,4)(2,3)(5,8)(6,7)(9,10), (1,8)(2,7)(3,4)(5,10)(6,9)), ((1,4)(2,3)(5,8)(6,7)(9,10), (1,8)(2,5)(3,6)(4,9)(7,10)), ((1,4)(2,3)(5,8)(6,7)(9,10), (1,8)(2,9)(3,6)(4,5)(7,10)), ((1,4)(2,3)(5,8)(6,7)(9,10), (1,8)(2,7)(3,6)(4,9)(5,10)), ((1,4)(2,3)(5,8)(6,7)(9,10), (1,8)(2,9)(3,6)(4,7)(5,10)), ((1,4)(2,3)(5,8)(6,7)(9,10), (1,8)(2,5)(3,10)(4,7)(6,9)), ((1,4)(2,3)(5,8)(6,7)(9,10), (1,8)(2,7)(3,10)(4,5)(6,9)), ((1,4)(2,3)(5,8)(6,7)(9,10), (1,8)(2,7)(3,10)(4,9)(5,6)), ((1,4)(2,3)(5,8)(6,7)(9,10), (1,8)(2,9)(3,10)(4,7)(5,6)), ((1,4)(2,3)(5,8)(6,7)(9,10), (1,10)(2,5)(3,4)(6,9)(7,8)), ((1,4)(2,3)(5,8)(6,7)(9,10), (1,10)(2,7)(3,4)(5,6)(8,9)), ((1,4)(2,3)(5,8)(6,7)(9,10), (1,10)(2,9)(3,4)(5,6)(7,8)), ((1,4)(2,3)(5,8)(6,7)(9,10), (1,10)(2,5)(3,6)(4,7)(8,9)), ((1,4)(2,3)(5,8)(6,7)(9,10), (1,10)(2,5)(3,6)(4,9)(7,8)), ((1,4)(2,3)(5,8)(6,7)(9,10), (1,10)(2,7)(3,6)(4,5)(8,9)), ((1,4)(2,3)(5,8)(6,7)(9,10), (1,10)(2,9)(3,6)(4,5)(7,8)), ((1,4)(2,3)(5,8)(6,7)(9,10), (1,10)(2,5)(3,8)(4,7)(6,9)), ((1,4)(2,3)(5,8)(6,7)(9,10), (1,10)(2,7)(3,8)(4,5)(6,9)), ((1,4)(2,3)(5,8)(6,7)(9,10), (1,10)(2,7)(3,8)(4,9)(5,6)), ((1,4)(2,3)(5,8)(6,7)(9,10), (1,10)(2,9)(3,8)(4,7)(5,6)), ((1,4)(2,3)(5,8)(6,9)(7,10), (1,6)(2,5)(3,4)(7,8)(9,10)), ((1,4)(2,3)(5,8)(6,9)(7,10), (1,6)(2,7)(3,4)(5,10)(8,9)), ((1,4)(2,3)(5,8)(6,9)(7,10), (1,6)(2,9)(3,4)(5,10)(7,8)), ((1,4)(2,3)(5,8)(6,9)(7,10), (1,6)(2,5)(3,8)(4,7)(9,10)), ((1,4)(2,3)(5,8)(6,9)(7,10), (1,6)(2,7)(3,8)(4,5)(9,10)), ((1,4)(2,3)(5,8)(6,9)(7,10), (1,6)(2,7)(3,8)(4,9)(5,10)), ((1,4)(2,3)(5,8)(6,9)(7,10), (1,6)(2,9)(3,8)(4,7)(5,10)), ((1,4)(2,3)(5,8)(6,9)(7,10), (1,6)(2,5)(3,10)(4,7)(8,9)), ((1,4)(2,3)(5,8)(6,9)(7,10), (1,6)(2,5)(3,10)(4,9)(7,8)), ((1,4)(2,3)(5,8)(6,9)(7,10), (1,6)(2,7)(3,10)(4,5)(8,9)), ((1,4)(2,3)(5,8)(6,9)(7,10), (1,6)(2,9)(3,10)(4,5)(7,8)), ((1,4)(2,3)(5,8)(6,9)(7,10), (1,8)(2,5)(3,4)(6,7)(9,10)), ((1,4)(2,3)(5,8)(6,9)(7,10), (1,8)(2,7)(3,4)(5,6)(9,10)), ((1,4)(2,3)(5,8)(6,9)(7,10), (1,8)(2,9)(3,4)(5,10)(6,7)), ((1,4)(2,3)(5,8)(6,9)(7,10), (1,8)(2,5)(3,6)(4,7)(9,10)), ((1,4)(2,3)(5,8)(6,9)(7,10), (1,8)(2,7)(3,6)(4,5)(9,10)), ((1,4)(2,3)(5,8)(6,9)(7,10), (1,8)(2,7)(3,6)(4,9)(5,10)), ((1,4)(2,3)(5,8)(6,9)(7,10), (1,8)(2,9)(3,6)(4,7)(5,10)), ((1,4)(2,3)(5,8)(6,9)(7,10), (1,8)(2,5)(3,10)(4,9)(6,7)), ((1,4)(2,3)(5,8)(6,9)(7,10), (1,8)(2,9)(3,10)(4,5)(6,7)), ((1,4)(2,3)(5,8)(6,9)(7,10), (1,8)(2,7)(3,10)(4,9)(5,6)), ((1,4)(2,3)(5,8)(6,9)(7,10), (1,8)(2,9)(3,10)(4,7)(5,6)), ((1,4)(2,3)(5,8)(6,9)(7,10), (1,10)(2,5)(3,4)(6,7)(8,9)), ((1,4)(2,3)(5,8)(6,9)(7,10), (1,10)(2,7)(3,4)(5,6)(8,9)), ((1,4)(2,3)(5,8)(6,9)(7,10), (1,10)(2,9)(3,4)(5,6)(7,8)), ((1,4)(2,3)(5,8)(6,9)(7,10), (1,10)(2,5)(3,6)(4,7)(8,9)), ((1,4)(2,3)(5,8)(6,9)(7,10), (1,10)(2,5)(3,6)(4,9)(7,8)), ((1,4)(2,3)(5,8)(6,9)(7,10), (1,10)(2,7)(3,6)(4,5)(8,9)), ((1,4)(2,3)(5,8)(6,9)(7,10), (1,10)(2,9)(3,6)(4,5)(7,8)), ((1,4)(2,3)(5,8)(6,9)(7,10), (1,10)(2,5)(3,8)(4,9)(6,7)), ((1,4)(2,3)(5,8)(6,9)(7,10), (1,10)(2,9)(3,8)(4,5)(6,7)), ((1,4)(2,3)(5,8)(6,9)(7,10), (1,10)(2,7)(3,8)(4,9)(5,6)), ((1,4)(2,3)(5,8)(6,9)(7,10), (1,10)(2,9)(3,8)(4,7)(5,6)), ((1,4)(2,3)(5,10)(6,7)(8,9), (1,6)(2,5)(3,4)(7,8)(9,10)), ((1,4)(2,3)(5,10)(6,7)(8,9), (1,6)(2,7)(3,4)(5,8)(9,10)), ((1,4)(2,3)(5,10)(6,7)(8,9), (1,6)(2,9)(3,4)(5,8)(7,10)), ((1,4)(2,3)(5,10)(6,7)(8,9), (1,6)(2,5)(3,8)(4,7)(9,10)), ((1,4)(2,3)(5,10)(6,7)(8,9), (1,6)(2,5)(3,8)(4,9)(7,10)), ((1,4)(2,3)(5,10)(6,7)(8,9), (1,6)(2,7)(3,8)(4,5)(9,10)), ((1,4)(2,3)(5,10)(6,7)(8,9), (1,6)(2,9)(3,8)(4,5)(7,10)), ((1,4)(2,3)(5,10)(6,7)(8,9), (1,6)(2,5)(3,10)(4,9)(7,8)), ((1,4)(2,3)(5,10)(6,7)(8,9), (1,6)(2,9)(3,10)(4,5)(7,8)), ((1,4)(2,3)(5,10)(6,7)(8,9), (1,6)(2,7)(3,10)(4,9)(5,8)), ((1,4)(2,3)(5,10)(6,7)(8,9), (1,6)(2,9)(3,10)(4,7)(5,8)), ((1,4)(2,3)(5,10)(6,7)(8,9), (1,8)(2,5)(3,4)(6,9)(7,10)), ((1,4)(2,3)(5,10)(6,7)(8,9), (1,8)(2,7)(3,4)(5,6)(9,10)), ((1,4)(2,3)(5,10)(6,7)(8,9), (1,8)(2,9)(3,4)(5,6)(7,10)), ((1,4)(2,3)(5,10)(6,7)(8,9), (1,8)(2,5)(3,6)(4,7)(9,10)), ((1,4)(2,3)(5,10)(6,7)(8,9), (1,8)(2,5)(3,6)(4,9)(7,10)), ((1,4)(2,3)(5,10)(6,7)(8,9), (1,8)(2,7)(3,6)(4,5)(9,10)), ((1,4)(2,3)(5,10)(6,7)(8,9), (1,8)(2,9)(3,6)(4,5)(7,10)), ((1,4)(2,3)(5,10)(6,7)(8,9), (1,8)(2,5)(3,10)(4,7)(6,9)), ((1,4)(2,3)(5,10)(6,7)(8,9), (1,8)(2,7)(3,10)(4,5)(6,9)), ((1,4)(2,3)(5,10)(6,7)(8,9), (1,8)(2,7)(3,10)(4,9)(5,6)), ((1,4)(2,3)(5,10)(6,7)(8,9), (1,8)(2,9)(3,10)(4,7)(5,6)), ((1,4)(2,3)(5,10)(6,7)(8,9), (1,10)(2,5)(3,4)(6,9)(7,8)), ((1,4)(2,3)(5,10)(6,7)(8,9), (1,10)(2,9)(3,4)(5,6)(7,8)), ((1,4)(2,3)(5,10)(6,7)(8,9), (1,10)(2,7)(3,4)(5,8)(6,9)), ((1,4)(2,3)(5,10)(6,7)(8,9), (1,10)(2,5)(3,6)(4,9)(7,8)), ((1,4)(2,3)(5,10)(6,7)(8,9), (1,10)(2,9)(3,6)(4,5)(7,8)), ((1,4)(2,3)(5,10)(6,7)(8,9), (1,10)(2,7)(3,6)(4,9)(5,8)), ((1,4)(2,3)(5,10)(6,7)(8,9), (1,10)(2,9)(3,6)(4,7)(5,8)), ((1,4)(2,3)(5,10)(6,7)(8,9), (1,10)(2,5)(3,8)(4,7)(6,9)), ((1,4)(2,3)(5,10)(6,7)(8,9), (1,10)(2,7)(3,8)(4,5)(6,9)), ((1,4)(2,3)(5,10)(6,7)(8,9), (1,10)(2,7)(3,8)(4,9)(5,6)), ((1,4)(2,3)(5,10)(6,7)(8,9), (1,10)(2,9)(3,8)(4,7)(5,6)), ((1,4)(2,3)(5,10)(6,9)(7,8), (1,6)(2,5)(3,4)(7,10)(8,9)), ((1,4)(2,3)(5,10)(6,9)(7,8), (1,6)(2,7)(3,4)(5,8)(9,10)), ((1,4)(2,3)(5,10)(6,9)(7,8), (1,6)(2,9)(3,4)(5,8)(7,10)), ((1,4)(2,3)(5,10)(6,9)(7,8), (1,6)(2,5)(3,8)(4,7)(9,10)), ((1,4)(2,3)(5,10)(6,9)(7,8), (1,6)(2,5)(3,8)(4,9)(7,10)), ((1,4)(2,3)(5,10)(6,9)(7,8), (1,6)(2,7)(3,8)(4,5)(9,10)), ((1,4)(2,3)(5,10)(6,9)(7,8), (1,6)(2,9)(3,8)(4,5)(7,10)), ((1,4)(2,3)(5,10)(6,9)(7,8), (1,6)(2,5)(3,10)(4,7)(8,9)), ((1,4)(2,3)(5,10)(6,9)(7,8), (1,6)(2,7)(3,10)(4,5)(8,9)), ((1,4)(2,3)(5,10)(6,9)(7,8), (1,6)(2,7)(3,10)(4,9)(5,8)), ((1,4)(2,3)(5,10)(6,9)(7,8), (1,6)(2,9)(3,10)(4,7)(5,8)), ((1,4)(2,3)(5,10)(6,9)(7,8), (1,8)(2,5)(3,4)(6,7)(9,10)), ((1,4)(2,3)(5,10)(6,9)(7,8), (1,8)(2,7)(3,4)(5,6)(9,10)), ((1,4)(2,3)(5,10)(6,9)(7,8), (1,8)(2,9)(3,4)(5,6)(7,10)), ((1,4)(2,3)(5,10)(6,9)(7,8), (1,8)(2,5)(3,6)(4,7)(9,10)), ((1,4)(2,3)(5,10)(6,9)(7,8), (1,8)(2,5)(3,6)(4,9)(7,10)), ((1,4)(2,3)(5,10)(6,9)(7,8), (1,8)(2,7)(3,6)(4,5)(9,10)), ((1,4)(2,3)(5,10)(6,9)(7,8), (1,8)(2,9)(3,6)(4,5)(7,10)), ((1,4)(2,3)(5,10)(6,9)(7,8), (1,8)(2,5)(3,10)(4,9)(6,7)), ((1,4)(2,3)(5,10)(6,9)(7,8), (1,8)(2,9)(3,10)(4,5)(6,7)), ((1,4)(2,3)(5,10)(6,9)(7,8), (1,8)(2,7)(3,10)(4,9)(5,6)), ((1,4)(2,3)(5,10)(6,9)(7,8), (1,8)(2,9)(3,10)(4,7)(5,6)), ((1,4)(2,3)(5,10)(6,9)(7,8), (1,10)(2,5)(3,4)(6,7)(8,9)), ((1,4)(2,3)(5,10)(6,9)(7,8), (1,10)(2,7)(3,4)(5,6)(8,9)), ((1,4)(2,3)(5,10)(6,9)(7,8), (1,10)(2,9)(3,4)(5,8)(6,7)), ((1,4)(2,3)(5,10)(6,9)(7,8), (1,10)(2,5)(3,6)(4,7)(8,9)), ((1,4)(2,3)(5,10)(6,9)(7,8), (1,10)(2,7)(3,6)(4,5)(8,9)), ((1,4)(2,3)(5,10)(6,9)(7,8), (1,10)(2,7)(3,6)(4,9)(5,8)), ((1,4)(2,3)(5,10)(6,9)(7,8), (1,10)(2,9)(3,6)(4,7)(5,8)), ((1,4)(2,3)(5,10)(6,9)(7,8), (1,10)(2,5)(3,8)(4,9)(6,7)), ((1,4)(2,3)(5,10)(6,9)(7,8), (1,10)(2,9)(3,8)(4,5)(6,7)), ((1,4)(2,3)(5,10)(6,9)(7,8), (1,10)(2,7)(3,8)(4,9)(5,6)), ((1,4)(2,3)(5,10)(6,9)(7,8), (1,10)(2,9)(3,8)(4,7)(5,6)), ((1,4)(2,5)(3,6)(7,8)(9,10), (1,6)(2,3)(4,5)(7,10)(8,9)), ((1,4)(2,5)(3,6)(7,8)(9,10), (1,6)(2,3)(4,9)(5,8)(7,10)), ((1,4)(2,5)(3,6)(7,8)(9,10), (1,6)(2,3)(4,7)(5,10)(8,9)), ((1,4)(2,5)(3,6)(7,8)(9,10), (1,6)(2,9)(3,4)(5,8)(7,10)), ((1,4)(2,5)(3,6)(7,8)(9,10), (1,6)(2,7)(3,4)(5,10)(8,9)), ((1,4)(2,5)(3,6)(7,8)(9,10), (1,6)(2,9)(3,8)(4,5)(7,10)), ((1,4)(2,5)(3,6)(7,8)(9,10), (1,6)(2,7)(3,8)(4,9)(5,10)), ((1,4)(2,5)(3,6)(7,8)(9,10), (1,6)(2,9)(3,8)(4,7)(5,10)), ((1,4)(2,5)(3,6)(7,8)(9,10), (1,6)(2,7)(3,10)(4,5)(8,9)), ((1,4)(2,5)(3,6)(7,8)(9,10), (1,6)(2,7)(3,10)(4,9)(5,8)), ((1,4)(2,5)(3,6)(7,8)(9,10), (1,6)(2,9)(3,10)(4,7)(5,8)), ((1,4)(2,5)(3,6)(7,8)(9,10), (1,8)(2,3)(4,5)(6,9)(7,10)), ((1,4)(2,5)(3,6)(7,8)(9,10), (1,8)(2,3)(4,9)(5,6)(7,10)), ((1,4)(2,5)(3,6)(7,8)(9,10), (1,8)(2,3)(4,7)(5,10)(6,9)), ((1,4)(2,5)(3,6)(7,8)(9,10), (1,8)(2,3)(4,9)(5,10)(6,7)), ((1,4)(2,5)(3,6)(7,8)(9,10), (1,8)(2,9)(3,4)(5,6)(7,10)), ((1,4)(2,5)(3,6)(7,8)(9,10), (1,8)(2,7)(3,4)(5,10)(6,9)), ((1,4)(2,5)(3,6)(7,8)(9,10), (1,8)(2,9)(3,4)(5,10)(6,7)), ((1,4)(2,5)(3,6)(7,8)(9,10), (1,8)(2,7)(3,10)(4,5)(6,9)), ((1,4)(2,5)(3,6)(7,8)(9,10), (1,8)(2,9)(3,10)(4,5)(6,7)), ((1,4)(2,5)(3,6)(7,8)(9,10), (1,8)(2,7)(3,10)(4,9)(5,6)), ((1,4)(2,5)(3,6)(7,8)(9,10), (1,8)(2,9)(3,10)(4,7)(5,6)), ((1,4)(2,5)(3,6)(7,8)(9,10), (1,10)(2,3)(4,5)(6,7)(8,9)), ((1,4)(2,5)(3,6)(7,8)(9,10), (1,10)(2,3)(4,7)(5,6)(8,9)), ((1,4)(2,5)(3,6)(7,8)(9,10), (1,10)(2,3)(4,7)(5,8)(6,9)), ((1,4)(2,5)(3,6)(7,8)(9,10), (1,10)(2,3)(4,9)(5,8)(6,7)), ((1,4)(2,5)(3,6)(7,8)(9,10), (1,10)(2,7)(3,4)(5,6)(8,9)), ((1,4)(2,5)(3,6)(7,8)(9,10), (1,10)(2,7)(3,4)(5,8)(6,9)), ((1,4)(2,5)(3,6)(7,8)(9,10), (1,10)(2,9)(3,4)(5,8)(6,7)), ((1,4)(2,5)(3,6)(7,8)(9,10), (1,10)(2,7)(3,8)(4,5)(6,9)), ((1,4)(2,5)(3,6)(7,8)(9,10), (1,10)(2,9)(3,8)(4,5)(6,7)), ((1,4)(2,5)(3,6)(7,8)(9,10), (1,10)(2,7)(3,8)(4,9)(5,6)), ((1,4)(2,5)(3,6)(7,8)(9,10), (1,10)(2,9)(3,8)(4,7)(5,6)), ((1,4)(2,5)(3,6)(7,10)(8,9), (1,6)(2,3)(4,5)(7,8)(9,10)), ((1,4)(2,5)(3,6)(7,10)(8,9), (1,6)(2,3)(4,7)(5,8)(9,10)), ((1,4)(2,5)(3,6)(7,10)(8,9), (1,6)(2,3)(4,9)(5,10)(7,8)), ((1,4)(2,5)(3,6)(7,10)(8,9), (1,6)(2,7)(3,4)(5,8)(9,10)), ((1,4)(2,5)(3,6)(7,10)(8,9), (1,6)(2,9)(3,4)(5,10)(7,8)), ((1,4)(2,5)(3,6)(7,10)(8,9), (1,6)(2,7)(3,8)(4,5)(9,10)), ((1,4)(2,5)(3,6)(7,10)(8,9), (1,6)(2,7)(3,8)(4,9)(5,10)), ((1,4)(2,5)(3,6)(7,10)(8,9), (1,6)(2,9)(3,8)(4,7)(5,10)), ((1,4)(2,5)(3,6)(7,10)(8,9), (1,6)(2,9)(3,10)(4,5)(7,8)), ((1,4)(2,5)(3,6)(7,10)(8,9), (1,6)(2,7)(3,10)(4,9)(5,8)), ((1,4)(2,5)(3,6)(7,10)(8,9), (1,6)(2,9)(3,10)(4,7)(5,8)), ((1,4)(2,5)(3,6)(7,10)(8,9), (1,8)(2,3)(4,5)(6,7)(9,10)), ((1,4)(2,5)(3,6)(7,10)(8,9), (1,8)(2,3)(4,7)(5,6)(9,10)), ((1,4)(2,5)(3,6)(7,10)(8,9), (1,8)(2,3)(4,7)(5,10)(6,9)), ((1,4)(2,5)(3,6)(7,10)(8,9), (1,8)(2,3)(4,9)(5,10)(6,7)), ((1,4)(2,5)(3,6)(7,10)(8,9), (1,8)(2,7)(3,4)(5,6)(9,10)), ((1,4)(2,5)(3,6)(7,10)(8,9), (1,8)(2,7)(3,4)(5,10)(6,9)), ((1,4)(2,5)(3,6)(7,10)(8,9), (1,8)(2,9)(3,4)(5,10)(6,7)), ((1,4)(2,5)(3,6)(7,10)(8,9), (1,8)(2,7)(3,10)(4,5)(6,9)), ((1,4)(2,5)(3,6)(7,10)(8,9), (1,8)(2,9)(3,10)(4,5)(6,7)), ((1,4)(2,5)(3,6)(7,10)(8,9), (1,8)(2,7)(3,10)(4,9)(5,6)), ((1,4)(2,5)(3,6)(7,10)(8,9), (1,8)(2,9)(3,10)(4,7)(5,6)), ((1,4)(2,5)(3,6)(7,10)(8,9), (1,10)(2,3)(4,5)(6,9)(7,8)), ((1,4)(2,5)(3,6)(7,10)(8,9), (1,10)(2,3)(4,9)(5,6)(7,8)), ((1,4)(2,5)(3,6)(7,10)(8,9), (1,10)(2,3)(4,7)(5,8)(6,9)), ((1,4)(2,5)(3,6)(7,10)(8,9), (1,10)(2,3)(4,9)(5,8)(6,7)), ((1,4)(2,5)(3,6)(7,10)(8,9), (1,10)(2,9)(3,4)(5,6)(7,8)), ((1,4)(2,5)(3,6)(7,10)(8,9), (1,10)(2,7)(3,4)(5,8)(6,9)), ((1,4)(2,5)(3,6)(7,10)(8,9), (1,10)(2,9)(3,4)(5,8)(6,7)), ((1,4)(2,5)(3,6)(7,10)(8,9), (1,10)(2,7)(3,8)(4,5)(6,9)), ((1,4)(2,5)(3,6)(7,10)(8,9), (1,10)(2,9)(3,8)(4,5)(6,7)), ((1,4)(2,5)(3,6)(7,10)(8,9), (1,10)(2,7)(3,8)(4,9)(5,6)), ((1,4)(2,5)(3,6)(7,10)(8,9), (1,10)(2,9)(3,8)(4,7)(5,6)), ((1,4)(2,7)(3,6)(5,8)(9,10), (1,6)(2,3)(4,5)(7,10)(8,9)), ((1,4)(2,7)(3,6)(5,8)(9,10), (1,6)(2,3)(4,7)(5,10)(8,9)), ((1,4)(2,7)(3,6)(5,8)(9,10), (1,6)(2,3)(4,9)(5,10)(7,8)), ((1,4)(2,7)(3,6)(5,8)(9,10), (1,6)(2,5)(3,4)(7,10)(8,9)), ((1,4)(2,7)(3,6)(5,8)(9,10), (1,6)(2,9)(3,4)(5,10)(7,8)), ((1,4)(2,7)(3,6)(5,8)(9,10), (1,6)(2,5)(3,8)(4,9)(7,10)), ((1,4)(2,7)(3,6)(5,8)(9,10), (1,6)(2,9)(3,8)(4,5)(7,10)), ((1,4)(2,7)(3,6)(5,8)(9,10), (1,6)(2,9)(3,8)(4,7)(5,10)), ((1,4)(2,7)(3,6)(5,8)(9,10), (1,6)(2,5)(3,10)(4,7)(8,9)), ((1,4)(2,7)(3,6)(5,8)(9,10), (1,6)(2,5)(3,10)(4,9)(7,8)), ((1,4)(2,7)(3,6)(5,8)(9,10), (1,6)(2,9)(3,10)(4,5)(7,8)), ((1,4)(2,7)(3,6)(5,8)(9,10), (1,8)(2,3)(4,5)(6,9)(7,10)), ((1,4)(2,7)(3,6)(5,8)(9,10), (1,8)(2,3)(4,9)(5,6)(7,10)), ((1,4)(2,7)(3,6)(5,8)(9,10), (1,8)(2,3)(4,7)(5,10)(6,9)), ((1,4)(2,7)(3,6)(5,8)(9,10), (1,8)(2,3)(4,9)(5,10)(6,7)), ((1,4)(2,7)(3,6)(5,8)(9,10), (1,8)(2,5)(3,4)(6,9)(7,10)), ((1,4)(2,7)(3,6)(5,8)(9,10), (1,8)(2,9)(3,4)(5,6)(7,10)), ((1,4)(2,7)(3,6)(5,8)(9,10), (1,8)(2,9)(3,4)(5,10)(6,7)), ((1,4)(2,7)(3,6)(5,8)(9,10), (1,8)(2,5)(3,10)(4,7)(6,9)), ((1,4)(2,7)(3,6)(5,8)(9,10), (1,8)(2,5)(3,10)(4,9)(6,7)), ((1,4)(2,7)(3,6)(5,8)(9,10), (1,8)(2,9)(3,10)(4,5)(6,7)), ((1,4)(2,7)(3,6)(5,8)(9,10), (1,8)(2,9)(3,10)(4,7)(5,6)), ((1,4)(2,7)(3,6)(5,8)(9,10), (1,10)(2,3)(4,5)(6,7)(8,9)), ((1,4)(2,7)(3,6)(5,8)(9,10), (1,10)(2,3)(4,5)(6,9)(7,8)), ((1,4)(2,7)(3,6)(5,8)(9,10), (1,10)(2,3)(4,7)(5,6)(8,9)), ((1,4)(2,7)(3,6)(5,8)(9,10), (1,10)(2,3)(4,9)(5,6)(7,8)), ((1,4)(2,7)(3,6)(5,8)(9,10), (1,10)(2,5)(3,4)(6,7)(8,9)), ((1,4)(2,7)(3,6)(5,8)(9,10), (1,10)(2,5)(3,4)(6,9)(7,8)), ((1,4)(2,7)(3,6)(5,8)(9,10), (1,10)(2,9)(3,4)(5,6)(7,8)), ((1,4)(2,7)(3,6)(5,8)(9,10), (1,10)(2,5)(3,8)(4,7)(6,9)), ((1,4)(2,7)(3,6)(5,8)(9,10), (1,10)(2,5)(3,8)(4,9)(6,7)), ((1,4)(2,7)(3,6)(5,8)(9,10), (1,10)(2,9)(3,8)(4,5)(6,7)), ((1,4)(2,7)(3,6)(5,8)(9,10), (1,10)(2,9)(3,8)(4,7)(5,6)), ((1,4)(2,9)(3,6)(5,8)(7,10), (1,6)(2,3)(4,5)(7,8)(9,10)), ((1,4)(2,9)(3,6)(5,8)(7,10), (1,6)(2,3)(4,7)(5,10)(8,9)), ((1,4)(2,9)(3,6)(5,8)(7,10), (1,6)(2,3)(4,9)(5,10)(7,8)), ((1,4)(2,9)(3,6)(5,8)(7,10), (1,6)(2,5)(3,4)(7,8)(9,10)), ((1,4)(2,9)(3,6)(5,8)(7,10), (1,6)(2,7)(3,4)(5,10)(8,9)), ((1,4)(2,9)(3,6)(5,8)(7,10), (1,6)(2,5)(3,8)(4,7)(9,10)), ((1,4)(2,9)(3,6)(5,8)(7,10), (1,6)(2,7)(3,8)(4,5)(9,10)), ((1,4)(2,9)(3,6)(5,8)(7,10), (1,6)(2,7)(3,8)(4,9)(5,10)), ((1,4)(2,9)(3,6)(5,8)(7,10), (1,6)(2,5)(3,10)(4,7)(8,9)), ((1,4)(2,9)(3,6)(5,8)(7,10), (1,6)(2,5)(3,10)(4,9)(7,8)), ((1,4)(2,9)(3,6)(5,8)(7,10), (1,6)(2,7)(3,10)(4,5)(8,9)), ((1,4)(2,9)(3,6)(5,8)(7,10), (1,8)(2,3)(4,5)(6,7)(9,10)), ((1,4)(2,9)(3,6)(5,8)(7,10), (1,8)(2,3)(4,7)(5,6)(9,10)), ((1,4)(2,9)(3,6)(5,8)(7,10), (1,8)(2,3)(4,7)(5,10)(6,9)), ((1,4)(2,9)(3,6)(5,8)(7,10), (1,8)(2,3)(4,9)(5,10)(6,7)), ((1,4)(2,9)(3,6)(5,8)(7,10), (1,8)(2,5)(3,4)(6,7)(9,10)), ((1,4)(2,9)(3,6)(5,8)(7,10), (1,8)(2,7)(3,4)(5,6)(9,10)), ((1,4)(2,9)(3,6)(5,8)(7,10), (1,8)(2,7)(3,4)(5,10)(6,9)), ((1,4)(2,9)(3,6)(5,8)(7,10), (1,8)(2,5)(3,10)(4,7)(6,9)), ((1,4)(2,9)(3,6)(5,8)(7,10), (1,8)(2,5)(3,10)(4,9)(6,7)), ((1,4)(2,9)(3,6)(5,8)(7,10), (1,8)(2,7)(3,10)(4,5)(6,9)), ((1,4)(2,9)(3,6)(5,8)(7,10), (1,8)(2,7)(3,10)(4,9)(5,6)), ((1,4)(2,9)(3,6)(5,8)(7,10), (1,10)(2,3)(4,5)(6,7)(8,9)), ((1,4)(2,9)(3,6)(5,8)(7,10), (1,10)(2,3)(4,5)(6,9)(7,8)), ((1,4)(2,9)(3,6)(5,8)(7,10), (1,10)(2,3)(4,7)(5,6)(8,9)), ((1,4)(2,9)(3,6)(5,8)(7,10), (1,10)(2,3)(4,9)(5,6)(7,8)), ((1,4)(2,9)(3,6)(5,8)(7,10), (1,10)(2,5)(3,4)(6,7)(8,9)), ((1,4)(2,9)(3,6)(5,8)(7,10), (1,10)(2,5)(3,4)(6,9)(7,8)), ((1,4)(2,9)(3,6)(5,8)(7,10), (1,10)(2,7)(3,4)(5,6)(8,9)), ((1,4)(2,9)(3,6)(5,8)(7,10), (1,10)(2,5)(3,8)(4,7)(6,9)), ((1,4)(2,9)(3,6)(5,8)(7,10), (1,10)(2,5)(3,8)(4,9)(6,7)), ((1,4)(2,9)(3,6)(5,8)(7,10), (1,10)(2,7)(3,8)(4,5)(6,9)), ((1,4)(2,9)(3,6)(5,8)(7,10), (1,10)(2,7)(3,8)(4,9)(5,6)), ((1,4)(2,7)(3,6)(5,10)(8,9), (1,6)(2,3)(4,5)(7,8)(9,10)), ((1,4)(2,7)(3,6)(5,10)(8,9), (1,6)(2,3)(4,7)(5,8)(9,10)), ((1,4)(2,7)(3,6)(5,10)(8,9), (1,6)(2,3)(4,9)(5,8)(7,10)), ((1,4)(2,7)(3,6)(5,10)(8,9), (1,6)(2,5)(3,4)(7,8)(9,10)), ((1,4)(2,7)(3,6)(5,10)(8,9), (1,6)(2,9)(3,4)(5,8)(7,10)), ((1,4)(2,7)(3,6)(5,10)(8,9), (1,6)(2,5)(3,8)(4,7)(9,10)), ((1,4)(2,7)(3,6)(5,10)(8,9), (1,6)(2,5)(3,8)(4,9)(7,10)), ((1,4)(2,7)(3,6)(5,10)(8,9), (1,6)(2,9)(3,8)(4,5)(7,10)), ((1,4)(2,7)(3,6)(5,10)(8,9), (1,6)(2,5)(3,10)(4,9)(7,8)), ((1,4)(2,7)(3,6)(5,10)(8,9), (1,6)(2,9)(3,10)(4,5)(7,8)), ((1,4)(2,7)(3,6)(5,10)(8,9), (1,6)(2,9)(3,10)(4,7)(5,8)), ((1,4)(2,7)(3,6)(5,10)(8,9), (1,8)(2,3)(4,5)(6,7)(9,10)), ((1,4)(2,7)(3,6)(5,10)(8,9), (1,8)(2,3)(4,5)(6,9)(7,10)), ((1,4)(2,7)(3,6)(5,10)(8,9), (1,8)(2,3)(4,7)(5,6)(9,10)), ((1,4)(2,7)(3,6)(5,10)(8,9), (1,8)(2,3)(4,9)(5,6)(7,10)), ((1,4)(2,7)(3,6)(5,10)(8,9), (1,8)(2,5)(3,4)(6,7)(9,10)), ((1,4)(2,7)(3,6)(5,10)(8,9), (1,8)(2,5)(3,4)(6,9)(7,10)), ((1,4)(2,7)(3,6)(5,10)(8,9), (1,8)(2,9)(3,4)(5,6)(7,10)), ((1,4)(2,7)(3,6)(5,10)(8,9), (1,8)(2,5)(3,10)(4,7)(6,9)), ((1,4)(2,7)(3,6)(5,10)(8,9), (1,8)(2,5)(3,10)(4,9)(6,7)), ((1,4)(2,7)(3,6)(5,10)(8,9), (1,8)(2,9)(3,10)(4,5)(6,7)), ((1,4)(2,7)(3,6)(5,10)(8,9), (1,8)(2,9)(3,10)(4,7)(5,6)), ((1,4)(2,7)(3,6)(5,10)(8,9), (1,10)(2,3)(4,5)(6,9)(7,8)), ((1,4)(2,7)(3,6)(5,10)(8,9), (1,10)(2,3)(4,9)(5,6)(7,8)), ((1,4)(2,7)(3,6)(5,10)(8,9), (1,10)(2,3)(4,7)(5,8)(6,9)), ((1,4)(2,7)(3,6)(5,10)(8,9), (1,10)(2,3)(4,9)(5,8)(6,7)), ((1,4)(2,7)(3,6)(5,10)(8,9), (1,10)(2,5)(3,4)(6,9)(7,8)), ((1,4)(2,7)(3,6)(5,10)(8,9), (1,10)(2,9)(3,4)(5,6)(7,8)), ((1,4)(2,7)(3,6)(5,10)(8,9), (1,10)(2,9)(3,4)(5,8)(6,7)), ((1,4)(2,7)(3,6)(5,10)(8,9), (1,10)(2,5)(3,8)(4,7)(6,9)), ((1,4)(2,7)(3,6)(5,10)(8,9), (1,10)(2,5)(3,8)(4,9)(6,7)), ((1,4)(2,7)(3,6)(5,10)(8,9), (1,10)(2,9)(3,8)(4,5)(6,7)), ((1,4)(2,7)(3,6)(5,10)(8,9), (1,10)(2,9)(3,8)(4,7)(5,6)), ((1,4)(2,9)(3,6)(5,10)(7,8), (1,6)(2,3)(4,5)(7,10)(8,9)), ((1,4)(2,9)(3,6)(5,10)(7,8), (1,6)(2,3)(4,7)(5,8)(9,10)), ((1,4)(2,9)(3,6)(5,10)(7,8), (1,6)(2,3)(4,9)(5,8)(7,10)), ((1,4)(2,9)(3,6)(5,10)(7,8), (1,6)(2,5)(3,4)(7,10)(8,9)), ((1,4)(2,9)(3,6)(5,10)(7,8), (1,6)(2,7)(3,4)(5,8)(9,10)), ((1,4)(2,9)(3,6)(5,10)(7,8), (1,6)(2,5)(3,8)(4,7)(9,10)), ((1,4)(2,9)(3,6)(5,10)(7,8), (1,6)(2,5)(3,8)(4,9)(7,10)), ((1,4)(2,9)(3,6)(5,10)(7,8), (1,6)(2,7)(3,8)(4,5)(9,10)), ((1,4)(2,9)(3,6)(5,10)(7,8), (1,6)(2,5)(3,10)(4,7)(8,9)), ((1,4)(2,9)(3,6)(5,10)(7,8), (1,6)(2,7)(3,10)(4,5)(8,9)), ((1,4)(2,9)(3,6)(5,10)(7,8), (1,6)(2,7)(3,10)(4,9)(5,8)), ((1,4)(2,9)(3,6)(5,10)(7,8), (1,8)(2,3)(4,5)(6,7)(9,10)), ((1,4)(2,9)(3,6)(5,10)(7,8), (1,8)(2,3)(4,5)(6,9)(7,10)), ((1,4)(2,9)(3,6)(5,10)(7,8), (1,8)(2,3)(4,7)(5,6)(9,10)), ((1,4)(2,9)(3,6)(5,10)(7,8), (1,8)(2,3)(4,9)(5,6)(7,10)), ((1,4)(2,9)(3,6)(5,10)(7,8), (1,8)(2,5)(3,4)(6,7)(9,10)), ((1,4)(2,9)(3,6)(5,10)(7,8), (1,8)(2,5)(3,4)(6,9)(7,10)), ((1,4)(2,9)(3,6)(5,10)(7,8), (1,8)(2,7)(3,4)(5,6)(9,10)), ((1,4)(2,9)(3,6)(5,10)(7,8), (1,8)(2,5)(3,10)(4,7)(6,9)), ((1,4)(2,9)(3,6)(5,10)(7,8), (1,8)(2,5)(3,10)(4,9)(6,7)), ((1,4)(2,9)(3,6)(5,10)(7,8), (1,8)(2,7)(3,10)(4,5)(6,9)), ((1,4)(2,9)(3,6)(5,10)(7,8), (1,8)(2,7)(3,10)(4,9)(5,6)), ((1,4)(2,9)(3,6)(5,10)(7,8), (1,10)(2,3)(4,5)(6,7)(8,9)), ((1,4)(2,9)(3,6)(5,10)(7,8), (1,10)(2,3)(4,7)(5,6)(8,9)), ((1,4)(2,9)(3,6)(5,10)(7,8), (1,10)(2,3)(4,7)(5,8)(6,9)), ((1,4)(2,9)(3,6)(5,10)(7,8), (1,10)(2,3)(4,9)(5,8)(6,7)), ((1,4)(2,9)(3,6)(5,10)(7,8), (1,10)(2,5)(3,4)(6,7)(8,9)), ((1,4)(2,9)(3,6)(5,10)(7,8), (1,10)(2,7)(3,4)(5,6)(8,9)), ((1,4)(2,9)(3,6)(5,10)(7,8), (1,10)(2,7)(3,4)(5,8)(6,9)), ((1,4)(2,9)(3,6)(5,10)(7,8), (1,10)(2,5)(3,8)(4,7)(6,9)), ((1,4)(2,9)(3,6)(5,10)(7,8), (1,10)(2,5)(3,8)(4,9)(6,7)), ((1,4)(2,9)(3,6)(5,10)(7,8), (1,10)(2,7)(3,8)(4,5)(6,9)), ((1,4)(2,9)(3,6)(5,10)(7,8), (1,10)(2,7)(3,8)(4,9)(5,6)), ((1,4)(2,5)(3,8)(6,7)(9,10), (1,6)(2,3)(4,5)(7,10)(8,9)), ((1,4)(2,5)(3,8)(6,7)(9,10), (1,6)(2,3)(4,9)(5,8)(7,10)), ((1,4)(2,5)(3,8)(6,7)(9,10), (1,6)(2,3)(4,7)(5,10)(8,9)), ((1,4)(2,5)(3,8)(6,7)(9,10), (1,6)(2,3)(4,9)(5,10)(7,8)), ((1,4)(2,5)(3,8)(6,7)(9,10), (1,6)(2,9)(3,4)(5,8)(7,10)), ((1,4)(2,5)(3,8)(6,7)(9,10), (1,6)(2,7)(3,4)(5,10)(8,9)), ((1,4)(2,5)(3,8)(6,7)(9,10), (1,6)(2,9)(3,4)(5,10)(7,8)), ((1,4)(2,5)(3,8)(6,7)(9,10), (1,6)(2,7)(3,10)(4,5)(8,9)), ((1,4)(2,5)(3,8)(6,7)(9,10), (1,6)(2,9)(3,10)(4,5)(7,8)), ((1,4)(2,5)(3,8)(6,7)(9,10), (1,6)(2,7)(3,10)(4,9)(5,8)), ((1,4)(2,5)(3,8)(6,7)(9,10), (1,6)(2,9)(3,10)(4,7)(5,8)), ((1,4)(2,5)(3,8)(6,7)(9,10), (1,8)(2,3)(4,5)(6,9)(7,10)), ((1,4)(2,5)(3,8)(6,7)(9,10), (1,8)(2,3)(4,9)(5,6)(7,10)), ((1,4)(2,5)(3,8)(6,7)(9,10), (1,8)(2,3)(4,7)(5,10)(6,9)), ((1,4)(2,5)(3,8)(6,7)(9,10), (1,8)(2,9)(3,4)(5,6)(7,10)), ((1,4)(2,5)(3,8)(6,7)(9,10), (1,8)(2,7)(3,4)(5,10)(6,9)), ((1,4)(2,5)(3,8)(6,7)(9,10), (1,8)(2,9)(3,6)(4,5)(7,10)), ((1,4)(2,5)(3,8)(6,7)(9,10), (1,8)(2,7)(3,6)(4,9)(5,10)), ((1,4)(2,5)(3,8)(6,7)(9,10), (1,8)(2,9)(3,6)(4,7)(5,10)), ((1,4)(2,5)(3,8)(6,7)(9,10), (1,8)(2,7)(3,10)(4,5)(6,9)), ((1,4)(2,5)(3,8)(6,7)(9,10), (1,8)(2,7)(3,10)(4,9)(5,6)), ((1,4)(2,5)(3,8)(6,7)(9,10), (1,8)(2,9)(3,10)(4,7)(5,6)), ((1,4)(2,5)(3,8)(6,7)(9,10), (1,10)(2,3)(4,5)(6,9)(7,8)), ((1,4)(2,5)(3,8)(6,7)(9,10), (1,10)(2,3)(4,7)(5,6)(8,9)), ((1,4)(2,5)(3,8)(6,7)(9,10), (1,10)(2,3)(4,9)(5,6)(7,8)), ((1,4)(2,5)(3,8)(6,7)(9,10), (1,10)(2,3)(4,7)(5,8)(6,9)), ((1,4)(2,5)(3,8)(6,7)(9,10), (1,10)(2,7)(3,4)(5,6)(8,9)), ((1,4)(2,5)(3,8)(6,7)(9,10), (1,10)(2,9)(3,4)(5,6)(7,8)), ((1,4)(2,5)(3,8)(6,7)(9,10), (1,10)(2,7)(3,4)(5,8)(6,9)), ((1,4)(2,5)(3,8)(6,7)(9,10), (1,10)(2,7)(3,6)(4,5)(8,9)), ((1,4)(2,5)(3,8)(6,7)(9,10), (1,10)(2,9)(3,6)(4,5)(7,8)), ((1,4)(2,5)(3,8)(6,7)(9,10), (1,10)(2,7)(3,6)(4,9)(5,8)), ((1,4)(2,5)(3,8)(6,7)(9,10), (1,10)(2,9)(3,6)(4,7)(5,8)), ((1,4)(2,5)(3,8)(6,9)(7,10), (1,6)(2,3)(4,5)(7,8)(9,10)), ((1,4)(2,5)(3,8)(6,9)(7,10), (1,6)(2,3)(4,7)(5,8)(9,10)), ((1,4)(2,5)(3,8)(6,9)(7,10), (1,6)(2,3)(4,7)(5,10)(8,9)), ((1,4)(2,5)(3,8)(6,9)(7,10), (1,6)(2,3)(4,9)(5,10)(7,8)), ((1,4)(2,5)(3,8)(6,9)(7,10), (1,6)(2,7)(3,4)(5,8)(9,10)), ((1,4)(2,5)(3,8)(6,9)(7,10), (1,6)(2,7)(3,4)(5,10)(8,9)), ((1,4)(2,5)(3,8)(6,9)(7,10), (1,6)(2,9)(3,4)(5,10)(7,8)), ((1,4)(2,5)(3,8)(6,9)(7,10), (1,6)(2,7)(3,10)(4,5)(8,9)), ((1,4)(2,5)(3,8)(6,9)(7,10), (1,6)(2,9)(3,10)(4,5)(7,8)), ((1,4)(2,5)(3,8)(6,9)(7,10), (1,6)(2,7)(3,10)(4,9)(5,8)), ((1,4)(2,5)(3,8)(6,9)(7,10), (1,6)(2,9)(3,10)(4,7)(5,8)), ((1,4)(2,5)(3,8)(6,9)(7,10), (1,8)(2,3)(4,5)(6,7)(9,10)), ((1,4)(2,5)(3,8)(6,9)(7,10), (1,8)(2,3)(4,7)(5,6)(9,10)), ((1,4)(2,5)(3,8)(6,9)(7,10), (1,8)(2,3)(4,9)(5,10)(6,7)), ((1,4)(2,5)(3,8)(6,9)(7,10), (1,8)(2,7)(3,4)(5,6)(9,10)), ((1,4)(2,5)(3,8)(6,9)(7,10), (1,8)(2,9)(3,4)(5,10)(6,7)), ((1,4)(2,5)(3,8)(6,9)(7,10), (1,8)(2,7)(3,6)(4,5)(9,10)), ((1,4)(2,5)(3,8)(6,9)(7,10), (1,8)(2,7)(3,6)(4,9)(5,10)), ((1,4)(2,5)(3,8)(6,9)(7,10), (1,8)(2,9)(3,6)(4,7)(5,10)), ((1,4)(2,5)(3,8)(6,9)(7,10), (1,8)(2,9)(3,10)(4,5)(6,7)), ((1,4)(2,5)(3,8)(6,9)(7,10), (1,8)(2,7)(3,10)(4,9)(5,6)), ((1,4)(2,5)(3,8)(6,9)(7,10), (1,8)(2,9)(3,10)(4,7)(5,6)), ((1,4)(2,5)(3,8)(6,9)(7,10), (1,10)(2,3)(4,5)(6,7)(8,9)), ((1,4)(2,5)(3,8)(6,9)(7,10), (1,10)(2,3)(4,7)(5,6)(8,9)), ((1,4)(2,5)(3,8)(6,9)(7,10), (1,10)(2,3)(4,9)(5,6)(7,8)), ((1,4)(2,5)(3,8)(6,9)(7,10), (1,10)(2,3)(4,9)(5,8)(6,7)), ((1,4)(2,5)(3,8)(6,9)(7,10), (1,10)(2,7)(3,4)(5,6)(8,9)), ((1,4)(2,5)(3,8)(6,9)(7,10), (1,10)(2,9)(3,4)(5,6)(7,8)), ((1,4)(2,5)(3,8)(6,9)(7,10), (1,10)(2,9)(3,4)(5,8)(6,7)), ((1,4)(2,5)(3,8)(6,9)(7,10), (1,10)(2,7)(3,6)(4,5)(8,9)), ((1,4)(2,5)(3,8)(6,9)(7,10), (1,10)(2,9)(3,6)(4,5)(7,8)), ((1,4)(2,5)(3,8)(6,9)(7,10), (1,10)(2,7)(3,6)(4,9)(5,8)), ((1,4)(2,5)(3,8)(6,9)(7,10), (1,10)(2,9)(3,6)(4,7)(5,8)), ((1,4)(2,7)(3,8)(5,6)(9,10), (1,6)(2,3)(4,5)(7,10)(8,9)), ((1,4)(2,7)(3,8)(5,6)(9,10), (1,6)(2,3)(4,9)(5,8)(7,10)), ((1,4)(2,7)(3,8)(5,6)(9,10), (1,6)(2,3)(4,7)(5,10)(8,9)), ((1,4)(2,7)(3,8)(5,6)(9,10), (1,6)(2,3)(4,9)(5,10)(7,8)), ((1,4)(2,7)(3,8)(5,6)(9,10), (1,6)(2,5)(3,4)(7,10)(8,9)), ((1,4)(2,7)(3,8)(5,6)(9,10), (1,6)(2,9)(3,4)(5,8)(7,10)), ((1,4)(2,7)(3,8)(5,6)(9,10), (1,6)(2,9)(3,4)(5,10)(7,8)), ((1,4)(2,7)(3,8)(5,6)(9,10), (1,6)(2,5)(3,10)(4,7)(8,9)), ((1,4)(2,7)(3,8)(5,6)(9,10), (1,6)(2,5)(3,10)(4,9)(7,8)), ((1,4)(2,7)(3,8)(5,6)(9,10), (1,6)(2,9)(3,10)(4,5)(7,8)), ((1,4)(2,7)(3,8)(5,6)(9,10), (1,6)(2,9)(3,10)(4,7)(5,8)), ((1,4)(2,7)(3,8)(5,6)(9,10), (1,8)(2,3)(4,5)(6,9)(7,10)), ((1,4)(2,7)(3,8)(5,6)(9,10), (1,8)(2,3)(4,7)(5,10)(6,9)), ((1,4)(2,7)(3,8)(5,6)(9,10), (1,8)(2,3)(4,9)(5,10)(6,7)), ((1,4)(2,7)(3,8)(5,6)(9,10), (1,8)(2,5)(3,4)(6,9)(7,10)), ((1,4)(2,7)(3,8)(5,6)(9,10), (1,8)(2,9)(3,4)(5,10)(6,7)), ((1,4)(2,7)(3,8)(5,6)(9,10), (1,8)(2,5)(3,6)(4,9)(7,10)), ((1,4)(2,7)(3,8)(5,6)(9,10), (1,8)(2,9)(3,6)(4,5)(7,10)), ((1,4)(2,7)(3,8)(5,6)(9,10), (1,8)(2,9)(3,6)(4,7)(5,10)), ((1,4)(2,7)(3,8)(5,6)(9,10), (1,8)(2,5)(3,10)(4,7)(6,9)), ((1,4)(2,7)(3,8)(5,6)(9,10), (1,8)(2,5)(3,10)(4,9)(6,7)), ((1,4)(2,7)(3,8)(5,6)(9,10), (1,8)(2,9)(3,10)(4,5)(6,7)), ((1,4)(2,7)(3,8)(5,6)(9,10), (1,10)(2,3)(4,5)(6,7)(8,9)), ((1,4)(2,7)(3,8)(5,6)(9,10), (1,10)(2,3)(4,5)(6,9)(7,8)), ((1,4)(2,7)(3,8)(5,6)(9,10), (1,10)(2,3)(4,7)(5,8)(6,9)), ((1,4)(2,7)(3,8)(5,6)(9,10), (1,10)(2,3)(4,9)(5,8)(6,7)), ((1,4)(2,7)(3,8)(5,6)(9,10), (1,10)(2,5)(3,4)(6,7)(8,9)), ((1,4)(2,7)(3,8)(5,6)(9,10), (1,10)(2,5)(3,4)(6,9)(7,8)), ((1,4)(2,7)(3,8)(5,6)(9,10), (1,10)(2,9)(3,4)(5,8)(6,7)), ((1,4)(2,7)(3,8)(5,6)(9,10), (1,10)(2,5)(3,6)(4,7)(8,9)), ((1,4)(2,7)(3,8)(5,6)(9,10), (1,10)(2,5)(3,6)(4,9)(7,8)), ((1,4)(2,7)(3,8)(5,6)(9,10), (1,10)(2,9)(3,6)(4,5)(7,8)), ((1,4)(2,7)(3,8)(5,6)(9,10), (1,10)(2,9)(3,6)(4,7)(5,8)), ((1,4)(2,9)(3,8)(5,6)(7,10), (1,6)(2,3)(4,5)(7,8)(9,10)), ((1,4)(2,9)(3,8)(5,6)(7,10), (1,6)(2,3)(4,7)(5,8)(9,10)), ((1,4)(2,9)(3,8)(5,6)(7,10), (1,6)(2,3)(4,7)(5,10)(8,9)), ((1,4)(2,9)(3,8)(5,6)(7,10), (1,6)(2,3)(4,9)(5,10)(7,8)), ((1,4)(2,9)(3,8)(5,6)(7,10), (1,6)(2,5)(3,4)(7,8)(9,10)), ((1,4)(2,9)(3,8)(5,6)(7,10), (1,6)(2,7)(3,4)(5,8)(9,10)), ((1,4)(2,9)(3,8)(5,6)(7,10), (1,6)(2,7)(3,4)(5,10)(8,9)), ((1,4)(2,9)(3,8)(5,6)(7,10), (1,6)(2,5)(3,10)(4,7)(8,9)), ((1,4)(2,9)(3,8)(5,6)(7,10), (1,6)(2,5)(3,10)(4,9)(7,8)), ((1,4)(2,9)(3,8)(5,6)(7,10), (1,6)(2,7)(3,10)(4,5)(8,9)), ((1,4)(2,9)(3,8)(5,6)(7,10), (1,6)(2,7)(3,10)(4,9)(5,8)), ((1,4)(2,9)(3,8)(5,6)(7,10), (1,8)(2,3)(4,5)(6,7)(9,10)), ((1,4)(2,9)(3,8)(5,6)(7,10), (1,8)(2,3)(4,7)(5,10)(6,9)), ((1,4)(2,9)(3,8)(5,6)(7,10), (1,8)(2,3)(4,9)(5,10)(6,7)), ((1,4)(2,9)(3,8)(5,6)(7,10), (1,8)(2,5)(3,4)(6,7)(9,10)), ((1,4)(2,9)(3,8)(5,6)(7,10), (1,8)(2,7)(3,4)(5,10)(6,9)), ((1,4)(2,9)(3,8)(5,6)(7,10), (1,8)(2,5)(3,6)(4,7)(9,10)), ((1,4)(2,9)(3,8)(5,6)(7,10), (1,8)(2,7)(3,6)(4,5)(9,10)), ((1,4)(2,9)(3,8)(5,6)(7,10), (1,8)(2,7)(3,6)(4,9)(5,10)), ((1,4)(2,9)(3,8)(5,6)(7,10), (1,8)(2,5)(3,10)(4,7)(6,9)), ((1,4)(2,9)(3,8)(5,6)(7,10), (1,8)(2,5)(3,10)(4,9)(6,7)), ((1,4)(2,9)(3,8)(5,6)(7,10), (1,8)(2,7)(3,10)(4,5)(6,9)), ((1,4)(2,9)(3,8)(5,6)(7,10), (1,10)(2,3)(4,5)(6,7)(8,9)), ((1,4)(2,9)(3,8)(5,6)(7,10), (1,10)(2,3)(4,5)(6,9)(7,8)), ((1,4)(2,9)(3,8)(5,6)(7,10), (1,10)(2,3)(4,7)(5,8)(6,9)), ((1,4)(2,9)(3,8)(5,6)(7,10), (1,10)(2,3)(4,9)(5,8)(6,7)), ((1,4)(2,9)(3,8)(5,6)(7,10), (1,10)(2,5)(3,4)(6,7)(8,9)), ((1,4)(2,9)(3,8)(5,6)(7,10), (1,10)(2,5)(3,4)(6,9)(7,8)), ((1,4)(2,9)(3,8)(5,6)(7,10), (1,10)(2,7)(3,4)(5,8)(6,9)), ((1,4)(2,9)(3,8)(5,6)(7,10), (1,10)(2,5)(3,6)(4,7)(8,9)), ((1,4)(2,9)(3,8)(5,6)(7,10), (1,10)(2,5)(3,6)(4,9)(7,8)), ((1,4)(2,9)(3,8)(5,6)(7,10), (1,10)(2,7)(3,6)(4,5)(8,9)), ((1,4)(2,9)(3,8)(5,6)(7,10), (1,10)(2,7)(3,6)(4,9)(5,8)), ((1,4)(2,7)(3,8)(5,10)(6,9), (1,6)(2,3)(4,5)(7,8)(9,10)), ((1,4)(2,7)(3,8)(5,10)(6,9), (1,6)(2,3)(4,5)(7,10)(8,9)), ((1,4)(2,7)(3,8)(5,10)(6,9), (1,6)(2,3)(4,7)(5,8)(9,10)), ((1,4)(2,7)(3,8)(5,10)(6,9), (1,6)(2,3)(4,9)(5,8)(7,10)), ((1,4)(2,7)(3,8)(5,10)(6,9), (1,6)(2,5)(3,4)(7,8)(9,10)), ((1,4)(2,7)(3,8)(5,10)(6,9), (1,6)(2,5)(3,4)(7,10)(8,9)), ((1,4)(2,7)(3,8)(5,10)(6,9), (1,6)(2,9)(3,4)(5,8)(7,10)), ((1,4)(2,7)(3,8)(5,10)(6,9), (1,6)(2,5)(3,10)(4,7)(8,9)), ((1,4)(2,7)(3,8)(5,10)(6,9), (1,6)(2,5)(3,10)(4,9)(7,8)), ((1,4)(2,7)(3,8)(5,10)(6,9), (1,6)(2,9)(3,10)(4,5)(7,8)), ((1,4)(2,7)(3,8)(5,10)(6,9), (1,6)(2,9)(3,10)(4,7)(5,8)), ((1,4)(2,7)(3,8)(5,10)(6,9), (1,8)(2,3)(4,5)(6,7)(9,10)), ((1,4)(2,7)(3,8)(5,10)(6,9), (1,8)(2,3)(4,7)(5,6)(9,10)), ((1,4)(2,7)(3,8)(5,10)(6,9), (1,8)(2,3)(4,9)(5,6)(7,10)), ((1,4)(2,7)(3,8)(5,10)(6,9), (1,8)(2,5)(3,4)(6,7)(9,10)), ((1,4)(2,7)(3,8)(5,10)(6,9), (1,8)(2,9)(3,4)(5,6)(7,10)), ((1,4)(2,7)(3,8)(5,10)(6,9), (1,8)(2,5)(3,6)(4,7)(9,10)), ((1,4)(2,7)(3,8)(5,10)(6,9), (1,8)(2,5)(3,6)(4,9)(7,10)), ((1,4)(2,7)(3,8)(5,10)(6,9), (1,8)(2,9)(3,6)(4,5)(7,10)), ((1,4)(2,7)(3,8)(5,10)(6,9), (1,8)(2,5)(3,10)(4,9)(6,7)), ((1,4)(2,7)(3,8)(5,10)(6,9), (1,8)(2,9)(3,10)(4,5)(6,7)), ((1,4)(2,7)(3,8)(5,10)(6,9), (1,8)(2,9)(3,10)(4,7)(5,6)), ((1,4)(2,7)(3,8)(5,10)(6,9), (1,10)(2,3)(4,5)(6,7)(8,9)), ((1,4)(2,7)(3,8)(5,10)(6,9), (1,10)(2,3)(4,7)(5,6)(8,9)), ((1,4)(2,7)(3,8)(5,10)(6,9), (1,10)(2,3)(4,9)(5,6)(7,8)), ((1,4)(2,7)(3,8)(5,10)(6,9), (1,10)(2,3)(4,9)(5,8)(6,7)), ((1,4)(2,7)(3,8)(5,10)(6,9), (1,10)(2,5)(3,4)(6,7)(8,9)), ((1,4)(2,7)(3,8)(5,10)(6,9), (1,10)(2,9)(3,4)(5,6)(7,8)), ((1,4)(2,7)(3,8)(5,10)(6,9), (1,10)(2,9)(3,4)(5,8)(6,7)), ((1,4)(2,7)(3,8)(5,10)(6,9), (1,10)(2,5)(3,6)(4,7)(8,9)), ((1,4)(2,7)(3,8)(5,10)(6,9), (1,10)(2,5)(3,6)(4,9)(7,8)), ((1,4)(2,7)(3,8)(5,10)(6,9), (1,10)(2,9)(3,6)(4,5)(7,8)), ((1,4)(2,7)(3,8)(5,10)(6,9), (1,10)(2,9)(3,6)(4,7)(5,8)), ((1,4)(2,9)(3,8)(5,10)(6,7), (1,6)(2,3)(4,5)(7,8)(9,10)), ((1,4)(2,9)(3,8)(5,10)(6,7), (1,6)(2,3)(4,5)(7,10)(8,9)), ((1,4)(2,9)(3,8)(5,10)(6,7), (1,6)(2,3)(4,7)(5,8)(9,10)), ((1,4)(2,9)(3,8)(5,10)(6,7), (1,6)(2,3)(4,9)(5,8)(7,10)), ((1,4)(2,9)(3,8)(5,10)(6,7), (1,6)(2,5)(3,4)(7,8)(9,10)), ((1,4)(2,9)(3,8)(5,10)(6,7), (1,6)(2,5)(3,4)(7,10)(8,9)), ((1,4)(2,9)(3,8)(5,10)(6,7), (1,6)(2,7)(3,4)(5,8)(9,10)), ((1,4)(2,9)(3,8)(5,10)(6,7), (1,6)(2,5)(3,10)(4,7)(8,9)), ((1,4)(2,9)(3,8)(5,10)(6,7), (1,6)(2,5)(3,10)(4,9)(7,8)), ((1,4)(2,9)(3,8)(5,10)(6,7), (1,6)(2,7)(3,10)(4,5)(8,9)), ((1,4)(2,9)(3,8)(5,10)(6,7), (1,6)(2,7)(3,10)(4,9)(5,8)), ((1,4)(2,9)(3,8)(5,10)(6,7), (1,8)(2,3)(4,5)(6,9)(7,10)), ((1,4)(2,9)(3,8)(5,10)(6,7), (1,8)(2,3)(4,7)(5,6)(9,10)), ((1,4)(2,9)(3,8)(5,10)(6,7), (1,8)(2,3)(4,9)(5,6)(7,10)), ((1,4)(2,9)(3,8)(5,10)(6,7), (1,8)(2,5)(3,4)(6,9)(7,10)), ((1,4)(2,9)(3,8)(5,10)(6,7), (1,8)(2,7)(3,4)(5,6)(9,10)), ((1,4)(2,9)(3,8)(5,10)(6,7), (1,8)(2,5)(3,6)(4,7)(9,10)), ((1,4)(2,9)(3,8)(5,10)(6,7), (1,8)(2,5)(3,6)(4,9)(7,10)), ((1,4)(2,9)(3,8)(5,10)(6,7), (1,8)(2,7)(3,6)(4,5)(9,10)), ((1,4)(2,9)(3,8)(5,10)(6,7), (1,8)(2,5)(3,10)(4,7)(6,9)), ((1,4)(2,9)(3,8)(5,10)(6,7), (1,8)(2,7)(3,10)(4,5)(6,9)), ((1,4)(2,9)(3,8)(5,10)(6,7), (1,8)(2,7)(3,10)(4,9)(5,6)), ((1,4)(2,9)(3,8)(5,10)(6,7), (1,10)(2,3)(4,5)(6,9)(7,8)), ((1,4)(2,9)(3,8)(5,10)(6,7), (1,10)(2,3)(4,7)(5,6)(8,9)), ((1,4)(2,9)(3,8)(5,10)(6,7), (1,10)(2,3)(4,9)(5,6)(7,8)), ((1,4)(2,9)(3,8)(5,10)(6,7), (1,10)(2,3)(4,7)(5,8)(6,9)), ((1,4)(2,9)(3,8)(5,10)(6,7), (1,10)(2,5)(3,4)(6,9)(7,8)), ((1,4)(2,9)(3,8)(5,10)(6,7), (1,10)(2,7)(3,4)(5,6)(8,9)), ((1,4)(2,9)(3,8)(5,10)(6,7), (1,10)(2,7)(3,4)(5,8)(6,9)), ((1,4)(2,9)(3,8)(5,10)(6,7), (1,10)(2,5)(3,6)(4,7)(8,9)), ((1,4)(2,9)(3,8)(5,10)(6,7), (1,10)(2,5)(3,6)(4,9)(7,8)), ((1,4)(2,9)(3,8)(5,10)(6,7), (1,10)(2,7)(3,6)(4,5)(8,9)), ((1,4)(2,9)(3,8)(5,10)(6,7), (1,10)(2,7)(3,6)(4,9)(5,8)), ((1,4)(2,5)(3,10)(6,7)(8,9), (1,6)(2,3)(4,5)(7,8)(9,10)), ((1,4)(2,5)(3,10)(6,7)(8,9), (1,6)(2,3)(4,7)(5,8)(9,10)), ((1,4)(2,5)(3,10)(6,7)(8,9), (1,6)(2,3)(4,9)(5,8)(7,10)), ((1,4)(2,5)(3,10)(6,7)(8,9), (1,6)(2,3)(4,9)(5,10)(7,8)), ((1,4)(2,5)(3,10)(6,7)(8,9), (1,6)(2,7)(3,4)(5,8)(9,10)), ((1,4)(2,5)(3,10)(6,7)(8,9), (1,6)(2,9)(3,4)(5,8)(7,10)), ((1,4)(2,5)(3,10)(6,7)(8,9), (1,6)(2,9)(3,4)(5,10)(7,8)), ((1,4)(2,5)(3,10)(6,7)(8,9), (1,6)(2,7)(3,8)(4,5)(9,10)), ((1,4)(2,5)(3,10)(6,7)(8,9), (1,6)(2,9)(3,8)(4,5)(7,10)), ((1,4)(2,5)(3,10)(6,7)(8,9), (1,6)(2,7)(3,8)(4,9)(5,10)), ((1,4)(2,5)(3,10)(6,7)(8,9), (1,6)(2,9)(3,8)(4,7)(5,10)), ((1,4)(2,5)(3,10)(6,7)(8,9), (1,8)(2,3)(4,5)(6,9)(7,10)), ((1,4)(2,5)(3,10)(6,7)(8,9), (1,8)(2,3)(4,7)(5,6)(9,10)), ((1,4)(2,5)(3,10)(6,7)(8,9), (1,8)(2,3)(4,9)(5,6)(7,10)), ((1,4)(2,5)(3,10)(6,7)(8,9), (1,8)(2,3)(4,7)(5,10)(6,9)), ((1,4)(2,5)(3,10)(6,7)(8,9), (1,8)(2,7)(3,4)(5,6)(9,10)), ((1,4)(2,5)(3,10)(6,7)(8,9), (1,8)(2,9)(3,4)(5,6)(7,10)), ((1,4)(2,5)(3,10)(6,7)(8,9), (1,8)(2,7)(3,4)(5,10)(6,9)), ((1,4)(2,5)(3,10)(6,7)(8,9), (1,8)(2,7)(3,6)(4,5)(9,10)), ((1,4)(2,5)(3,10)(6,7)(8,9), (1,8)(2,9)(3,6)(4,5)(7,10)), ((1,4)(2,5)(3,10)(6,7)(8,9), (1,8)(2,7)(3,6)(4,9)(5,10)), ((1,4)(2,5)(3,10)(6,7)(8,9), (1,8)(2,9)(3,6)(4,7)(5,10)), ((1,4)(2,5)(3,10)(6,7)(8,9), (1,10)(2,3)(4,5)(6,9)(7,8)), ((1,4)(2,5)(3,10)(6,7)(8,9), (1,10)(2,3)(4,9)(5,6)(7,8)), ((1,4)(2,5)(3,10)(6,7)(8,9), (1,10)(2,3)(4,7)(5,8)(6,9)), ((1,4)(2,5)(3,10)(6,7)(8,9), (1,10)(2,9)(3,4)(5,6)(7,8)), ((1,4)(2,5)(3,10)(6,7)(8,9), (1,10)(2,7)(3,4)(5,8)(6,9)), ((1,4)(2,5)(3,10)(6,7)(8,9), (1,10)(2,9)(3,6)(4,5)(7,8)), ((1,4)(2,5)(3,10)(6,7)(8,9), (1,10)(2,7)(3,6)(4,9)(5,8)), ((1,4)(2,5)(3,10)(6,7)(8,9), (1,10)(2,9)(3,6)(4,7)(5,8)), ((1,4)(2,5)(3,10)(6,7)(8,9), (1,10)(2,7)(3,8)(4,5)(6,9)), ((1,4)(2,5)(3,10)(6,7)(8,9), (1,10)(2,7)(3,8)(4,9)(5,6)), ((1,4)(2,5)(3,10)(6,7)(8,9), (1,10)(2,9)(3,8)(4,7)(5,6)), ((1,4)(2,5)(3,10)(6,9)(7,8), (1,6)(2,3)(4,5)(7,10)(8,9)), ((1,4)(2,5)(3,10)(6,9)(7,8), (1,6)(2,3)(4,7)(5,8)(9,10)), ((1,4)(2,5)(3,10)(6,9)(7,8), (1,6)(2,3)(4,9)(5,8)(7,10)), ((1,4)(2,5)(3,10)(6,9)(7,8), (1,6)(2,3)(4,7)(5,10)(8,9)), ((1,4)(2,5)(3,10)(6,9)(7,8), (1,6)(2,7)(3,4)(5,8)(9,10)), ((1,4)(2,5)(3,10)(6,9)(7,8), (1,6)(2,9)(3,4)(5,8)(7,10)), ((1,4)(2,5)(3,10)(6,9)(7,8), (1,6)(2,7)(3,4)(5,10)(8,9)), ((1,4)(2,5)(3,10)(6,9)(7,8), (1,6)(2,7)(3,8)(4,5)(9,10)), ((1,4)(2,5)(3,10)(6,9)(7,8), (1,6)(2,9)(3,8)(4,5)(7,10)), ((1,4)(2,5)(3,10)(6,9)(7,8), (1,6)(2,7)(3,8)(4,9)(5,10)), ((1,4)(2,5)(3,10)(6,9)(7,8), (1,6)(2,9)(3,8)(4,7)(5,10)), ((1,4)(2,5)(3,10)(6,9)(7,8), (1,8)(2,3)(4,5)(6,7)(9,10)), ((1,4)(2,5)(3,10)(6,9)(7,8), (1,8)(2,3)(4,7)(5,6)(9,10)), ((1,4)(2,5)(3,10)(6,9)(7,8), (1,8)(2,3)(4,9)(5,6)(7,10)), ((1,4)(2,5)(3,10)(6,9)(7,8), (1,8)(2,3)(4,9)(5,10)(6,7)), ((1,4)(2,5)(3,10)(6,9)(7,8), (1,8)(2,7)(3,4)(5,6)(9,10)), ((1,4)(2,5)(3,10)(6,9)(7,8), (1,8)(2,9)(3,4)(5,6)(7,10)), ((1,4)(2,5)(3,10)(6,9)(7,8), (1,8)(2,9)(3,4)(5,10)(6,7)), ((1,4)(2,5)(3,10)(6,9)(7,8), (1,8)(2,7)(3,6)(4,5)(9,10)), ((1,4)(2,5)(3,10)(6,9)(7,8), (1,8)(2,9)(3,6)(4,5)(7,10)), ((1,4)(2,5)(3,10)(6,9)(7,8), (1,8)(2,7)(3,6)(4,9)(5,10)), ((1,4)(2,5)(3,10)(6,9)(7,8), (1,8)(2,9)(3,6)(4,7)(5,10)), ((1,4)(2,5)(3,10)(6,9)(7,8), (1,10)(2,3)(4,5)(6,7)(8,9)), ((1,4)(2,5)(3,10)(6,9)(7,8), (1,10)(2,3)(4,7)(5,6)(8,9)), ((1,4)(2,5)(3,10)(6,9)(7,8), (1,10)(2,3)(4,9)(5,8)(6,7)), ((1,4)(2,5)(3,10)(6,9)(7,8), (1,10)(2,7)(3,4)(5,6)(8,9)), ((1,4)(2,5)(3,10)(6,9)(7,8), (1,10)(2,9)(3,4)(5,8)(6,7)), ((1,4)(2,5)(3,10)(6,9)(7,8), (1,10)(2,7)(3,6)(4,5)(8,9)), ((1,4)(2,5)(3,10)(6,9)(7,8), (1,10)(2,7)(3,6)(4,9)(5,8)), ((1,4)(2,5)(3,10)(6,9)(7,8), (1,10)(2,9)(3,6)(4,7)(5,8)), ((1,4)(2,5)(3,10)(6,9)(7,8), (1,10)(2,9)(3,8)(4,5)(6,7)), ((1,4)(2,5)(3,10)(6,9)(7,8), (1,10)(2,7)(3,8)(4,9)(5,6)), ((1,4)(2,5)(3,10)(6,9)(7,8), (1,10)(2,9)(3,8)(4,7)(5,6)), ((1,4)(2,7)(3,10)(5,6)(8,9), (1,6)(2,3)(4,5)(7,8)(9,10)), ((1,4)(2,7)(3,10)(5,6)(8,9), (1,6)(2,3)(4,7)(5,8)(9,10)), ((1,4)(2,7)(3,10)(5,6)(8,9), (1,6)(2,3)(4,9)(5,8)(7,10)), ((1,4)(2,7)(3,10)(5,6)(8,9), (1,6)(2,3)(4,9)(5,10)(7,8)), ((1,4)(2,7)(3,10)(5,6)(8,9), (1,6)(2,5)(3,4)(7,8)(9,10)), ((1,4)(2,7)(3,10)(5,6)(8,9), (1,6)(2,9)(3,4)(5,8)(7,10)), ((1,4)(2,7)(3,10)(5,6)(8,9), (1,6)(2,9)(3,4)(5,10)(7,8)), ((1,4)(2,7)(3,10)(5,6)(8,9), (1,6)(2,5)(3,8)(4,7)(9,10)), ((1,4)(2,7)(3,10)(5,6)(8,9), (1,6)(2,5)(3,8)(4,9)(7,10)), ((1,4)(2,7)(3,10)(5,6)(8,9), (1,6)(2,9)(3,8)(4,5)(7,10)), ((1,4)(2,7)(3,10)(5,6)(8,9), (1,6)(2,9)(3,8)(4,7)(5,10)), ((1,4)(2,7)(3,10)(5,6)(8,9), (1,8)(2,3)(4,5)(6,7)(9,10)), ((1,4)(2,7)(3,10)(5,6)(8,9), (1,8)(2,3)(4,5)(6,9)(7,10)), ((1,4)(2,7)(3,10)(5,6)(8,9), (1,8)(2,3)(4,7)(5,10)(6,9)), ((1,4)(2,7)(3,10)(5,6)(8,9), (1,8)(2,3)(4,9)(5,10)(6,7)), ((1,4)(2,7)(3,10)(5,6)(8,9), (1,8)(2,5)(3,4)(6,7)(9,10)), ((1,4)(2,7)(3,10)(5,6)(8,9), (1,8)(2,5)(3,4)(6,9)(7,10)), ((1,4)(2,7)(3,10)(5,6)(8,9), (1,8)(2,9)(3,4)(5,10)(6,7)), ((1,4)(2,7)(3,10)(5,6)(8,9), (1,8)(2,5)(3,6)(4,7)(9,10)), ((1,4)(2,7)(3,10)(5,6)(8,9), (1,8)(2,5)(3,6)(4,9)(7,10)), ((1,4)(2,7)(3,10)(5,6)(8,9), (1,8)(2,9)(3,6)(4,5)(7,10)), ((1,4)(2,7)(3,10)(5,6)(8,9), (1,8)(2,9)(3,6)(4,7)(5,10)), ((1,4)(2,7)(3,10)(5,6)(8,9), (1,10)(2,3)(4,5)(6,9)(7,8)), ((1,4)(2,7)(3,10)(5,6)(8,9), (1,10)(2,3)(4,7)(5,8)(6,9)), ((1,4)(2,7)(3,10)(5,6)(8,9), (1,10)(2,3)(4,9)(5,8)(6,7)), ((1,4)(2,7)(3,10)(5,6)(8,9), (1,10)(2,5)(3,4)(6,9)(7,8)), ((1,4)(2,7)(3,10)(5,6)(8,9), (1,10)(2,9)(3,4)(5,8)(6,7)), ((1,4)(2,7)(3,10)(5,6)(8,9), (1,10)(2,5)(3,6)(4,9)(7,8)), ((1,4)(2,7)(3,10)(5,6)(8,9), (1,10)(2,9)(3,6)(4,5)(7,8)), ((1,4)(2,7)(3,10)(5,6)(8,9), (1,10)(2,9)(3,6)(4,7)(5,8)), ((1,4)(2,7)(3,10)(5,6)(8,9), (1,10)(2,5)(3,8)(4,7)(6,9)), ((1,4)(2,7)(3,10)(5,6)(8,9), (1,10)(2,5)(3,8)(4,9)(6,7)), ((1,4)(2,7)(3,10)(5,6)(8,9), (1,10)(2,9)(3,8)(4,5)(6,7)), ((1,4)(2,9)(3,10)(5,6)(7,8), (1,6)(2,3)(4,5)(7,10)(8,9)), ((1,4)(2,9)(3,10)(5,6)(7,8), (1,6)(2,3)(4,7)(5,8)(9,10)), ((1,4)(2,9)(3,10)(5,6)(7,8), (1,6)(2,3)(4,9)(5,8)(7,10)), ((1,4)(2,9)(3,10)(5,6)(7,8), (1,6)(2,3)(4,7)(5,10)(8,9)), ((1,4)(2,9)(3,10)(5,6)(7,8), (1,6)(2,5)(3,4)(7,10)(8,9)), ((1,4)(2,9)(3,10)(5,6)(7,8), (1,6)(2,7)(3,4)(5,8)(9,10)), ((1,4)(2,9)(3,10)(5,6)(7,8), (1,6)(2,7)(3,4)(5,10)(8,9)), ((1,4)(2,9)(3,10)(5,6)(7,8), (1,6)(2,5)(3,8)(4,7)(9,10)), ((1,4)(2,9)(3,10)(5,6)(7,8), (1,6)(2,5)(3,8)(4,9)(7,10)), ((1,4)(2,9)(3,10)(5,6)(7,8), (1,6)(2,7)(3,8)(4,5)(9,10)), ((1,4)(2,9)(3,10)(5,6)(7,8), (1,6)(2,7)(3,8)(4,9)(5,10)), ((1,4)(2,9)(3,10)(5,6)(7,8), (1,8)(2,3)(4,5)(6,7)(9,10)), ((1,4)(2,9)(3,10)(5,6)(7,8), (1,8)(2,3)(4,5)(6,9)(7,10)), ((1,4)(2,9)(3,10)(5,6)(7,8), (1,8)(2,3)(4,7)(5,10)(6,9)), ((1,4)(2,9)(3,10)(5,6)(7,8), (1,8)(2,3)(4,9)(5,10)(6,7)), ((1,4)(2,9)(3,10)(5,6)(7,8), (1,8)(2,5)(3,4)(6,7)(9,10)), ((1,4)(2,9)(3,10)(5,6)(7,8), (1,8)(2,5)(3,4)(6,9)(7,10)), ((1,4)(2,9)(3,10)(5,6)(7,8), (1,8)(2,7)(3,4)(5,10)(6,9)), ((1,4)(2,9)(3,10)(5,6)(7,8), (1,8)(2,5)(3,6)(4,7)(9,10)), ((1,4)(2,9)(3,10)(5,6)(7,8), (1,8)(2,5)(3,6)(4,9)(7,10)), ((1,4)(2,9)(3,10)(5,6)(7,8), (1,8)(2,7)(3,6)(4,5)(9,10)), ((1,4)(2,9)(3,10)(5,6)(7,8), (1,8)(2,7)(3,6)(4,9)(5,10)), ((1,4)(2,9)(3,10)(5,6)(7,8), (1,10)(2,3)(4,5)(6,7)(8,9)), ((1,4)(2,9)(3,10)(5,6)(7,8), (1,10)(2,3)(4,7)(5,8)(6,9)), ((1,4)(2,9)(3,10)(5,6)(7,8), (1,10)(2,3)(4,9)(5,8)(6,7)), ((1,4)(2,9)(3,10)(5,6)(7,8), (1,10)(2,5)(3,4)(6,7)(8,9)), ((1,4)(2,9)(3,10)(5,6)(7,8), (1,10)(2,7)(3,4)(5,8)(6,9)), ((1,4)(2,9)(3,10)(5,6)(7,8), (1,10)(2,5)(3,6)(4,7)(8,9)), ((1,4)(2,9)(3,10)(5,6)(7,8), (1,10)(2,7)(3,6)(4,5)(8,9)), ((1,4)(2,9)(3,10)(5,6)(7,8), (1,10)(2,7)(3,6)(4,9)(5,8)), ((1,4)(2,9)(3,10)(5,6)(7,8), (1,10)(2,5)(3,8)(4,7)(6,9)), ((1,4)(2,9)(3,10)(5,6)(7,8), (1,10)(2,5)(3,8)(4,9)(6,7)), ((1,4)(2,9)(3,10)(5,6)(7,8), (1,10)(2,7)(3,8)(4,5)(6,9)), ((1,4)(2,7)(3,10)(5,8)(6,9), (1,6)(2,3)(4,5)(7,8)(9,10)), ((1,4)(2,7)(3,10)(5,8)(6,9), (1,6)(2,3)(4,5)(7,10)(8,9)), ((1,4)(2,7)(3,10)(5,8)(6,9), (1,6)(2,3)(4,7)(5,10)(8,9)), ((1,4)(2,7)(3,10)(5,8)(6,9), (1,6)(2,3)(4,9)(5,10)(7,8)), ((1,4)(2,7)(3,10)(5,8)(6,9), (1,6)(2,5)(3,4)(7,8)(9,10)), ((1,4)(2,7)(3,10)(5,8)(6,9), (1,6)(2,5)(3,4)(7,10)(8,9)), ((1,4)(2,7)(3,10)(5,8)(6,9), (1,6)(2,9)(3,4)(5,10)(7,8)), ((1,4)(2,7)(3,10)(5,8)(6,9), (1,6)(2,5)(3,8)(4,7)(9,10)), ((1,4)(2,7)(3,10)(5,8)(6,9), (1,6)(2,5)(3,8)(4,9)(7,10)), ((1,4)(2,7)(3,10)(5,8)(6,9), (1,6)(2,9)(3,8)(4,5)(7,10)), ((1,4)(2,7)(3,10)(5,8)(6,9), (1,6)(2,9)(3,8)(4,7)(5,10)), ((1,4)(2,7)(3,10)(5,8)(6,9), (1,8)(2,3)(4,5)(6,7)(9,10)), ((1,4)(2,7)(3,10)(5,8)(6,9), (1,8)(2,3)(4,7)(5,6)(9,10)), ((1,4)(2,7)(3,10)(5,8)(6,9), (1,8)(2,3)(4,9)(5,6)(7,10)), ((1,4)(2,7)(3,10)(5,8)(6,9), (1,8)(2,3)(4,9)(5,10)(6,7)), ((1,4)(2,7)(3,10)(5,8)(6,9), (1,8)(2,5)(3,4)(6,7)(9,10)), ((1,4)(2,7)(3,10)(5,8)(6,9), (1,8)(2,9)(3,4)(5,6)(7,10)), ((1,4)(2,7)(3,10)(5,8)(6,9), (1,8)(2,9)(3,4)(5,10)(6,7)), ((1,4)(2,7)(3,10)(5,8)(6,9), (1,8)(2,5)(3,6)(4,7)(9,10)), ((1,4)(2,7)(3,10)(5,8)(6,9), (1,8)(2,5)(3,6)(4,9)(7,10)), ((1,4)(2,7)(3,10)(5,8)(6,9), (1,8)(2,9)(3,6)(4,5)(7,10)), ((1,4)(2,7)(3,10)(5,8)(6,9), (1,8)(2,9)(3,6)(4,7)(5,10)), ((1,4)(2,7)(3,10)(5,8)(6,9), (1,10)(2,3)(4,5)(6,7)(8,9)), ((1,4)(2,7)(3,10)(5,8)(6,9), (1,10)(2,3)(4,7)(5,6)(8,9)), ((1,4)(2,7)(3,10)(5,8)(6,9), (1,10)(2,3)(4,9)(5,6)(7,8)), ((1,4)(2,7)(3,10)(5,8)(6,9), (1,10)(2,5)(3,4)(6,7)(8,9)), ((1,4)(2,7)(3,10)(5,8)(6,9), (1,10)(2,9)(3,4)(5,6)(7,8)), ((1,4)(2,7)(3,10)(5,8)(6,9), (1,10)(2,5)(3,6)(4,7)(8,9)), ((1,4)(2,7)(3,10)(5,8)(6,9), (1,10)(2,5)(3,6)(4,9)(7,8)), ((1,4)(2,7)(3,10)(5,8)(6,9), (1,10)(2,9)(3,6)(4,5)(7,8)), ((1,4)(2,7)(3,10)(5,8)(6,9), (1,10)(2,5)(3,8)(4,9)(6,7)), ((1,4)(2,7)(3,10)(5,8)(6,9), (1,10)(2,9)(3,8)(4,5)(6,7)), ((1,4)(2,7)(3,10)(5,8)(6,9), (1,10)(2,9)(3,8)(4,7)(5,6)), ((1,4)(2,9)(3,10)(5,8)(6,7), (1,6)(2,3)(4,5)(7,8)(9,10)), ((1,4)(2,9)(3,10)(5,8)(6,7), (1,6)(2,3)(4,5)(7,10)(8,9)), ((1,4)(2,9)(3,10)(5,8)(6,7), (1,6)(2,3)(4,7)(5,10)(8,9)), ((1,4)(2,9)(3,10)(5,8)(6,7), (1,6)(2,3)(4,9)(5,10)(7,8)), ((1,4)(2,9)(3,10)(5,8)(6,7), (1,6)(2,5)(3,4)(7,8)(9,10)), ((1,4)(2,9)(3,10)(5,8)(6,7), (1,6)(2,5)(3,4)(7,10)(8,9)), ((1,4)(2,9)(3,10)(5,8)(6,7), (1,6)(2,7)(3,4)(5,10)(8,9)), ((1,4)(2,9)(3,10)(5,8)(6,7), (1,6)(2,5)(3,8)(4,7)(9,10)), ((1,4)(2,9)(3,10)(5,8)(6,7), (1,6)(2,5)(3,8)(4,9)(7,10)), ((1,4)(2,9)(3,10)(5,8)(6,7), (1,6)(2,7)(3,8)(4,5)(9,10)), ((1,4)(2,9)(3,10)(5,8)(6,7), (1,6)(2,7)(3,8)(4,9)(5,10)), ((1,4)(2,9)(3,10)(5,8)(6,7), (1,8)(2,3)(4,5)(6,9)(7,10)), ((1,4)(2,9)(3,10)(5,8)(6,7), (1,8)(2,3)(4,7)(5,6)(9,10)), ((1,4)(2,9)(3,10)(5,8)(6,7), (1,8)(2,3)(4,9)(5,6)(7,10)), ((1,4)(2,9)(3,10)(5,8)(6,7), (1,8)(2,3)(4,7)(5,10)(6,9)), ((1,4)(2,9)(3,10)(5,8)(6,7), (1,8)(2,5)(3,4)(6,9)(7,10)), ((1,4)(2,9)(3,10)(5,8)(6,7), (1,8)(2,7)(3,4)(5,6)(9,10)), ((1,4)(2,9)(3,10)(5,8)(6,7), (1,8)(2,7)(3,4)(5,10)(6,9)), ((1,4)(2,9)(3,10)(5,8)(6,7), (1,8)(2,5)(3,6)(4,7)(9,10)), ((1,4)(2,9)(3,10)(5,8)(6,7), (1,8)(2,5)(3,6)(4,9)(7,10)), ((1,4)(2,9)(3,10)(5,8)(6,7), (1,8)(2,7)(3,6)(4,5)(9,10)), ((1,4)(2,9)(3,10)(5,8)(6,7), (1,8)(2,7)(3,6)(4,9)(5,10)), ((1,4)(2,9)(3,10)(5,8)(6,7), (1,10)(2,3)(4,5)(6,9)(7,8)), ((1,4)(2,9)(3,10)(5,8)(6,7), (1,10)(2,3)(4,7)(5,6)(8,9)), ((1,4)(2,9)(3,10)(5,8)(6,7), (1,10)(2,3)(4,9)(5,6)(7,8)), ((1,4)(2,9)(3,10)(5,8)(6,7), (1,10)(2,5)(3,4)(6,9)(7,8)), ((1,4)(2,9)(3,10)(5,8)(6,7), (1,10)(2,7)(3,4)(5,6)(8,9)), ((1,4)(2,9)(3,10)(5,8)(6,7), (1,10)(2,5)(3,6)(4,7)(8,9)), ((1,4)(2,9)(3,10)(5,8)(6,7), (1,10)(2,5)(3,6)(4,9)(7,8)), ((1,4)(2,9)(3,10)(5,8)(6,7), (1,10)(2,7)(3,6)(4,5)(8,9)), ((1,4)(2,9)(3,10)(5,8)(6,7), (1,10)(2,5)(3,8)(4,7)(6,9)), ((1,4)(2,9)(3,10)(5,8)(6,7), (1,10)(2,7)(3,8)(4,5)(6,9)), ((1,4)(2,9)(3,10)(5,8)(6,7), (1,10)(2,7)(3,8)(4,9)(5,6)), ((1,6)(2,3)(4,5)(7,8)(9,10), (1,8)(2,5)(3,4)(6,9)(7,10)), ((1,6)(2,3)(4,5)(7,8)(9,10), (1,8)(2,9)(3,4)(5,6)(7,10)), ((1,6)(2,3)(4,5)(7,8)(9,10), (1,8)(2,7)(3,4)(5,10)(6,9)), ((1,6)(2,3)(4,5)(7,8)(9,10), (1,8)(2,9)(3,4)(5,10)(6,7)), ((1,6)(2,3)(4,5)(7,8)(9,10), (1,8)(2,5)(3,6)(4,9)(7,10)), ((1,6)(2,3)(4,5)(7,8)(9,10), (1,8)(2,7)(3,6)(4,9)(5,10)), ((1,6)(2,3)(4,5)(7,8)(9,10), (1,8)(2,9)(3,6)(4,7)(5,10)), ((1,6)(2,3)(4,5)(7,8)(9,10), (1,8)(2,5)(3,10)(4,7)(6,9)), ((1,6)(2,3)(4,5)(7,8)(9,10), (1,8)(2,5)(3,10)(4,9)(6,7)), ((1,6)(2,3)(4,5)(7,8)(9,10), (1,8)(2,7)(3,10)(4,9)(5,6)), ((1,6)(2,3)(4,5)(7,8)(9,10), (1,8)(2,9)(3,10)(4,7)(5,6)), ((1,6)(2,3)(4,5)(7,8)(9,10), (1,10)(2,5)(3,4)(6,7)(8,9)), ((1,6)(2,3)(4,5)(7,8)(9,10), (1,10)(2,7)(3,4)(5,6)(8,9)), ((1,6)(2,3)(4,5)(7,8)(9,10), (1,10)(2,7)(3,4)(5,8)(6,9)), ((1,6)(2,3)(4,5)(7,8)(9,10), (1,10)(2,9)(3,4)(5,8)(6,7)), ((1,6)(2,3)(4,5)(7,8)(9,10), (1,10)(2,5)(3,6)(4,7)(8,9)), ((1,6)(2,3)(4,5)(7,8)(9,10), (1,10)(2,7)(3,6)(4,9)(5,8)), ((1,6)(2,3)(4,5)(7,8)(9,10), (1,10)(2,9)(3,6)(4,7)(5,8)), ((1,6)(2,3)(4,5)(7,8)(9,10), (1,10)(2,5)(3,8)(4,7)(6,9)), ((1,6)(2,3)(4,5)(7,8)(9,10), (1,10)(2,5)(3,8)(4,9)(6,7)), ((1,6)(2,3)(4,5)(7,8)(9,10), (1,10)(2,7)(3,8)(4,9)(5,6)), ((1,6)(2,3)(4,5)(7,8)(9,10), (1,10)(2,9)(3,8)(4,7)(5,6)), ((1,6)(2,3)(4,5)(7,10)(8,9), (1,8)(2,5)(3,4)(6,7)(9,10)), ((1,6)(2,3)(4,5)(7,10)(8,9), (1,8)(2,7)(3,4)(5,6)(9,10)), ((1,6)(2,3)(4,5)(7,10)(8,9), (1,8)(2,7)(3,4)(5,10)(6,9)), ((1,6)(2,3)(4,5)(7,10)(8,9), (1,8)(2,9)(3,4)(5,10)(6,7)), ((1,6)(2,3)(4,5)(7,10)(8,9), (1,8)(2,5)(3,6)(4,7)(9,10)), ((1,6)(2,3)(4,5)(7,10)(8,9), (1,8)(2,7)(3,6)(4,9)(5,10)), ((1,6)(2,3)(4,5)(7,10)(8,9), (1,8)(2,9)(3,6)(4,7)(5,10)), ((1,6)(2,3)(4,5)(7,10)(8,9), (1,8)(2,5)(3,10)(4,7)(6,9)), ((1,6)(2,3)(4,5)(7,10)(8,9), (1,8)(2,5)(3,10)(4,9)(6,7)), ((1,6)(2,3)(4,5)(7,10)(8,9), (1,8)(2,7)(3,10)(4,9)(5,6)), ((1,6)(2,3)(4,5)(7,10)(8,9), (1,8)(2,9)(3,10)(4,7)(5,6)), ((1,6)(2,3)(4,5)(7,10)(8,9), (1,10)(2,5)(3,4)(6,9)(7,8)), ((1,6)(2,3)(4,5)(7,10)(8,9), (1,10)(2,9)(3,4)(5,6)(7,8)), ((1,6)(2,3)(4,5)(7,10)(8,9), (1,10)(2,7)(3,4)(5,8)(6,9)), ((1,6)(2,3)(4,5)(7,10)(8,9), (1,10)(2,9)(3,4)(5,8)(6,7)), ((1,6)(2,3)(4,5)(7,10)(8,9), (1,10)(2,5)(3,6)(4,9)(7,8)), ((1,6)(2,3)(4,5)(7,10)(8,9), (1,10)(2,7)(3,6)(4,9)(5,8)), ((1,6)(2,3)(4,5)(7,10)(8,9), (1,10)(2,9)(3,6)(4,7)(5,8)), ((1,6)(2,3)(4,5)(7,10)(8,9), (1,10)(2,5)(3,8)(4,7)(6,9)), ((1,6)(2,3)(4,5)(7,10)(8,9), (1,10)(2,5)(3,8)(4,9)(6,7)), ((1,6)(2,3)(4,5)(7,10)(8,9), (1,10)(2,7)(3,8)(4,9)(5,6)), ((1,6)(2,3)(4,5)(7,10)(8,9), (1,10)(2,9)(3,8)(4,7)(5,6)), ((1,6)(2,3)(4,7)(5,8)(9,10), (1,8)(2,5)(3,4)(6,9)(7,10)), ((1,6)(2,3)(4,7)(5,8)(9,10), (1,8)(2,9)(3,4)(5,6)(7,10)), ((1,6)(2,3)(4,7)(5,8)(9,10), (1,8)(2,7)(3,4)(5,10)(6,9)), ((1,6)(2,3)(4,7)(5,8)(9,10), (1,8)(2,9)(3,4)(5,10)(6,7)), ((1,6)(2,3)(4,7)(5,8)(9,10), (1,8)(2,5)(3,6)(4,9)(7,10)), ((1,6)(2,3)(4,7)(5,8)(9,10), (1,8)(2,9)(3,6)(4,5)(7,10)), ((1,6)(2,3)(4,7)(5,8)(9,10), (1,8)(2,7)(3,6)(4,9)(5,10)), ((1,6)(2,3)(4,7)(5,8)(9,10), (1,8)(2,5)(3,10)(4,9)(6,7)), ((1,6)(2,3)(4,7)(5,8)(9,10), (1,8)(2,7)(3,10)(4,5)(6,9)), ((1,6)(2,3)(4,7)(5,8)(9,10), (1,8)(2,9)(3,10)(4,5)(6,7)), ((1,6)(2,3)(4,7)(5,8)(9,10), (1,8)(2,7)(3,10)(4,9)(5,6)), ((1,6)(2,3)(4,7)(5,8)(9,10), (1,10)(2,5)(3,4)(6,7)(8,9)), ((1,6)(2,3)(4,7)(5,8)(9,10), (1,10)(2,5)(3,4)(6,9)(7,8)), ((1,6)(2,3)(4,7)(5,8)(9,10), (1,10)(2,7)(3,4)(5,6)(8,9)), ((1,6)(2,3)(4,7)(5,8)(9,10), (1,10)(2,9)(3,4)(5,6)(7,8)), ((1,6)(2,3)(4,7)(5,8)(9,10), (1,10)(2,5)(3,6)(4,9)(7,8)), ((1,6)(2,3)(4,7)(5,8)(9,10), (1,10)(2,7)(3,6)(4,5)(8,9)), ((1,6)(2,3)(4,7)(5,8)(9,10), (1,10)(2,9)(3,6)(4,5)(7,8)), ((1,6)(2,3)(4,7)(5,8)(9,10), (1,10)(2,5)(3,8)(4,9)(6,7)), ((1,6)(2,3)(4,7)(5,8)(9,10), (1,10)(2,7)(3,8)(4,5)(6,9)), ((1,6)(2,3)(4,7)(5,8)(9,10), (1,10)(2,9)(3,8)(4,5)(6,7)), ((1,6)(2,3)(4,7)(5,8)(9,10), (1,10)(2,7)(3,8)(4,9)(5,6)), ((1,6)(2,3)(4,9)(5,8)(7,10), (1,8)(2,5)(3,4)(6,7)(9,10)), ((1,6)(2,3)(4,9)(5,8)(7,10), (1,8)(2,7)(3,4)(5,6)(9,10)), ((1,6)(2,3)(4,9)(5,8)(7,10), (1,8)(2,7)(3,4)(5,10)(6,9)), ((1,6)(2,3)(4,9)(5,8)(7,10), (1,8)(2,9)(3,4)(5,10)(6,7)), ((1,6)(2,3)(4,9)(5,8)(7,10), (1,8)(2,5)(3,6)(4,7)(9,10)), ((1,6)(2,3)(4,9)(5,8)(7,10), (1,8)(2,7)(3,6)(4,5)(9,10)), ((1,6)(2,3)(4,9)(5,8)(7,10), (1,8)(2,9)(3,6)(4,7)(5,10)), ((1,6)(2,3)(4,9)(5,8)(7,10), (1,8)(2,5)(3,10)(4,7)(6,9)), ((1,6)(2,3)(4,9)(5,8)(7,10), (1,8)(2,7)(3,10)(4,5)(6,9)), ((1,6)(2,3)(4,9)(5,8)(7,10), (1,8)(2,9)(3,10)(4,5)(6,7)), ((1,6)(2,3)(4,9)(5,8)(7,10), (1,8)(2,9)(3,10)(4,7)(5,6)), ((1,6)(2,3)(4,9)(5,8)(7,10), (1,10)(2,5)(3,4)(6,7)(8,9)), ((1,6)(2,3)(4,9)(5,8)(7,10), (1,10)(2,5)(3,4)(6,9)(7,8)), ((1,6)(2,3)(4,9)(5,8)(7,10), (1,10)(2,7)(3,4)(5,6)(8,9)), ((1,6)(2,3)(4,9)(5,8)(7,10), (1,10)(2,9)(3,4)(5,6)(7,8)), ((1,6)(2,3)(4,9)(5,8)(7,10), (1,10)(2,5)(3,6)(4,7)(8,9)), ((1,6)(2,3)(4,9)(5,8)(7,10), (1,10)(2,7)(3,6)(4,5)(8,9)), ((1,6)(2,3)(4,9)(5,8)(7,10), (1,10)(2,9)(3,6)(4,5)(7,8)), ((1,6)(2,3)(4,9)(5,8)(7,10), (1,10)(2,5)(3,8)(4,7)(6,9)), ((1,6)(2,3)(4,9)(5,8)(7,10), (1,10)(2,7)(3,8)(4,5)(6,9)), ((1,6)(2,3)(4,9)(5,8)(7,10), (1,10)(2,9)(3,8)(4,5)(6,7)), ((1,6)(2,3)(4,9)(5,8)(7,10), (1,10)(2,9)(3,8)(4,7)(5,6)), ((1,6)(2,3)(4,7)(5,10)(8,9), (1,8)(2,5)(3,4)(6,7)(9,10)), ((1,6)(2,3)(4,7)(5,10)(8,9), (1,8)(2,5)(3,4)(6,9)(7,10)), ((1,6)(2,3)(4,7)(5,10)(8,9), (1,8)(2,7)(3,4)(5,6)(9,10)), ((1,6)(2,3)(4,7)(5,10)(8,9), (1,8)(2,9)(3,4)(5,6)(7,10)), ((1,6)(2,3)(4,7)(5,10)(8,9), (1,8)(2,5)(3,6)(4,9)(7,10)), ((1,6)(2,3)(4,7)(5,10)(8,9), (1,8)(2,7)(3,6)(4,5)(9,10)), ((1,6)(2,3)(4,7)(5,10)(8,9), (1,8)(2,9)(3,6)(4,5)(7,10)), ((1,6)(2,3)(4,7)(5,10)(8,9), (1,8)(2,5)(3,10)(4,9)(6,7)), ((1,6)(2,3)(4,7)(5,10)(8,9), (1,8)(2,7)(3,10)(4,5)(6,9)), ((1,6)(2,3)(4,7)(5,10)(8,9), (1,8)(2,9)(3,10)(4,5)(6,7)), ((1,6)(2,3)(4,7)(5,10)(8,9), (1,8)(2,7)(3,10)(4,9)(5,6)), ((1,6)(2,3)(4,7)(5,10)(8,9), (1,10)(2,5)(3,4)(6,9)(7,8)), ((1,6)(2,3)(4,7)(5,10)(8,9), (1,10)(2,9)(3,4)(5,6)(7,8)), ((1,6)(2,3)(4,7)(5,10)(8,9), (1,10)(2,7)(3,4)(5,8)(6,9)), ((1,6)(2,3)(4,7)(5,10)(8,9), (1,10)(2,9)(3,4)(5,8)(6,7)), ((1,6)(2,3)(4,7)(5,10)(8,9), (1,10)(2,5)(3,6)(4,9)(7,8)), ((1,6)(2,3)(4,7)(5,10)(8,9), (1,10)(2,9)(3,6)(4,5)(7,8)), ((1,6)(2,3)(4,7)(5,10)(8,9), (1,10)(2,7)(3,6)(4,9)(5,8)), ((1,6)(2,3)(4,7)(5,10)(8,9), (1,10)(2,5)(3,8)(4,9)(6,7)), ((1,6)(2,3)(4,7)(5,10)(8,9), (1,10)(2,7)(3,8)(4,5)(6,9)), ((1,6)(2,3)(4,7)(5,10)(8,9), (1,10)(2,9)(3,8)(4,5)(6,7)), ((1,6)(2,3)(4,7)(5,10)(8,9), (1,10)(2,7)(3,8)(4,9)(5,6)), ((1,6)(2,3)(4,9)(5,10)(7,8), (1,8)(2,5)(3,4)(6,7)(9,10)), ((1,6)(2,3)(4,9)(5,10)(7,8), (1,8)(2,5)(3,4)(6,9)(7,10)), ((1,6)(2,3)(4,9)(5,10)(7,8), (1,8)(2,7)(3,4)(5,6)(9,10)), ((1,6)(2,3)(4,9)(5,10)(7,8), (1,8)(2,9)(3,4)(5,6)(7,10)), ((1,6)(2,3)(4,9)(5,10)(7,8), (1,8)(2,5)(3,6)(4,7)(9,10)), ((1,6)(2,3)(4,9)(5,10)(7,8), (1,8)(2,7)(3,6)(4,5)(9,10)), ((1,6)(2,3)(4,9)(5,10)(7,8), (1,8)(2,9)(3,6)(4,5)(7,10)), ((1,6)(2,3)(4,9)(5,10)(7,8), (1,8)(2,5)(3,10)(4,7)(6,9)), ((1,6)(2,3)(4,9)(5,10)(7,8), (1,8)(2,7)(3,10)(4,5)(6,9)), ((1,6)(2,3)(4,9)(5,10)(7,8), (1,8)(2,9)(3,10)(4,5)(6,7)), ((1,6)(2,3)(4,9)(5,10)(7,8), (1,8)(2,9)(3,10)(4,7)(5,6)), ((1,6)(2,3)(4,9)(5,10)(7,8), (1,10)(2,5)(3,4)(6,7)(8,9)), ((1,6)(2,3)(4,9)(5,10)(7,8), (1,10)(2,7)(3,4)(5,6)(8,9)), ((1,6)(2,3)(4,9)(5,10)(7,8), (1,10)(2,7)(3,4)(5,8)(6,9)), ((1,6)(2,3)(4,9)(5,10)(7,8), (1,10)(2,9)(3,4)(5,8)(6,7)), ((1,6)(2,3)(4,9)(5,10)(7,8), (1,10)(2,5)(3,6)(4,7)(8,9)), ((1,6)(2,3)(4,9)(5,10)(7,8), (1,10)(2,7)(3,6)(4,5)(8,9)), ((1,6)(2,3)(4,9)(5,10)(7,8), (1,10)(2,9)(3,6)(4,7)(5,8)), ((1,6)(2,3)(4,9)(5,10)(7,8), (1,10)(2,5)(3,8)(4,7)(6,9)), ((1,6)(2,3)(4,9)(5,10)(7,8), (1,10)(2,7)(3,8)(4,5)(6,9)), ((1,6)(2,3)(4,9)(5,10)(7,8), (1,10)(2,9)(3,8)(4,5)(6,7)), ((1,6)(2,3)(4,9)(5,10)(7,8), (1,10)(2,9)(3,8)(4,7)(5,6)), ((1,6)(2,5)(3,4)(7,8)(9,10), (1,8)(2,3)(4,5)(6,9)(7,10)), ((1,6)(2,5)(3,4)(7,8)(9,10), (1,8)(2,3)(4,9)(5,6)(7,10)), ((1,6)(2,5)(3,4)(7,8)(9,10), (1,8)(2,3)(4,7)(5,10)(6,9)), ((1,6)(2,5)(3,4)(7,8)(9,10), (1,8)(2,3)(4,9)(5,10)(6,7)), ((1,6)(2,5)(3,4)(7,8)(9,10), (1,8)(2,9)(3,6)(4,5)(7,10)), ((1,6)(2,5)(3,4)(7,8)(9,10), (1,8)(2,7)(3,6)(4,9)(5,10)), ((1,6)(2,5)(3,4)(7,8)(9,10), (1,8)(2,9)(3,6)(4,7)(5,10)), ((1,6)(2,5)(3,4)(7,8)(9,10), (1,8)(2,7)(3,10)(4,5)(6,9)), ((1,6)(2,5)(3,4)(7,8)(9,10), (1,8)(2,9)(3,10)(4,5)(6,7)), ((1,6)(2,5)(3,4)(7,8)(9,10), (1,8)(2,7)(3,10)(4,9)(5,6)), ((1,6)(2,5)(3,4)(7,8)(9,10), (1,8)(2,9)(3,10)(4,7)(5,6)), ((1,6)(2,5)(3,4)(7,8)(9,10), (1,10)(2,3)(4,5)(6,7)(8,9)), ((1,6)(2,5)(3,4)(7,8)(9,10), (1,10)(2,3)(4,7)(5,6)(8,9)), ((1,6)(2,5)(3,4)(7,8)(9,10), (1,10)(2,3)(4,7)(5,8)(6,9)), ((1,6)(2,5)(3,4)(7,8)(9,10), (1,10)(2,3)(4,9)(5,8)(6,7)), ((1,6)(2,5)(3,4)(7,8)(9,10), (1,10)(2,7)(3,6)(4,5)(8,9)), ((1,6)(2,5)(3,4)(7,8)(9,10), (1,10)(2,7)(3,6)(4,9)(5,8)), ((1,6)(2,5)(3,4)(7,8)(9,10), (1,10)(2,9)(3,6)(4,7)(5,8)), ((1,6)(2,5)(3,4)(7,8)(9,10), (1,10)(2,7)(3,8)(4,5)(6,9)), ((1,6)(2,5)(3,4)(7,8)(9,10), (1,10)(2,9)(3,8)(4,5)(6,7)), ((1,6)(2,5)(3,4)(7,8)(9,10), (1,10)(2,7)(3,8)(4,9)(5,6)), ((1,6)(2,5)(3,4)(7,8)(9,10), (1,10)(2,9)(3,8)(4,7)(5,6)), ((1,6)(2,5)(3,4)(7,10)(8,9), (1,8)(2,3)(4,5)(6,7)(9,10)), ((1,6)(2,5)(3,4)(7,10)(8,9), (1,8)(2,3)(4,7)(5,6)(9,10)), ((1,6)(2,5)(3,4)(7,10)(8,9), (1,8)(2,3)(4,7)(5,10)(6,9)), ((1,6)(2,5)(3,4)(7,10)(8,9), (1,8)(2,3)(4,9)(5,10)(6,7)), ((1,6)(2,5)(3,4)(7,10)(8,9), (1,8)(2,7)(3,6)(4,5)(9,10)), ((1,6)(2,5)(3,4)(7,10)(8,9), (1,8)(2,7)(3,6)(4,9)(5,10)), ((1,6)(2,5)(3,4)(7,10)(8,9), (1,8)(2,9)(3,6)(4,7)(5,10)), ((1,6)(2,5)(3,4)(7,10)(8,9), (1,8)(2,7)(3,10)(4,5)(6,9)), ((1,6)(2,5)(3,4)(7,10)(8,9), (1,8)(2,9)(3,10)(4,5)(6,7)), ((1,6)(2,5)(3,4)(7,10)(8,9), (1,8)(2,7)(3,10)(4,9)(5,6)), ((1,6)(2,5)(3,4)(7,10)(8,9), (1,8)(2,9)(3,10)(4,7)(5,6)), ((1,6)(2,5)(3,4)(7,10)(8,9), (1,10)(2,3)(4,5)(6,9)(7,8)), ((1,6)(2,5)(3,4)(7,10)(8,9), (1,10)(2,3)(4,9)(5,6)(7,8)), ((1,6)(2,5)(3,4)(7,10)(8,9), (1,10)(2,3)(4,7)(5,8)(6,9)), ((1,6)(2,5)(3,4)(7,10)(8,9), (1,10)(2,3)(4,9)(5,8)(6,7)), ((1,6)(2,5)(3,4)(7,10)(8,9), (1,10)(2,9)(3,6)(4,5)(7,8)), ((1,6)(2,5)(3,4)(7,10)(8,9), (1,10)(2,7)(3,6)(4,9)(5,8)), ((1,6)(2,5)(3,4)(7,10)(8,9), (1,10)(2,9)(3,6)(4,7)(5,8)), ((1,6)(2,5)(3,4)(7,10)(8,9), (1,10)(2,7)(3,8)(4,5)(6,9)), ((1,6)(2,5)(3,4)(7,10)(8,9), (1,10)(2,9)(3,8)(4,5)(6,7)), ((1,6)(2,5)(3,4)(7,10)(8,9), (1,10)(2,7)(3,8)(4,9)(5,6)), ((1,6)(2,5)(3,4)(7,10)(8,9), (1,10)(2,9)(3,8)(4,7)(5,6)), ((1,6)(2,7)(3,4)(5,8)(9,10), (1,8)(2,3)(4,5)(6,9)(7,10)), ((1,6)(2,7)(3,4)(5,8)(9,10), (1,8)(2,3)(4,9)(5,6)(7,10)), ((1,6)(2,7)(3,4)(5,8)(9,10), (1,8)(2,3)(4,7)(5,10)(6,9)), ((1,6)(2,7)(3,4)(5,8)(9,10), (1,8)(2,3)(4,9)(5,10)(6,7)), ((1,6)(2,7)(3,4)(5,8)(9,10), (1,8)(2,5)(3,6)(4,9)(7,10)), ((1,6)(2,7)(3,4)(5,8)(9,10), (1,8)(2,9)(3,6)(4,5)(7,10)), ((1,6)(2,7)(3,4)(5,8)(9,10), (1,8)(2,9)(3,6)(4,7)(5,10)), ((1,6)(2,7)(3,4)(5,8)(9,10), (1,8)(2,5)(3,10)(4,7)(6,9)), ((1,6)(2,7)(3,4)(5,8)(9,10), (1,8)(2,5)(3,10)(4,9)(6,7)), ((1,6)(2,7)(3,4)(5,8)(9,10), (1,8)(2,9)(3,10)(4,5)(6,7)), ((1,6)(2,7)(3,4)(5,8)(9,10), (1,8)(2,9)(3,10)(4,7)(5,6)), ((1,6)(2,7)(3,4)(5,8)(9,10), (1,10)(2,3)(4,5)(6,7)(8,9)), ((1,6)(2,7)(3,4)(5,8)(9,10), (1,10)(2,3)(4,5)(6,9)(7,8)), ((1,6)(2,7)(3,4)(5,8)(9,10), (1,10)(2,3)(4,7)(5,6)(8,9)), ((1,6)(2,7)(3,4)(5,8)(9,10), (1,10)(2,3)(4,9)(5,6)(7,8)), ((1,6)(2,7)(3,4)(5,8)(9,10), (1,10)(2,5)(3,6)(4,7)(8,9)), ((1,6)(2,7)(3,4)(5,8)(9,10), (1,10)(2,5)(3,6)(4,9)(7,8)), ((1,6)(2,7)(3,4)(5,8)(9,10), (1,10)(2,9)(3,6)(4,5)(7,8)), ((1,6)(2,7)(3,4)(5,8)(9,10), (1,10)(2,5)(3,8)(4,7)(6,9)), ((1,6)(2,7)(3,4)(5,8)(9,10), (1,10)(2,5)(3,8)(4,9)(6,7)), ((1,6)(2,7)(3,4)(5,8)(9,10), (1,10)(2,9)(3,8)(4,5)(6,7)), ((1,6)(2,7)(3,4)(5,8)(9,10), (1,10)(2,9)(3,8)(4,7)(5,6)), ((1,6)(2,9)(3,4)(5,8)(7,10), (1,8)(2,3)(4,5)(6,7)(9,10)), ((1,6)(2,9)(3,4)(5,8)(7,10), (1,8)(2,3)(4,7)(5,6)(9,10)), ((1,6)(2,9)(3,4)(5,8)(7,10), (1,8)(2,3)(4,7)(5,10)(6,9)), ((1,6)(2,9)(3,4)(5,8)(7,10), (1,8)(2,3)(4,9)(5,10)(6,7)), ((1,6)(2,9)(3,4)(5,8)(7,10), (1,8)(2,5)(3,6)(4,7)(9,10)), ((1,6)(2,9)(3,4)(5,8)(7,10), (1,8)(2,7)(3,6)(4,5)(9,10)), ((1,6)(2,9)(3,4)(5,8)(7,10), (1,8)(2,7)(3,6)(4,9)(5,10)), ((1,6)(2,9)(3,4)(5,8)(7,10), (1,8)(2,5)(3,10)(4,7)(6,9)), ((1,6)(2,9)(3,4)(5,8)(7,10), (1,8)(2,5)(3,10)(4,9)(6,7)), ((1,6)(2,9)(3,4)(5,8)(7,10), (1,8)(2,7)(3,10)(4,5)(6,9)), ((1,6)(2,9)(3,4)(5,8)(7,10), (1,8)(2,7)(3,10)(4,9)(5,6)), ((1,6)(2,9)(3,4)(5,8)(7,10), (1,10)(2,3)(4,5)(6,7)(8,9)), ((1,6)(2,9)(3,4)(5,8)(7,10), (1,10)(2,3)(4,5)(6,9)(7,8)), ((1,6)(2,9)(3,4)(5,8)(7,10), (1,10)(2,3)(4,7)(5,6)(8,9)), ((1,6)(2,9)(3,4)(5,8)(7,10), (1,10)(2,3)(4,9)(5,6)(7,8)), ((1,6)(2,9)(3,4)(5,8)(7,10), (1,10)(2,5)(3,6)(4,7)(8,9)), ((1,6)(2,9)(3,4)(5,8)(7,10), (1,10)(2,5)(3,6)(4,9)(7,8)), ((1,6)(2,9)(3,4)(5,8)(7,10), (1,10)(2,7)(3,6)(4,5)(8,9)), ((1,6)(2,9)(3,4)(5,8)(7,10), (1,10)(2,5)(3,8)(4,7)(6,9)), ((1,6)(2,9)(3,4)(5,8)(7,10), (1,10)(2,5)(3,8)(4,9)(6,7)), ((1,6)(2,9)(3,4)(5,8)(7,10), (1,10)(2,7)(3,8)(4,5)(6,9)), ((1,6)(2,9)(3,4)(5,8)(7,10), (1,10)(2,7)(3,8)(4,9)(5,6)), ((1,6)(2,7)(3,4)(5,10)(8,9), (1,8)(2,3)(4,5)(6,7)(9,10)), ((1,6)(2,7)(3,4)(5,10)(8,9), (1,8)(2,3)(4,5)(6,9)(7,10)), ((1,6)(2,7)(3,4)(5,10)(8,9), (1,8)(2,3)(4,7)(5,6)(9,10)), ((1,6)(2,7)(3,4)(5,10)(8,9), (1,8)(2,3)(4,9)(5,6)(7,10)), ((1,6)(2,7)(3,4)(5,10)(8,9), (1,8)(2,5)(3,6)(4,7)(9,10)), ((1,6)(2,7)(3,4)(5,10)(8,9), (1,8)(2,5)(3,6)(4,9)(7,10)), ((1,6)(2,7)(3,4)(5,10)(8,9), (1,8)(2,9)(3,6)(4,5)(7,10)), ((1,6)(2,7)(3,4)(5,10)(8,9), (1,8)(2,5)(3,10)(4,7)(6,9)), ((1,6)(2,7)(3,4)(5,10)(8,9), (1,8)(2,5)(3,10)(4,9)(6,7)), ((1,6)(2,7)(3,4)(5,10)(8,9), (1,8)(2,9)(3,10)(4,5)(6,7)), ((1,6)(2,7)(3,4)(5,10)(8,9), (1,8)(2,9)(3,10)(4,7)(5,6)), ((1,6)(2,7)(3,4)(5,10)(8,9), (1,10)(2,3)(4,5)(6,9)(7,8)), ((1,6)(2,7)(3,4)(5,10)(8,9), (1,10)(2,3)(4,9)(5,6)(7,8)), ((1,6)(2,7)(3,4)(5,10)(8,9), (1,10)(2,3)(4,7)(5,8)(6,9)), ((1,6)(2,7)(3,4)(5,10)(8,9), (1,10)(2,3)(4,9)(5,8)(6,7)), ((1,6)(2,7)(3,4)(5,10)(8,9), (1,10)(2,5)(3,6)(4,9)(7,8)), ((1,6)(2,7)(3,4)(5,10)(8,9), (1,10)(2,9)(3,6)(4,5)(7,8)), ((1,6)(2,7)(3,4)(5,10)(8,9), (1,10)(2,9)(3,6)(4,7)(5,8)), ((1,6)(2,7)(3,4)(5,10)(8,9), (1,10)(2,5)(3,8)(4,7)(6,9)), ((1,6)(2,7)(3,4)(5,10)(8,9), (1,10)(2,5)(3,8)(4,9)(6,7)), ((1,6)(2,7)(3,4)(5,10)(8,9), (1,10)(2,9)(3,8)(4,5)(6,7)), ((1,6)(2,7)(3,4)(5,10)(8,9), (1,10)(2,9)(3,8)(4,7)(5,6)), ((1,6)(2,9)(3,4)(5,10)(7,8), (1,8)(2,3)(4,5)(6,7)(9,10)), ((1,6)(2,9)(3,4)(5,10)(7,8), (1,8)(2,3)(4,5)(6,9)(7,10)), ((1,6)(2,9)(3,4)(5,10)(7,8), (1,8)(2,3)(4,7)(5,6)(9,10)), ((1,6)(2,9)(3,4)(5,10)(7,8), (1,8)(2,3)(4,9)(5,6)(7,10)), ((1,6)(2,9)(3,4)(5,10)(7,8), (1,8)(2,5)(3,6)(4,7)(9,10)), ((1,6)(2,9)(3,4)(5,10)(7,8), (1,8)(2,5)(3,6)(4,9)(7,10)), ((1,6)(2,9)(3,4)(5,10)(7,8), (1,8)(2,7)(3,6)(4,5)(9,10)), ((1,6)(2,9)(3,4)(5,10)(7,8), (1,8)(2,5)(3,10)(4,7)(6,9)), ((1,6)(2,9)(3,4)(5,10)(7,8), (1,8)(2,5)(3,10)(4,9)(6,7)), ((1,6)(2,9)(3,4)(5,10)(7,8), (1,8)(2,7)(3,10)(4,5)(6,9)), ((1,6)(2,9)(3,4)(5,10)(7,8), (1,8)(2,7)(3,10)(4,9)(5,6)), ((1,6)(2,9)(3,4)(5,10)(7,8), (1,10)(2,3)(4,5)(6,7)(8,9)), ((1,6)(2,9)(3,4)(5,10)(7,8), (1,10)(2,3)(4,7)(5,6)(8,9)), ((1,6)(2,9)(3,4)(5,10)(7,8), (1,10)(2,3)(4,7)(5,8)(6,9)), ((1,6)(2,9)(3,4)(5,10)(7,8), (1,10)(2,3)(4,9)(5,8)(6,7)), ((1,6)(2,9)(3,4)(5,10)(7,8), (1,10)(2,5)(3,6)(4,7)(8,9)), ((1,6)(2,9)(3,4)(5,10)(7,8), (1,10)(2,7)(3,6)(4,5)(8,9)), ((1,6)(2,9)(3,4)(5,10)(7,8), (1,10)(2,7)(3,6)(4,9)(5,8)), ((1,6)(2,9)(3,4)(5,10)(7,8), (1,10)(2,5)(3,8)(4,7)(6,9)), ((1,6)(2,9)(3,4)(5,10)(7,8), (1,10)(2,5)(3,8)(4,9)(6,7)), ((1,6)(2,9)(3,4)(5,10)(7,8), (1,10)(2,7)(3,8)(4,5)(6,9)), ((1,6)(2,9)(3,4)(5,10)(7,8), (1,10)(2,7)(3,8)(4,9)(5,6)), ((1,6)(2,5)(3,8)(4,7)(9,10), (1,8)(2,3)(4,5)(6,9)(7,10)), ((1,6)(2,5)(3,8)(4,7)(9,10), (1,8)(2,3)(4,9)(5,6)(7,10)), ((1,6)(2,5)(3,8)(4,7)(9,10), (1,8)(2,3)(4,9)(5,10)(6,7)), ((1,6)(2,5)(3,8)(4,7)(9,10), (1,8)(2,9)(3,4)(5,6)(7,10)), ((1,6)(2,5)(3,8)(4,7)(9,10), (1,8)(2,7)(3,4)(5,10)(6,9)), ((1,6)(2,5)(3,8)(4,7)(9,10), (1,8)(2,9)(3,4)(5,10)(6,7)), ((1,6)(2,5)(3,8)(4,7)(9,10), (1,8)(2,9)(3,6)(4,5)(7,10)), ((1,6)(2,5)(3,8)(4,7)(9,10), (1,8)(2,7)(3,6)(4,9)(5,10)), ((1,6)(2,5)(3,8)(4,7)(9,10), (1,8)(2,7)(3,10)(4,5)(6,9)), ((1,6)(2,5)(3,8)(4,7)(9,10), (1,8)(2,9)(3,10)(4,5)(6,7)), ((1,6)(2,5)(3,8)(4,7)(9,10), (1,8)(2,7)(3,10)(4,9)(5,6)), ((1,6)(2,5)(3,8)(4,7)(9,10), (1,10)(2,3)(4,5)(6,7)(8,9)), ((1,6)(2,5)(3,8)(4,7)(9,10), (1,10)(2,3)(4,5)(6,9)(7,8)), ((1,6)(2,5)(3,8)(4,7)(9,10), (1,10)(2,3)(4,9)(5,6)(7,8)), ((1,6)(2,5)(3,8)(4,7)(9,10), (1,10)(2,3)(4,9)(5,8)(6,7)), ((1,6)(2,5)(3,8)(4,7)(9,10), (1,10)(2,7)(3,4)(5,6)(8,9)), ((1,6)(2,5)(3,8)(4,7)(9,10), (1,10)(2,9)(3,4)(5,6)(7,8)), ((1,6)(2,5)(3,8)(4,7)(9,10), (1,10)(2,7)(3,4)(5,8)(6,9)), ((1,6)(2,5)(3,8)(4,7)(9,10), (1,10)(2,9)(3,4)(5,8)(6,7)), ((1,6)(2,5)(3,8)(4,7)(9,10), (1,10)(2,7)(3,6)(4,5)(8,9)), ((1,6)(2,5)(3,8)(4,7)(9,10), (1,10)(2,9)(3,6)(4,5)(7,8)), ((1,6)(2,5)(3,8)(4,7)(9,10), (1,10)(2,7)(3,6)(4,9)(5,8)), ((1,6)(2,5)(3,8)(4,9)(7,10), (1,8)(2,3)(4,5)(6,7)(9,10)), ((1,6)(2,5)(3,8)(4,9)(7,10), (1,8)(2,3)(4,7)(5,6)(9,10)), ((1,6)(2,5)(3,8)(4,9)(7,10), (1,8)(2,3)(4,7)(5,10)(6,9)), ((1,6)(2,5)(3,8)(4,9)(7,10), (1,8)(2,7)(3,4)(5,6)(9,10)), ((1,6)(2,5)(3,8)(4,9)(7,10), (1,8)(2,7)(3,4)(5,10)(6,9)), ((1,6)(2,5)(3,8)(4,9)(7,10), (1,8)(2,9)(3,4)(5,10)(6,7)), ((1,6)(2,5)(3,8)(4,9)(7,10), (1,8)(2,7)(3,6)(4,5)(9,10)), ((1,6)(2,5)(3,8)(4,9)(7,10), (1,8)(2,9)(3,6)(4,7)(5,10)), ((1,6)(2,5)(3,8)(4,9)(7,10), (1,8)(2,7)(3,10)(4,5)(6,9)), ((1,6)(2,5)(3,8)(4,9)(7,10), (1,8)(2,9)(3,10)(4,5)(6,7)), ((1,6)(2,5)(3,8)(4,9)(7,10), (1,8)(2,9)(3,10)(4,7)(5,6)), ((1,6)(2,5)(3,8)(4,9)(7,10), (1,10)(2,3)(4,5)(6,7)(8,9)), ((1,6)(2,5)(3,8)(4,9)(7,10), (1,10)(2,3)(4,5)(6,9)(7,8)), ((1,6)(2,5)(3,8)(4,9)(7,10), (1,10)(2,3)(4,7)(5,6)(8,9)), ((1,6)(2,5)(3,8)(4,9)(7,10), (1,10)(2,3)(4,7)(5,8)(6,9)), ((1,6)(2,5)(3,8)(4,9)(7,10), (1,10)(2,7)(3,4)(5,6)(8,9)), ((1,6)(2,5)(3,8)(4,9)(7,10), (1,10)(2,9)(3,4)(5,6)(7,8)), ((1,6)(2,5)(3,8)(4,9)(7,10), (1,10)(2,7)(3,4)(5,8)(6,9)), ((1,6)(2,5)(3,8)(4,9)(7,10), (1,10)(2,9)(3,4)(5,8)(6,7)), ((1,6)(2,5)(3,8)(4,9)(7,10), (1,10)(2,7)(3,6)(4,5)(8,9)), ((1,6)(2,5)(3,8)(4,9)(7,10), (1,10)(2,9)(3,6)(4,5)(7,8)), ((1,6)(2,5)(3,8)(4,9)(7,10), (1,10)(2,9)(3,6)(4,7)(5,8)), ((1,6)(2,7)(3,8)(4,5)(9,10), (1,8)(2,3)(4,9)(5,6)(7,10)), ((1,6)(2,7)(3,8)(4,5)(9,10), (1,8)(2,3)(4,7)(5,10)(6,9)), ((1,6)(2,7)(3,8)(4,5)(9,10), (1,8)(2,3)(4,9)(5,10)(6,7)), ((1,6)(2,7)(3,8)(4,5)(9,10), (1,8)(2,5)(3,4)(6,9)(7,10)), ((1,6)(2,7)(3,8)(4,5)(9,10), (1,8)(2,9)(3,4)(5,6)(7,10)), ((1,6)(2,7)(3,8)(4,5)(9,10), (1,8)(2,9)(3,4)(5,10)(6,7)), ((1,6)(2,7)(3,8)(4,5)(9,10), (1,8)(2,5)(3,6)(4,9)(7,10)), ((1,6)(2,7)(3,8)(4,5)(9,10), (1,8)(2,9)(3,6)(4,7)(5,10)), ((1,6)(2,7)(3,8)(4,5)(9,10), (1,8)(2,5)(3,10)(4,7)(6,9)), ((1,6)(2,7)(3,8)(4,5)(9,10), (1,8)(2,5)(3,10)(4,9)(6,7)), ((1,6)(2,7)(3,8)(4,5)(9,10), (1,8)(2,9)(3,10)(4,7)(5,6)), ((1,6)(2,7)(3,8)(4,5)(9,10), (1,10)(2,3)(4,7)(5,6)(8,9)), ((1,6)(2,7)(3,8)(4,5)(9,10), (1,10)(2,3)(4,9)(5,6)(7,8)), ((1,6)(2,7)(3,8)(4,5)(9,10), (1,10)(2,3)(4,7)(5,8)(6,9)), ((1,6)(2,7)(3,8)(4,5)(9,10), (1,10)(2,3)(4,9)(5,8)(6,7)), ((1,6)(2,7)(3,8)(4,5)(9,10), (1,10)(2,5)(3,4)(6,7)(8,9)), ((1,6)(2,7)(3,8)(4,5)(9,10), (1,10)(2,5)(3,4)(6,9)(7,8)), ((1,6)(2,7)(3,8)(4,5)(9,10), (1,10)(2,9)(3,4)(5,6)(7,8)), ((1,6)(2,7)(3,8)(4,5)(9,10), (1,10)(2,9)(3,4)(5,8)(6,7)), ((1,6)(2,7)(3,8)(4,5)(9,10), (1,10)(2,5)(3,6)(4,7)(8,9)), ((1,6)(2,7)(3,8)(4,5)(9,10), (1,10)(2,5)(3,6)(4,9)(7,8)), ((1,6)(2,7)(3,8)(4,5)(9,10), (1,10)(2,9)(3,6)(4,7)(5,8)), ((1,6)(2,9)(3,8)(4,5)(7,10), (1,8)(2,3)(4,7)(5,6)(9,10)), ((1,6)(2,9)(3,8)(4,5)(7,10), (1,8)(2,3)(4,7)(5,10)(6,9)), ((1,6)(2,9)(3,8)(4,5)(7,10), (1,8)(2,3)(4,9)(5,10)(6,7)), ((1,6)(2,9)(3,8)(4,5)(7,10), (1,8)(2,5)(3,4)(6,7)(9,10)), ((1,6)(2,9)(3,8)(4,5)(7,10), (1,8)(2,7)(3,4)(5,6)(9,10)), ((1,6)(2,9)(3,8)(4,5)(7,10), (1,8)(2,7)(3,4)(5,10)(6,9)), ((1,6)(2,9)(3,8)(4,5)(7,10), (1,8)(2,5)(3,6)(4,7)(9,10)), ((1,6)(2,9)(3,8)(4,5)(7,10), (1,8)(2,7)(3,6)(4,9)(5,10)), ((1,6)(2,9)(3,8)(4,5)(7,10), (1,8)(2,5)(3,10)(4,7)(6,9)), ((1,6)(2,9)(3,8)(4,5)(7,10), (1,8)(2,5)(3,10)(4,9)(6,7)), ((1,6)(2,9)(3,8)(4,5)(7,10), (1,8)(2,7)(3,10)(4,9)(5,6)), ((1,6)(2,9)(3,8)(4,5)(7,10), (1,10)(2,3)(4,7)(5,6)(8,9)), ((1,6)(2,9)(3,8)(4,5)(7,10), (1,10)(2,3)(4,9)(5,6)(7,8)), ((1,6)(2,9)(3,8)(4,5)(7,10), (1,10)(2,3)(4,7)(5,8)(6,9)), ((1,6)(2,9)(3,8)(4,5)(7,10), (1,10)(2,3)(4,9)(5,8)(6,7)), ((1,6)(2,9)(3,8)(4,5)(7,10), (1,10)(2,5)(3,4)(6,7)(8,9)), ((1,6)(2,9)(3,8)(4,5)(7,10), (1,10)(2,5)(3,4)(6,9)(7,8)), ((1,6)(2,9)(3,8)(4,5)(7,10), (1,10)(2,7)(3,4)(5,6)(8,9)), ((1,6)(2,9)(3,8)(4,5)(7,10), (1,10)(2,7)(3,4)(5,8)(6,9)), ((1,6)(2,9)(3,8)(4,5)(7,10), (1,10)(2,5)(3,6)(4,7)(8,9)), ((1,6)(2,9)(3,8)(4,5)(7,10), (1,10)(2,5)(3,6)(4,9)(7,8)), ((1,6)(2,9)(3,8)(4,5)(7,10), (1,10)(2,7)(3,6)(4,9)(5,8)), ((1,6)(2,7)(3,8)(4,9)(5,10), (1,8)(2,3)(4,5)(6,7)(9,10)), ((1,6)(2,7)(3,8)(4,9)(5,10), (1,8)(2,3)(4,5)(6,9)(7,10)), ((1,6)(2,7)(3,8)(4,9)(5,10), (1,8)(2,3)(4,7)(5,6)(9,10)), ((1,6)(2,7)(3,8)(4,9)(5,10), (1,8)(2,5)(3,4)(6,7)(9,10)), ((1,6)(2,7)(3,8)(4,9)(5,10), (1,8)(2,5)(3,4)(6,9)(7,10)), ((1,6)(2,7)(3,8)(4,9)(5,10), (1,8)(2,9)(3,4)(5,6)(7,10)), ((1,6)(2,7)(3,8)(4,9)(5,10), (1,8)(2,5)(3,6)(4,7)(9,10)), ((1,6)(2,7)(3,8)(4,9)(5,10), (1,8)(2,9)(3,6)(4,5)(7,10)), ((1,6)(2,7)(3,8)(4,9)(5,10), (1,8)(2,5)(3,10)(4,7)(6,9)), ((1,6)(2,7)(3,8)(4,9)(5,10), (1,8)(2,9)(3,10)(4,5)(6,7)), ((1,6)(2,7)(3,8)(4,9)(5,10), (1,8)(2,9)(3,10)(4,7)(5,6)), ((1,6)(2,7)(3,8)(4,9)(5,10), (1,10)(2,3)(4,5)(6,7)(8,9)), ((1,6)(2,7)(3,8)(4,9)(5,10), (1,10)(2,3)(4,5)(6,9)(7,8)), ((1,6)(2,7)(3,8)(4,9)(5,10), (1,10)(2,3)(4,7)(5,6)(8,9)), ((1,6)(2,7)(3,8)(4,9)(5,10), (1,10)(2,3)(4,7)(5,8)(6,9)), ((1,6)(2,7)(3,8)(4,9)(5,10), (1,10)(2,5)(3,4)(6,7)(8,9)), ((1,6)(2,7)(3,8)(4,9)(5,10), (1,10)(2,5)(3,4)(6,9)(7,8)), ((1,6)(2,7)(3,8)(4,9)(5,10), (1,10)(2,9)(3,4)(5,6)(7,8)), ((1,6)(2,7)(3,8)(4,9)(5,10), (1,10)(2,9)(3,4)(5,8)(6,7)), ((1,6)(2,7)(3,8)(4,9)(5,10), (1,10)(2,5)(3,6)(4,7)(8,9)), ((1,6)(2,7)(3,8)(4,9)(5,10), (1,10)(2,9)(3,6)(4,5)(7,8)), ((1,6)(2,7)(3,8)(4,9)(5,10), (1,10)(2,9)(3,6)(4,7)(5,8)), ((1,6)(2,9)(3,8)(4,7)(5,10), (1,8)(2,3)(4,5)(6,7)(9,10)), ((1,6)(2,9)(3,8)(4,7)(5,10), (1,8)(2,3)(4,5)(6,9)(7,10)), ((1,6)(2,9)(3,8)(4,7)(5,10), (1,8)(2,3)(4,9)(5,6)(7,10)), ((1,6)(2,9)(3,8)(4,7)(5,10), (1,8)(2,5)(3,4)(6,7)(9,10)), ((1,6)(2,9)(3,8)(4,7)(5,10), (1,8)(2,5)(3,4)(6,9)(7,10)), ((1,6)(2,9)(3,8)(4,7)(5,10), (1,8)(2,7)(3,4)(5,6)(9,10)), ((1,6)(2,9)(3,8)(4,7)(5,10), (1,8)(2,5)(3,6)(4,9)(7,10)), ((1,6)(2,9)(3,8)(4,7)(5,10), (1,8)(2,7)(3,6)(4,5)(9,10)), ((1,6)(2,9)(3,8)(4,7)(5,10), (1,8)(2,5)(3,10)(4,9)(6,7)), ((1,6)(2,9)(3,8)(4,7)(5,10), (1,8)(2,7)(3,10)(4,5)(6,9)), ((1,6)(2,9)(3,8)(4,7)(5,10), (1,8)(2,7)(3,10)(4,9)(5,6)), ((1,6)(2,9)(3,8)(4,7)(5,10), (1,10)(2,3)(4,5)(6,7)(8,9)), ((1,6)(2,9)(3,8)(4,7)(5,10), (1,10)(2,3)(4,5)(6,9)(7,8)), ((1,6)(2,9)(3,8)(4,7)(5,10), (1,10)(2,3)(4,9)(5,6)(7,8)), ((1,6)(2,9)(3,8)(4,7)(5,10), (1,10)(2,3)(4,9)(5,8)(6,7)), ((1,6)(2,9)(3,8)(4,7)(5,10), (1,10)(2,5)(3,4)(6,7)(8,9)), ((1,6)(2,9)(3,8)(4,7)(5,10), (1,10)(2,5)(3,4)(6,9)(7,8)), ((1,6)(2,9)(3,8)(4,7)(5,10), (1,10)(2,7)(3,4)(5,6)(8,9)), ((1,6)(2,9)(3,8)(4,7)(5,10), (1,10)(2,7)(3,4)(5,8)(6,9)), ((1,6)(2,9)(3,8)(4,7)(5,10), (1,10)(2,5)(3,6)(4,9)(7,8)), ((1,6)(2,9)(3,8)(4,7)(5,10), (1,10)(2,7)(3,6)(4,5)(8,9)), ((1,6)(2,9)(3,8)(4,7)(5,10), (1,10)(2,7)(3,6)(4,9)(5,8)), ((1,6)(2,5)(3,10)(4,7)(8,9), (1,8)(2,3)(4,5)(6,7)(9,10)), ((1,6)(2,5)(3,10)(4,7)(8,9), (1,8)(2,3)(4,5)(6,9)(7,10)), ((1,6)(2,5)(3,10)(4,7)(8,9), (1,8)(2,3)(4,9)(5,6)(7,10)), ((1,6)(2,5)(3,10)(4,7)(8,9), (1,8)(2,3)(4,9)(5,10)(6,7)), ((1,6)(2,5)(3,10)(4,7)(8,9), (1,8)(2,7)(3,4)(5,6)(9,10)), ((1,6)(2,5)(3,10)(4,7)(8,9), (1,8)(2,9)(3,4)(5,6)(7,10)), ((1,6)(2,5)(3,10)(4,7)(8,9), (1,8)(2,7)(3,4)(5,10)(6,9)), ((1,6)(2,5)(3,10)(4,7)(8,9), (1,8)(2,9)(3,4)(5,10)(6,7)), ((1,6)(2,5)(3,10)(4,7)(8,9), (1,8)(2,7)(3,6)(4,5)(9,10)), ((1,6)(2,5)(3,10)(4,7)(8,9), (1,8)(2,9)(3,6)(4,5)(7,10)), ((1,6)(2,5)(3,10)(4,7)(8,9), (1,8)(2,7)(3,6)(4,9)(5,10)), ((1,6)(2,5)(3,10)(4,7)(8,9), (1,10)(2,3)(4,5)(6,9)(7,8)), ((1,6)(2,5)(3,10)(4,7)(8,9), (1,10)(2,3)(4,9)(5,6)(7,8)), ((1,6)(2,5)(3,10)(4,7)(8,9), (1,10)(2,3)(4,9)(5,8)(6,7)), ((1,6)(2,5)(3,10)(4,7)(8,9), (1,10)(2,9)(3,4)(5,6)(7,8)), ((1,6)(2,5)(3,10)(4,7)(8,9), (1,10)(2,7)(3,4)(5,8)(6,9)), ((1,6)(2,5)(3,10)(4,7)(8,9), (1,10)(2,9)(3,4)(5,8)(6,7)), ((1,6)(2,5)(3,10)(4,7)(8,9), (1,10)(2,9)(3,6)(4,5)(7,8)), ((1,6)(2,5)(3,10)(4,7)(8,9), (1,10)(2,7)(3,6)(4,9)(5,8)), ((1,6)(2,5)(3,10)(4,7)(8,9), (1,10)(2,7)(3,8)(4,5)(6,9)), ((1,6)(2,5)(3,10)(4,7)(8,9), (1,10)(2,9)(3,8)(4,5)(6,7)), ((1,6)(2,5)(3,10)(4,7)(8,9), (1,10)(2,7)(3,8)(4,9)(5,6)), ((1,6)(2,5)(3,10)(4,9)(7,8), (1,8)(2,3)(4,5)(6,7)(9,10)), ((1,6)(2,5)(3,10)(4,9)(7,8), (1,8)(2,3)(4,5)(6,9)(7,10)), ((1,6)(2,5)(3,10)(4,9)(7,8), (1,8)(2,3)(4,7)(5,6)(9,10)), ((1,6)(2,5)(3,10)(4,9)(7,8), (1,8)(2,3)(4,7)(5,10)(6,9)), ((1,6)(2,5)(3,10)(4,9)(7,8), (1,8)(2,7)(3,4)(5,6)(9,10)), ((1,6)(2,5)(3,10)(4,9)(7,8), (1,8)(2,9)(3,4)(5,6)(7,10)), ((1,6)(2,5)(3,10)(4,9)(7,8), (1,8)(2,7)(3,4)(5,10)(6,9)), ((1,6)(2,5)(3,10)(4,9)(7,8), (1,8)(2,9)(3,4)(5,10)(6,7)), ((1,6)(2,5)(3,10)(4,9)(7,8), (1,8)(2,7)(3,6)(4,5)(9,10)), ((1,6)(2,5)(3,10)(4,9)(7,8), (1,8)(2,9)(3,6)(4,5)(7,10)), ((1,6)(2,5)(3,10)(4,9)(7,8), (1,8)(2,9)(3,6)(4,7)(5,10)), ((1,6)(2,5)(3,10)(4,9)(7,8), (1,10)(2,3)(4,5)(6,7)(8,9)), ((1,6)(2,5)(3,10)(4,9)(7,8), (1,10)(2,3)(4,7)(5,6)(8,9)), ((1,6)(2,5)(3,10)(4,9)(7,8), (1,10)(2,3)(4,7)(5,8)(6,9)), ((1,6)(2,5)(3,10)(4,9)(7,8), (1,10)(2,7)(3,4)(5,6)(8,9)), ((1,6)(2,5)(3,10)(4,9)(7,8), (1,10)(2,7)(3,4)(5,8)(6,9)), ((1,6)(2,5)(3,10)(4,9)(7,8), (1,10)(2,9)(3,4)(5,8)(6,7)), ((1,6)(2,5)(3,10)(4,9)(7,8), (1,10)(2,7)(3,6)(4,5)(8,9)), ((1,6)(2,5)(3,10)(4,9)(7,8), (1,10)(2,9)(3,6)(4,7)(5,8)), ((1,6)(2,5)(3,10)(4,9)(7,8), (1,10)(2,7)(3,8)(4,5)(6,9)), ((1,6)(2,5)(3,10)(4,9)(7,8), (1,10)(2,9)(3,8)(4,5)(6,7)), ((1,6)(2,5)(3,10)(4,9)(7,8), (1,10)(2,9)(3,8)(4,7)(5,6)), ((1,6)(2,7)(3,10)(4,5)(8,9), (1,8)(2,3)(4,7)(5,6)(9,10)), ((1,6)(2,7)(3,10)(4,5)(8,9), (1,8)(2,3)(4,9)(5,6)(7,10)), ((1,6)(2,7)(3,10)(4,5)(8,9), (1,8)(2,3)(4,7)(5,10)(6,9)), ((1,6)(2,7)(3,10)(4,5)(8,9), (1,8)(2,3)(4,9)(5,10)(6,7)), ((1,6)(2,7)(3,10)(4,5)(8,9), (1,8)(2,5)(3,4)(6,7)(9,10)), ((1,6)(2,7)(3,10)(4,5)(8,9), (1,8)(2,5)(3,4)(6,9)(7,10)), ((1,6)(2,7)(3,10)(4,5)(8,9), (1,8)(2,9)(3,4)(5,6)(7,10)), ((1,6)(2,7)(3,10)(4,5)(8,9), (1,8)(2,9)(3,4)(5,10)(6,7)), ((1,6)(2,7)(3,10)(4,5)(8,9), (1,8)(2,5)(3,6)(4,7)(9,10)), ((1,6)(2,7)(3,10)(4,5)(8,9), (1,8)(2,5)(3,6)(4,9)(7,10)), ((1,6)(2,7)(3,10)(4,5)(8,9), (1,8)(2,9)(3,6)(4,7)(5,10)), ((1,6)(2,7)(3,10)(4,5)(8,9), (1,10)(2,3)(4,9)(5,6)(7,8)), ((1,6)(2,7)(3,10)(4,5)(8,9), (1,10)(2,3)(4,7)(5,8)(6,9)), ((1,6)(2,7)(3,10)(4,5)(8,9), (1,10)(2,3)(4,9)(5,8)(6,7)), ((1,6)(2,7)(3,10)(4,5)(8,9), (1,10)(2,5)(3,4)(6,9)(7,8)), ((1,6)(2,7)(3,10)(4,5)(8,9), (1,10)(2,9)(3,4)(5,6)(7,8)), ((1,6)(2,7)(3,10)(4,5)(8,9), (1,10)(2,9)(3,4)(5,8)(6,7)), ((1,6)(2,7)(3,10)(4,5)(8,9), (1,10)(2,5)(3,6)(4,9)(7,8)), ((1,6)(2,7)(3,10)(4,5)(8,9), (1,10)(2,9)(3,6)(4,7)(5,8)), ((1,6)(2,7)(3,10)(4,5)(8,9), (1,10)(2,5)(3,8)(4,7)(6,9)), ((1,6)(2,7)(3,10)(4,5)(8,9), (1,10)(2,5)(3,8)(4,9)(6,7)), ((1,6)(2,7)(3,10)(4,5)(8,9), (1,10)(2,9)(3,8)(4,7)(5,6)), ((1,6)(2,9)(3,10)(4,5)(7,8), (1,8)(2,3)(4,7)(5,6)(9,10)), ((1,6)(2,9)(3,10)(4,5)(7,8), (1,8)(2,3)(4,9)(5,6)(7,10)), ((1,6)(2,9)(3,10)(4,5)(7,8), (1,8)(2,3)(4,7)(5,10)(6,9)), ((1,6)(2,9)(3,10)(4,5)(7,8), (1,8)(2,3)(4,9)(5,10)(6,7)), ((1,6)(2,9)(3,10)(4,5)(7,8), (1,8)(2,5)(3,4)(6,7)(9,10)), ((1,6)(2,9)(3,10)(4,5)(7,8), (1,8)(2,5)(3,4)(6,9)(7,10)), ((1,6)(2,9)(3,10)(4,5)(7,8), (1,8)(2,7)(3,4)(5,6)(9,10)), ((1,6)(2,9)(3,10)(4,5)(7,8), (1,8)(2,7)(3,4)(5,10)(6,9)), ((1,6)(2,9)(3,10)(4,5)(7,8), (1,8)(2,5)(3,6)(4,7)(9,10)), ((1,6)(2,9)(3,10)(4,5)(7,8), (1,8)(2,5)(3,6)(4,9)(7,10)), ((1,6)(2,9)(3,10)(4,5)(7,8), (1,8)(2,7)(3,6)(4,9)(5,10)), ((1,6)(2,9)(3,10)(4,5)(7,8), (1,10)(2,3)(4,7)(5,6)(8,9)), ((1,6)(2,9)(3,10)(4,5)(7,8), (1,10)(2,3)(4,7)(5,8)(6,9)), ((1,6)(2,9)(3,10)(4,5)(7,8), (1,10)(2,3)(4,9)(5,8)(6,7)), ((1,6)(2,9)(3,10)(4,5)(7,8), (1,10)(2,5)(3,4)(6,7)(8,9)), ((1,6)(2,9)(3,10)(4,5)(7,8), (1,10)(2,7)(3,4)(5,6)(8,9)), ((1,6)(2,9)(3,10)(4,5)(7,8), (1,10)(2,7)(3,4)(5,8)(6,9)), ((1,6)(2,9)(3,10)(4,5)(7,8), (1,10)(2,5)(3,6)(4,7)(8,9)), ((1,6)(2,9)(3,10)(4,5)(7,8), (1,10)(2,7)(3,6)(4,9)(5,8)), ((1,6)(2,9)(3,10)(4,5)(7,8), (1,10)(2,5)(3,8)(4,7)(6,9)), ((1,6)(2,9)(3,10)(4,5)(7,8), (1,10)(2,5)(3,8)(4,9)(6,7)), ((1,6)(2,9)(3,10)(4,5)(7,8), (1,10)(2,7)(3,8)(4,9)(5,6)), ((1,6)(2,7)(3,10)(4,9)(5,8), (1,8)(2,3)(4,5)(6,7)(9,10)), ((1,6)(2,7)(3,10)(4,9)(5,8), (1,8)(2,3)(4,5)(6,9)(7,10)), ((1,6)(2,7)(3,10)(4,9)(5,8), (1,8)(2,3)(4,7)(5,6)(9,10)), ((1,6)(2,7)(3,10)(4,9)(5,8), (1,8)(2,3)(4,7)(5,10)(6,9)), ((1,6)(2,7)(3,10)(4,9)(5,8), (1,8)(2,5)(3,4)(6,7)(9,10)), ((1,6)(2,7)(3,10)(4,9)(5,8), (1,8)(2,5)(3,4)(6,9)(7,10)), ((1,6)(2,7)(3,10)(4,9)(5,8), (1,8)(2,9)(3,4)(5,6)(7,10)), ((1,6)(2,7)(3,10)(4,9)(5,8), (1,8)(2,9)(3,4)(5,10)(6,7)), ((1,6)(2,7)(3,10)(4,9)(5,8), (1,8)(2,5)(3,6)(4,7)(9,10)), ((1,6)(2,7)(3,10)(4,9)(5,8), (1,8)(2,9)(3,6)(4,5)(7,10)), ((1,6)(2,7)(3,10)(4,9)(5,8), (1,8)(2,9)(3,6)(4,7)(5,10)), ((1,6)(2,7)(3,10)(4,9)(5,8), (1,10)(2,3)(4,5)(6,7)(8,9)), ((1,6)(2,7)(3,10)(4,9)(5,8), (1,10)(2,3)(4,5)(6,9)(7,8)), ((1,6)(2,7)(3,10)(4,9)(5,8), (1,10)(2,3)(4,7)(5,6)(8,9)), ((1,6)(2,7)(3,10)(4,9)(5,8), (1,10)(2,5)(3,4)(6,7)(8,9)), ((1,6)(2,7)(3,10)(4,9)(5,8), (1,10)(2,5)(3,4)(6,9)(7,8)), ((1,6)(2,7)(3,10)(4,9)(5,8), (1,10)(2,9)(3,4)(5,6)(7,8)), ((1,6)(2,7)(3,10)(4,9)(5,8), (1,10)(2,5)(3,6)(4,7)(8,9)), ((1,6)(2,7)(3,10)(4,9)(5,8), (1,10)(2,9)(3,6)(4,5)(7,8)), ((1,6)(2,7)(3,10)(4,9)(5,8), (1,10)(2,5)(3,8)(4,7)(6,9)), ((1,6)(2,7)(3,10)(4,9)(5,8), (1,10)(2,9)(3,8)(4,5)(6,7)), ((1,6)(2,7)(3,10)(4,9)(5,8), (1,10)(2,9)(3,8)(4,7)(5,6)), ((1,6)(2,9)(3,10)(4,7)(5,8), (1,8)(2,3)(4,5)(6,7)(9,10)), ((1,6)(2,9)(3,10)(4,7)(5,8), (1,8)(2,3)(4,5)(6,9)(7,10)), ((1,6)(2,9)(3,10)(4,7)(5,8), (1,8)(2,3)(4,9)(5,6)(7,10)), ((1,6)(2,9)(3,10)(4,7)(5,8), (1,8)(2,3)(4,9)(5,10)(6,7)), ((1,6)(2,9)(3,10)(4,7)(5,8), (1,8)(2,5)(3,4)(6,7)(9,10)), ((1,6)(2,9)(3,10)(4,7)(5,8), (1,8)(2,5)(3,4)(6,9)(7,10)), ((1,6)(2,9)(3,10)(4,7)(5,8), (1,8)(2,7)(3,4)(5,6)(9,10)), ((1,6)(2,9)(3,10)(4,7)(5,8), (1,8)(2,7)(3,4)(5,10)(6,9)), ((1,6)(2,9)(3,10)(4,7)(5,8), (1,8)(2,5)(3,6)(4,9)(7,10)), ((1,6)(2,9)(3,10)(4,7)(5,8), (1,8)(2,7)(3,6)(4,5)(9,10)), ((1,6)(2,9)(3,10)(4,7)(5,8), (1,8)(2,7)(3,6)(4,9)(5,10)), ((1,6)(2,9)(3,10)(4,7)(5,8), (1,10)(2,3)(4,5)(6,7)(8,9)), ((1,6)(2,9)(3,10)(4,7)(5,8), (1,10)(2,3)(4,5)(6,9)(7,8)), ((1,6)(2,9)(3,10)(4,7)(5,8), (1,10)(2,3)(4,9)(5,6)(7,8)), ((1,6)(2,9)(3,10)(4,7)(5,8), (1,10)(2,5)(3,4)(6,7)(8,9)), ((1,6)(2,9)(3,10)(4,7)(5,8), (1,10)(2,5)(3,4)(6,9)(7,8)), ((1,6)(2,9)(3,10)(4,7)(5,8), (1,10)(2,7)(3,4)(5,6)(8,9)), ((1,6)(2,9)(3,10)(4,7)(5,8), (1,10)(2,5)(3,6)(4,9)(7,8)), ((1,6)(2,9)(3,10)(4,7)(5,8), (1,10)(2,7)(3,6)(4,5)(8,9)), ((1,6)(2,9)(3,10)(4,7)(5,8), (1,10)(2,5)(3,8)(4,9)(6,7)), ((1,6)(2,9)(3,10)(4,7)(5,8), (1,10)(2,7)(3,8)(4,5)(6,9)), ((1,6)(2,9)(3,10)(4,7)(5,8), (1,10)(2,7)(3,8)(4,9)(5,6)), ((1,8)(2,3)(4,5)(6,7)(9,10), (1,10)(2,5)(3,4)(6,9)(7,8)), ((1,8)(2,3)(4,5)(6,7)(9,10), (1,10)(2,7)(3,4)(5,6)(8,9)), ((1,8)(2,3)(4,5)(6,7)(9,10), (1,10)(2,9)(3,4)(5,6)(7,8)), ((1,8)(2,3)(4,5)(6,7)(9,10), (1,10)(2,7)(3,4)(5,8)(6,9)), ((1,8)(2,3)(4,5)(6,7)(9,10), (1,10)(2,5)(3,6)(4,7)(8,9)), ((1,8)(2,3)(4,5)(6,7)(9,10), (1,10)(2,5)(3,6)(4,9)(7,8)), ((1,8)(2,3)(4,5)(6,7)(9,10), (1,10)(2,7)(3,6)(4,9)(5,8)), ((1,8)(2,3)(4,5)(6,7)(9,10), (1,10)(2,9)(3,6)(4,7)(5,8)), ((1,8)(2,3)(4,5)(6,7)(9,10), (1,10)(2,5)(3,8)(4,7)(6,9)), ((1,8)(2,3)(4,5)(6,7)(9,10), (1,10)(2,7)(3,8)(4,9)(5,6)), ((1,8)(2,3)(4,5)(6,7)(9,10), (1,10)(2,9)(3,8)(4,7)(5,6)), ((1,8)(2,3)(4,5)(6,9)(7,10), (1,10)(2,5)(3,4)(6,7)(8,9)), ((1,8)(2,3)(4,5)(6,9)(7,10), (1,10)(2,7)(3,4)(5,6)(8,9)), ((1,8)(2,3)(4,5)(6,9)(7,10), (1,10)(2,9)(3,4)(5,6)(7,8)), ((1,8)(2,3)(4,5)(6,9)(7,10), (1,10)(2,9)(3,4)(5,8)(6,7)), ((1,8)(2,3)(4,5)(6,9)(7,10), (1,10)(2,5)(3,6)(4,7)(8,9)), ((1,8)(2,3)(4,5)(6,9)(7,10), (1,10)(2,5)(3,6)(4,9)(7,8)), ((1,8)(2,3)(4,5)(6,9)(7,10), (1,10)(2,7)(3,6)(4,9)(5,8)), ((1,8)(2,3)(4,5)(6,9)(7,10), (1,10)(2,9)(3,6)(4,7)(5,8)), ((1,8)(2,3)(4,5)(6,9)(7,10), (1,10)(2,5)(3,8)(4,9)(6,7)), ((1,8)(2,3)(4,5)(6,9)(7,10), (1,10)(2,7)(3,8)(4,9)(5,6)), ((1,8)(2,3)(4,5)(6,9)(7,10), (1,10)(2,9)(3,8)(4,7)(5,6)), ((1,8)(2,3)(4,7)(5,6)(9,10), (1,10)(2,5)(3,4)(6,7)(8,9)), ((1,8)(2,3)(4,7)(5,6)(9,10), (1,10)(2,5)(3,4)(6,9)(7,8)), ((1,8)(2,3)(4,7)(5,6)(9,10), (1,10)(2,7)(3,4)(5,8)(6,9)), ((1,8)(2,3)(4,7)(5,6)(9,10), (1,10)(2,9)(3,4)(5,8)(6,7)), ((1,8)(2,3)(4,7)(5,6)(9,10), (1,10)(2,5)(3,6)(4,9)(7,8)), ((1,8)(2,3)(4,7)(5,6)(9,10), (1,10)(2,7)(3,6)(4,5)(8,9)), ((1,8)(2,3)(4,7)(5,6)(9,10), (1,10)(2,9)(3,6)(4,5)(7,8)), ((1,8)(2,3)(4,7)(5,6)(9,10), (1,10)(2,7)(3,6)(4,9)(5,8)), ((1,8)(2,3)(4,7)(5,6)(9,10), (1,10)(2,5)(3,8)(4,9)(6,7)), ((1,8)(2,3)(4,7)(5,6)(9,10), (1,10)(2,7)(3,8)(4,5)(6,9)), ((1,8)(2,3)(4,7)(5,6)(9,10), (1,10)(2,9)(3,8)(4,5)(6,7)), ((1,8)(2,3)(4,9)(5,6)(7,10), (1,10)(2,5)(3,4)(6,7)(8,9)), ((1,8)(2,3)(4,9)(5,6)(7,10), (1,10)(2,5)(3,4)(6,9)(7,8)), ((1,8)(2,3)(4,9)(5,6)(7,10), (1,10)(2,7)(3,4)(5,8)(6,9)), ((1,8)(2,3)(4,9)(5,6)(7,10), (1,10)(2,9)(3,4)(5,8)(6,7)), ((1,8)(2,3)(4,9)(5,6)(7,10), (1,10)(2,5)(3,6)(4,7)(8,9)), ((1,8)(2,3)(4,9)(5,6)(7,10), (1,10)(2,7)(3,6)(4,5)(8,9)), ((1,8)(2,3)(4,9)(5,6)(7,10), (1,10)(2,9)(3,6)(4,5)(7,8)), ((1,8)(2,3)(4,9)(5,6)(7,10), (1,10)(2,9)(3,6)(4,7)(5,8)), ((1,8)(2,3)(4,9)(5,6)(7,10), (1,10)(2,5)(3,8)(4,7)(6,9)), ((1,8)(2,3)(4,9)(5,6)(7,10), (1,10)(2,7)(3,8)(4,5)(6,9)), ((1,8)(2,3)(4,9)(5,6)(7,10), (1,10)(2,9)(3,8)(4,5)(6,7)), ((1,8)(2,3)(4,7)(5,10)(6,9), (1,10)(2,5)(3,4)(6,7)(8,9)), ((1,8)(2,3)(4,7)(5,10)(6,9), (1,10)(2,7)(3,4)(5,6)(8,9)), ((1,8)(2,3)(4,7)(5,10)(6,9), (1,10)(2,9)(3,4)(5,6)(7,8)), ((1,8)(2,3)(4,7)(5,10)(6,9), (1,10)(2,9)(3,4)(5,8)(6,7)), ((1,8)(2,3)(4,7)(5,10)(6,9), (1,10)(2,5)(3,6)(4,9)(7,8)), ((1,8)(2,3)(4,7)(5,10)(6,9), (1,10)(2,7)(3,6)(4,5)(8,9)), ((1,8)(2,3)(4,7)(5,10)(6,9), (1,10)(2,9)(3,6)(4,5)(7,8)), ((1,8)(2,3)(4,7)(5,10)(6,9), (1,10)(2,7)(3,6)(4,9)(5,8)), ((1,8)(2,3)(4,7)(5,10)(6,9), (1,10)(2,5)(3,8)(4,9)(6,7)), ((1,8)(2,3)(4,7)(5,10)(6,9), (1,10)(2,9)(3,8)(4,5)(6,7)), ((1,8)(2,3)(4,7)(5,10)(6,9), (1,10)(2,7)(3,8)(4,9)(5,6)), ((1,8)(2,3)(4,9)(5,10)(6,7), (1,10)(2,5)(3,4)(6,9)(7,8)), ((1,8)(2,3)(4,9)(5,10)(6,7), (1,10)(2,7)(3,4)(5,6)(8,9)), ((1,8)(2,3)(4,9)(5,10)(6,7), (1,10)(2,9)(3,4)(5,6)(7,8)), ((1,8)(2,3)(4,9)(5,10)(6,7), (1,10)(2,7)(3,4)(5,8)(6,9)), ((1,8)(2,3)(4,9)(5,10)(6,7), (1,10)(2,5)(3,6)(4,7)(8,9)), ((1,8)(2,3)(4,9)(5,10)(6,7), (1,10)(2,7)(3,6)(4,5)(8,9)), ((1,8)(2,3)(4,9)(5,10)(6,7), (1,10)(2,9)(3,6)(4,5)(7,8)), ((1,8)(2,3)(4,9)(5,10)(6,7), (1,10)(2,9)(3,6)(4,7)(5,8)), ((1,8)(2,3)(4,9)(5,10)(6,7), (1,10)(2,5)(3,8)(4,7)(6,9)), ((1,8)(2,3)(4,9)(5,10)(6,7), (1,10)(2,7)(3,8)(4,5)(6,9)), ((1,8)(2,3)(4,9)(5,10)(6,7), (1,10)(2,9)(3,8)(4,7)(5,6)), ((1,8)(2,5)(3,4)(6,7)(9,10), (1,10)(2,3)(4,5)(6,9)(7,8)), ((1,8)(2,5)(3,4)(6,7)(9,10), (1,10)(2,3)(4,7)(5,6)(8,9)), ((1,8)(2,5)(3,4)(6,7)(9,10), (1,10)(2,3)(4,9)(5,6)(7,8)), ((1,8)(2,5)(3,4)(6,7)(9,10), (1,10)(2,3)(4,7)(5,8)(6,9)), ((1,8)(2,5)(3,4)(6,7)(9,10), (1,10)(2,7)(3,6)(4,5)(8,9)), ((1,8)(2,5)(3,4)(6,7)(9,10), (1,10)(2,9)(3,6)(4,5)(7,8)), ((1,8)(2,5)(3,4)(6,7)(9,10), (1,10)(2,7)(3,6)(4,9)(5,8)), ((1,8)(2,5)(3,4)(6,7)(9,10), (1,10)(2,9)(3,6)(4,7)(5,8)), ((1,8)(2,5)(3,4)(6,7)(9,10), (1,10)(2,7)(3,8)(4,5)(6,9)), ((1,8)(2,5)(3,4)(6,7)(9,10), (1,10)(2,7)(3,8)(4,9)(5,6)), ((1,8)(2,5)(3,4)(6,7)(9,10), (1,10)(2,9)(3,8)(4,7)(5,6)), ((1,8)(2,5)(3,4)(6,9)(7,10), (1,10)(2,3)(4,5)(6,7)(8,9)), ((1,8)(2,5)(3,4)(6,9)(7,10), (1,10)(2,3)(4,7)(5,6)(8,9)), ((1,8)(2,5)(3,4)(6,9)(7,10), (1,10)(2,3)(4,9)(5,6)(7,8)), ((1,8)(2,5)(3,4)(6,9)(7,10), (1,10)(2,3)(4,9)(5,8)(6,7)), ((1,8)(2,5)(3,4)(6,9)(7,10), (1,10)(2,7)(3,6)(4,5)(8,9)), ((1,8)(2,5)(3,4)(6,9)(7,10), (1,10)(2,9)(3,6)(4,5)(7,8)), ((1,8)(2,5)(3,4)(6,9)(7,10), (1,10)(2,7)(3,6)(4,9)(5,8)), ((1,8)(2,5)(3,4)(6,9)(7,10), (1,10)(2,9)(3,6)(4,7)(5,8)), ((1,8)(2,5)(3,4)(6,9)(7,10), (1,10)(2,9)(3,8)(4,5)(6,7)), ((1,8)(2,5)(3,4)(6,9)(7,10), (1,10)(2,7)(3,8)(4,9)(5,6)), ((1,8)(2,5)(3,4)(6,9)(7,10), (1,10)(2,9)(3,8)(4,7)(5,6)), ((1,8)(2,7)(3,4)(5,6)(9,10), (1,10)(2,3)(4,5)(6,7)(8,9)), ((1,8)(2,7)(3,4)(5,6)(9,10), (1,10)(2,3)(4,5)(6,9)(7,8)), ((1,8)(2,7)(3,4)(5,6)(9,10), (1,10)(2,3)(4,7)(5,8)(6,9)), ((1,8)(2,7)(3,4)(5,6)(9,10), (1,10)(2,3)(4,9)(5,8)(6,7)), ((1,8)(2,7)(3,4)(5,6)(9,10), (1,10)(2,5)(3,6)(4,7)(8,9)), ((1,8)(2,7)(3,4)(5,6)(9,10), (1,10)(2,5)(3,6)(4,9)(7,8)), ((1,8)(2,7)(3,4)(5,6)(9,10), (1,10)(2,9)(3,6)(4,5)(7,8)), ((1,8)(2,7)(3,4)(5,6)(9,10), (1,10)(2,9)(3,6)(4,7)(5,8)), ((1,8)(2,7)(3,4)(5,6)(9,10), (1,10)(2,5)(3,8)(4,7)(6,9)), ((1,8)(2,7)(3,4)(5,6)(9,10), (1,10)(2,5)(3,8)(4,9)(6,7)), ((1,8)(2,7)(3,4)(5,6)(9,10), (1,10)(2,9)(3,8)(4,5)(6,7)), ((1,8)(2,9)(3,4)(5,6)(7,10), (1,10)(2,3)(4,5)(6,7)(8,9)), ((1,8)(2,9)(3,4)(5,6)(7,10), (1,10)(2,3)(4,5)(6,9)(7,8)), ((1,8)(2,9)(3,4)(5,6)(7,10), (1,10)(2,3)(4,7)(5,8)(6,9)), ((1,8)(2,9)(3,4)(5,6)(7,10), (1,10)(2,3)(4,9)(5,8)(6,7)), ((1,8)(2,9)(3,4)(5,6)(7,10), (1,10)(2,5)(3,6)(4,7)(8,9)), ((1,8)(2,9)(3,4)(5,6)(7,10), (1,10)(2,5)(3,6)(4,9)(7,8)), ((1,8)(2,9)(3,4)(5,6)(7,10), (1,10)(2,7)(3,6)(4,5)(8,9)), ((1,8)(2,9)(3,4)(5,6)(7,10), (1,10)(2,7)(3,6)(4,9)(5,8)), ((1,8)(2,9)(3,4)(5,6)(7,10), (1,10)(2,5)(3,8)(4,7)(6,9)), ((1,8)(2,9)(3,4)(5,6)(7,10), (1,10)(2,5)(3,8)(4,9)(6,7)), ((1,8)(2,9)(3,4)(5,6)(7,10), (1,10)(2,7)(3,8)(4,5)(6,9)), ((1,8)(2,7)(3,4)(5,10)(6,9), (1,10)(2,3)(4,5)(6,7)(8,9)), ((1,8)(2,7)(3,4)(5,10)(6,9), (1,10)(2,3)(4,7)(5,6)(8,9)), ((1,8)(2,7)(3,4)(5,10)(6,9), (1,10)(2,3)(4,9)(5,6)(7,8)), ((1,8)(2,7)(3,4)(5,10)(6,9), (1,10)(2,3)(4,9)(5,8)(6,7)), ((1,8)(2,7)(3,4)(5,10)(6,9), (1,10)(2,5)(3,6)(4,7)(8,9)), ((1,8)(2,7)(3,4)(5,10)(6,9), (1,10)(2,5)(3,6)(4,9)(7,8)), ((1,8)(2,7)(3,4)(5,10)(6,9), (1,10)(2,9)(3,6)(4,5)(7,8)), ((1,8)(2,7)(3,4)(5,10)(6,9), (1,10)(2,9)(3,6)(4,7)(5,8)), ((1,8)(2,7)(3,4)(5,10)(6,9), (1,10)(2,5)(3,8)(4,9)(6,7)), ((1,8)(2,7)(3,4)(5,10)(6,9), (1,10)(2,9)(3,8)(4,5)(6,7)), ((1,8)(2,7)(3,4)(5,10)(6,9), (1,10)(2,9)(3,8)(4,7)(5,6)), ((1,8)(2,9)(3,4)(5,10)(6,7), (1,10)(2,3)(4,5)(6,9)(7,8)), ((1,8)(2,9)(3,4)(5,10)(6,7), (1,10)(2,3)(4,7)(5,6)(8,9)), ((1,8)(2,9)(3,4)(5,10)(6,7), (1,10)(2,3)(4,9)(5,6)(7,8)), ((1,8)(2,9)(3,4)(5,10)(6,7), (1,10)(2,3)(4,7)(5,8)(6,9)), ((1,8)(2,9)(3,4)(5,10)(6,7), (1,10)(2,5)(3,6)(4,7)(8,9)), ((1,8)(2,9)(3,4)(5,10)(6,7), (1,10)(2,5)(3,6)(4,9)(7,8)), ((1,8)(2,9)(3,4)(5,10)(6,7), (1,10)(2,7)(3,6)(4,5)(8,9)), ((1,8)(2,9)(3,4)(5,10)(6,7), (1,10)(2,7)(3,6)(4,9)(5,8)), ((1,8)(2,9)(3,4)(5,10)(6,7), (1,10)(2,5)(3,8)(4,7)(6,9)), ((1,8)(2,9)(3,4)(5,10)(6,7), (1,10)(2,7)(3,8)(4,5)(6,9)), ((1,8)(2,9)(3,4)(5,10)(6,7), (1,10)(2,7)(3,8)(4,9)(5,6)), ((1,8)(2,5)(3,6)(4,7)(9,10), (1,10)(2,3)(4,5)(6,7)(8,9)), ((1,8)(2,5)(3,6)(4,7)(9,10), (1,10)(2,3)(4,5)(6,9)(7,8)), ((1,8)(2,5)(3,6)(4,7)(9,10), (1,10)(2,3)(4,9)(5,6)(7,8)), ((1,8)(2,5)(3,6)(4,7)(9,10), (1,10)(2,3)(4,9)(5,8)(6,7)), ((1,8)(2,5)(3,6)(4,7)(9,10), (1,10)(2,7)(3,4)(5,6)(8,9)), ((1,8)(2,5)(3,6)(4,7)(9,10), (1,10)(2,9)(3,4)(5,6)(7,8)), ((1,8)(2,5)(3,6)(4,7)(9,10), (1,10)(2,7)(3,4)(5,8)(6,9)), ((1,8)(2,5)(3,6)(4,7)(9,10), (1,10)(2,9)(3,4)(5,8)(6,7)), ((1,8)(2,5)(3,6)(4,7)(9,10), (1,10)(2,7)(3,8)(4,5)(6,9)), ((1,8)(2,5)(3,6)(4,7)(9,10), (1,10)(2,9)(3,8)(4,5)(6,7)), ((1,8)(2,5)(3,6)(4,7)(9,10), (1,10)(2,7)(3,8)(4,9)(5,6)), ((1,8)(2,5)(3,6)(4,9)(7,10), (1,10)(2,3)(4,5)(6,7)(8,9)), ((1,8)(2,5)(3,6)(4,9)(7,10), (1,10)(2,3)(4,5)(6,9)(7,8)), ((1,8)(2,5)(3,6)(4,9)(7,10), (1,10)(2,3)(4,7)(5,6)(8,9)), ((1,8)(2,5)(3,6)(4,9)(7,10), (1,10)(2,3)(4,7)(5,8)(6,9)), ((1,8)(2,5)(3,6)(4,9)(7,10), (1,10)(2,7)(3,4)(5,6)(8,9)), ((1,8)(2,5)(3,6)(4,9)(7,10), (1,10)(2,9)(3,4)(5,6)(7,8)), ((1,8)(2,5)(3,6)(4,9)(7,10), (1,10)(2,7)(3,4)(5,8)(6,9)), ((1,8)(2,5)(3,6)(4,9)(7,10), (1,10)(2,9)(3,4)(5,8)(6,7)), ((1,8)(2,5)(3,6)(4,9)(7,10), (1,10)(2,7)(3,8)(4,5)(6,9)), ((1,8)(2,5)(3,6)(4,9)(7,10), (1,10)(2,9)(3,8)(4,5)(6,7)), ((1,8)(2,5)(3,6)(4,9)(7,10), (1,10)(2,9)(3,8)(4,7)(5,6)), ((1,8)(2,7)(3,6)(4,5)(9,10), (1,10)(2,3)(4,7)(5,6)(8,9)), ((1,8)(2,7)(3,6)(4,5)(9,10), (1,10)(2,3)(4,9)(5,6)(7,8)), ((1,8)(2,7)(3,6)(4,5)(9,10), (1,10)(2,3)(4,7)(5,8)(6,9)), ((1,8)(2,7)(3,6)(4,5)(9,10), (1,10)(2,3)(4,9)(5,8)(6,7)), ((1,8)(2,7)(3,6)(4,5)(9,10), (1,10)(2,5)(3,4)(6,7)(8,9)), ((1,8)(2,7)(3,6)(4,5)(9,10), (1,10)(2,5)(3,4)(6,9)(7,8)), ((1,8)(2,7)(3,6)(4,5)(9,10), (1,10)(2,9)(3,4)(5,6)(7,8)), ((1,8)(2,7)(3,6)(4,5)(9,10), (1,10)(2,9)(3,4)(5,8)(6,7)), ((1,8)(2,7)(3,6)(4,5)(9,10), (1,10)(2,5)(3,8)(4,7)(6,9)), ((1,8)(2,7)(3,6)(4,5)(9,10), (1,10)(2,5)(3,8)(4,9)(6,7)), ((1,8)(2,7)(3,6)(4,5)(9,10), (1,10)(2,9)(3,8)(4,7)(5,6)), ((1,8)(2,9)(3,6)(4,5)(7,10), (1,10)(2,3)(4,7)(5,6)(8,9)), ((1,8)(2,9)(3,6)(4,5)(7,10), (1,10)(2,3)(4,9)(5,6)(7,8)), ((1,8)(2,9)(3,6)(4,5)(7,10), (1,10)(2,3)(4,7)(5,8)(6,9)), ((1,8)(2,9)(3,6)(4,5)(7,10), (1,10)(2,3)(4,9)(5,8)(6,7)), ((1,8)(2,9)(3,6)(4,5)(7,10), (1,10)(2,5)(3,4)(6,7)(8,9)), ((1,8)(2,9)(3,6)(4,5)(7,10), (1,10)(2,5)(3,4)(6,9)(7,8)), ((1,8)(2,9)(3,6)(4,5)(7,10), (1,10)(2,7)(3,4)(5,6)(8,9)), ((1,8)(2,9)(3,6)(4,5)(7,10), (1,10)(2,7)(3,4)(5,8)(6,9)), ((1,8)(2,9)(3,6)(4,5)(7,10), (1,10)(2,5)(3,8)(4,7)(6,9)), ((1,8)(2,9)(3,6)(4,5)(7,10), (1,10)(2,5)(3,8)(4,9)(6,7)), ((1,8)(2,9)(3,6)(4,5)(7,10), (1,10)(2,7)(3,8)(4,9)(5,6)), ((1,8)(2,7)(3,6)(4,9)(5,10), (1,10)(2,3)(4,5)(6,7)(8,9)), ((1,8)(2,7)(3,6)(4,9)(5,10), (1,10)(2,3)(4,5)(6,9)(7,8)), ((1,8)(2,7)(3,6)(4,9)(5,10), (1,10)(2,3)(4,7)(5,6)(8,9)), ((1,8)(2,7)(3,6)(4,9)(5,10), (1,10)(2,3)(4,7)(5,8)(6,9)), ((1,8)(2,7)(3,6)(4,9)(5,10), (1,10)(2,5)(3,4)(6,7)(8,9)), ((1,8)(2,7)(3,6)(4,9)(5,10), (1,10)(2,5)(3,4)(6,9)(7,8)), ((1,8)(2,7)(3,6)(4,9)(5,10), (1,10)(2,9)(3,4)(5,6)(7,8)), ((1,8)(2,7)(3,6)(4,9)(5,10), (1,10)(2,9)(3,4)(5,8)(6,7)), ((1,8)(2,7)(3,6)(4,9)(5,10), (1,10)(2,5)(3,8)(4,7)(6,9)), ((1,8)(2,7)(3,6)(4,9)(5,10), (1,10)(2,9)(3,8)(4,5)(6,7)), ((1,8)(2,7)(3,6)(4,9)(5,10), (1,10)(2,9)(3,8)(4,7)(5,6)), ((1,8)(2,9)(3,6)(4,7)(5,10), (1,10)(2,3)(4,5)(6,7)(8,9)), ((1,8)(2,9)(3,6)(4,7)(5,10), (1,10)(2,3)(4,5)(6,9)(7,8)), ((1,8)(2,9)(3,6)(4,7)(5,10), (1,10)(2,3)(4,9)(5,6)(7,8)), ((1,8)(2,9)(3,6)(4,7)(5,10), (1,10)(2,3)(4,9)(5,8)(6,7)), ((1,8)(2,9)(3,6)(4,7)(5,10), (1,10)(2,5)(3,4)(6,7)(8,9)), ((1,8)(2,9)(3,6)(4,7)(5,10), (1,10)(2,5)(3,4)(6,9)(7,8)), ((1,8)(2,9)(3,6)(4,7)(5,10), (1,10)(2,7)(3,4)(5,6)(8,9)), ((1,8)(2,9)(3,6)(4,7)(5,10), (1,10)(2,7)(3,4)(5,8)(6,9)), ((1,8)(2,9)(3,6)(4,7)(5,10), (1,10)(2,5)(3,8)(4,9)(6,7)), ((1,8)(2,9)(3,6)(4,7)(5,10), (1,10)(2,7)(3,8)(4,5)(6,9)), ((1,8)(2,9)(3,6)(4,7)(5,10), (1,10)(2,7)(3,8)(4,9)(5,6)), ((1,8)(2,5)(3,10)(4,7)(6,9), (1,10)(2,3)(4,5)(6,7)(8,9)), ((1,8)(2,5)(3,10)(4,7)(6,9), (1,10)(2,3)(4,9)(5,6)(7,8)), ((1,8)(2,5)(3,10)(4,7)(6,9), (1,10)(2,3)(4,9)(5,8)(6,7)), ((1,8)(2,5)(3,10)(4,7)(6,9), (1,10)(2,7)(3,4)(5,6)(8,9)), ((1,8)(2,5)(3,10)(4,7)(6,9), (1,10)(2,9)(3,4)(5,6)(7,8)), ((1,8)(2,5)(3,10)(4,7)(6,9), (1,10)(2,9)(3,4)(5,8)(6,7)), ((1,8)(2,5)(3,10)(4,7)(6,9), (1,10)(2,7)(3,6)(4,5)(8,9)), ((1,8)(2,5)(3,10)(4,7)(6,9), (1,10)(2,9)(3,6)(4,5)(7,8)), ((1,8)(2,5)(3,10)(4,7)(6,9), (1,10)(2,7)(3,6)(4,9)(5,8)), ((1,8)(2,5)(3,10)(4,7)(6,9), (1,10)(2,9)(3,8)(4,5)(6,7)), ((1,8)(2,5)(3,10)(4,7)(6,9), (1,10)(2,7)(3,8)(4,9)(5,6)), ((1,8)(2,5)(3,10)(4,9)(6,7), (1,10)(2,3)(4,5)(6,9)(7,8)), ((1,8)(2,5)(3,10)(4,9)(6,7), (1,10)(2,3)(4,7)(5,6)(8,9)), ((1,8)(2,5)(3,10)(4,9)(6,7), (1,10)(2,3)(4,7)(5,8)(6,9)), ((1,8)(2,5)(3,10)(4,9)(6,7), (1,10)(2,7)(3,4)(5,6)(8,9)), ((1,8)(2,5)(3,10)(4,9)(6,7), (1,10)(2,9)(3,4)(5,6)(7,8)), ((1,8)(2,5)(3,10)(4,9)(6,7), (1,10)(2,7)(3,4)(5,8)(6,9)), ((1,8)(2,5)(3,10)(4,9)(6,7), (1,10)(2,7)(3,6)(4,5)(8,9)), ((1,8)(2,5)(3,10)(4,9)(6,7), (1,10)(2,9)(3,6)(4,5)(7,8)), ((1,8)(2,5)(3,10)(4,9)(6,7), (1,10)(2,9)(3,6)(4,7)(5,8)), ((1,8)(2,5)(3,10)(4,9)(6,7), (1,10)(2,7)(3,8)(4,5)(6,9)), ((1,8)(2,5)(3,10)(4,9)(6,7), (1,10)(2,9)(3,8)(4,7)(5,6)), ((1,8)(2,7)(3,10)(4,5)(6,9), (1,10)(2,3)(4,7)(5,6)(8,9)), ((1,8)(2,7)(3,10)(4,5)(6,9), (1,10)(2,3)(4,9)(5,6)(7,8)), ((1,8)(2,7)(3,10)(4,5)(6,9), (1,10)(2,3)(4,9)(5,8)(6,7)), ((1,8)(2,7)(3,10)(4,5)(6,9), (1,10)(2,5)(3,4)(6,7)(8,9)), ((1,8)(2,7)(3,10)(4,5)(6,9), (1,10)(2,9)(3,4)(5,6)(7,8)), ((1,8)(2,7)(3,10)(4,5)(6,9), (1,10)(2,9)(3,4)(5,8)(6,7)), ((1,8)(2,7)(3,10)(4,5)(6,9), (1,10)(2,5)(3,6)(4,7)(8,9)), ((1,8)(2,7)(3,10)(4,5)(6,9), (1,10)(2,5)(3,6)(4,9)(7,8)), ((1,8)(2,7)(3,10)(4,5)(6,9), (1,10)(2,9)(3,6)(4,7)(5,8)), ((1,8)(2,7)(3,10)(4,5)(6,9), (1,10)(2,5)(3,8)(4,9)(6,7)), ((1,8)(2,7)(3,10)(4,5)(6,9), (1,10)(2,9)(3,8)(4,7)(5,6)), ((1,8)(2,9)(3,10)(4,5)(6,7), (1,10)(2,3)(4,7)(5,6)(8,9)), ((1,8)(2,9)(3,10)(4,5)(6,7), (1,10)(2,3)(4,9)(5,6)(7,8)), ((1,8)(2,9)(3,10)(4,5)(6,7), (1,10)(2,3)(4,7)(5,8)(6,9)), ((1,8)(2,9)(3,10)(4,5)(6,7), (1,10)(2,5)(3,4)(6,9)(7,8)), ((1,8)(2,9)(3,10)(4,5)(6,7), (1,10)(2,7)(3,4)(5,6)(8,9)), ((1,8)(2,9)(3,10)(4,5)(6,7), (1,10)(2,7)(3,4)(5,8)(6,9)), ((1,8)(2,9)(3,10)(4,5)(6,7), (1,10)(2,5)(3,6)(4,7)(8,9)), ((1,8)(2,9)(3,10)(4,5)(6,7), (1,10)(2,5)(3,6)(4,9)(7,8)), ((1,8)(2,9)(3,10)(4,5)(6,7), (1,10)(2,7)(3,6)(4,9)(5,8)), ((1,8)(2,9)(3,10)(4,5)(6,7), (1,10)(2,5)(3,8)(4,7)(6,9)), ((1,8)(2,9)(3,10)(4,5)(6,7), (1,10)(2,7)(3,8)(4,9)(5,6)), ((1,8)(2,7)(3,10)(4,9)(5,6), (1,10)(2,3)(4,5)(6,7)(8,9)), ((1,8)(2,7)(3,10)(4,9)(5,6), (1,10)(2,3)(4,5)(6,9)(7,8)), ((1,8)(2,7)(3,10)(4,9)(5,6), (1,10)(2,3)(4,7)(5,8)(6,9)), ((1,8)(2,7)(3,10)(4,9)(5,6), (1,10)(2,5)(3,4)(6,7)(8,9)), ((1,8)(2,7)(3,10)(4,9)(5,6), (1,10)(2,5)(3,4)(6,9)(7,8)), ((1,8)(2,7)(3,10)(4,9)(5,6), (1,10)(2,9)(3,4)(5,8)(6,7)), ((1,8)(2,7)(3,10)(4,9)(5,6), (1,10)(2,5)(3,6)(4,7)(8,9)), ((1,8)(2,7)(3,10)(4,9)(5,6), (1,10)(2,9)(3,6)(4,5)(7,8)), ((1,8)(2,7)(3,10)(4,9)(5,6), (1,10)(2,9)(3,6)(4,7)(5,8)), ((1,8)(2,7)(3,10)(4,9)(5,6), (1,10)(2,5)(3,8)(4,7)(6,9)), ((1,8)(2,7)(3,10)(4,9)(5,6), (1,10)(2,9)(3,8)(4,5)(6,7)), ((1,8)(2,9)(3,10)(4,7)(5,6), (1,10)(2,3)(4,5)(6,7)(8,9)), ((1,8)(2,9)(3,10)(4,7)(5,6), (1,10)(2,3)(4,5)(6,9)(7,8)), ((1,8)(2,9)(3,10)(4,7)(5,6), (1,10)(2,3)(4,9)(5,8)(6,7)), ((1,8)(2,9)(3,10)(4,7)(5,6), (1,10)(2,5)(3,4)(6,7)(8,9)), ((1,8)(2,9)(3,10)(4,7)(5,6), (1,10)(2,5)(3,4)(6,9)(7,8)), ((1,8)(2,9)(3,10)(4,7)(5,6), (1,10)(2,7)(3,4)(5,8)(6,9)), ((1,8)(2,9)(3,10)(4,7)(5,6), (1,10)(2,5)(3,6)(4,9)(7,8)), ((1,8)(2,9)(3,10)(4,7)(5,6), (1,10)(2,7)(3,6)(4,5)(8,9)), ((1,8)(2,9)(3,10)(4,7)(5,6), (1,10)(2,7)(3,6)(4,9)(5,8)), ((1,8)(2,9)(3,10)(4,7)(5,6), (1,10)(2,5)(3,8)(4,9)(6,7)), ((1,8)(2,9)(3,10)(4,7)(5,6), (1,10)(2,7)(3,8)(4,5)(6,9))]\n"
     ]
    },
    {
     "data": {
      "text/plain": [
       "[((1,2)(3,4)(5,6)(7,8)(9,10), (1,4)(2,9)(3,6)(5,8)(7,10)),\n",
       " ((1,2)(3,4)(5,6)(7,8)(9,10), (1,4)(2,5)(3,8)(6,9)(7,10)),\n",
       " ((1,2)(3,4)(5,6)(7,8)(9,10), (1,4)(2,7)(3,10)(5,8)(6,9)),\n",
       " ((1,2)(3,4)(5,6)(7,8)(9,10), (1,6)(2,7)(3,8)(4,9)(5,10)),\n",
       " ((1,2)(3,4)(5,6)(7,8)(9,10), (1,6)(2,9)(3,10)(4,7)(5,8)),\n",
       " ((1,2)(3,4)(5,6)(7,8)(9,10), (1,8)(2,5)(3,6)(4,9)(7,10)),\n",
       " ((1,2)(3,4)(5,6)(7,8)(9,10), (1,8)(2,9)(3,6)(4,7)(5,10)),\n",
       " ((1,2)(3,4)(5,6)(7,8)(9,10), (1,8)(2,5)(3,10)(4,7)(6,9)),\n",
       " ((1,2)(3,4)(5,8)(6,9)(7,10), (1,6)(2,7)(3,8)(4,9)(5,10)),\n",
       " ((1,2)(3,4)(5,10)(6,7)(8,9), (1,4)(2,9)(3,6)(5,8)(7,10)),\n",
       " ((1,2)(3,4)(5,10)(6,7)(8,9), (1,8)(2,5)(3,10)(4,7)(6,9)),\n",
       " ((1,2)(3,6)(4,5)(7,10)(8,9), (1,6)(2,7)(3,8)(4,9)(5,10)),\n",
       " ((1,2)(3,6)(4,7)(5,8)(9,10), (1,6)(2,7)(3,8)(4,9)(5,10)),\n",
       " ((1,2)(3,8)(4,5)(6,7)(9,10), (1,4)(2,9)(3,6)(5,8)(7,10)),\n",
       " ((1,2)(3,8)(4,5)(6,7)(9,10), (1,8)(2,5)(3,10)(4,7)(6,9)),\n",
       " ((1,2)(3,10)(4,5)(6,9)(7,8), (1,6)(2,7)(3,8)(4,9)(5,10)),\n",
       " ((1,2)(3,10)(4,7)(5,6)(8,9), (1,6)(2,7)(3,8)(4,9)(5,10)),\n",
       " ((1,4)(2,3)(5,6)(7,10)(8,9), (1,6)(2,7)(3,8)(4,9)(5,10)),\n",
       " ((1,4)(2,3)(5,8)(6,7)(9,10), (1,6)(2,7)(3,8)(4,9)(5,10)),\n",
       " ((1,4)(2,5)(3,6)(7,8)(9,10), (1,6)(2,7)(3,8)(4,9)(5,10)),\n",
       " ((1,4)(2,9)(3,6)(5,8)(7,10), (1,6)(2,3)(4,5)(7,8)(9,10)),\n",
       " ((1,4)(2,9)(3,6)(5,8)(7,10), (1,6)(2,7)(3,8)(4,9)(5,10)),\n",
       " ((1,4)(2,9)(3,6)(5,8)(7,10), (1,10)(2,3)(4,5)(6,7)(8,9)),\n",
       " ((1,4)(2,9)(3,6)(5,8)(7,10), (1,10)(2,3)(4,9)(5,6)(7,8)),\n",
       " ((1,4)(2,9)(3,6)(5,8)(7,10), (1,10)(2,7)(3,4)(5,6)(8,9)),\n",
       " ((1,4)(2,5)(3,8)(6,9)(7,10), (1,10)(2,3)(4,5)(6,7)(8,9)),\n",
       " ((1,4)(2,5)(3,10)(6,7)(8,9), (1,6)(2,7)(3,8)(4,9)(5,10)),\n",
       " ((1,4)(2,9)(3,10)(5,6)(7,8), (1,6)(2,7)(3,8)(4,9)(5,10)),\n",
       " ((1,4)(2,7)(3,10)(5,8)(6,9), (1,10)(2,3)(4,5)(6,7)(8,9)),\n",
       " ((1,6)(2,3)(4,5)(7,8)(9,10), (1,8)(2,5)(3,10)(4,7)(6,9)),\n",
       " ((1,6)(2,7)(3,8)(4,9)(5,10), (1,8)(2,3)(4,5)(6,9)(7,10)),\n",
       " ((1,6)(2,7)(3,8)(4,9)(5,10), (1,8)(2,3)(4,7)(5,6)(9,10)),\n",
       " ((1,6)(2,7)(3,8)(4,9)(5,10), (1,8)(2,5)(3,4)(6,7)(9,10)),\n",
       " ((1,6)(2,7)(3,8)(4,9)(5,10), (1,8)(2,9)(3,4)(5,6)(7,10)),\n",
       " ((1,6)(2,7)(3,8)(4,9)(5,10), (1,8)(2,5)(3,10)(4,7)(6,9)),\n",
       " ((1,6)(2,7)(3,8)(4,9)(5,10), (1,8)(2,9)(3,10)(4,5)(6,7)),\n",
       " ((1,6)(2,7)(3,8)(4,9)(5,10), (1,10)(2,3)(4,5)(6,7)(8,9)),\n",
       " ((1,6)(2,7)(3,8)(4,9)(5,10), (1,10)(2,3)(4,7)(5,8)(6,9)),\n",
       " ((1,6)(2,7)(3,8)(4,9)(5,10), (1,10)(2,5)(3,4)(6,9)(7,8)),\n",
       " ((1,6)(2,7)(3,8)(4,9)(5,10), (1,10)(2,9)(3,4)(5,8)(6,7)),\n",
       " ((1,6)(2,7)(3,8)(4,9)(5,10), (1,10)(2,5)(3,6)(4,7)(8,9)),\n",
       " ((1,6)(2,7)(3,8)(4,9)(5,10), (1,10)(2,9)(3,6)(4,5)(7,8)),\n",
       " ((1,6)(2,9)(3,10)(4,7)(5,8), (1,10)(2,3)(4,5)(6,7)(8,9)),\n",
       " ((1,8)(2,5)(3,6)(4,9)(7,10), (1,10)(2,3)(4,5)(6,7)(8,9)),\n",
       " ((1,8)(2,9)(3,6)(4,7)(5,10), (1,10)(2,3)(4,5)(6,7)(8,9)),\n",
       " ((1,8)(2,5)(3,10)(4,7)(6,9), (1,10)(2,3)(4,5)(6,7)(8,9)),\n",
       " ((1,8)(2,5)(3,10)(4,7)(6,9), (1,10)(2,3)(4,9)(5,6)(7,8)),\n",
       " ((1,8)(2,5)(3,10)(4,7)(6,9), (1,10)(2,7)(3,4)(5,6)(8,9))]"
      ]
     },
     "execution_count": 32,
     "metadata": {},
     "output_type": "execute_result"
    }
   ],
   "source": [
    "from sage.all import SymmetricGroup\n",
    "#i want to output the list of valid permuatations for n=8 \n",
    "n = 10\n",
    "Sn = SymmetricGroup(n)\n",
    "\n",
    "set = list(range(1, n+1))\n",
    "valid_perms= compute_valid_perms(set)\n",
    "valid_pairs= compute_valid_pairs(n, valid_perms)\n",
    "print(valid_pairs)\n",
    "full_order_pairs = check_all_perms(n,valid_pairs) #full order is where take pair of top bottom and check order it stayed consistent \n",
    "full_order_pairs\n",
    "#len(pass in a list for the length)\n"
   ]
  },
  {
   "cell_type": "code",
   "execution_count": 67,
   "metadata": {},
   "outputs": [
    {
     "data": {
      "text/plain": [
       "5"
      ]
     },
     "execution_count": 67,
     "metadata": {},
     "output_type": "execute_result"
    }
   ],
   "source": [
    "from surface_dynamics.all import Origami\n",
    "#the holonomy double cover \n",
    "#Pauls interesting example \n",
    "right = '(1,2,3,4,5,6,7,8,9,10)(20,19,18,17,16,15,14,13,12,11)'\n",
    "up= '(1,12,9,20,7,16,3,18,5,14)(2,11,4,15,8,13,6,17,10,19)'\n",
    "o=Origami(right,up)\n",
    "t = o.teichmueller_curve()\n",
    "g= o.veech_group()\n",
    "g.ncusps()\n",
    "# cusps= t.cusp_representatives()\n",
    "# c= cusps[0][0] #first zero is first thing in list, second zero is first thing in the tuple \n",
    "# c.cylinder_diagram()\n",
    "\n",
    "\n",
    "\n",
    "\n",
    "\n",
    "# n=10\n",
    "# Sn = SymmetricGroup(n)\n",
    "# top = Sn('(1,2)(3,8)(4,5)(6,7)(9,10)') \n",
    "# bottom = Sn('(1,4)(2,9)(3,6)(5,8)(7,10)')\n",
    "# up= \n",
    "\n",
    "\n",
    "\n",
    "# pillowcase= build_pillowcase(n,top,bottom)\n",
    "# pillowcase\n",
    "# pillow_cover= pillowcase.minimal_cover(cover_type=\"translation\")\n",
    "# pillow_cover.category()\n",
    "# o= GL2ROrbitClosure(pillow_cover)\n",
    "# pillow_cover.veech_group()"
   ]
  },
  {
   "cell_type": "code",
   "execution_count": 64,
   "metadata": {},
   "outputs": [
    {
     "data": {
      "text/plain": [
       "1"
      ]
     },
     "execution_count": 64,
     "metadata": {},
     "output_type": "execute_result"
    }
   ],
   "source": [
    "#trying this for the n=6 example \n",
    "right = '(1,2,3,4,5,6)(12,11,10,9,8,7)'\n",
    "up= '(1,8,5,12,3,10)(2,7,4,9,6,11)'\n",
    "# right= '(1)'\n",
    "# up='(1)'\n",
    "o=Origami(right,up)\n",
    "# # t = o.teichmueller_curve()\n",
    "g= o.veech_group()\n",
    "o.genus()\n",
    "g.ncusps() \n",
    "# cusps= t.cusp_representatives()\n",
    "# c= cusps[0][0] #first zero is first thing in list, second zero is first thing in the tuple \n",
    "# c.cylinder_diagram()"
   ]
  },
  {
   "cell_type": "code",
   "execution_count": 70,
   "metadata": {},
   "outputs": [
    {
     "data": {
      "text/plain": [
       "3"
      ]
     },
     "execution_count": 70,
     "metadata": {},
     "output_type": "execute_result"
    }
   ],
   "source": [
    "#Second interesting example perm \n",
    "right = '(1,2,3,4,5,6,7,8,9,10)(20,19,18,17,16,15,14,13,12,11)'\n",
    "up= '(1,14,9,18,3,20,5,12,7,16)(2,15,10,13,8,19,4,11,6,17)'\n",
    "o= Origami(right,up)\n",
    "g= o.veech_group()\n",
    "o.genus()\n",
    "g.ncusps()\n"
   ]
  },
  {
   "cell_type": "code",
   "execution_count": 86,
   "metadata": {},
   "outputs": [],
   "source": [
    "#automating to compute veech n stuff \n",
    "#we write a function that will take in a top ottom pair and outputs the origami \n",
    "# top and bottom are SymmetricGroupElements\n",
    "def get_double_cover(n,pair):\n",
    "    (top,bottom)= pair\n",
    "    up = []\n",
    "    next= 1\n",
    "    i=0 \n",
    "    prime= False \n",
    "    while (i<2*n):\n",
    "        current= next\n",
    "        if prime: \n",
    "            next= bottom(current-n) \n",
    "        else:\n",
    "            next= top(current)+n\n",
    "        up.append((current,next))\n",
    "        prime= False if prime else True \n",
    "        i+=1 #i = i +1\n",
    "\n",
    "    return up\n",
    "\n",
    "\n",
    "        \n",
    "\n"
   ]
  },
  {
   "cell_type": "code",
   "execution_count": 87,
   "metadata": {},
   "outputs": [
    {
     "name": "stdout",
     "output_type": "stream",
     "text": [
      "((1,2)(3,4)(5,6)(7,8)(9,10), (1,4)(2,9)(3,6)(5,8)(7,10))\n"
     ]
    },
    {
     "data": {
      "text/plain": [
       "[(1, 12),\n",
       " (12, 9),\n",
       " (9, 20),\n",
       " (20, 7),\n",
       " (7, 18),\n",
       " (18, 5),\n",
       " (5, 16),\n",
       " (16, 3),\n",
       " (3, 14),\n",
       " (14, 1),\n",
       " (1, 12),\n",
       " (12, 9),\n",
       " (9, 20),\n",
       " (20, 7),\n",
       " (7, 18),\n",
       " (18, 5),\n",
       " (5, 16),\n",
       " (16, 3),\n",
       " (3, 14),\n",
       " (14, 1)]"
      ]
     },
     "execution_count": 87,
     "metadata": {},
     "output_type": "execute_result"
    }
   ],
   "source": [
    "from sage.all import SymmetricGroup\n",
    "#i want to output the list of valid permuatations for n=8 \n",
    "n = 10\n",
    "Sn = SymmetricGroup(n)\n",
    "\n",
    "set = list(range(1, n+1))\n",
    "valid_perms= compute_valid_perms(set)\n",
    "valid_pairs= compute_valid_pairs(n, valid_perms)\n",
    "full_order_pairs = check_all_perms(n,valid_pairs) #full order is where take pair of top bottom and check order it stayed consistent \n",
    "print(full_order_pairs[0])\n",
    "get_double_cover(n, full_order_pairs[0])"
   ]
  },
  {
   "cell_type": "code",
   "execution_count": null,
   "metadata": {},
   "outputs": [],
   "source": []
  }
 ],
 "metadata": {
  "kernelspec": {
   "display_name": "SageMath 10.3",
   "language": "sage",
   "name": "sagemath-10.3"
  },
  "language_info": {
   "codemirror_mode": {
    "name": "ipython",
    "version": 3
   },
   "file_extension": ".py",
   "mimetype": "text/x-python",
   "name": "python",
   "nbconvert_exporter": "python",
   "pygments_lexer": "ipython3",
   "version": "3.11.8"
  }
 },
 "nbformat": 4,
 "nbformat_minor": 2
}
