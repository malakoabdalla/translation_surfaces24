{
 "cells": [
  {
   "cell_type": "markdown",
   "metadata": {},
   "source": [
    "Given n:\n",
    "- [DONE] output all valid perms\n",
    "- output all valid pairs\n",
    "- compute \"order of a pair\"\n",
    "- display braid of a pair \n",
    "- check conjugate orbit\n",
    "- identify 1-cyl pairs "
   ]
  },
  {
   "cell_type": "code",
   "execution_count": 1,
   "metadata": {},
   "outputs": [],
   "source": [
    "# local imports\n",
    "import os\n",
    "import sys\n",
    "module_path = os.path.abspath(os.path.join('/Users/gabriela/Documents/school/phd/research/malak_paul_translation_surfaces/lib'))\n",
    "# malak will have to put a different path here\n",
    "sys.path.insert(0, module_path)\n",
    "from utils import compute_valid_perms\n",
    "\n",
    "# other imports\n",
    "from sage.combinat.permutation import Permutation"
   ]
  },
  {
   "cell_type": "code",
   "execution_count": 8,
   "metadata": {},
   "outputs": [],
   "source": [
    "# Give n even\n",
    "n = 6\n",
    "set = list(range(1, n+1))\n",
    "output = compute_valid_perms(set)\n",
    "valid_perms = [Permutation(p) for p in output]\n",
    "# TODO: how to turn into permutations? ^ this isn't right, it forgets the cycles\n",
    "\n",
    "\n",
    "\n",
    "\n",
    "    "
   ]
  },
  {
   "cell_type": "code",
   "execution_count": 6,
   "metadata": {},
   "outputs": [
    {
     "data": {
      "text/plain": [
       "[[(1, 2), (3, 4), (5, 6)],\n",
       " [(1, 2), (3, 6), (5, 4)],\n",
       " [(1, 4), (3, 2), (5, 6)],\n",
       " [(1, 4), (3, 6), (5, 2)],\n",
       " [(1, 6), (3, 2), (5, 4)],\n",
       " [(1, 6), (3, 4), (5, 2)]]"
      ]
     },
     "execution_count": 6,
     "metadata": {},
     "output_type": "execute_result"
    }
   ],
   "source": [
    "compute_valid_perms(set)"
   ]
  }
 ],
 "metadata": {
  "kernelspec": {
   "display_name": "SageMath 10.2",
   "language": "sage",
   "name": "sagemath"
  },
  "language_info": {
   "codemirror_mode": {
    "name": "ipython",
    "version": 3
   },
   "file_extension": ".py",
   "mimetype": "text/x-python",
   "name": "python",
   "nbconvert_exporter": "python",
   "pygments_lexer": "ipython3",
   "version": "3.11.1"
  }
 },
 "nbformat": 4,
 "nbformat_minor": 2
}
